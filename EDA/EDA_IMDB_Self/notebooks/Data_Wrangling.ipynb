{
 "cells": [
  {
   "cell_type": "markdown",
   "id": "dbf6c9c8",
   "metadata": {},
   "source": [
    "📝 Data Wrangling Part 1 – Initial Cleaning\n",
    "\n",
    "🔹 Objective\n",
    "\n",
    "In this notebook, the goal is to:\n",
    "\n",
    "Load raw IMDb datasets.\n",
    "\n",
    "Understand their structure.\n",
    "\n",
    "Perform first-stage cleaning (renaming, dropping unnecessary columns, handling missing values)."
   ]
  },
  {
   "cell_type": "code",
   "execution_count": 2,
   "id": "87f1c5ca",
   "metadata": {},
   "outputs": [],
   "source": [
    "import pandas as pd\n",
    "import numpy as np\n",
    "import seaborn as sns\n",
    "import matplotlib.pyplot as plt"
   ]
  },
  {
   "cell_type": "markdown",
   "id": "6b4c237d",
   "metadata": {},
   "source": [
    "Title.basics data "
   ]
  },
  {
   "cell_type": "code",
   "execution_count": 8,
   "id": "49bc373a",
   "metadata": {},
   "outputs": [],
   "source": [
    "basics = pd.read_csv('../data/title.basics.tsv',sep='\\t',low_memory=False,encoding='utf-8')"
   ]
  },
  {
   "cell_type": "code",
   "execution_count": 9,
   "id": "a7b2b334",
   "metadata": {},
   "outputs": [
    {
     "data": {
      "application/vnd.microsoft.datawrangler.viewer.v0+json": {
       "columns": [
        {
         "name": "index",
         "rawType": "int64",
         "type": "integer"
        },
        {
         "name": "tconst",
         "rawType": "object",
         "type": "string"
        },
        {
         "name": "titleType",
         "rawType": "object",
         "type": "string"
        },
        {
         "name": "primaryTitle",
         "rawType": "object",
         "type": "unknown"
        },
        {
         "name": "originalTitle",
         "rawType": "object",
         "type": "unknown"
        },
        {
         "name": "isAdult",
         "rawType": "object",
         "type": "string"
        },
        {
         "name": "startYear",
         "rawType": "object",
         "type": "string"
        },
        {
         "name": "endYear",
         "rawType": "object",
         "type": "string"
        },
        {
         "name": "runtimeMinutes",
         "rawType": "object",
         "type": "string"
        },
        {
         "name": "genres",
         "rawType": "object",
         "type": "unknown"
        }
       ],
       "ref": "133099c5-6456-48cc-8470-92adbdf61a11",
       "rows": [
        [
         "0",
         "tt0000001",
         "short",
         "Carmencita",
         "Carmencita",
         "0",
         "1894",
         "\\N",
         "1",
         "Documentary,Short"
        ],
        [
         "1",
         "tt0000002",
         "short",
         "Le clown et ses chiens",
         "Le clown et ses chiens",
         "0",
         "1892",
         "\\N",
         "5",
         "Animation,Short"
        ],
        [
         "2",
         "tt0000003",
         "short",
         "Poor Pierrot",
         "Pauvre Pierrot",
         "0",
         "1892",
         "\\N",
         "5",
         "Animation,Comedy,Romance"
        ],
        [
         "3",
         "tt0000004",
         "short",
         "Un bon bock",
         "Un bon bock",
         "0",
         "1892",
         "\\N",
         "12",
         "Animation,Short"
        ],
        [
         "4",
         "tt0000005",
         "short",
         "Blacksmith Scene",
         "Blacksmith Scene",
         "0",
         "1893",
         "\\N",
         "1",
         "Short"
        ],
        [
         "5",
         "tt0000006",
         "short",
         "Chinese Opium Den",
         "Chinese Opium Den",
         "0",
         "1894",
         "\\N",
         "1",
         "Short"
        ],
        [
         "6",
         "tt0000007",
         "short",
         "Corbett and Courtney Before the Kinetograph",
         "Corbett and Courtney Before the Kinetograph",
         "0",
         "1894",
         "\\N",
         "1",
         "Short,Sport"
        ],
        [
         "7",
         "tt0000008",
         "short",
         "Edison Kinetoscopic Record of a Sneeze",
         "Edison Kinetoscopic Record of a Sneeze",
         "0",
         "1894",
         "\\N",
         "1",
         "Documentary,Short"
        ],
        [
         "8",
         "tt0000009",
         "movie",
         "Miss Jerry",
         "Miss Jerry",
         "0",
         "1894",
         "\\N",
         "45",
         "Romance"
        ],
        [
         "9",
         "tt0000010",
         "short",
         "Leaving the Factory",
         "La sortie de l'usine Lumière à Lyon",
         "0",
         "1895",
         "\\N",
         "1",
         "Documentary,Short"
        ],
        [
         "10",
         "tt0000011",
         "short",
         "Akrobatisches Potpourri",
         "Akrobatisches Potpourri",
         "0",
         "1895",
         "\\N",
         "1",
         "Documentary,Short"
        ],
        [
         "11",
         "tt0000012",
         "short",
         "The Arrival of a Train",
         "L'arrivée d'un train à La Ciotat",
         "0",
         "1896",
         "\\N",
         "1",
         "Documentary,Short"
        ],
        [
         "12",
         "tt0000013",
         "short",
         "The Photographical Congress Arrives in Lyon",
         "Le débarquement du congrès de photographie à Lyon",
         "0",
         "1895",
         "\\N",
         "1",
         "Documentary,Short"
        ],
        [
         "13",
         "tt0000014",
         "short",
         "The Waterer Watered",
         "L'arroseur arrosé",
         "0",
         "1895",
         "\\N",
         "1",
         "Comedy,Short"
        ],
        [
         "14",
         "tt0000015",
         "short",
         "Around a Cabin",
         "Autour d'une cabine",
         "0",
         "1894",
         "\\N",
         "2",
         "Animation,Comedy,Short"
        ],
        [
         "15",
         "tt0000016",
         "short",
         "Boat Leaving the Port",
         "Barque sortant du port",
         "0",
         "1895",
         "\\N",
         "1",
         "Documentary,Short"
        ],
        [
         "16",
         "tt0000017",
         "short",
         "Italienischer Bauerntanz",
         "Italienischer Bauerntanz",
         "0",
         "1895",
         "\\N",
         "1",
         "Documentary,Short"
        ],
        [
         "17",
         "tt0000018",
         "short",
         "Das boxende Känguruh",
         "Das boxende Känguruh",
         "0",
         "1895",
         "\\N",
         "1",
         "Short,Sport"
        ],
        [
         "18",
         "tt0000019",
         "short",
         "The Clown Barber",
         "The Clown Barber",
         "0",
         "1898",
         "\\N",
         "\\N",
         "Comedy,Short"
        ],
        [
         "19",
         "tt0000020",
         "short",
         "The Derby 1895",
         "The Derby 1895",
         "0",
         "1895",
         "\\N",
         "1",
         "Documentary,Short,Sport"
        ],
        [
         "20",
         "tt0000022",
         "short",
         "Blacksmith Scene",
         "Les forgerons",
         "0",
         "1895",
         "\\N",
         "1",
         "Documentary,Short"
        ],
        [
         "21",
         "tt0000023",
         "short",
         "The Sea",
         "Baignade en mer",
         "0",
         "1895",
         "\\N",
         "1",
         "Documentary,Short"
        ],
        [
         "22",
         "tt0000024",
         "short",
         "Opening of the Kiel Canal",
         "Opening of the Kiel Canal",
         "0",
         "1895",
         "\\N",
         "1",
         "News,Short"
        ],
        [
         "23",
         "tt0000025",
         "short",
         "The Oxford and Cambridge University Boat Race",
         "The Oxford and Cambridge University Boat Race",
         "0",
         "1896",
         "\\N",
         "\\N",
         "News,Short,Sport"
        ],
        [
         "24",
         "tt0000026",
         "short",
         "The Messers. Lumière at Cards",
         "Partie d'écarté",
         "0",
         "1896",
         "\\N",
         "1",
         "Documentary,Short"
        ],
        [
         "25",
         "tt0000027",
         "short",
         "Cordeliers' Square in Lyon",
         "Place des Cordeliers à Lyon",
         "0",
         "1895",
         "\\N",
         "1",
         "Documentary,Short"
        ],
        [
         "26",
         "tt0000028",
         "short",
         "Fishing for Goldfish",
         "La pêche aux poissons rouges",
         "0",
         "1895",
         "\\N",
         "1",
         "Documentary,Short"
        ],
        [
         "27",
         "tt0000029",
         "short",
         "Baby's Meal",
         "Repas de bébé",
         "0",
         "1895",
         "\\N",
         "1",
         "Documentary,Short"
        ],
        [
         "28",
         "tt0000030",
         "short",
         "Rough Sea at Dover",
         "Rough Sea at Dover",
         "0",
         "1895",
         "\\N",
         "1",
         "Documentary,Short"
        ],
        [
         "29",
         "tt0000031",
         "short",
         "Jumping the Blanket",
         "Le saut à la couverture",
         "0",
         "1895",
         "\\N",
         "1",
         "Documentary,Short"
        ],
        [
         "30",
         "tt0000032",
         "short",
         "Die Serpentintänzerin",
         "Die Serpentintänzerin",
         "0",
         "1895",
         "\\N",
         "1",
         "Short"
        ],
        [
         "31",
         "tt0000033",
         "short",
         "Horse Trick Riders",
         "La voltige",
         "0",
         "1895",
         "\\N",
         "1",
         "Comedy,Documentary,Short"
        ],
        [
         "32",
         "tt0000034",
         "short",
         "Arrivée d'un train gare de Vincennes",
         "Arrivée d'un train gare de Vincennes",
         "0",
         "1896",
         "\\N",
         "1",
         "Documentary,Short"
        ],
        [
         "33",
         "tt0000035",
         "short",
         "Watering the Flowers",
         "L'arroseur",
         "0",
         "1896",
         "\\N",
         "1",
         "Comedy,Short"
        ],
        [
         "34",
         "tt0000036",
         "short",
         "Awakening of Rip",
         "Awakening of Rip",
         "0",
         "1896",
         "\\N",
         "1",
         "Drama,Short"
        ],
        [
         "35",
         "tt0000037",
         "short",
         "Sea Bathing",
         "Baignade en mer",
         "0",
         "1896",
         "\\N",
         "1",
         "Short"
        ],
        [
         "36",
         "tt0000038",
         "short",
         "The Ball Game",
         "The Ball Game",
         "0",
         "1898",
         "\\N",
         "1",
         "Documentary,Short,Sport"
        ],
        [
         "37",
         "tt0000039",
         "short",
         "Barnet Horse Fair",
         "Barnet Horse Fair",
         "0",
         "1896",
         "\\N",
         "\\N",
         "Short"
        ],
        [
         "38",
         "tt0000040",
         "short",
         "Barque sortant du port de Trouville",
         "Barque sortant du port de Trouville",
         "0",
         "1896",
         "\\N",
         "\\N",
         "Documentary,Short"
        ],
        [
         "39",
         "tt0000041",
         "short",
         "Bataille de neige",
         "Bataille de neige",
         "0",
         "1897",
         "\\N",
         "1",
         "Comedy,Documentary,Short"
        ],
        [
         "40",
         "tt0000042",
         "short",
         "Bateau-mouche sur la Seine",
         "Bateau-mouche sur la Seine",
         "0",
         "1896",
         "\\N",
         "\\N",
         "Documentary,Short"
        ],
        [
         "41",
         "tt0000043",
         "short",
         "Batteuse à vapeur",
         "Batteuse à vapeur",
         "0",
         "1896",
         "\\N",
         "\\N",
         "Documentary,Short"
        ],
        [
         "42",
         "tt0000044",
         "short",
         "Le bivouac",
         "Le bivouac",
         "0",
         "1896",
         "\\N",
         "1",
         "Short"
        ],
        [
         "43",
         "tt0000045",
         "short",
         "Les blanchisseuses",
         "Les blanchisseuses",
         "0",
         "1896",
         "\\N",
         "\\N",
         "Short"
        ],
        [
         "44",
         "tt0000046",
         "short",
         "Bois de Boulogne",
         "Bois de Boulogne",
         "0",
         "1896",
         "\\N",
         "\\N",
         "Documentary,Short"
        ],
        [
         "45",
         "tt0000047",
         "short",
         "Boulevard des Italiens",
         "Boulevard des Italiens",
         "0",
         "1896",
         "\\N",
         "\\N",
         "Documentary,Short"
        ],
        [
         "46",
         "tt0000048",
         "short",
         "The Boxing Kangaroo",
         "The Boxing Kangaroo",
         "0",
         "1896",
         "\\N",
         "\\N",
         "Short"
        ],
        [
         "47",
         "tt0000049",
         "short",
         "Boxing Match; or, Glove Contest",
         "Boxing Match; or, Glove Contest",
         "0",
         "1896",
         "\\N",
         "\\N",
         "Short,Sport"
        ],
        [
         "48",
         "tt0000050",
         "short",
         "Bébé et fillettes",
         "Bébé et fillettes",
         "0",
         "1896",
         "\\N",
         "\\N",
         "Documentary,Short"
        ],
        [
         "49",
         "tt0000051",
         "short",
         "The Bohemian Encampment",
         "Campement de bohémiens",
         "0",
         "1896",
         "\\N",
         "\\N",
         "Documentary,Short"
        ]
       ],
       "shape": {
        "columns": 9,
        "rows": 11819909
       }
      },
      "text/html": [
       "<div>\n",
       "<style scoped>\n",
       "    .dataframe tbody tr th:only-of-type {\n",
       "        vertical-align: middle;\n",
       "    }\n",
       "\n",
       "    .dataframe tbody tr th {\n",
       "        vertical-align: top;\n",
       "    }\n",
       "\n",
       "    .dataframe thead th {\n",
       "        text-align: right;\n",
       "    }\n",
       "</style>\n",
       "<table border=\"1\" class=\"dataframe\">\n",
       "  <thead>\n",
       "    <tr style=\"text-align: right;\">\n",
       "      <th></th>\n",
       "      <th>tconst</th>\n",
       "      <th>titleType</th>\n",
       "      <th>primaryTitle</th>\n",
       "      <th>originalTitle</th>\n",
       "      <th>isAdult</th>\n",
       "      <th>startYear</th>\n",
       "      <th>endYear</th>\n",
       "      <th>runtimeMinutes</th>\n",
       "      <th>genres</th>\n",
       "    </tr>\n",
       "  </thead>\n",
       "  <tbody>\n",
       "    <tr>\n",
       "      <th>0</th>\n",
       "      <td>tt0000001</td>\n",
       "      <td>short</td>\n",
       "      <td>Carmencita</td>\n",
       "      <td>Carmencita</td>\n",
       "      <td>0</td>\n",
       "      <td>1894</td>\n",
       "      <td>\\N</td>\n",
       "      <td>1</td>\n",
       "      <td>Documentary,Short</td>\n",
       "    </tr>\n",
       "    <tr>\n",
       "      <th>1</th>\n",
       "      <td>tt0000002</td>\n",
       "      <td>short</td>\n",
       "      <td>Le clown et ses chiens</td>\n",
       "      <td>Le clown et ses chiens</td>\n",
       "      <td>0</td>\n",
       "      <td>1892</td>\n",
       "      <td>\\N</td>\n",
       "      <td>5</td>\n",
       "      <td>Animation,Short</td>\n",
       "    </tr>\n",
       "    <tr>\n",
       "      <th>2</th>\n",
       "      <td>tt0000003</td>\n",
       "      <td>short</td>\n",
       "      <td>Poor Pierrot</td>\n",
       "      <td>Pauvre Pierrot</td>\n",
       "      <td>0</td>\n",
       "      <td>1892</td>\n",
       "      <td>\\N</td>\n",
       "      <td>5</td>\n",
       "      <td>Animation,Comedy,Romance</td>\n",
       "    </tr>\n",
       "    <tr>\n",
       "      <th>3</th>\n",
       "      <td>tt0000004</td>\n",
       "      <td>short</td>\n",
       "      <td>Un bon bock</td>\n",
       "      <td>Un bon bock</td>\n",
       "      <td>0</td>\n",
       "      <td>1892</td>\n",
       "      <td>\\N</td>\n",
       "      <td>12</td>\n",
       "      <td>Animation,Short</td>\n",
       "    </tr>\n",
       "    <tr>\n",
       "      <th>4</th>\n",
       "      <td>tt0000005</td>\n",
       "      <td>short</td>\n",
       "      <td>Blacksmith Scene</td>\n",
       "      <td>Blacksmith Scene</td>\n",
       "      <td>0</td>\n",
       "      <td>1893</td>\n",
       "      <td>\\N</td>\n",
       "      <td>1</td>\n",
       "      <td>Short</td>\n",
       "    </tr>\n",
       "    <tr>\n",
       "      <th>...</th>\n",
       "      <td>...</td>\n",
       "      <td>...</td>\n",
       "      <td>...</td>\n",
       "      <td>...</td>\n",
       "      <td>...</td>\n",
       "      <td>...</td>\n",
       "      <td>...</td>\n",
       "      <td>...</td>\n",
       "      <td>...</td>\n",
       "    </tr>\n",
       "    <tr>\n",
       "      <th>11819904</th>\n",
       "      <td>tt9916848</td>\n",
       "      <td>tvEpisode</td>\n",
       "      <td>Episode #3.17</td>\n",
       "      <td>Episode #3.17</td>\n",
       "      <td>0</td>\n",
       "      <td>2009</td>\n",
       "      <td>\\N</td>\n",
       "      <td>\\N</td>\n",
       "      <td>Drama</td>\n",
       "    </tr>\n",
       "    <tr>\n",
       "      <th>11819905</th>\n",
       "      <td>tt9916850</td>\n",
       "      <td>tvEpisode</td>\n",
       "      <td>Episode #3.19</td>\n",
       "      <td>Episode #3.19</td>\n",
       "      <td>0</td>\n",
       "      <td>2010</td>\n",
       "      <td>\\N</td>\n",
       "      <td>\\N</td>\n",
       "      <td>Drama</td>\n",
       "    </tr>\n",
       "    <tr>\n",
       "      <th>11819906</th>\n",
       "      <td>tt9916852</td>\n",
       "      <td>tvEpisode</td>\n",
       "      <td>Episode #3.20</td>\n",
       "      <td>Episode #3.20</td>\n",
       "      <td>0</td>\n",
       "      <td>2010</td>\n",
       "      <td>\\N</td>\n",
       "      <td>\\N</td>\n",
       "      <td>Drama</td>\n",
       "    </tr>\n",
       "    <tr>\n",
       "      <th>11819907</th>\n",
       "      <td>tt9916856</td>\n",
       "      <td>short</td>\n",
       "      <td>The Wind</td>\n",
       "      <td>The Wind</td>\n",
       "      <td>0</td>\n",
       "      <td>2015</td>\n",
       "      <td>\\N</td>\n",
       "      <td>27</td>\n",
       "      <td>Short</td>\n",
       "    </tr>\n",
       "    <tr>\n",
       "      <th>11819908</th>\n",
       "      <td>tt9916880</td>\n",
       "      <td>tvEpisode</td>\n",
       "      <td>Horrid Henry Knows It All</td>\n",
       "      <td>Horrid Henry Knows It All</td>\n",
       "      <td>0</td>\n",
       "      <td>2014</td>\n",
       "      <td>\\N</td>\n",
       "      <td>10</td>\n",
       "      <td>Adventure,Animation,Comedy</td>\n",
       "    </tr>\n",
       "  </tbody>\n",
       "</table>\n",
       "<p>11819909 rows × 9 columns</p>\n",
       "</div>"
      ],
      "text/plain": [
       "             tconst  titleType               primaryTitle  \\\n",
       "0         tt0000001      short                 Carmencita   \n",
       "1         tt0000002      short     Le clown et ses chiens   \n",
       "2         tt0000003      short               Poor Pierrot   \n",
       "3         tt0000004      short                Un bon bock   \n",
       "4         tt0000005      short           Blacksmith Scene   \n",
       "...             ...        ...                        ...   \n",
       "11819904  tt9916848  tvEpisode              Episode #3.17   \n",
       "11819905  tt9916850  tvEpisode              Episode #3.19   \n",
       "11819906  tt9916852  tvEpisode              Episode #3.20   \n",
       "11819907  tt9916856      short                   The Wind   \n",
       "11819908  tt9916880  tvEpisode  Horrid Henry Knows It All   \n",
       "\n",
       "                      originalTitle isAdult startYear endYear runtimeMinutes  \\\n",
       "0                        Carmencita       0      1894      \\N              1   \n",
       "1            Le clown et ses chiens       0      1892      \\N              5   \n",
       "2                    Pauvre Pierrot       0      1892      \\N              5   \n",
       "3                       Un bon bock       0      1892      \\N             12   \n",
       "4                  Blacksmith Scene       0      1893      \\N              1   \n",
       "...                             ...     ...       ...     ...            ...   \n",
       "11819904              Episode #3.17       0      2009      \\N             \\N   \n",
       "11819905              Episode #3.19       0      2010      \\N             \\N   \n",
       "11819906              Episode #3.20       0      2010      \\N             \\N   \n",
       "11819907                   The Wind       0      2015      \\N             27   \n",
       "11819908  Horrid Henry Knows It All       0      2014      \\N             10   \n",
       "\n",
       "                              genres  \n",
       "0                  Documentary,Short  \n",
       "1                    Animation,Short  \n",
       "2           Animation,Comedy,Romance  \n",
       "3                    Animation,Short  \n",
       "4                              Short  \n",
       "...                              ...  \n",
       "11819904                       Drama  \n",
       "11819905                       Drama  \n",
       "11819906                       Drama  \n",
       "11819907                       Short  \n",
       "11819908  Adventure,Animation,Comedy  \n",
       "\n",
       "[11819909 rows x 9 columns]"
      ]
     },
     "execution_count": 9,
     "metadata": {},
     "output_type": "execute_result"
    }
   ],
   "source": [
    "basics"
   ]
  },
  {
   "cell_type": "code",
   "execution_count": 10,
   "id": "3a641382",
   "metadata": {},
   "outputs": [
    {
     "data": {
      "application/vnd.microsoft.datawrangler.viewer.v0+json": {
       "columns": [
        {
         "name": "index",
         "rawType": "int64",
         "type": "integer"
        },
        {
         "name": "tconst",
         "rawType": "object",
         "type": "string"
        },
        {
         "name": "titleType",
         "rawType": "object",
         "type": "string"
        },
        {
         "name": "primaryTitle",
         "rawType": "object",
         "type": "unknown"
        },
        {
         "name": "originalTitle",
         "rawType": "object",
         "type": "unknown"
        },
        {
         "name": "isAdult",
         "rawType": "object",
         "type": "string"
        },
        {
         "name": "startYear",
         "rawType": "object",
         "type": "string"
        },
        {
         "name": "endYear",
         "rawType": "object",
         "type": "string"
        },
        {
         "name": "runtimeMinutes",
         "rawType": "object",
         "type": "string"
        },
        {
         "name": "genres",
         "rawType": "object",
         "type": "string"
        }
       ],
       "ref": "92fbbcca-5c24-42a6-9f38-26a5d9255278",
       "rows": [
        [
         "8",
         "tt0000009",
         "movie",
         "Miss Jerry",
         "Miss Jerry",
         "0",
         "1894",
         "\\N",
         "45",
         "Romance"
        ],
        [
         "144",
         "tt0000147",
         "movie",
         "The Corbett-Fitzsimmons Fight",
         "The Corbett-Fitzsimmons Fight",
         "0",
         "1897",
         "\\N",
         "100",
         "Documentary,News,Sport"
        ],
        [
         "498",
         "tt0000502",
         "movie",
         "Bohemios",
         "Bohemios",
         "0",
         "1905",
         "\\N",
         "100",
         "\\N"
        ],
        [
         "570",
         "tt0000574",
         "movie",
         "The Story of the Kelly Gang",
         "The Story of the Kelly Gang",
         "0",
         "1906",
         "\\N",
         "70",
         "Action,Adventure,Biography"
        ],
        [
         "587",
         "tt0000591",
         "movie",
         "The Prodigal Son",
         "L'enfant prodigue",
         "0",
         "1907",
         "\\N",
         "90",
         "Drama"
        ],
        [
         "610",
         "tt0000615",
         "movie",
         "Robbery Under Arms",
         "Robbery Under Arms",
         "0",
         "1907",
         "\\N",
         "\\N",
         "Drama"
        ],
        [
         "625",
         "tt0000630",
         "movie",
         "Hamlet",
         "Amleto",
         "0",
         "1908",
         "\\N",
         "\\N",
         "Drama"
        ],
        [
         "668",
         "tt0000675",
         "movie",
         "Don Quijote",
         "Don Quijote",
         "0",
         "1908",
         "\\N",
         "\\N",
         "Drama"
        ],
        [
         "672",
         "tt0000679",
         "movie",
         "The Fairylogue and Radio-Plays",
         "The Fairylogue and Radio-Plays",
         "0",
         "1908",
         "\\N",
         "120",
         "Adventure,Fantasy"
        ],
        [
         "828",
         "tt0000838",
         "movie",
         "A Cultura do Cacau",
         "A Cultura do Cacau",
         "0",
         "1909",
         "\\N",
         "\\N",
         "\\N"
        ],
        [
         "832",
         "tt0000842",
         "movie",
         "De Garraf a Barcelona",
         "De Garraf a Barcelona",
         "0",
         "1909",
         "\\N",
         "\\N",
         "\\N"
        ],
        [
         "836",
         "tt0000846",
         "movie",
         "Un día en Xochimilco",
         "Un día en Xochimilco",
         "0",
         "1909",
         "\\N",
         "\\N",
         "\\N"
        ],
        [
         "840",
         "tt0000850",
         "movie",
         "Los dos hermanos",
         "Los dos hermanos",
         "0",
         "1909",
         "\\N",
         "\\N",
         "\\N"
        ],
        [
         "849",
         "tt0000859",
         "movie",
         "Fabricación del corcho en Sant Feliu de Guixols",
         "Fabricación del corcho en Sant Feliu de Guixols",
         "0",
         "1909",
         "\\N",
         "\\N",
         "\\N"
        ],
        [
         "852",
         "tt0000862",
         "movie",
         "Faldgruben",
         "Faldgruben",
         "0",
         "1909",
         "\\N",
         "\\N",
         "\\N"
        ],
        [
         "857",
         "tt0000867",
         "movie",
         "Fiesta de toros",
         "Fiesta de toros",
         "0",
         "1909",
         "\\N",
         "\\N",
         "\\N"
        ],
        [
         "858",
         "tt0000868",
         "movie",
         "Fiestas de Santa Lucía - Belenes",
         "Fiestas de Santa Lucía - Belenes",
         "0",
         "1909",
         "\\N",
         "\\N",
         "\\N"
        ],
        [
         "859",
         "tt0000869",
         "movie",
         "Fiestas en La Garriga",
         "Fiestas en La Garriga",
         "0",
         "1909",
         "\\N",
         "\\N",
         "\\N"
        ],
        [
         "869",
         "tt0000879",
         "movie",
         "Gira política de Madero y Pino Suárez",
         "Gira política de Madero y Pino Suárez",
         "0",
         "1909",
         "\\N",
         "\\N",
         "\\N"
        ],
        [
         "876",
         "tt0000886",
         "movie",
         "Hamlet, Prince of Denmark",
         "Hamlet",
         "0",
         "1910",
         "\\N",
         "\\N",
         "Drama"
        ],
        [
         "930",
         "tt0000941",
         "movie",
         "Locura de amor",
         "Locura de amor",
         "0",
         "1909",
         "\\N",
         "45",
         "Drama"
        ],
        [
         "936",
         "tt0000947",
         "movie",
         "Lægens offer",
         "Lægens offer",
         "0",
         "1909",
         "\\N",
         "\\N",
         "\\N"
        ],
        [
         "948",
         "tt0000959",
         "movie",
         "Melilla y el Gurugu",
         "Melilla y el Gurugu",
         "0",
         "1909",
         "\\N",
         "\\N",
         "\\N"
        ],
        [
         "972",
         "tt0000984",
         "movie",
         "Niños en la alameda",
         "Niños en la alameda",
         "0",
         "1909",
         "\\N",
         "\\N",
         "\\N"
        ],
        [
         "995",
         "tt0001007",
         "movie",
         "La primera y segunda casetas",
         "La primera y segunda casetas",
         "0",
         "1909",
         "\\N",
         "\\N",
         "\\N"
        ],
        [
         "998",
         "tt0001010",
         "movie",
         "Protección de un convoy de víveres en el puente de camellos",
         "Protección de un convoy de víveres en el puente de camellos",
         "0",
         "1909",
         "\\N",
         "\\N",
         "\\N"
        ],
        [
         "1016",
         "tt0001028",
         "movie",
         "Salome Mad",
         "Salome Mad",
         "0",
         "1909",
         "\\N",
         "\\N",
         "Comedy"
        ],
        [
         "1026",
         "tt0001038",
         "movie",
         "Sherlock Holmes VI",
         "Sherlock Holmes VI",
         "0",
         "1910",
         "\\N",
         "\\N",
         "\\N"
        ],
        [
         "1031",
         "tt0001043",
         "movie",
         "Smith's Knockabout Theatre",
         "Smith's Knockabout Theatre",
         "0",
         "1909",
         "\\N",
         "\\N",
         "\\N"
        ],
        [
         "1037",
         "tt0001049",
         "movie",
         "Gøngehøvdingen",
         "Gøngehøvdingen",
         "0",
         "1909",
         "\\N",
         "\\N",
         "Drama,War"
        ],
        [
         "1039",
         "tt0001051",
         "movie",
         "El sueño milagroso",
         "El sueño milagroso",
         "0",
         "1909",
         "\\N",
         "\\N",
         "\\N"
        ],
        [
         "1047",
         "tt0001059",
         "movie",
         "O Terremoto de Benavente",
         "O Terremoto de Benavente",
         "0",
         "1909",
         "\\N",
         "\\N",
         "Documentary"
        ],
        [
         "1057",
         "tt0001069",
         "movie",
         "Toma del Gurugu",
         "Toma del Gurugu",
         "0",
         "1909",
         "\\N",
         "\\N",
         "\\N"
        ],
        [
         "1068",
         "tt0001080",
         "movie",
         "Two of the Boys",
         "Two of the Boys",
         "0",
         "1909",
         "\\N",
         "\\N",
         "\\N"
        ],
        [
         "1069",
         "tt0001081",
         "movie",
         "La vida en el campamento",
         "La vida en el campamento",
         "0",
         "1909",
         "\\N",
         "\\N",
         "\\N"
        ],
        [
         "1070",
         "tt0001082",
         "movie",
         "Viernes de dolores",
         "Viernes de dolores",
         "0",
         "1909",
         "\\N",
         "\\N",
         "\\N"
        ],
        [
         "1089",
         "tt0001101",
         "movie",
         "Abraham Lincoln's Clemency",
         "Abraham Lincoln's Clemency",
         "0",
         "1910",
         "\\N",
         "\\N",
         "\\N"
        ],
        [
         "1097",
         "tt0001109",
         "movie",
         "L'aluminite",
         "L'aluminite",
         "0",
         "1910",
         "\\N",
         "\\N",
         "\\N"
        ],
        [
         "1100",
         "tt0001112",
         "movie",
         "Hamlet",
         "Amleto",
         "0",
         "1910",
         "\\N",
         "\\N",
         "Drama"
        ],
        [
         "1101",
         "tt0001113",
         "movie",
         "Amor gitano",
         "Amor gitano",
         "0",
         "1910",
         "\\N",
         "\\N",
         "\\N"
        ],
        [
         "1103",
         "tt0001115",
         "movie",
         "Ansigttyven I",
         "Ansigttyven I",
         "0",
         "1910",
         "\\N",
         "\\N",
         "Crime"
        ],
        [
         "1104",
         "tt0001116",
         "movie",
         "Ansigttyven II",
         "Ansigttyven II",
         "0",
         "1910",
         "\\N",
         "\\N",
         "\\N"
        ],
        [
         "1110",
         "tt0001122",
         "movie",
         "The Red Inn",
         "L'auberge rouge",
         "0",
         "1910",
         "\\N",
         "\\N",
         "\\N"
        ],
        [
         "1129",
         "tt0001141",
         "movie",
         "The Butterfly",
         "The Butterfly",
         "0",
         "1910",
         "\\N",
         "\\N",
         "\\N"
        ],
        [
         "1130",
         "tt0001142",
         "movie",
         "By Order of Napoleon",
         "By Order of Napoleon",
         "0",
         "1910",
         "\\N",
         "\\N",
         "\\N"
        ],
        [
         "1135",
         "tt0001147",
         "movie",
         "O Centenário da Guerra Peninsular",
         "O Centenário da Guerra Peninsular",
         "0",
         "1910",
         "\\N",
         "\\N",
         "Documentary"
        ],
        [
         "1147",
         "tt0001159",
         "movie",
         "The Connecticut Yankee",
         "The Connecticut Yankee",
         "0",
         "1910",
         "\\N",
         "\\N",
         "\\N"
        ],
        [
         "1151",
         "tt0001163",
         "movie",
         "Corrida da Rampa",
         "Corrida da Rampa",
         "0",
         "1910",
         "\\N",
         "\\N",
         "Documentary"
        ],
        [
         "1163",
         "tt0001175",
         "movie",
         "Camille",
         "La dame aux camélias",
         "0",
         "1912",
         "\\N",
         "\\N",
         "Drama,Romance"
        ],
        [
         "1167",
         "tt0001179",
         "movie",
         "Desfile histórico del centenario",
         "Desfile histórico del centenario",
         "0",
         "1910",
         "\\N",
         "\\N",
         "\\N"
        ]
       ],
       "shape": {
        "columns": 9,
        "rows": 722133
       }
      },
      "text/html": [
       "<div>\n",
       "<style scoped>\n",
       "    .dataframe tbody tr th:only-of-type {\n",
       "        vertical-align: middle;\n",
       "    }\n",
       "\n",
       "    .dataframe tbody tr th {\n",
       "        vertical-align: top;\n",
       "    }\n",
       "\n",
       "    .dataframe thead th {\n",
       "        text-align: right;\n",
       "    }\n",
       "</style>\n",
       "<table border=\"1\" class=\"dataframe\">\n",
       "  <thead>\n",
       "    <tr style=\"text-align: right;\">\n",
       "      <th></th>\n",
       "      <th>tconst</th>\n",
       "      <th>titleType</th>\n",
       "      <th>primaryTitle</th>\n",
       "      <th>originalTitle</th>\n",
       "      <th>isAdult</th>\n",
       "      <th>startYear</th>\n",
       "      <th>endYear</th>\n",
       "      <th>runtimeMinutes</th>\n",
       "      <th>genres</th>\n",
       "    </tr>\n",
       "  </thead>\n",
       "  <tbody>\n",
       "    <tr>\n",
       "      <th>8</th>\n",
       "      <td>tt0000009</td>\n",
       "      <td>movie</td>\n",
       "      <td>Miss Jerry</td>\n",
       "      <td>Miss Jerry</td>\n",
       "      <td>0</td>\n",
       "      <td>1894</td>\n",
       "      <td>\\N</td>\n",
       "      <td>45</td>\n",
       "      <td>Romance</td>\n",
       "    </tr>\n",
       "    <tr>\n",
       "      <th>144</th>\n",
       "      <td>tt0000147</td>\n",
       "      <td>movie</td>\n",
       "      <td>The Corbett-Fitzsimmons Fight</td>\n",
       "      <td>The Corbett-Fitzsimmons Fight</td>\n",
       "      <td>0</td>\n",
       "      <td>1897</td>\n",
       "      <td>\\N</td>\n",
       "      <td>100</td>\n",
       "      <td>Documentary,News,Sport</td>\n",
       "    </tr>\n",
       "    <tr>\n",
       "      <th>498</th>\n",
       "      <td>tt0000502</td>\n",
       "      <td>movie</td>\n",
       "      <td>Bohemios</td>\n",
       "      <td>Bohemios</td>\n",
       "      <td>0</td>\n",
       "      <td>1905</td>\n",
       "      <td>\\N</td>\n",
       "      <td>100</td>\n",
       "      <td>\\N</td>\n",
       "    </tr>\n",
       "    <tr>\n",
       "      <th>570</th>\n",
       "      <td>tt0000574</td>\n",
       "      <td>movie</td>\n",
       "      <td>The Story of the Kelly Gang</td>\n",
       "      <td>The Story of the Kelly Gang</td>\n",
       "      <td>0</td>\n",
       "      <td>1906</td>\n",
       "      <td>\\N</td>\n",
       "      <td>70</td>\n",
       "      <td>Action,Adventure,Biography</td>\n",
       "    </tr>\n",
       "    <tr>\n",
       "      <th>587</th>\n",
       "      <td>tt0000591</td>\n",
       "      <td>movie</td>\n",
       "      <td>The Prodigal Son</td>\n",
       "      <td>L'enfant prodigue</td>\n",
       "      <td>0</td>\n",
       "      <td>1907</td>\n",
       "      <td>\\N</td>\n",
       "      <td>90</td>\n",
       "      <td>Drama</td>\n",
       "    </tr>\n",
       "    <tr>\n",
       "      <th>...</th>\n",
       "      <td>...</td>\n",
       "      <td>...</td>\n",
       "      <td>...</td>\n",
       "      <td>...</td>\n",
       "      <td>...</td>\n",
       "      <td>...</td>\n",
       "      <td>...</td>\n",
       "      <td>...</td>\n",
       "      <td>...</td>\n",
       "    </tr>\n",
       "    <tr>\n",
       "      <th>11819803</th>\n",
       "      <td>tt9916622</td>\n",
       "      <td>movie</td>\n",
       "      <td>Rodolpho Teóphilo - O Legado de um Pioneiro</td>\n",
       "      <td>Rodolpho Teóphilo - O Legado de um Pioneiro</td>\n",
       "      <td>0</td>\n",
       "      <td>2015</td>\n",
       "      <td>\\N</td>\n",
       "      <td>57</td>\n",
       "      <td>Documentary</td>\n",
       "    </tr>\n",
       "    <tr>\n",
       "      <th>11819827</th>\n",
       "      <td>tt9916680</td>\n",
       "      <td>movie</td>\n",
       "      <td>De la ilusión al desconcierto: cine colombiano...</td>\n",
       "      <td>De la ilusión al desconcierto: cine colombiano...</td>\n",
       "      <td>0</td>\n",
       "      <td>2007</td>\n",
       "      <td>\\N</td>\n",
       "      <td>100</td>\n",
       "      <td>Documentary</td>\n",
       "    </tr>\n",
       "    <tr>\n",
       "      <th>11819839</th>\n",
       "      <td>tt9916706</td>\n",
       "      <td>movie</td>\n",
       "      <td>Dankyavar Danka</td>\n",
       "      <td>Dankyavar Danka</td>\n",
       "      <td>0</td>\n",
       "      <td>2013</td>\n",
       "      <td>\\N</td>\n",
       "      <td>\\N</td>\n",
       "      <td>Comedy</td>\n",
       "    </tr>\n",
       "    <tr>\n",
       "      <th>11819849</th>\n",
       "      <td>tt9916730</td>\n",
       "      <td>movie</td>\n",
       "      <td>6 Gunn</td>\n",
       "      <td>6 Gunn</td>\n",
       "      <td>0</td>\n",
       "      <td>2017</td>\n",
       "      <td>\\N</td>\n",
       "      <td>116</td>\n",
       "      <td>Drama</td>\n",
       "    </tr>\n",
       "    <tr>\n",
       "      <th>11819859</th>\n",
       "      <td>tt9916754</td>\n",
       "      <td>movie</td>\n",
       "      <td>Chico Albuquerque - Revelações</td>\n",
       "      <td>Chico Albuquerque - Revelações</td>\n",
       "      <td>0</td>\n",
       "      <td>2013</td>\n",
       "      <td>\\N</td>\n",
       "      <td>49</td>\n",
       "      <td>Documentary</td>\n",
       "    </tr>\n",
       "  </tbody>\n",
       "</table>\n",
       "<p>722133 rows × 9 columns</p>\n",
       "</div>"
      ],
      "text/plain": [
       "             tconst titleType  \\\n",
       "8         tt0000009     movie   \n",
       "144       tt0000147     movie   \n",
       "498       tt0000502     movie   \n",
       "570       tt0000574     movie   \n",
       "587       tt0000591     movie   \n",
       "...             ...       ...   \n",
       "11819803  tt9916622     movie   \n",
       "11819827  tt9916680     movie   \n",
       "11819839  tt9916706     movie   \n",
       "11819849  tt9916730     movie   \n",
       "11819859  tt9916754     movie   \n",
       "\n",
       "                                               primaryTitle  \\\n",
       "8                                                Miss Jerry   \n",
       "144                           The Corbett-Fitzsimmons Fight   \n",
       "498                                                Bohemios   \n",
       "570                             The Story of the Kelly Gang   \n",
       "587                                        The Prodigal Son   \n",
       "...                                                     ...   \n",
       "11819803        Rodolpho Teóphilo - O Legado de um Pioneiro   \n",
       "11819827  De la ilusión al desconcierto: cine colombiano...   \n",
       "11819839                                    Dankyavar Danka   \n",
       "11819849                                             6 Gunn   \n",
       "11819859                     Chico Albuquerque - Revelações   \n",
       "\n",
       "                                              originalTitle isAdult startYear  \\\n",
       "8                                                Miss Jerry       0      1894   \n",
       "144                           The Corbett-Fitzsimmons Fight       0      1897   \n",
       "498                                                Bohemios       0      1905   \n",
       "570                             The Story of the Kelly Gang       0      1906   \n",
       "587                                       L'enfant prodigue       0      1907   \n",
       "...                                                     ...     ...       ...   \n",
       "11819803        Rodolpho Teóphilo - O Legado de um Pioneiro       0      2015   \n",
       "11819827  De la ilusión al desconcierto: cine colombiano...       0      2007   \n",
       "11819839                                    Dankyavar Danka       0      2013   \n",
       "11819849                                             6 Gunn       0      2017   \n",
       "11819859                     Chico Albuquerque - Revelações       0      2013   \n",
       "\n",
       "         endYear runtimeMinutes                      genres  \n",
       "8             \\N             45                     Romance  \n",
       "144           \\N            100      Documentary,News,Sport  \n",
       "498           \\N            100                          \\N  \n",
       "570           \\N             70  Action,Adventure,Biography  \n",
       "587           \\N             90                       Drama  \n",
       "...          ...            ...                         ...  \n",
       "11819803      \\N             57                 Documentary  \n",
       "11819827      \\N            100                 Documentary  \n",
       "11819839      \\N             \\N                      Comedy  \n",
       "11819849      \\N            116                       Drama  \n",
       "11819859      \\N             49                 Documentary  \n",
       "\n",
       "[722133 rows x 9 columns]"
      ]
     },
     "execution_count": 10,
     "metadata": {},
     "output_type": "execute_result"
    }
   ],
   "source": [
    "df1=basics[basics['titleType']=='movie']\n",
    "df1"
   ]
  },
  {
   "cell_type": "code",
   "execution_count": 11,
   "id": "acfd80a3",
   "metadata": {},
   "outputs": [
    {
     "name": "stderr",
     "output_type": "stream",
     "text": [
      "C:\\Users\\vedan\\AppData\\Local\\Temp\\ipykernel_16716\\818452082.py:2: SettingWithCopyWarning: \n",
      "A value is trying to be set on a copy of a slice from a DataFrame\n",
      "\n",
      "See the caveats in the documentation: https://pandas.pydata.org/pandas-docs/stable/user_guide/indexing.html#returning-a-view-versus-a-copy\n",
      "  df1.rename(columns={'tconst':\"movieID\",'primaryTitle':\"title\", 'startYear':\"year\", 'runtimeMinutes':\"runtime\", 'genres':\"genre\"}, inplace=True)\n"
     ]
    },
    {
     "data": {
      "application/vnd.microsoft.datawrangler.viewer.v0+json": {
       "columns": [
        {
         "name": "index",
         "rawType": "int64",
         "type": "integer"
        },
        {
         "name": "movieID",
         "rawType": "object",
         "type": "string"
        },
        {
         "name": "title",
         "rawType": "object",
         "type": "unknown"
        },
        {
         "name": "year",
         "rawType": "object",
         "type": "string"
        },
        {
         "name": "runtime",
         "rawType": "object",
         "type": "string"
        },
        {
         "name": "genre",
         "rawType": "object",
         "type": "string"
        }
       ],
       "ref": "17cce4ab-550a-4d2c-a827-b5df80e698dd",
       "rows": [
        [
         "8",
         "tt0000009",
         "Miss Jerry",
         "1894",
         "45",
         "Romance"
        ],
        [
         "144",
         "tt0000147",
         "The Corbett-Fitzsimmons Fight",
         "1897",
         "100",
         "Documentary,News,Sport"
        ],
        [
         "498",
         "tt0000502",
         "Bohemios",
         "1905",
         "100",
         "\\N"
        ],
        [
         "570",
         "tt0000574",
         "The Story of the Kelly Gang",
         "1906",
         "70",
         "Action,Adventure,Biography"
        ],
        [
         "587",
         "tt0000591",
         "The Prodigal Son",
         "1907",
         "90",
         "Drama"
        ],
        [
         "610",
         "tt0000615",
         "Robbery Under Arms",
         "1907",
         "\\N",
         "Drama"
        ],
        [
         "625",
         "tt0000630",
         "Hamlet",
         "1908",
         "\\N",
         "Drama"
        ],
        [
         "668",
         "tt0000675",
         "Don Quijote",
         "1908",
         "\\N",
         "Drama"
        ],
        [
         "672",
         "tt0000679",
         "The Fairylogue and Radio-Plays",
         "1908",
         "120",
         "Adventure,Fantasy"
        ],
        [
         "828",
         "tt0000838",
         "A Cultura do Cacau",
         "1909",
         "\\N",
         "\\N"
        ],
        [
         "832",
         "tt0000842",
         "De Garraf a Barcelona",
         "1909",
         "\\N",
         "\\N"
        ],
        [
         "836",
         "tt0000846",
         "Un día en Xochimilco",
         "1909",
         "\\N",
         "\\N"
        ],
        [
         "840",
         "tt0000850",
         "Los dos hermanos",
         "1909",
         "\\N",
         "\\N"
        ],
        [
         "849",
         "tt0000859",
         "Fabricación del corcho en Sant Feliu de Guixols",
         "1909",
         "\\N",
         "\\N"
        ],
        [
         "852",
         "tt0000862",
         "Faldgruben",
         "1909",
         "\\N",
         "\\N"
        ],
        [
         "857",
         "tt0000867",
         "Fiesta de toros",
         "1909",
         "\\N",
         "\\N"
        ],
        [
         "858",
         "tt0000868",
         "Fiestas de Santa Lucía - Belenes",
         "1909",
         "\\N",
         "\\N"
        ],
        [
         "859",
         "tt0000869",
         "Fiestas en La Garriga",
         "1909",
         "\\N",
         "\\N"
        ],
        [
         "869",
         "tt0000879",
         "Gira política de Madero y Pino Suárez",
         "1909",
         "\\N",
         "\\N"
        ],
        [
         "876",
         "tt0000886",
         "Hamlet, Prince of Denmark",
         "1910",
         "\\N",
         "Drama"
        ],
        [
         "930",
         "tt0000941",
         "Locura de amor",
         "1909",
         "45",
         "Drama"
        ],
        [
         "936",
         "tt0000947",
         "Lægens offer",
         "1909",
         "\\N",
         "\\N"
        ],
        [
         "948",
         "tt0000959",
         "Melilla y el Gurugu",
         "1909",
         "\\N",
         "\\N"
        ],
        [
         "972",
         "tt0000984",
         "Niños en la alameda",
         "1909",
         "\\N",
         "\\N"
        ],
        [
         "995",
         "tt0001007",
         "La primera y segunda casetas",
         "1909",
         "\\N",
         "\\N"
        ],
        [
         "998",
         "tt0001010",
         "Protección de un convoy de víveres en el puente de camellos",
         "1909",
         "\\N",
         "\\N"
        ],
        [
         "1016",
         "tt0001028",
         "Salome Mad",
         "1909",
         "\\N",
         "Comedy"
        ],
        [
         "1026",
         "tt0001038",
         "Sherlock Holmes VI",
         "1910",
         "\\N",
         "\\N"
        ],
        [
         "1031",
         "tt0001043",
         "Smith's Knockabout Theatre",
         "1909",
         "\\N",
         "\\N"
        ],
        [
         "1037",
         "tt0001049",
         "Gøngehøvdingen",
         "1909",
         "\\N",
         "Drama,War"
        ],
        [
         "1039",
         "tt0001051",
         "El sueño milagroso",
         "1909",
         "\\N",
         "\\N"
        ],
        [
         "1047",
         "tt0001059",
         "O Terremoto de Benavente",
         "1909",
         "\\N",
         "Documentary"
        ],
        [
         "1057",
         "tt0001069",
         "Toma del Gurugu",
         "1909",
         "\\N",
         "\\N"
        ],
        [
         "1068",
         "tt0001080",
         "Two of the Boys",
         "1909",
         "\\N",
         "\\N"
        ],
        [
         "1069",
         "tt0001081",
         "La vida en el campamento",
         "1909",
         "\\N",
         "\\N"
        ],
        [
         "1070",
         "tt0001082",
         "Viernes de dolores",
         "1909",
         "\\N",
         "\\N"
        ],
        [
         "1089",
         "tt0001101",
         "Abraham Lincoln's Clemency",
         "1910",
         "\\N",
         "\\N"
        ],
        [
         "1097",
         "tt0001109",
         "L'aluminite",
         "1910",
         "\\N",
         "\\N"
        ],
        [
         "1100",
         "tt0001112",
         "Hamlet",
         "1910",
         "\\N",
         "Drama"
        ],
        [
         "1101",
         "tt0001113",
         "Amor gitano",
         "1910",
         "\\N",
         "\\N"
        ],
        [
         "1103",
         "tt0001115",
         "Ansigttyven I",
         "1910",
         "\\N",
         "Crime"
        ],
        [
         "1104",
         "tt0001116",
         "Ansigttyven II",
         "1910",
         "\\N",
         "\\N"
        ],
        [
         "1110",
         "tt0001122",
         "The Red Inn",
         "1910",
         "\\N",
         "\\N"
        ],
        [
         "1129",
         "tt0001141",
         "The Butterfly",
         "1910",
         "\\N",
         "\\N"
        ],
        [
         "1130",
         "tt0001142",
         "By Order of Napoleon",
         "1910",
         "\\N",
         "\\N"
        ],
        [
         "1135",
         "tt0001147",
         "O Centenário da Guerra Peninsular",
         "1910",
         "\\N",
         "Documentary"
        ],
        [
         "1147",
         "tt0001159",
         "The Connecticut Yankee",
         "1910",
         "\\N",
         "\\N"
        ],
        [
         "1151",
         "tt0001163",
         "Corrida da Rampa",
         "1910",
         "\\N",
         "Documentary"
        ],
        [
         "1163",
         "tt0001175",
         "Camille",
         "1912",
         "\\N",
         "Drama,Romance"
        ],
        [
         "1167",
         "tt0001179",
         "Desfile histórico del centenario",
         "1910",
         "\\N",
         "\\N"
        ]
       ],
       "shape": {
        "columns": 5,
        "rows": 722133
       }
      },
      "text/html": [
       "<div>\n",
       "<style scoped>\n",
       "    .dataframe tbody tr th:only-of-type {\n",
       "        vertical-align: middle;\n",
       "    }\n",
       "\n",
       "    .dataframe tbody tr th {\n",
       "        vertical-align: top;\n",
       "    }\n",
       "\n",
       "    .dataframe thead th {\n",
       "        text-align: right;\n",
       "    }\n",
       "</style>\n",
       "<table border=\"1\" class=\"dataframe\">\n",
       "  <thead>\n",
       "    <tr style=\"text-align: right;\">\n",
       "      <th></th>\n",
       "      <th>movieID</th>\n",
       "      <th>title</th>\n",
       "      <th>year</th>\n",
       "      <th>runtime</th>\n",
       "      <th>genre</th>\n",
       "    </tr>\n",
       "  </thead>\n",
       "  <tbody>\n",
       "    <tr>\n",
       "      <th>8</th>\n",
       "      <td>tt0000009</td>\n",
       "      <td>Miss Jerry</td>\n",
       "      <td>1894</td>\n",
       "      <td>45</td>\n",
       "      <td>Romance</td>\n",
       "    </tr>\n",
       "    <tr>\n",
       "      <th>144</th>\n",
       "      <td>tt0000147</td>\n",
       "      <td>The Corbett-Fitzsimmons Fight</td>\n",
       "      <td>1897</td>\n",
       "      <td>100</td>\n",
       "      <td>Documentary,News,Sport</td>\n",
       "    </tr>\n",
       "    <tr>\n",
       "      <th>498</th>\n",
       "      <td>tt0000502</td>\n",
       "      <td>Bohemios</td>\n",
       "      <td>1905</td>\n",
       "      <td>100</td>\n",
       "      <td>\\N</td>\n",
       "    </tr>\n",
       "    <tr>\n",
       "      <th>570</th>\n",
       "      <td>tt0000574</td>\n",
       "      <td>The Story of the Kelly Gang</td>\n",
       "      <td>1906</td>\n",
       "      <td>70</td>\n",
       "      <td>Action,Adventure,Biography</td>\n",
       "    </tr>\n",
       "    <tr>\n",
       "      <th>587</th>\n",
       "      <td>tt0000591</td>\n",
       "      <td>The Prodigal Son</td>\n",
       "      <td>1907</td>\n",
       "      <td>90</td>\n",
       "      <td>Drama</td>\n",
       "    </tr>\n",
       "    <tr>\n",
       "      <th>...</th>\n",
       "      <td>...</td>\n",
       "      <td>...</td>\n",
       "      <td>...</td>\n",
       "      <td>...</td>\n",
       "      <td>...</td>\n",
       "    </tr>\n",
       "    <tr>\n",
       "      <th>11819803</th>\n",
       "      <td>tt9916622</td>\n",
       "      <td>Rodolpho Teóphilo - O Legado de um Pioneiro</td>\n",
       "      <td>2015</td>\n",
       "      <td>57</td>\n",
       "      <td>Documentary</td>\n",
       "    </tr>\n",
       "    <tr>\n",
       "      <th>11819827</th>\n",
       "      <td>tt9916680</td>\n",
       "      <td>De la ilusión al desconcierto: cine colombiano...</td>\n",
       "      <td>2007</td>\n",
       "      <td>100</td>\n",
       "      <td>Documentary</td>\n",
       "    </tr>\n",
       "    <tr>\n",
       "      <th>11819839</th>\n",
       "      <td>tt9916706</td>\n",
       "      <td>Dankyavar Danka</td>\n",
       "      <td>2013</td>\n",
       "      <td>\\N</td>\n",
       "      <td>Comedy</td>\n",
       "    </tr>\n",
       "    <tr>\n",
       "      <th>11819849</th>\n",
       "      <td>tt9916730</td>\n",
       "      <td>6 Gunn</td>\n",
       "      <td>2017</td>\n",
       "      <td>116</td>\n",
       "      <td>Drama</td>\n",
       "    </tr>\n",
       "    <tr>\n",
       "      <th>11819859</th>\n",
       "      <td>tt9916754</td>\n",
       "      <td>Chico Albuquerque - Revelações</td>\n",
       "      <td>2013</td>\n",
       "      <td>49</td>\n",
       "      <td>Documentary</td>\n",
       "    </tr>\n",
       "  </tbody>\n",
       "</table>\n",
       "<p>722133 rows × 5 columns</p>\n",
       "</div>"
      ],
      "text/plain": [
       "            movieID                                              title  year  \\\n",
       "8         tt0000009                                         Miss Jerry  1894   \n",
       "144       tt0000147                      The Corbett-Fitzsimmons Fight  1897   \n",
       "498       tt0000502                                           Bohemios  1905   \n",
       "570       tt0000574                        The Story of the Kelly Gang  1906   \n",
       "587       tt0000591                                   The Prodigal Son  1907   \n",
       "...             ...                                                ...   ...   \n",
       "11819803  tt9916622        Rodolpho Teóphilo - O Legado de um Pioneiro  2015   \n",
       "11819827  tt9916680  De la ilusión al desconcierto: cine colombiano...  2007   \n",
       "11819839  tt9916706                                    Dankyavar Danka  2013   \n",
       "11819849  tt9916730                                             6 Gunn  2017   \n",
       "11819859  tt9916754                     Chico Albuquerque - Revelações  2013   \n",
       "\n",
       "         runtime                       genre  \n",
       "8             45                     Romance  \n",
       "144          100      Documentary,News,Sport  \n",
       "498          100                          \\N  \n",
       "570           70  Action,Adventure,Biography  \n",
       "587           90                       Drama  \n",
       "...          ...                         ...  \n",
       "11819803      57                 Documentary  \n",
       "11819827     100                 Documentary  \n",
       "11819839      \\N                      Comedy  \n",
       "11819849     116                       Drama  \n",
       "11819859      49                 Documentary  \n",
       "\n",
       "[722133 rows x 5 columns]"
      ]
     },
     "execution_count": 11,
     "metadata": {},
     "output_type": "execute_result"
    }
   ],
   "source": [
    "df1 = df1[['tconst', 'primaryTitle', 'startYear', 'runtimeMinutes', 'genres']]\n",
    "df1.rename(columns={'tconst':\"movieID\",'primaryTitle':\"title\", 'startYear':\"year\", 'runtimeMinutes':\"runtime\", 'genres':\"genre\"}, inplace=True)\n",
    "df1"
   ]
  },
  {
   "cell_type": "code",
   "execution_count": 12,
   "id": "caabdc96",
   "metadata": {},
   "outputs": [
    {
     "name": "stdout",
     "output_type": "stream",
     "text": [
      "<class 'pandas.core.frame.DataFrame'>\n",
      "Index: 722133 entries, 8 to 11819859\n",
      "Data columns (total 5 columns):\n",
      " #   Column   Non-Null Count   Dtype \n",
      "---  ------   --------------   ----- \n",
      " 0   movieID  722133 non-null  object\n",
      " 1   title    722131 non-null  object\n",
      " 2   year     722133 non-null  object\n",
      " 3   runtime  722133 non-null  object\n",
      " 4   genre    722133 non-null  object\n",
      "dtypes: object(5)\n",
      "memory usage: 33.1+ MB\n"
     ]
    }
   ],
   "source": [
    "df1.info()"
   ]
  },
  {
   "cell_type": "code",
   "execution_count": 13,
   "id": "9226a8ff",
   "metadata": {},
   "outputs": [
    {
     "data": {
      "application/vnd.microsoft.datawrangler.viewer.v0+json": {
       "columns": [
        {
         "name": "index",
         "rawType": "object",
         "type": "string"
        },
        {
         "name": "0",
         "rawType": "int64",
         "type": "integer"
        }
       ],
       "ref": "b54066b9-4898-4022-8498-27efa29692f1",
       "rows": [
        [
         "movieID",
         "0"
        ],
        [
         "title",
         "2"
        ],
        [
         "year",
         "0"
        ],
        [
         "runtime",
         "0"
        ],
        [
         "genre",
         "0"
        ]
       ],
       "shape": {
        "columns": 1,
        "rows": 5
       }
      },
      "text/plain": [
       "movieID    0\n",
       "title      2\n",
       "year       0\n",
       "runtime    0\n",
       "genre      0\n",
       "dtype: int64"
      ]
     },
     "execution_count": 13,
     "metadata": {},
     "output_type": "execute_result"
    }
   ],
   "source": [
    "df1.isnull().sum()"
   ]
  },
  {
   "cell_type": "code",
   "execution_count": 14,
   "id": "2d68be1e",
   "metadata": {},
   "outputs": [
    {
     "name": "stderr",
     "output_type": "stream",
     "text": [
      "C:\\Users\\vedan\\AppData\\Local\\Temp\\ipykernel_16716\\3461744115.py:1: SettingWithCopyWarning: \n",
      "A value is trying to be set on a copy of a slice from a DataFrame\n",
      "\n",
      "See the caveats in the documentation: https://pandas.pydata.org/pandas-docs/stable/user_guide/indexing.html#returning-a-view-versus-a-copy\n",
      "  df1.dropna(subset=['title'], inplace=True)\n"
     ]
    },
    {
     "data": {
      "application/vnd.microsoft.datawrangler.viewer.v0+json": {
       "columns": [
        {
         "name": "index",
         "rawType": "int64",
         "type": "integer"
        },
        {
         "name": "movieID",
         "rawType": "object",
         "type": "string"
        },
        {
         "name": "title",
         "rawType": "object",
         "type": "string"
        },
        {
         "name": "year",
         "rawType": "object",
         "type": "string"
        },
        {
         "name": "runtime",
         "rawType": "object",
         "type": "string"
        },
        {
         "name": "genre",
         "rawType": "object",
         "type": "string"
        }
       ],
       "ref": "19402204-9713-4673-aec2-4a01063ce9ff",
       "rows": [
        [
         "8",
         "tt0000009",
         "Miss Jerry",
         "1894",
         "45",
         "Romance"
        ],
        [
         "144",
         "tt0000147",
         "The Corbett-Fitzsimmons Fight",
         "1897",
         "100",
         "Documentary,News,Sport"
        ],
        [
         "498",
         "tt0000502",
         "Bohemios",
         "1905",
         "100",
         "\\N"
        ],
        [
         "570",
         "tt0000574",
         "The Story of the Kelly Gang",
         "1906",
         "70",
         "Action,Adventure,Biography"
        ],
        [
         "587",
         "tt0000591",
         "The Prodigal Son",
         "1907",
         "90",
         "Drama"
        ],
        [
         "610",
         "tt0000615",
         "Robbery Under Arms",
         "1907",
         "\\N",
         "Drama"
        ],
        [
         "625",
         "tt0000630",
         "Hamlet",
         "1908",
         "\\N",
         "Drama"
        ],
        [
         "668",
         "tt0000675",
         "Don Quijote",
         "1908",
         "\\N",
         "Drama"
        ],
        [
         "672",
         "tt0000679",
         "The Fairylogue and Radio-Plays",
         "1908",
         "120",
         "Adventure,Fantasy"
        ],
        [
         "828",
         "tt0000838",
         "A Cultura do Cacau",
         "1909",
         "\\N",
         "\\N"
        ],
        [
         "832",
         "tt0000842",
         "De Garraf a Barcelona",
         "1909",
         "\\N",
         "\\N"
        ],
        [
         "836",
         "tt0000846",
         "Un día en Xochimilco",
         "1909",
         "\\N",
         "\\N"
        ],
        [
         "840",
         "tt0000850",
         "Los dos hermanos",
         "1909",
         "\\N",
         "\\N"
        ],
        [
         "849",
         "tt0000859",
         "Fabricación del corcho en Sant Feliu de Guixols",
         "1909",
         "\\N",
         "\\N"
        ],
        [
         "852",
         "tt0000862",
         "Faldgruben",
         "1909",
         "\\N",
         "\\N"
        ],
        [
         "857",
         "tt0000867",
         "Fiesta de toros",
         "1909",
         "\\N",
         "\\N"
        ],
        [
         "858",
         "tt0000868",
         "Fiestas de Santa Lucía - Belenes",
         "1909",
         "\\N",
         "\\N"
        ],
        [
         "859",
         "tt0000869",
         "Fiestas en La Garriga",
         "1909",
         "\\N",
         "\\N"
        ],
        [
         "869",
         "tt0000879",
         "Gira política de Madero y Pino Suárez",
         "1909",
         "\\N",
         "\\N"
        ],
        [
         "876",
         "tt0000886",
         "Hamlet, Prince of Denmark",
         "1910",
         "\\N",
         "Drama"
        ],
        [
         "930",
         "tt0000941",
         "Locura de amor",
         "1909",
         "45",
         "Drama"
        ],
        [
         "936",
         "tt0000947",
         "Lægens offer",
         "1909",
         "\\N",
         "\\N"
        ],
        [
         "948",
         "tt0000959",
         "Melilla y el Gurugu",
         "1909",
         "\\N",
         "\\N"
        ],
        [
         "972",
         "tt0000984",
         "Niños en la alameda",
         "1909",
         "\\N",
         "\\N"
        ],
        [
         "995",
         "tt0001007",
         "La primera y segunda casetas",
         "1909",
         "\\N",
         "\\N"
        ],
        [
         "998",
         "tt0001010",
         "Protección de un convoy de víveres en el puente de camellos",
         "1909",
         "\\N",
         "\\N"
        ],
        [
         "1016",
         "tt0001028",
         "Salome Mad",
         "1909",
         "\\N",
         "Comedy"
        ],
        [
         "1026",
         "tt0001038",
         "Sherlock Holmes VI",
         "1910",
         "\\N",
         "\\N"
        ],
        [
         "1031",
         "tt0001043",
         "Smith's Knockabout Theatre",
         "1909",
         "\\N",
         "\\N"
        ],
        [
         "1037",
         "tt0001049",
         "Gøngehøvdingen",
         "1909",
         "\\N",
         "Drama,War"
        ],
        [
         "1039",
         "tt0001051",
         "El sueño milagroso",
         "1909",
         "\\N",
         "\\N"
        ],
        [
         "1047",
         "tt0001059",
         "O Terremoto de Benavente",
         "1909",
         "\\N",
         "Documentary"
        ],
        [
         "1057",
         "tt0001069",
         "Toma del Gurugu",
         "1909",
         "\\N",
         "\\N"
        ],
        [
         "1068",
         "tt0001080",
         "Two of the Boys",
         "1909",
         "\\N",
         "\\N"
        ],
        [
         "1069",
         "tt0001081",
         "La vida en el campamento",
         "1909",
         "\\N",
         "\\N"
        ],
        [
         "1070",
         "tt0001082",
         "Viernes de dolores",
         "1909",
         "\\N",
         "\\N"
        ],
        [
         "1089",
         "tt0001101",
         "Abraham Lincoln's Clemency",
         "1910",
         "\\N",
         "\\N"
        ],
        [
         "1097",
         "tt0001109",
         "L'aluminite",
         "1910",
         "\\N",
         "\\N"
        ],
        [
         "1100",
         "tt0001112",
         "Hamlet",
         "1910",
         "\\N",
         "Drama"
        ],
        [
         "1101",
         "tt0001113",
         "Amor gitano",
         "1910",
         "\\N",
         "\\N"
        ],
        [
         "1103",
         "tt0001115",
         "Ansigttyven I",
         "1910",
         "\\N",
         "Crime"
        ],
        [
         "1104",
         "tt0001116",
         "Ansigttyven II",
         "1910",
         "\\N",
         "\\N"
        ],
        [
         "1110",
         "tt0001122",
         "The Red Inn",
         "1910",
         "\\N",
         "\\N"
        ],
        [
         "1129",
         "tt0001141",
         "The Butterfly",
         "1910",
         "\\N",
         "\\N"
        ],
        [
         "1130",
         "tt0001142",
         "By Order of Napoleon",
         "1910",
         "\\N",
         "\\N"
        ],
        [
         "1135",
         "tt0001147",
         "O Centenário da Guerra Peninsular",
         "1910",
         "\\N",
         "Documentary"
        ],
        [
         "1147",
         "tt0001159",
         "The Connecticut Yankee",
         "1910",
         "\\N",
         "\\N"
        ],
        [
         "1151",
         "tt0001163",
         "Corrida da Rampa",
         "1910",
         "\\N",
         "Documentary"
        ],
        [
         "1163",
         "tt0001175",
         "Camille",
         "1912",
         "\\N",
         "Drama,Romance"
        ],
        [
         "1167",
         "tt0001179",
         "Desfile histórico del centenario",
         "1910",
         "\\N",
         "\\N"
        ]
       ],
       "shape": {
        "columns": 5,
        "rows": 722131
       }
      },
      "text/html": [
       "<div>\n",
       "<style scoped>\n",
       "    .dataframe tbody tr th:only-of-type {\n",
       "        vertical-align: middle;\n",
       "    }\n",
       "\n",
       "    .dataframe tbody tr th {\n",
       "        vertical-align: top;\n",
       "    }\n",
       "\n",
       "    .dataframe thead th {\n",
       "        text-align: right;\n",
       "    }\n",
       "</style>\n",
       "<table border=\"1\" class=\"dataframe\">\n",
       "  <thead>\n",
       "    <tr style=\"text-align: right;\">\n",
       "      <th></th>\n",
       "      <th>movieID</th>\n",
       "      <th>title</th>\n",
       "      <th>year</th>\n",
       "      <th>runtime</th>\n",
       "      <th>genre</th>\n",
       "    </tr>\n",
       "  </thead>\n",
       "  <tbody>\n",
       "    <tr>\n",
       "      <th>8</th>\n",
       "      <td>tt0000009</td>\n",
       "      <td>Miss Jerry</td>\n",
       "      <td>1894</td>\n",
       "      <td>45</td>\n",
       "      <td>Romance</td>\n",
       "    </tr>\n",
       "    <tr>\n",
       "      <th>144</th>\n",
       "      <td>tt0000147</td>\n",
       "      <td>The Corbett-Fitzsimmons Fight</td>\n",
       "      <td>1897</td>\n",
       "      <td>100</td>\n",
       "      <td>Documentary,News,Sport</td>\n",
       "    </tr>\n",
       "    <tr>\n",
       "      <th>498</th>\n",
       "      <td>tt0000502</td>\n",
       "      <td>Bohemios</td>\n",
       "      <td>1905</td>\n",
       "      <td>100</td>\n",
       "      <td>\\N</td>\n",
       "    </tr>\n",
       "    <tr>\n",
       "      <th>570</th>\n",
       "      <td>tt0000574</td>\n",
       "      <td>The Story of the Kelly Gang</td>\n",
       "      <td>1906</td>\n",
       "      <td>70</td>\n",
       "      <td>Action,Adventure,Biography</td>\n",
       "    </tr>\n",
       "    <tr>\n",
       "      <th>587</th>\n",
       "      <td>tt0000591</td>\n",
       "      <td>The Prodigal Son</td>\n",
       "      <td>1907</td>\n",
       "      <td>90</td>\n",
       "      <td>Drama</td>\n",
       "    </tr>\n",
       "    <tr>\n",
       "      <th>...</th>\n",
       "      <td>...</td>\n",
       "      <td>...</td>\n",
       "      <td>...</td>\n",
       "      <td>...</td>\n",
       "      <td>...</td>\n",
       "    </tr>\n",
       "    <tr>\n",
       "      <th>11819803</th>\n",
       "      <td>tt9916622</td>\n",
       "      <td>Rodolpho Teóphilo - O Legado de um Pioneiro</td>\n",
       "      <td>2015</td>\n",
       "      <td>57</td>\n",
       "      <td>Documentary</td>\n",
       "    </tr>\n",
       "    <tr>\n",
       "      <th>11819827</th>\n",
       "      <td>tt9916680</td>\n",
       "      <td>De la ilusión al desconcierto: cine colombiano...</td>\n",
       "      <td>2007</td>\n",
       "      <td>100</td>\n",
       "      <td>Documentary</td>\n",
       "    </tr>\n",
       "    <tr>\n",
       "      <th>11819839</th>\n",
       "      <td>tt9916706</td>\n",
       "      <td>Dankyavar Danka</td>\n",
       "      <td>2013</td>\n",
       "      <td>\\N</td>\n",
       "      <td>Comedy</td>\n",
       "    </tr>\n",
       "    <tr>\n",
       "      <th>11819849</th>\n",
       "      <td>tt9916730</td>\n",
       "      <td>6 Gunn</td>\n",
       "      <td>2017</td>\n",
       "      <td>116</td>\n",
       "      <td>Drama</td>\n",
       "    </tr>\n",
       "    <tr>\n",
       "      <th>11819859</th>\n",
       "      <td>tt9916754</td>\n",
       "      <td>Chico Albuquerque - Revelações</td>\n",
       "      <td>2013</td>\n",
       "      <td>49</td>\n",
       "      <td>Documentary</td>\n",
       "    </tr>\n",
       "  </tbody>\n",
       "</table>\n",
       "<p>722131 rows × 5 columns</p>\n",
       "</div>"
      ],
      "text/plain": [
       "            movieID                                              title  year  \\\n",
       "8         tt0000009                                         Miss Jerry  1894   \n",
       "144       tt0000147                      The Corbett-Fitzsimmons Fight  1897   \n",
       "498       tt0000502                                           Bohemios  1905   \n",
       "570       tt0000574                        The Story of the Kelly Gang  1906   \n",
       "587       tt0000591                                   The Prodigal Son  1907   \n",
       "...             ...                                                ...   ...   \n",
       "11819803  tt9916622        Rodolpho Teóphilo - O Legado de um Pioneiro  2015   \n",
       "11819827  tt9916680  De la ilusión al desconcierto: cine colombiano...  2007   \n",
       "11819839  tt9916706                                    Dankyavar Danka  2013   \n",
       "11819849  tt9916730                                             6 Gunn  2017   \n",
       "11819859  tt9916754                     Chico Albuquerque - Revelações  2013   \n",
       "\n",
       "         runtime                       genre  \n",
       "8             45                     Romance  \n",
       "144          100      Documentary,News,Sport  \n",
       "498          100                          \\N  \n",
       "570           70  Action,Adventure,Biography  \n",
       "587           90                       Drama  \n",
       "...          ...                         ...  \n",
       "11819803      57                 Documentary  \n",
       "11819827     100                 Documentary  \n",
       "11819839      \\N                      Comedy  \n",
       "11819849     116                       Drama  \n",
       "11819859      49                 Documentary  \n",
       "\n",
       "[722131 rows x 5 columns]"
      ]
     },
     "execution_count": 14,
     "metadata": {},
     "output_type": "execute_result"
    }
   ],
   "source": [
    "df1.dropna(subset=['title'], inplace=True)\n",
    "df1"
   ]
  },
  {
   "cell_type": "markdown",
   "id": "c9ffdb55",
   "metadata": {},
   "source": [
    "🧹 Step 2: Initial Cleaning\n",
    "\n",
    "Column renaming: make names consistent (e.g., tconst → movieID, primaryTitle → title).\n",
    "\n",
    "Data types: convert startYear and runtimeMinutes to numeric.\n",
    "\n",
    "Missing values: check and handle where appropriate (drop or impute).\n",
    "\n",
    "Duplicates: ensure movieID is unique in title-level data."
   ]
  },
  {
   "cell_type": "code",
   "execution_count": 15,
   "id": "c0ba7d6b",
   "metadata": {},
   "outputs": [
    {
     "name": "stderr",
     "output_type": "stream",
     "text": [
      "C:\\Users\\vedan\\AppData\\Local\\Temp\\ipykernel_16716\\3775845684.py:1: SettingWithCopyWarning: \n",
      "A value is trying to be set on a copy of a slice from a DataFrame.\n",
      "Try using .loc[row_indexer,col_indexer] = value instead\n",
      "\n",
      "See the caveats in the documentation: https://pandas.pydata.org/pandas-docs/stable/user_guide/indexing.html#returning-a-view-versus-a-copy\n",
      "  df1['runtime'] = pd.to_numeric(df1['runtime'], errors='coerce').astype('Int64')\n",
      "C:\\Users\\vedan\\AppData\\Local\\Temp\\ipykernel_16716\\3775845684.py:2: SettingWithCopyWarning: \n",
      "A value is trying to be set on a copy of a slice from a DataFrame.\n",
      "Try using .loc[row_indexer,col_indexer] = value instead\n",
      "\n",
      "See the caveats in the documentation: https://pandas.pydata.org/pandas-docs/stable/user_guide/indexing.html#returning-a-view-versus-a-copy\n",
      "  df1['year'] = pd.to_numeric(df1['year'], errors='coerce').astype('Int64')\n"
     ]
    }
   ],
   "source": [
    "df1['runtime'] = pd.to_numeric(df1['runtime'], errors='coerce').astype('Int64')  \n",
    "df1['year'] = pd.to_numeric(df1['year'], errors='coerce').astype('Int64')  "
   ]
  },
  {
   "cell_type": "code",
   "execution_count": 16,
   "id": "19396691",
   "metadata": {},
   "outputs": [
    {
     "data": {
      "application/vnd.microsoft.datawrangler.viewer.v0+json": {
       "columns": [
        {
         "name": "index",
         "rawType": "object",
         "type": "string"
        },
        {
         "name": "0",
         "rawType": "int64",
         "type": "integer"
        }
       ],
       "ref": "048036c8-0e72-4d78-81cf-20d369065e1c",
       "rows": [
        [
         "movieID",
         "0"
        ],
        [
         "title",
         "0"
        ],
        [
         "year",
         "106658"
        ],
        [
         "runtime",
         "266222"
        ],
        [
         "genre",
         "0"
        ]
       ],
       "shape": {
        "columns": 1,
        "rows": 5
       }
      },
      "text/plain": [
       "movieID         0\n",
       "title           0\n",
       "year       106658\n",
       "runtime    266222\n",
       "genre           0\n",
       "dtype: int64"
      ]
     },
     "execution_count": 16,
     "metadata": {},
     "output_type": "execute_result"
    }
   ],
   "source": [
    "df1.isnull().sum()"
   ]
  },
  {
   "cell_type": "code",
   "execution_count": 17,
   "id": "32244756",
   "metadata": {},
   "outputs": [
    {
     "name": "stderr",
     "output_type": "stream",
     "text": [
      "C:\\Users\\vedan\\AppData\\Local\\Temp\\ipykernel_16716\\2123111522.py:1: SettingWithCopyWarning: \n",
      "A value is trying to be set on a copy of a slice from a DataFrame\n",
      "\n",
      "See the caveats in the documentation: https://pandas.pydata.org/pandas-docs/stable/user_guide/indexing.html#returning-a-view-versus-a-copy\n",
      "  df1.dropna(subset=['runtime','year'], inplace=True)\n"
     ]
    },
    {
     "data": {
      "application/vnd.microsoft.datawrangler.viewer.v0+json": {
       "columns": [
        {
         "name": "index",
         "rawType": "int64",
         "type": "integer"
        },
        {
         "name": "movieID",
         "rawType": "object",
         "type": "string"
        },
        {
         "name": "title",
         "rawType": "object",
         "type": "string"
        },
        {
         "name": "year",
         "rawType": "Int64",
         "type": "integer"
        },
        {
         "name": "runtime",
         "rawType": "Int64",
         "type": "integer"
        },
        {
         "name": "genre",
         "rawType": "object",
         "type": "string"
        }
       ],
       "ref": "57be7df3-0833-4b07-9fe5-3de5f0b63f1a",
       "rows": [
        [
         "8",
         "tt0000009",
         "Miss Jerry",
         "1894",
         "45",
         "Romance"
        ],
        [
         "144",
         "tt0000147",
         "The Corbett-Fitzsimmons Fight",
         "1897",
         "100",
         "Documentary,News,Sport"
        ],
        [
         "498",
         "tt0000502",
         "Bohemios",
         "1905",
         "100",
         "\\N"
        ],
        [
         "570",
         "tt0000574",
         "The Story of the Kelly Gang",
         "1906",
         "70",
         "Action,Adventure,Biography"
        ],
        [
         "587",
         "tt0000591",
         "The Prodigal Son",
         "1907",
         "90",
         "Drama"
        ],
        [
         "672",
         "tt0000679",
         "The Fairylogue and Radio-Plays",
         "1908",
         "120",
         "Adventure,Fantasy"
        ],
        [
         "930",
         "tt0000941",
         "Locura de amor",
         "1909",
         "45",
         "Drama"
        ],
        [
         "1172",
         "tt0001184",
         "Don Juan de Serrallonga",
         "1910",
         "58",
         "Adventure,Drama"
        ],
        [
         "1273",
         "tt0001285",
         "The Life of Moses",
         "1909",
         "50",
         "Biography,Drama,Family"
        ],
        [
         "1485",
         "tt0001498",
         "The Battle of Trafalgar",
         "1911",
         "51",
         "War"
        ],
        [
         "1578",
         "tt0001592",
         "In the Prime of Life",
         "1911",
         "52",
         "Drama"
        ],
        [
         "1600",
         "tt0001614",
         "The Four Devils",
         "1911",
         "35",
         "Drama"
        ],
        [
         "1616",
         "tt0001630",
         "Der fremde Vogel",
         "1911",
         "45",
         "\\N"
        ],
        [
         "1739",
         "tt0001756",
         "Lucha por la herencia",
         "1911",
         "92",
         "\\N"
        ],
        [
         "1773",
         "tt0001790",
         "Les Misérables, Part 1: Jean Valjean",
         "1913",
         "60",
         "Drama"
        ],
        [
         "1794",
         "tt0001812",
         "Oedipus Rex",
         "1911",
         "56",
         "Drama"
        ],
        [
         "1872",
         "tt0001892",
         "Den sorte drøm",
         "1911",
         "53",
         "Drama"
        ],
        [
         "1891",
         "tt0001911",
         "Nell Gwynne",
         "1911",
         "50",
         "Biography,Drama,History"
        ],
        [
         "1941",
         "tt0001964",
         "The Traitress",
         "1911",
         "48",
         "Drama"
        ],
        [
         "1974",
         "tt0001998",
         "The Adventures of Lieutenant Petrosino",
         "1912",
         "47",
         "Drama"
        ],
        [
         "1998",
         "tt0002022",
         "Anfisa",
         "1912",
         "45",
         "Drama"
        ],
        [
         "2002",
         "tt0002026",
         "Anny - Story of a Prostitute",
         "1912",
         "68",
         "Drama,Romance"
        ],
        [
         "2069",
         "tt0002094",
         "Charles IV",
         "1912",
         "50",
         "\\N"
        ],
        [
         "2076",
         "tt0002101",
         "Cleopatra",
         "1912",
         "100",
         "Drama,History"
        ],
        [
         "2105",
         "tt0002130",
         "Dante's Inferno",
         "1911",
         "71",
         "Adventure,Drama,Fantasy"
        ],
        [
         "2128",
         "tt0002153",
         "The Great Circus Catastrophe",
         "1912",
         "45",
         "Drama"
        ],
        [
         "2161",
         "tt0002186",
         "The Flying Circus",
         "1912",
         "46",
         "Drama"
        ],
        [
         "2174",
         "tt0002199",
         "From the Manger to the Cross",
         "1912",
         "71",
         "Biography,Drama"
        ],
        [
         "2289",
         "tt0002315",
         "El lobo de la sierra",
         "1912",
         "76",
         "\\N"
        ],
        [
         "2396",
         "tt0002423",
         "Passion",
         "1919",
         "113",
         "Biography,Drama,Romance"
        ],
        [
         "2398",
         "tt0002425",
         "Paul J. Rainey's African Hunt",
         "1912",
         "60",
         "Documentary"
        ],
        [
         "2405",
         "tt0002432",
         "Los Pirineos de Port-Bou a Andorra",
         "1912",
         "58",
         "\\N"
        ],
        [
         "2418",
         "tt0002445",
         "Quo Vadis?",
         "1913",
         "120",
         "Drama,History"
        ],
        [
         "2425",
         "tt0002452",
         "The Independence of Romania",
         "1912",
         "120",
         "History,War"
        ],
        [
         "2434",
         "tt0002461",
         "The Life and Death of King Richard III",
         "1912",
         "55",
         "Drama"
        ],
        [
         "2473",
         "tt0002500",
         "The Black Chancellor",
         "1912",
         "48",
         "Drama"
        ],
        [
         "2487",
         "tt0002514",
         "Saved in Mid-Air",
         "1912",
         "60",
         "Drama"
        ],
        [
         "2547",
         "tt0002574",
         "What Happened to Mary",
         "1912",
         "150",
         "Action,Drama,Thriller"
        ],
        [
         "2561",
         "tt0002588",
         "Zigomar contre Nick Carter",
         "1912",
         "48",
         "Crime,Thriller"
        ],
        [
         "2578",
         "tt0002605",
         "The Adventures of Kathlyn",
         "1913",
         "300",
         "Adventure"
        ],
        [
         "2598",
         "tt0002625",
         "Ana Kadova",
         "1913",
         "92",
         "\\N"
        ],
        [
         "2601",
         "tt0002628",
         "Der Andere",
         "1913",
         "48",
         "Drama,Thriller"
        ],
        [
         "2610",
         "tt0002637",
         "Arizona",
         "1913",
         "45",
         "Drama,Western"
        ],
        [
         "2615",
         "tt0002642",
         "The Heir to Skjoldborg",
         "1914",
         "50",
         "Drama"
        ],
        [
         "2619",
         "tt0002646",
         "Atlantis",
         "1913",
         "121",
         "Drama"
        ],
        [
         "2642",
         "tt0002669",
         "The Battle of Gettysburg",
         "1913",
         "48",
         "Drama,War"
        ],
        [
         "2658",
         "tt0002685",
         "Blodets röst",
         "1913",
         "89",
         "Drama"
        ],
        [
         "2716",
         "tt0002743",
         "El Caín moderno",
         "1913",
         "48",
         "\\N"
        ],
        [
         "2740",
         "tt0002767",
         "The Count of Monte Cristo",
         "1913",
         "69",
         "Drama,History"
        ],
        [
         "2774",
         "tt0002801",
         "The Black Diamond",
         "1913",
         "50",
         "\\N"
        ]
       ],
       "shape": {
        "columns": 5,
        "rows": 448057
       }
      },
      "text/html": [
       "<div>\n",
       "<style scoped>\n",
       "    .dataframe tbody tr th:only-of-type {\n",
       "        vertical-align: middle;\n",
       "    }\n",
       "\n",
       "    .dataframe tbody tr th {\n",
       "        vertical-align: top;\n",
       "    }\n",
       "\n",
       "    .dataframe thead th {\n",
       "        text-align: right;\n",
       "    }\n",
       "</style>\n",
       "<table border=\"1\" class=\"dataframe\">\n",
       "  <thead>\n",
       "    <tr style=\"text-align: right;\">\n",
       "      <th></th>\n",
       "      <th>movieID</th>\n",
       "      <th>title</th>\n",
       "      <th>year</th>\n",
       "      <th>runtime</th>\n",
       "      <th>genre</th>\n",
       "    </tr>\n",
       "  </thead>\n",
       "  <tbody>\n",
       "    <tr>\n",
       "      <th>8</th>\n",
       "      <td>tt0000009</td>\n",
       "      <td>Miss Jerry</td>\n",
       "      <td>1894</td>\n",
       "      <td>45</td>\n",
       "      <td>Romance</td>\n",
       "    </tr>\n",
       "    <tr>\n",
       "      <th>144</th>\n",
       "      <td>tt0000147</td>\n",
       "      <td>The Corbett-Fitzsimmons Fight</td>\n",
       "      <td>1897</td>\n",
       "      <td>100</td>\n",
       "      <td>Documentary,News,Sport</td>\n",
       "    </tr>\n",
       "    <tr>\n",
       "      <th>498</th>\n",
       "      <td>tt0000502</td>\n",
       "      <td>Bohemios</td>\n",
       "      <td>1905</td>\n",
       "      <td>100</td>\n",
       "      <td>\\N</td>\n",
       "    </tr>\n",
       "    <tr>\n",
       "      <th>570</th>\n",
       "      <td>tt0000574</td>\n",
       "      <td>The Story of the Kelly Gang</td>\n",
       "      <td>1906</td>\n",
       "      <td>70</td>\n",
       "      <td>Action,Adventure,Biography</td>\n",
       "    </tr>\n",
       "    <tr>\n",
       "      <th>587</th>\n",
       "      <td>tt0000591</td>\n",
       "      <td>The Prodigal Son</td>\n",
       "      <td>1907</td>\n",
       "      <td>90</td>\n",
       "      <td>Drama</td>\n",
       "    </tr>\n",
       "    <tr>\n",
       "      <th>...</th>\n",
       "      <td>...</td>\n",
       "      <td>...</td>\n",
       "      <td>...</td>\n",
       "      <td>...</td>\n",
       "      <td>...</td>\n",
       "    </tr>\n",
       "    <tr>\n",
       "      <th>11819762</th>\n",
       "      <td>tt9916538</td>\n",
       "      <td>Kuambil Lagi Hatiku</td>\n",
       "      <td>2019</td>\n",
       "      <td>123</td>\n",
       "      <td>Drama</td>\n",
       "    </tr>\n",
       "    <tr>\n",
       "      <th>11819803</th>\n",
       "      <td>tt9916622</td>\n",
       "      <td>Rodolpho Teóphilo - O Legado de um Pioneiro</td>\n",
       "      <td>2015</td>\n",
       "      <td>57</td>\n",
       "      <td>Documentary</td>\n",
       "    </tr>\n",
       "    <tr>\n",
       "      <th>11819827</th>\n",
       "      <td>tt9916680</td>\n",
       "      <td>De la ilusión al desconcierto: cine colombiano...</td>\n",
       "      <td>2007</td>\n",
       "      <td>100</td>\n",
       "      <td>Documentary</td>\n",
       "    </tr>\n",
       "    <tr>\n",
       "      <th>11819849</th>\n",
       "      <td>tt9916730</td>\n",
       "      <td>6 Gunn</td>\n",
       "      <td>2017</td>\n",
       "      <td>116</td>\n",
       "      <td>Drama</td>\n",
       "    </tr>\n",
       "    <tr>\n",
       "      <th>11819859</th>\n",
       "      <td>tt9916754</td>\n",
       "      <td>Chico Albuquerque - Revelações</td>\n",
       "      <td>2013</td>\n",
       "      <td>49</td>\n",
       "      <td>Documentary</td>\n",
       "    </tr>\n",
       "  </tbody>\n",
       "</table>\n",
       "<p>448057 rows × 5 columns</p>\n",
       "</div>"
      ],
      "text/plain": [
       "            movieID                                              title  year  \\\n",
       "8         tt0000009                                         Miss Jerry  1894   \n",
       "144       tt0000147                      The Corbett-Fitzsimmons Fight  1897   \n",
       "498       tt0000502                                           Bohemios  1905   \n",
       "570       tt0000574                        The Story of the Kelly Gang  1906   \n",
       "587       tt0000591                                   The Prodigal Son  1907   \n",
       "...             ...                                                ...   ...   \n",
       "11819762  tt9916538                                Kuambil Lagi Hatiku  2019   \n",
       "11819803  tt9916622        Rodolpho Teóphilo - O Legado de um Pioneiro  2015   \n",
       "11819827  tt9916680  De la ilusión al desconcierto: cine colombiano...  2007   \n",
       "11819849  tt9916730                                             6 Gunn  2017   \n",
       "11819859  tt9916754                     Chico Albuquerque - Revelações  2013   \n",
       "\n",
       "          runtime                       genre  \n",
       "8              45                     Romance  \n",
       "144           100      Documentary,News,Sport  \n",
       "498           100                          \\N  \n",
       "570            70  Action,Adventure,Biography  \n",
       "587            90                       Drama  \n",
       "...           ...                         ...  \n",
       "11819762      123                       Drama  \n",
       "11819803       57                 Documentary  \n",
       "11819827      100                 Documentary  \n",
       "11819849      116                       Drama  \n",
       "11819859       49                 Documentary  \n",
       "\n",
       "[448057 rows x 5 columns]"
      ]
     },
     "execution_count": 17,
     "metadata": {},
     "output_type": "execute_result"
    }
   ],
   "source": [
    "df1.dropna(subset=['runtime','year'], inplace=True)\n",
    "df1"
   ]
  },
  {
   "cell_type": "code",
   "execution_count": 18,
   "id": "6ba40d89",
   "metadata": {},
   "outputs": [
    {
     "data": {
      "application/vnd.microsoft.datawrangler.viewer.v0+json": {
       "columns": [
        {
         "name": "index",
         "rawType": "int64",
         "type": "integer"
        },
        {
         "name": "movieID",
         "rawType": "object",
         "type": "string"
        },
        {
         "name": "title",
         "rawType": "object",
         "type": "string"
        },
        {
         "name": "year",
         "rawType": "Int64",
         "type": "integer"
        },
        {
         "name": "runtime",
         "rawType": "Int64",
         "type": "integer"
        },
        {
         "name": "genre",
         "rawType": "object",
         "type": "string"
        }
       ],
       "ref": "06c5067d-2871-4bc2-b34d-669e29470c8d",
       "rows": [
        [
         "0",
         "tt0000009",
         "Miss Jerry",
         "1894",
         "45",
         "Romance"
        ],
        [
         "1",
         "tt0000147",
         "The Corbett-Fitzsimmons Fight",
         "1897",
         "100",
         "Documentary,News,Sport"
        ],
        [
         "2",
         "tt0000502",
         "Bohemios",
         "1905",
         "100",
         "\\N"
        ],
        [
         "3",
         "tt0000574",
         "The Story of the Kelly Gang",
         "1906",
         "70",
         "Action,Adventure,Biography"
        ],
        [
         "4",
         "tt0000591",
         "The Prodigal Son",
         "1907",
         "90",
         "Drama"
        ],
        [
         "5",
         "tt0000679",
         "The Fairylogue and Radio-Plays",
         "1908",
         "120",
         "Adventure,Fantasy"
        ],
        [
         "6",
         "tt0000941",
         "Locura de amor",
         "1909",
         "45",
         "Drama"
        ],
        [
         "7",
         "tt0001184",
         "Don Juan de Serrallonga",
         "1910",
         "58",
         "Adventure,Drama"
        ],
        [
         "8",
         "tt0001285",
         "The Life of Moses",
         "1909",
         "50",
         "Biography,Drama,Family"
        ],
        [
         "9",
         "tt0001498",
         "The Battle of Trafalgar",
         "1911",
         "51",
         "War"
        ],
        [
         "10",
         "tt0001592",
         "In the Prime of Life",
         "1911",
         "52",
         "Drama"
        ],
        [
         "11",
         "tt0001614",
         "The Four Devils",
         "1911",
         "35",
         "Drama"
        ],
        [
         "12",
         "tt0001630",
         "Der fremde Vogel",
         "1911",
         "45",
         "\\N"
        ],
        [
         "13",
         "tt0001756",
         "Lucha por la herencia",
         "1911",
         "92",
         "\\N"
        ],
        [
         "14",
         "tt0001790",
         "Les Misérables, Part 1: Jean Valjean",
         "1913",
         "60",
         "Drama"
        ],
        [
         "15",
         "tt0001812",
         "Oedipus Rex",
         "1911",
         "56",
         "Drama"
        ],
        [
         "16",
         "tt0001892",
         "Den sorte drøm",
         "1911",
         "53",
         "Drama"
        ],
        [
         "17",
         "tt0001911",
         "Nell Gwynne",
         "1911",
         "50",
         "Biography,Drama,History"
        ],
        [
         "18",
         "tt0001964",
         "The Traitress",
         "1911",
         "48",
         "Drama"
        ],
        [
         "19",
         "tt0001998",
         "The Adventures of Lieutenant Petrosino",
         "1912",
         "47",
         "Drama"
        ],
        [
         "20",
         "tt0002022",
         "Anfisa",
         "1912",
         "45",
         "Drama"
        ],
        [
         "21",
         "tt0002026",
         "Anny - Story of a Prostitute",
         "1912",
         "68",
         "Drama,Romance"
        ],
        [
         "22",
         "tt0002094",
         "Charles IV",
         "1912",
         "50",
         "\\N"
        ],
        [
         "23",
         "tt0002101",
         "Cleopatra",
         "1912",
         "100",
         "Drama,History"
        ],
        [
         "24",
         "tt0002130",
         "Dante's Inferno",
         "1911",
         "71",
         "Adventure,Drama,Fantasy"
        ],
        [
         "25",
         "tt0002153",
         "The Great Circus Catastrophe",
         "1912",
         "45",
         "Drama"
        ],
        [
         "26",
         "tt0002186",
         "The Flying Circus",
         "1912",
         "46",
         "Drama"
        ],
        [
         "27",
         "tt0002199",
         "From the Manger to the Cross",
         "1912",
         "71",
         "Biography,Drama"
        ],
        [
         "28",
         "tt0002315",
         "El lobo de la sierra",
         "1912",
         "76",
         "\\N"
        ],
        [
         "29",
         "tt0002423",
         "Passion",
         "1919",
         "113",
         "Biography,Drama,Romance"
        ],
        [
         "30",
         "tt0002425",
         "Paul J. Rainey's African Hunt",
         "1912",
         "60",
         "Documentary"
        ],
        [
         "31",
         "tt0002432",
         "Los Pirineos de Port-Bou a Andorra",
         "1912",
         "58",
         "\\N"
        ],
        [
         "32",
         "tt0002445",
         "Quo Vadis?",
         "1913",
         "120",
         "Drama,History"
        ],
        [
         "33",
         "tt0002452",
         "The Independence of Romania",
         "1912",
         "120",
         "History,War"
        ],
        [
         "34",
         "tt0002461",
         "The Life and Death of King Richard III",
         "1912",
         "55",
         "Drama"
        ],
        [
         "35",
         "tt0002500",
         "The Black Chancellor",
         "1912",
         "48",
         "Drama"
        ],
        [
         "36",
         "tt0002514",
         "Saved in Mid-Air",
         "1912",
         "60",
         "Drama"
        ],
        [
         "37",
         "tt0002574",
         "What Happened to Mary",
         "1912",
         "150",
         "Action,Drama,Thriller"
        ],
        [
         "38",
         "tt0002588",
         "Zigomar contre Nick Carter",
         "1912",
         "48",
         "Crime,Thriller"
        ],
        [
         "39",
         "tt0002605",
         "The Adventures of Kathlyn",
         "1913",
         "300",
         "Adventure"
        ],
        [
         "40",
         "tt0002625",
         "Ana Kadova",
         "1913",
         "92",
         "\\N"
        ],
        [
         "41",
         "tt0002628",
         "Der Andere",
         "1913",
         "48",
         "Drama,Thriller"
        ],
        [
         "42",
         "tt0002637",
         "Arizona",
         "1913",
         "45",
         "Drama,Western"
        ],
        [
         "43",
         "tt0002642",
         "The Heir to Skjoldborg",
         "1914",
         "50",
         "Drama"
        ],
        [
         "44",
         "tt0002646",
         "Atlantis",
         "1913",
         "121",
         "Drama"
        ],
        [
         "45",
         "tt0002669",
         "The Battle of Gettysburg",
         "1913",
         "48",
         "Drama,War"
        ],
        [
         "46",
         "tt0002685",
         "Blodets röst",
         "1913",
         "89",
         "Drama"
        ],
        [
         "47",
         "tt0002743",
         "El Caín moderno",
         "1913",
         "48",
         "\\N"
        ],
        [
         "48",
         "tt0002767",
         "The Count of Monte Cristo",
         "1913",
         "69",
         "Drama,History"
        ],
        [
         "49",
         "tt0002801",
         "The Black Diamond",
         "1913",
         "50",
         "\\N"
        ]
       ],
       "shape": {
        "columns": 5,
        "rows": 448057
       }
      },
      "text/html": [
       "<div>\n",
       "<style scoped>\n",
       "    .dataframe tbody tr th:only-of-type {\n",
       "        vertical-align: middle;\n",
       "    }\n",
       "\n",
       "    .dataframe tbody tr th {\n",
       "        vertical-align: top;\n",
       "    }\n",
       "\n",
       "    .dataframe thead th {\n",
       "        text-align: right;\n",
       "    }\n",
       "</style>\n",
       "<table border=\"1\" class=\"dataframe\">\n",
       "  <thead>\n",
       "    <tr style=\"text-align: right;\">\n",
       "      <th></th>\n",
       "      <th>movieID</th>\n",
       "      <th>title</th>\n",
       "      <th>year</th>\n",
       "      <th>runtime</th>\n",
       "      <th>genre</th>\n",
       "    </tr>\n",
       "  </thead>\n",
       "  <tbody>\n",
       "    <tr>\n",
       "      <th>0</th>\n",
       "      <td>tt0000009</td>\n",
       "      <td>Miss Jerry</td>\n",
       "      <td>1894</td>\n",
       "      <td>45</td>\n",
       "      <td>Romance</td>\n",
       "    </tr>\n",
       "    <tr>\n",
       "      <th>1</th>\n",
       "      <td>tt0000147</td>\n",
       "      <td>The Corbett-Fitzsimmons Fight</td>\n",
       "      <td>1897</td>\n",
       "      <td>100</td>\n",
       "      <td>Documentary,News,Sport</td>\n",
       "    </tr>\n",
       "    <tr>\n",
       "      <th>2</th>\n",
       "      <td>tt0000502</td>\n",
       "      <td>Bohemios</td>\n",
       "      <td>1905</td>\n",
       "      <td>100</td>\n",
       "      <td>\\N</td>\n",
       "    </tr>\n",
       "    <tr>\n",
       "      <th>3</th>\n",
       "      <td>tt0000574</td>\n",
       "      <td>The Story of the Kelly Gang</td>\n",
       "      <td>1906</td>\n",
       "      <td>70</td>\n",
       "      <td>Action,Adventure,Biography</td>\n",
       "    </tr>\n",
       "    <tr>\n",
       "      <th>4</th>\n",
       "      <td>tt0000591</td>\n",
       "      <td>The Prodigal Son</td>\n",
       "      <td>1907</td>\n",
       "      <td>90</td>\n",
       "      <td>Drama</td>\n",
       "    </tr>\n",
       "    <tr>\n",
       "      <th>...</th>\n",
       "      <td>...</td>\n",
       "      <td>...</td>\n",
       "      <td>...</td>\n",
       "      <td>...</td>\n",
       "      <td>...</td>\n",
       "    </tr>\n",
       "    <tr>\n",
       "      <th>448052</th>\n",
       "      <td>tt9916538</td>\n",
       "      <td>Kuambil Lagi Hatiku</td>\n",
       "      <td>2019</td>\n",
       "      <td>123</td>\n",
       "      <td>Drama</td>\n",
       "    </tr>\n",
       "    <tr>\n",
       "      <th>448053</th>\n",
       "      <td>tt9916622</td>\n",
       "      <td>Rodolpho Teóphilo - O Legado de um Pioneiro</td>\n",
       "      <td>2015</td>\n",
       "      <td>57</td>\n",
       "      <td>Documentary</td>\n",
       "    </tr>\n",
       "    <tr>\n",
       "      <th>448054</th>\n",
       "      <td>tt9916680</td>\n",
       "      <td>De la ilusión al desconcierto: cine colombiano...</td>\n",
       "      <td>2007</td>\n",
       "      <td>100</td>\n",
       "      <td>Documentary</td>\n",
       "    </tr>\n",
       "    <tr>\n",
       "      <th>448055</th>\n",
       "      <td>tt9916730</td>\n",
       "      <td>6 Gunn</td>\n",
       "      <td>2017</td>\n",
       "      <td>116</td>\n",
       "      <td>Drama</td>\n",
       "    </tr>\n",
       "    <tr>\n",
       "      <th>448056</th>\n",
       "      <td>tt9916754</td>\n",
       "      <td>Chico Albuquerque - Revelações</td>\n",
       "      <td>2013</td>\n",
       "      <td>49</td>\n",
       "      <td>Documentary</td>\n",
       "    </tr>\n",
       "  </tbody>\n",
       "</table>\n",
       "<p>448057 rows × 5 columns</p>\n",
       "</div>"
      ],
      "text/plain": [
       "          movieID                                              title  year  \\\n",
       "0       tt0000009                                         Miss Jerry  1894   \n",
       "1       tt0000147                      The Corbett-Fitzsimmons Fight  1897   \n",
       "2       tt0000502                                           Bohemios  1905   \n",
       "3       tt0000574                        The Story of the Kelly Gang  1906   \n",
       "4       tt0000591                                   The Prodigal Son  1907   \n",
       "...           ...                                                ...   ...   \n",
       "448052  tt9916538                                Kuambil Lagi Hatiku  2019   \n",
       "448053  tt9916622        Rodolpho Teóphilo - O Legado de um Pioneiro  2015   \n",
       "448054  tt9916680  De la ilusión al desconcierto: cine colombiano...  2007   \n",
       "448055  tt9916730                                             6 Gunn  2017   \n",
       "448056  tt9916754                     Chico Albuquerque - Revelações  2013   \n",
       "\n",
       "        runtime                       genre  \n",
       "0            45                     Romance  \n",
       "1           100      Documentary,News,Sport  \n",
       "2           100                          \\N  \n",
       "3            70  Action,Adventure,Biography  \n",
       "4            90                       Drama  \n",
       "...         ...                         ...  \n",
       "448052      123                       Drama  \n",
       "448053       57                 Documentary  \n",
       "448054      100                 Documentary  \n",
       "448055      116                       Drama  \n",
       "448056       49                 Documentary  \n",
       "\n",
       "[448057 rows x 5 columns]"
      ]
     },
     "execution_count": 18,
     "metadata": {},
     "output_type": "execute_result"
    }
   ],
   "source": [
    "df1.reset_index(drop=True, inplace=True)\n",
    "df1"
   ]
  },
  {
   "cell_type": "code",
   "execution_count": null,
   "id": "820f8b61",
   "metadata": {},
   "outputs": [],
   "source": [
    "df1.to_csv('../temp/movie_basics.csv', index=False)"
   ]
  },
  {
   "cell_type": "markdown",
   "id": "de0ed87e",
   "metadata": {},
   "source": [
    "Ratings data"
   ]
  },
  {
   "cell_type": "code",
   "execution_count": 3,
   "id": "99653837",
   "metadata": {},
   "outputs": [],
   "source": [
    "rating=pd.read_csv('../data/title.ratings.tsv',sep='\\t',low_memory=False,encoding='utf-8')\n"
   ]
  },
  {
   "cell_type": "code",
   "execution_count": 4,
   "id": "5b16cca0",
   "metadata": {},
   "outputs": [
    {
     "data": {
      "application/vnd.microsoft.datawrangler.viewer.v0+json": {
       "columns": [
        {
         "name": "index",
         "rawType": "int64",
         "type": "integer"
        },
        {
         "name": "tconst",
         "rawType": "object",
         "type": "string"
        },
        {
         "name": "averageRating",
         "rawType": "float64",
         "type": "float"
        },
        {
         "name": "numVotes",
         "rawType": "int64",
         "type": "integer"
        }
       ],
       "ref": "87bc1eaf-6d39-41f8-860a-3d09b1a74752",
       "rows": [
        [
         "0",
         "tt0000001",
         "5.7",
         "2168"
        ],
        [
         "1",
         "tt0000002",
         "5.5",
         "298"
        ],
        [
         "2",
         "tt0000003",
         "6.5",
         "2228"
        ],
        [
         "3",
         "tt0000004",
         "5.3",
         "191"
        ],
        [
         "4",
         "tt0000005",
         "6.2",
         "2967"
        ],
        [
         "5",
         "tt0000006",
         "5.0",
         "216"
        ],
        [
         "6",
         "tt0000007",
         "5.3",
         "917"
        ],
        [
         "7",
         "tt0000008",
         "5.4",
         "2313"
        ],
        [
         "8",
         "tt0000009",
         "5.3",
         "228"
        ],
        [
         "9",
         "tt0000010",
         "6.8",
         "8035"
        ],
        [
         "10",
         "tt0000011",
         "5.2",
         "427"
        ],
        [
         "11",
         "tt0000012",
         "7.4",
         "13607"
        ],
        [
         "12",
         "tt0000013",
         "5.7",
         "2082"
        ],
        [
         "13",
         "tt0000014",
         "7.1",
         "6225"
        ],
        [
         "14",
         "tt0000015",
         "6.1",
         "1289"
        ],
        [
         "15",
         "tt0000016",
         "5.9",
         "1671"
        ],
        [
         "16",
         "tt0000017",
         "4.6",
         "387"
        ],
        [
         "17",
         "tt0000018",
         "5.2",
         "671"
        ],
        [
         "18",
         "tt0000019",
         "5.2",
         "34"
        ],
        [
         "19",
         "tt0000020",
         "4.7",
         "415"
        ],
        [
         "20",
         "tt0000022",
         "5.1",
         "1220"
        ],
        [
         "21",
         "tt0000023",
         "5.7",
         "1599"
        ],
        [
         "22",
         "tt0000024",
         "3.7",
         "167"
        ],
        [
         "23",
         "tt0000025",
         "4.1",
         "52"
        ],
        [
         "24",
         "tt0000026",
         "5.6",
         "1692"
        ],
        [
         "25",
         "tt0000027",
         "5.6",
         "1280"
        ],
        [
         "26",
         "tt0000028",
         "5.1",
         "1213"
        ],
        [
         "27",
         "tt0000029",
         "5.9",
         "3694"
        ],
        [
         "28",
         "tt0000030",
         "5.2",
         "969"
        ],
        [
         "29",
         "tt0000031",
         "5.5",
         "1101"
        ],
        [
         "30",
         "tt0000032",
         "4.9",
         "463"
        ],
        [
         "31",
         "tt0000033",
         "5.5",
         "1144"
        ],
        [
         "32",
         "tt0000034",
         "4.8",
         "255"
        ],
        [
         "33",
         "tt0000035",
         "5.5",
         "87"
        ],
        [
         "34",
         "tt0000036",
         "4.4",
         "659"
        ],
        [
         "35",
         "tt0000037",
         "4.4",
         "79"
        ],
        [
         "36",
         "tt0000038",
         "4.1",
         "237"
        ],
        [
         "37",
         "tt0000039",
         "3.7",
         "37"
        ],
        [
         "38",
         "tt0000040",
         "4.2",
         "81"
        ],
        [
         "39",
         "tt0000041",
         "6.7",
         "2135"
        ],
        [
         "40",
         "tt0000042",
         "4.2",
         "41"
        ],
        [
         "41",
         "tt0000043",
         "3.4",
         "35"
        ],
        [
         "42",
         "tt0000044",
         "4.0",
         "55"
        ],
        [
         "43",
         "tt0000045",
         "4.0",
         "36"
        ],
        [
         "44",
         "tt0000046",
         "4.1",
         "41"
        ],
        [
         "45",
         "tt0000047",
         "3.6",
         "41"
        ],
        [
         "46",
         "tt0000048",
         "4.6",
         "238"
        ],
        [
         "47",
         "tt0000049",
         "4.5",
         "59"
        ],
        [
         "48",
         "tt0000050",
         "3.9",
         "38"
        ],
        [
         "49",
         "tt0000051",
         "3.6",
         "38"
        ]
       ],
       "shape": {
        "columns": 3,
        "rows": 1598630
       }
      },
      "text/html": [
       "<div>\n",
       "<style scoped>\n",
       "    .dataframe tbody tr th:only-of-type {\n",
       "        vertical-align: middle;\n",
       "    }\n",
       "\n",
       "    .dataframe tbody tr th {\n",
       "        vertical-align: top;\n",
       "    }\n",
       "\n",
       "    .dataframe thead th {\n",
       "        text-align: right;\n",
       "    }\n",
       "</style>\n",
       "<table border=\"1\" class=\"dataframe\">\n",
       "  <thead>\n",
       "    <tr style=\"text-align: right;\">\n",
       "      <th></th>\n",
       "      <th>tconst</th>\n",
       "      <th>averageRating</th>\n",
       "      <th>numVotes</th>\n",
       "    </tr>\n",
       "  </thead>\n",
       "  <tbody>\n",
       "    <tr>\n",
       "      <th>0</th>\n",
       "      <td>tt0000001</td>\n",
       "      <td>5.7</td>\n",
       "      <td>2168</td>\n",
       "    </tr>\n",
       "    <tr>\n",
       "      <th>1</th>\n",
       "      <td>tt0000002</td>\n",
       "      <td>5.5</td>\n",
       "      <td>298</td>\n",
       "    </tr>\n",
       "    <tr>\n",
       "      <th>2</th>\n",
       "      <td>tt0000003</td>\n",
       "      <td>6.5</td>\n",
       "      <td>2228</td>\n",
       "    </tr>\n",
       "    <tr>\n",
       "      <th>3</th>\n",
       "      <td>tt0000004</td>\n",
       "      <td>5.3</td>\n",
       "      <td>191</td>\n",
       "    </tr>\n",
       "    <tr>\n",
       "      <th>4</th>\n",
       "      <td>tt0000005</td>\n",
       "      <td>6.2</td>\n",
       "      <td>2967</td>\n",
       "    </tr>\n",
       "    <tr>\n",
       "      <th>...</th>\n",
       "      <td>...</td>\n",
       "      <td>...</td>\n",
       "      <td>...</td>\n",
       "    </tr>\n",
       "    <tr>\n",
       "      <th>1598625</th>\n",
       "      <td>tt9916846</td>\n",
       "      <td>5.8</td>\n",
       "      <td>6</td>\n",
       "    </tr>\n",
       "    <tr>\n",
       "      <th>1598626</th>\n",
       "      <td>tt9916848</td>\n",
       "      <td>5.8</td>\n",
       "      <td>6</td>\n",
       "    </tr>\n",
       "    <tr>\n",
       "      <th>1598627</th>\n",
       "      <td>tt9916850</td>\n",
       "      <td>5.8</td>\n",
       "      <td>6</td>\n",
       "    </tr>\n",
       "    <tr>\n",
       "      <th>1598628</th>\n",
       "      <td>tt9916852</td>\n",
       "      <td>5.8</td>\n",
       "      <td>6</td>\n",
       "    </tr>\n",
       "    <tr>\n",
       "      <th>1598629</th>\n",
       "      <td>tt9916880</td>\n",
       "      <td>7.7</td>\n",
       "      <td>10</td>\n",
       "    </tr>\n",
       "  </tbody>\n",
       "</table>\n",
       "<p>1598630 rows × 3 columns</p>\n",
       "</div>"
      ],
      "text/plain": [
       "            tconst  averageRating  numVotes\n",
       "0        tt0000001            5.7      2168\n",
       "1        tt0000002            5.5       298\n",
       "2        tt0000003            6.5      2228\n",
       "3        tt0000004            5.3       191\n",
       "4        tt0000005            6.2      2967\n",
       "...            ...            ...       ...\n",
       "1598625  tt9916846            5.8         6\n",
       "1598626  tt9916848            5.8         6\n",
       "1598627  tt9916850            5.8         6\n",
       "1598628  tt9916852            5.8         6\n",
       "1598629  tt9916880            7.7        10\n",
       "\n",
       "[1598630 rows x 3 columns]"
      ]
     },
     "execution_count": 4,
     "metadata": {},
     "output_type": "execute_result"
    }
   ],
   "source": [
    "df2=rating\n",
    "df2"
   ]
  },
  {
   "cell_type": "code",
   "execution_count": 5,
   "id": "99476d04",
   "metadata": {},
   "outputs": [
    {
     "data": {
      "application/vnd.microsoft.datawrangler.viewer.v0+json": {
       "columns": [
        {
         "name": "index",
         "rawType": "int64",
         "type": "integer"
        },
        {
         "name": "movieID",
         "rawType": "object",
         "type": "string"
        },
        {
         "name": "rating",
         "rawType": "float64",
         "type": "float"
        },
        {
         "name": "votes",
         "rawType": "int64",
         "type": "integer"
        }
       ],
       "ref": "60cb6c72-1007-4fce-8cad-c341d083762e",
       "rows": [
        [
         "0",
         "tt0000001",
         "5.7",
         "2168"
        ],
        [
         "1",
         "tt0000002",
         "5.5",
         "298"
        ],
        [
         "2",
         "tt0000003",
         "6.5",
         "2228"
        ],
        [
         "3",
         "tt0000004",
         "5.3",
         "191"
        ],
        [
         "4",
         "tt0000005",
         "6.2",
         "2967"
        ],
        [
         "5",
         "tt0000006",
         "5.0",
         "216"
        ],
        [
         "6",
         "tt0000007",
         "5.3",
         "917"
        ],
        [
         "7",
         "tt0000008",
         "5.4",
         "2313"
        ],
        [
         "8",
         "tt0000009",
         "5.3",
         "228"
        ],
        [
         "9",
         "tt0000010",
         "6.8",
         "8035"
        ],
        [
         "10",
         "tt0000011",
         "5.2",
         "427"
        ],
        [
         "11",
         "tt0000012",
         "7.4",
         "13607"
        ],
        [
         "12",
         "tt0000013",
         "5.7",
         "2082"
        ],
        [
         "13",
         "tt0000014",
         "7.1",
         "6225"
        ],
        [
         "14",
         "tt0000015",
         "6.1",
         "1289"
        ],
        [
         "15",
         "tt0000016",
         "5.9",
         "1671"
        ],
        [
         "16",
         "tt0000017",
         "4.6",
         "387"
        ],
        [
         "17",
         "tt0000018",
         "5.2",
         "671"
        ],
        [
         "18",
         "tt0000019",
         "5.2",
         "34"
        ],
        [
         "19",
         "tt0000020",
         "4.7",
         "415"
        ],
        [
         "20",
         "tt0000022",
         "5.1",
         "1220"
        ],
        [
         "21",
         "tt0000023",
         "5.7",
         "1599"
        ],
        [
         "22",
         "tt0000024",
         "3.7",
         "167"
        ],
        [
         "23",
         "tt0000025",
         "4.1",
         "52"
        ],
        [
         "24",
         "tt0000026",
         "5.6",
         "1692"
        ],
        [
         "25",
         "tt0000027",
         "5.6",
         "1280"
        ],
        [
         "26",
         "tt0000028",
         "5.1",
         "1213"
        ],
        [
         "27",
         "tt0000029",
         "5.9",
         "3694"
        ],
        [
         "28",
         "tt0000030",
         "5.2",
         "969"
        ],
        [
         "29",
         "tt0000031",
         "5.5",
         "1101"
        ],
        [
         "30",
         "tt0000032",
         "4.9",
         "463"
        ],
        [
         "31",
         "tt0000033",
         "5.5",
         "1144"
        ],
        [
         "32",
         "tt0000034",
         "4.8",
         "255"
        ],
        [
         "33",
         "tt0000035",
         "5.5",
         "87"
        ],
        [
         "34",
         "tt0000036",
         "4.4",
         "659"
        ],
        [
         "35",
         "tt0000037",
         "4.4",
         "79"
        ],
        [
         "36",
         "tt0000038",
         "4.1",
         "237"
        ],
        [
         "37",
         "tt0000039",
         "3.7",
         "37"
        ],
        [
         "38",
         "tt0000040",
         "4.2",
         "81"
        ],
        [
         "39",
         "tt0000041",
         "6.7",
         "2135"
        ],
        [
         "40",
         "tt0000042",
         "4.2",
         "41"
        ],
        [
         "41",
         "tt0000043",
         "3.4",
         "35"
        ],
        [
         "42",
         "tt0000044",
         "4.0",
         "55"
        ],
        [
         "43",
         "tt0000045",
         "4.0",
         "36"
        ],
        [
         "44",
         "tt0000046",
         "4.1",
         "41"
        ],
        [
         "45",
         "tt0000047",
         "3.6",
         "41"
        ],
        [
         "46",
         "tt0000048",
         "4.6",
         "238"
        ],
        [
         "47",
         "tt0000049",
         "4.5",
         "59"
        ],
        [
         "48",
         "tt0000050",
         "3.9",
         "38"
        ],
        [
         "49",
         "tt0000051",
         "3.6",
         "38"
        ]
       ],
       "shape": {
        "columns": 3,
        "rows": 1598630
       }
      },
      "text/html": [
       "<div>\n",
       "<style scoped>\n",
       "    .dataframe tbody tr th:only-of-type {\n",
       "        vertical-align: middle;\n",
       "    }\n",
       "\n",
       "    .dataframe tbody tr th {\n",
       "        vertical-align: top;\n",
       "    }\n",
       "\n",
       "    .dataframe thead th {\n",
       "        text-align: right;\n",
       "    }\n",
       "</style>\n",
       "<table border=\"1\" class=\"dataframe\">\n",
       "  <thead>\n",
       "    <tr style=\"text-align: right;\">\n",
       "      <th></th>\n",
       "      <th>movieID</th>\n",
       "      <th>rating</th>\n",
       "      <th>votes</th>\n",
       "    </tr>\n",
       "  </thead>\n",
       "  <tbody>\n",
       "    <tr>\n",
       "      <th>0</th>\n",
       "      <td>tt0000001</td>\n",
       "      <td>5.7</td>\n",
       "      <td>2168</td>\n",
       "    </tr>\n",
       "    <tr>\n",
       "      <th>1</th>\n",
       "      <td>tt0000002</td>\n",
       "      <td>5.5</td>\n",
       "      <td>298</td>\n",
       "    </tr>\n",
       "    <tr>\n",
       "      <th>2</th>\n",
       "      <td>tt0000003</td>\n",
       "      <td>6.5</td>\n",
       "      <td>2228</td>\n",
       "    </tr>\n",
       "    <tr>\n",
       "      <th>3</th>\n",
       "      <td>tt0000004</td>\n",
       "      <td>5.3</td>\n",
       "      <td>191</td>\n",
       "    </tr>\n",
       "    <tr>\n",
       "      <th>4</th>\n",
       "      <td>tt0000005</td>\n",
       "      <td>6.2</td>\n",
       "      <td>2967</td>\n",
       "    </tr>\n",
       "    <tr>\n",
       "      <th>...</th>\n",
       "      <td>...</td>\n",
       "      <td>...</td>\n",
       "      <td>...</td>\n",
       "    </tr>\n",
       "    <tr>\n",
       "      <th>1598625</th>\n",
       "      <td>tt9916846</td>\n",
       "      <td>5.8</td>\n",
       "      <td>6</td>\n",
       "    </tr>\n",
       "    <tr>\n",
       "      <th>1598626</th>\n",
       "      <td>tt9916848</td>\n",
       "      <td>5.8</td>\n",
       "      <td>6</td>\n",
       "    </tr>\n",
       "    <tr>\n",
       "      <th>1598627</th>\n",
       "      <td>tt9916850</td>\n",
       "      <td>5.8</td>\n",
       "      <td>6</td>\n",
       "    </tr>\n",
       "    <tr>\n",
       "      <th>1598628</th>\n",
       "      <td>tt9916852</td>\n",
       "      <td>5.8</td>\n",
       "      <td>6</td>\n",
       "    </tr>\n",
       "    <tr>\n",
       "      <th>1598629</th>\n",
       "      <td>tt9916880</td>\n",
       "      <td>7.7</td>\n",
       "      <td>10</td>\n",
       "    </tr>\n",
       "  </tbody>\n",
       "</table>\n",
       "<p>1598630 rows × 3 columns</p>\n",
       "</div>"
      ],
      "text/plain": [
       "           movieID  rating  votes\n",
       "0        tt0000001     5.7   2168\n",
       "1        tt0000002     5.5    298\n",
       "2        tt0000003     6.5   2228\n",
       "3        tt0000004     5.3    191\n",
       "4        tt0000005     6.2   2967\n",
       "...            ...     ...    ...\n",
       "1598625  tt9916846     5.8      6\n",
       "1598626  tt9916848     5.8      6\n",
       "1598627  tt9916850     5.8      6\n",
       "1598628  tt9916852     5.8      6\n",
       "1598629  tt9916880     7.7     10\n",
       "\n",
       "[1598630 rows x 3 columns]"
      ]
     },
     "execution_count": 5,
     "metadata": {},
     "output_type": "execute_result"
    }
   ],
   "source": [
    "df2.rename(columns={'tconst':\"movieID\",'averageRating':\"rating\", 'numVotes':\"votes\"}, inplace=True)\n",
    "df2"
   ]
  },
  {
   "cell_type": "code",
   "execution_count": 6,
   "id": "8161819d",
   "metadata": {},
   "outputs": [
    {
     "name": "stdout",
     "output_type": "stream",
     "text": [
      "<class 'pandas.core.frame.DataFrame'>\n",
      "RangeIndex: 1598630 entries, 0 to 1598629\n",
      "Data columns (total 3 columns):\n",
      " #   Column   Non-Null Count    Dtype  \n",
      "---  ------   --------------    -----  \n",
      " 0   movieID  1598630 non-null  object \n",
      " 1   rating   1598630 non-null  float64\n",
      " 2   votes    1598630 non-null  int64  \n",
      "dtypes: float64(1), int64(1), object(1)\n",
      "memory usage: 36.6+ MB\n"
     ]
    }
   ],
   "source": [
    "df2.info()"
   ]
  },
  {
   "cell_type": "code",
   "execution_count": 19,
   "id": "b78a21b1",
   "metadata": {},
   "outputs": [
    {
     "data": {
      "application/vnd.microsoft.datawrangler.viewer.v0+json": {
       "columns": [
        {
         "name": "index",
         "rawType": "object",
         "type": "string"
        },
        {
         "name": "0",
         "rawType": "int64",
         "type": "integer"
        }
       ],
       "ref": "810e25d4-c60e-4316-a87f-cc55582c6e24",
       "rows": [
        [
         "movieID",
         "0"
        ],
        [
         "rating",
         "0"
        ],
        [
         "votes",
         "0"
        ]
       ],
       "shape": {
        "columns": 1,
        "rows": 3
       }
      },
      "text/plain": [
       "movieID    0\n",
       "rating     0\n",
       "votes      0\n",
       "dtype: int64"
      ]
     },
     "execution_count": 19,
     "metadata": {},
     "output_type": "execute_result"
    }
   ],
   "source": [
    "df2.isnull().sum()"
   ]
  },
  {
   "cell_type": "code",
   "execution_count": 20,
   "id": "3dd5ec44",
   "metadata": {},
   "outputs": [],
   "source": [
    "df2.to_csv('../temp/movie_ratings.csv', index=False)"
   ]
  },
  {
   "cell_type": "markdown",
   "id": "727eabe0",
   "metadata": {},
   "source": [
    "🔗 Step 3: Merge Titles with Ratings\n",
    "\n",
    "Join title.basics with title.ratings on movieID to create the first version of our main dataset."
   ]
  },
  {
   "cell_type": "code",
   "execution_count": 20,
   "id": "91c5dbf3",
   "metadata": {},
   "outputs": [
    {
     "data": {
      "application/vnd.microsoft.datawrangler.viewer.v0+json": {
       "columns": [
        {
         "name": "index",
         "rawType": "int64",
         "type": "integer"
        },
        {
         "name": "movieID",
         "rawType": "object",
         "type": "string"
        },
        {
         "name": "title",
         "rawType": "object",
         "type": "string"
        },
        {
         "name": "year",
         "rawType": "Int64",
         "type": "integer"
        },
        {
         "name": "runtime",
         "rawType": "Int64",
         "type": "integer"
        },
        {
         "name": "genre",
         "rawType": "object",
         "type": "string"
        },
        {
         "name": "rating",
         "rawType": "float64",
         "type": "float"
        },
        {
         "name": "votes",
         "rawType": "float64",
         "type": "float"
        }
       ],
       "ref": "8e153287-023c-4119-a79a-4087716762fd",
       "rows": [
        [
         "0",
         "tt0000009",
         "Miss Jerry",
         "1894",
         "45",
         "Romance",
         "5.3",
         "228.0"
        ],
        [
         "1",
         "tt0000147",
         "The Corbett-Fitzsimmons Fight",
         "1897",
         "100",
         "Documentary,News,Sport",
         "5.2",
         "564.0"
        ],
        [
         "2",
         "tt0000502",
         "Bohemios",
         "1905",
         "100",
         "\\N",
         "3.6",
         "22.0"
        ],
        [
         "3",
         "tt0000574",
         "The Story of the Kelly Gang",
         "1906",
         "70",
         "Action,Adventure,Biography",
         "6.0",
         "1009.0"
        ],
        [
         "4",
         "tt0000591",
         "The Prodigal Son",
         "1907",
         "90",
         "Drama",
         "5.3",
         "34.0"
        ],
        [
         "5",
         "tt0000679",
         "The Fairylogue and Radio-Plays",
         "1908",
         "120",
         "Adventure,Fantasy",
         "5.0",
         "80.0"
        ],
        [
         "6",
         "tt0000941",
         "Locura de amor",
         "1909",
         "45",
         "Drama",
         "4.3",
         "33.0"
        ],
        [
         "7",
         "tt0001184",
         "Don Juan de Serrallonga",
         "1910",
         "58",
         "Adventure,Drama",
         "3.1",
         "24.0"
        ],
        [
         "8",
         "tt0001285",
         "The Life of Moses",
         "1909",
         "50",
         "Biography,Drama,Family",
         "5.2",
         "67.0"
        ],
        [
         "9",
         "tt0001498",
         "The Battle of Trafalgar",
         "1911",
         "51",
         "War",
         "8.1",
         "18.0"
        ],
        [
         "10",
         "tt0001592",
         "In the Prime of Life",
         "1911",
         "52",
         "Drama",
         "5.8",
         "32.0"
        ],
        [
         "11",
         "tt0001614",
         "The Four Devils",
         "1911",
         "35",
         "Drama",
         "6.5",
         "44.0"
        ],
        [
         "12",
         "tt0001630",
         "Der fremde Vogel",
         "1911",
         "45",
         "\\N",
         "6.1",
         "55.0"
        ],
        [
         "13",
         "tt0001756",
         "Lucha por la herencia",
         "1911",
         "92",
         "\\N",
         null,
         null
        ],
        [
         "14",
         "tt0001790",
         "Les Misérables, Part 1: Jean Valjean",
         "1913",
         "60",
         "Drama",
         "5.9",
         "61.0"
        ],
        [
         "15",
         "tt0001812",
         "Oedipus Rex",
         "1911",
         "56",
         "Drama",
         "5.5",
         "16.0"
        ],
        [
         "16",
         "tt0001892",
         "Den sorte drøm",
         "1911",
         "53",
         "Drama",
         "5.8",
         "285.0"
        ],
        [
         "17",
         "tt0001911",
         "Nell Gwynne",
         "1911",
         "50",
         "Biography,Drama,History",
         "3.6",
         "26.0"
        ],
        [
         "18",
         "tt0001964",
         "The Traitress",
         "1911",
         "48",
         "Drama",
         "5.8",
         "116.0"
        ],
        [
         "19",
         "tt0001998",
         "The Adventures of Lieutenant Petrosino",
         "1912",
         "47",
         "Drama",
         "4.5",
         "45.0"
        ],
        [
         "20",
         "tt0002022",
         "Anfisa",
         "1912",
         "45",
         "Drama",
         "6.0",
         "14.0"
        ],
        [
         "21",
         "tt0002026",
         "Anny - Story of a Prostitute",
         "1912",
         "68",
         "Drama,Romance",
         "4.5",
         "17.0"
        ],
        [
         "22",
         "tt0002094",
         "Charles IV",
         "1912",
         "50",
         "\\N",
         null,
         null
        ],
        [
         "23",
         "tt0002101",
         "Cleopatra",
         "1912",
         "100",
         "Drama,History",
         "5.1",
         "650.0"
        ],
        [
         "24",
         "tt0002130",
         "Dante's Inferno",
         "1911",
         "71",
         "Adventure,Drama,Fantasy",
         "7.0",
         "3875.0"
        ],
        [
         "25",
         "tt0002153",
         "The Great Circus Catastrophe",
         "1912",
         "45",
         "Drama",
         "5.9",
         "87.0"
        ],
        [
         "26",
         "tt0002186",
         "The Flying Circus",
         "1912",
         "46",
         "Drama",
         "6.4",
         "157.0"
        ],
        [
         "27",
         "tt0002199",
         "From the Manger to the Cross",
         "1912",
         "71",
         "Biography,Drama",
         "5.8",
         "686.0"
        ],
        [
         "28",
         "tt0002315",
         "El lobo de la sierra",
         "1912",
         "76",
         "\\N",
         null,
         null
        ],
        [
         "29",
         "tt0002423",
         "Passion",
         "1919",
         "113",
         "Biography,Drama,Romance",
         "6.6",
         "1087.0"
        ],
        [
         "30",
         "tt0002425",
         "Paul J. Rainey's African Hunt",
         "1912",
         "60",
         "Documentary",
         null,
         null
        ],
        [
         "31",
         "tt0002432",
         "Los Pirineos de Port-Bou a Andorra",
         "1912",
         "58",
         "\\N",
         null,
         null
        ],
        [
         "32",
         "tt0002445",
         "Quo Vadis?",
         "1913",
         "120",
         "Drama,History",
         "6.1",
         "502.0"
        ],
        [
         "33",
         "tt0002452",
         "The Independence of Romania",
         "1912",
         "120",
         "History,War",
         "6.4",
         "281.0"
        ],
        [
         "34",
         "tt0002461",
         "The Life and Death of King Richard III",
         "1912",
         "55",
         "Drama",
         "5.7",
         "343.0"
        ],
        [
         "35",
         "tt0002500",
         "The Black Chancellor",
         "1912",
         "48",
         "Drama",
         "5.9",
         "31.0"
        ],
        [
         "36",
         "tt0002514",
         "Saved in Mid-Air",
         "1912",
         "60",
         "Drama",
         "4.9",
         "19.0"
        ],
        [
         "37",
         "tt0002574",
         "What Happened to Mary",
         "1912",
         "150",
         "Action,Drama,Thriller",
         "5.9",
         "38.0"
        ],
        [
         "38",
         "tt0002588",
         "Zigomar contre Nick Carter",
         "1912",
         "48",
         "Crime,Thriller",
         "5.9",
         "58.0"
        ],
        [
         "39",
         "tt0002605",
         "The Adventures of Kathlyn",
         "1913",
         "300",
         "Adventure",
         "5.5",
         "49.0"
        ],
        [
         "40",
         "tt0002625",
         "Ana Kadova",
         "1913",
         "92",
         "\\N",
         null,
         null
        ],
        [
         "41",
         "tt0002628",
         "Der Andere",
         "1913",
         "48",
         "Drama,Thriller",
         "5.4",
         "128.0"
        ],
        [
         "42",
         "tt0002637",
         "Arizona",
         "1913",
         "45",
         "Drama,Western",
         "7.5",
         "21.0"
        ],
        [
         "43",
         "tt0002642",
         "The Heir to Skjoldborg",
         "1914",
         "50",
         "Drama",
         "5.2",
         "11.0"
        ],
        [
         "44",
         "tt0002646",
         "Atlantis",
         "1913",
         "121",
         "Drama",
         "6.5",
         "516.0"
        ],
        [
         "45",
         "tt0002669",
         "The Battle of Gettysburg",
         "1913",
         "48",
         "Drama,War",
         "6.6",
         "42.0"
        ],
        [
         "46",
         "tt0002685",
         "Blodets röst",
         "1913",
         "89",
         "Drama",
         null,
         null
        ],
        [
         "47",
         "tt0002743",
         "El Caín moderno",
         "1913",
         "48",
         "\\N",
         null,
         null
        ],
        [
         "48",
         "tt0002767",
         "The Count of Monte Cristo",
         "1913",
         "69",
         "Drama,History",
         "5.6",
         "74.0"
        ],
        [
         "49",
         "tt0002801",
         "The Black Diamond",
         "1913",
         "50",
         "\\N",
         "5.4",
         "32.0"
        ]
       ],
       "shape": {
        "columns": 7,
        "rows": 448057
       }
      },
      "text/html": [
       "<div>\n",
       "<style scoped>\n",
       "    .dataframe tbody tr th:only-of-type {\n",
       "        vertical-align: middle;\n",
       "    }\n",
       "\n",
       "    .dataframe tbody tr th {\n",
       "        vertical-align: top;\n",
       "    }\n",
       "\n",
       "    .dataframe thead th {\n",
       "        text-align: right;\n",
       "    }\n",
       "</style>\n",
       "<table border=\"1\" class=\"dataframe\">\n",
       "  <thead>\n",
       "    <tr style=\"text-align: right;\">\n",
       "      <th></th>\n",
       "      <th>movieID</th>\n",
       "      <th>title</th>\n",
       "      <th>year</th>\n",
       "      <th>runtime</th>\n",
       "      <th>genre</th>\n",
       "      <th>rating</th>\n",
       "      <th>votes</th>\n",
       "    </tr>\n",
       "  </thead>\n",
       "  <tbody>\n",
       "    <tr>\n",
       "      <th>0</th>\n",
       "      <td>tt0000009</td>\n",
       "      <td>Miss Jerry</td>\n",
       "      <td>1894</td>\n",
       "      <td>45</td>\n",
       "      <td>Romance</td>\n",
       "      <td>5.3</td>\n",
       "      <td>228.0</td>\n",
       "    </tr>\n",
       "    <tr>\n",
       "      <th>1</th>\n",
       "      <td>tt0000147</td>\n",
       "      <td>The Corbett-Fitzsimmons Fight</td>\n",
       "      <td>1897</td>\n",
       "      <td>100</td>\n",
       "      <td>Documentary,News,Sport</td>\n",
       "      <td>5.2</td>\n",
       "      <td>564.0</td>\n",
       "    </tr>\n",
       "    <tr>\n",
       "      <th>2</th>\n",
       "      <td>tt0000502</td>\n",
       "      <td>Bohemios</td>\n",
       "      <td>1905</td>\n",
       "      <td>100</td>\n",
       "      <td>\\N</td>\n",
       "      <td>3.6</td>\n",
       "      <td>22.0</td>\n",
       "    </tr>\n",
       "    <tr>\n",
       "      <th>3</th>\n",
       "      <td>tt0000574</td>\n",
       "      <td>The Story of the Kelly Gang</td>\n",
       "      <td>1906</td>\n",
       "      <td>70</td>\n",
       "      <td>Action,Adventure,Biography</td>\n",
       "      <td>6.0</td>\n",
       "      <td>1009.0</td>\n",
       "    </tr>\n",
       "    <tr>\n",
       "      <th>4</th>\n",
       "      <td>tt0000591</td>\n",
       "      <td>The Prodigal Son</td>\n",
       "      <td>1907</td>\n",
       "      <td>90</td>\n",
       "      <td>Drama</td>\n",
       "      <td>5.3</td>\n",
       "      <td>34.0</td>\n",
       "    </tr>\n",
       "    <tr>\n",
       "      <th>...</th>\n",
       "      <td>...</td>\n",
       "      <td>...</td>\n",
       "      <td>...</td>\n",
       "      <td>...</td>\n",
       "      <td>...</td>\n",
       "      <td>...</td>\n",
       "      <td>...</td>\n",
       "    </tr>\n",
       "    <tr>\n",
       "      <th>448052</th>\n",
       "      <td>tt9916538</td>\n",
       "      <td>Kuambil Lagi Hatiku</td>\n",
       "      <td>2019</td>\n",
       "      <td>123</td>\n",
       "      <td>Drama</td>\n",
       "      <td>7.6</td>\n",
       "      <td>12.0</td>\n",
       "    </tr>\n",
       "    <tr>\n",
       "      <th>448053</th>\n",
       "      <td>tt9916622</td>\n",
       "      <td>Rodolpho Teóphilo - O Legado de um Pioneiro</td>\n",
       "      <td>2015</td>\n",
       "      <td>57</td>\n",
       "      <td>Documentary</td>\n",
       "      <td>NaN</td>\n",
       "      <td>NaN</td>\n",
       "    </tr>\n",
       "    <tr>\n",
       "      <th>448054</th>\n",
       "      <td>tt9916680</td>\n",
       "      <td>De la ilusión al desconcierto: cine colombiano...</td>\n",
       "      <td>2007</td>\n",
       "      <td>100</td>\n",
       "      <td>Documentary</td>\n",
       "      <td>NaN</td>\n",
       "      <td>NaN</td>\n",
       "    </tr>\n",
       "    <tr>\n",
       "      <th>448055</th>\n",
       "      <td>tt9916730</td>\n",
       "      <td>6 Gunn</td>\n",
       "      <td>2017</td>\n",
       "      <td>116</td>\n",
       "      <td>Drama</td>\n",
       "      <td>7.0</td>\n",
       "      <td>13.0</td>\n",
       "    </tr>\n",
       "    <tr>\n",
       "      <th>448056</th>\n",
       "      <td>tt9916754</td>\n",
       "      <td>Chico Albuquerque - Revelações</td>\n",
       "      <td>2013</td>\n",
       "      <td>49</td>\n",
       "      <td>Documentary</td>\n",
       "      <td>NaN</td>\n",
       "      <td>NaN</td>\n",
       "    </tr>\n",
       "  </tbody>\n",
       "</table>\n",
       "<p>448057 rows × 7 columns</p>\n",
       "</div>"
      ],
      "text/plain": [
       "          movieID                                              title  year  \\\n",
       "0       tt0000009                                         Miss Jerry  1894   \n",
       "1       tt0000147                      The Corbett-Fitzsimmons Fight  1897   \n",
       "2       tt0000502                                           Bohemios  1905   \n",
       "3       tt0000574                        The Story of the Kelly Gang  1906   \n",
       "4       tt0000591                                   The Prodigal Son  1907   \n",
       "...           ...                                                ...   ...   \n",
       "448052  tt9916538                                Kuambil Lagi Hatiku  2019   \n",
       "448053  tt9916622        Rodolpho Teóphilo - O Legado de um Pioneiro  2015   \n",
       "448054  tt9916680  De la ilusión al desconcierto: cine colombiano...  2007   \n",
       "448055  tt9916730                                             6 Gunn  2017   \n",
       "448056  tt9916754                     Chico Albuquerque - Revelações  2013   \n",
       "\n",
       "        runtime                       genre  rating   votes  \n",
       "0            45                     Romance     5.3   228.0  \n",
       "1           100      Documentary,News,Sport     5.2   564.0  \n",
       "2           100                          \\N     3.6    22.0  \n",
       "3            70  Action,Adventure,Biography     6.0  1009.0  \n",
       "4            90                       Drama     5.3    34.0  \n",
       "...         ...                         ...     ...     ...  \n",
       "448052      123                       Drama     7.6    12.0  \n",
       "448053       57                 Documentary     NaN     NaN  \n",
       "448054      100                 Documentary     NaN     NaN  \n",
       "448055      116                       Drama     7.0    13.0  \n",
       "448056       49                 Documentary     NaN     NaN  \n",
       "\n",
       "[448057 rows x 7 columns]"
      ]
     },
     "execution_count": 20,
     "metadata": {},
     "output_type": "execute_result"
    }
   ],
   "source": [
    "maindf1=df1.merge(df2, on='movieID', how='left')\n",
    "maindf1"
   ]
  },
  {
   "cell_type": "code",
   "execution_count": 22,
   "id": "4a0249fc",
   "metadata": {},
   "outputs": [],
   "source": [
    "maindf1.to_csv('../temp/maindf1.csv', index=False)"
   ]
  },
  {
   "cell_type": "code",
   "execution_count": 21,
   "id": "a685d182",
   "metadata": {},
   "outputs": [
    {
     "name": "stdout",
     "output_type": "stream",
     "text": [
      "<class 'pandas.core.frame.DataFrame'>\n",
      "RangeIndex: 448057 entries, 0 to 448056\n",
      "Data columns (total 7 columns):\n",
      " #   Column   Non-Null Count   Dtype  \n",
      "---  ------   --------------   -----  \n",
      " 0   movieID  448057 non-null  object \n",
      " 1   title    448057 non-null  object \n",
      " 2   year     448057 non-null  Int64  \n",
      " 3   runtime  448057 non-null  Int64  \n",
      " 4   genre    448057 non-null  object \n",
      " 5   rating   300011 non-null  float64\n",
      " 6   votes    300011 non-null  float64\n",
      "dtypes: Int64(2), float64(2), object(3)\n",
      "memory usage: 24.8+ MB\n"
     ]
    }
   ],
   "source": [
    "maindf1.info()"
   ]
  },
  {
   "cell_type": "code",
   "execution_count": 22,
   "id": "4134faf7",
   "metadata": {},
   "outputs": [
    {
     "data": {
      "application/vnd.microsoft.datawrangler.viewer.v0+json": {
       "columns": [
        {
         "name": "index",
         "rawType": "object",
         "type": "string"
        },
        {
         "name": "0",
         "rawType": "int64",
         "type": "integer"
        }
       ],
       "ref": "b93638fc-eac8-43d7-aa82-ad8c5cc6463b",
       "rows": [
        [
         "movieID",
         "0"
        ],
        [
         "title",
         "0"
        ],
        [
         "year",
         "0"
        ],
        [
         "runtime",
         "0"
        ],
        [
         "genre",
         "0"
        ],
        [
         "rating",
         "148046"
        ],
        [
         "votes",
         "148046"
        ]
       ],
       "shape": {
        "columns": 1,
        "rows": 7
       }
      },
      "text/plain": [
       "movieID         0\n",
       "title           0\n",
       "year            0\n",
       "runtime         0\n",
       "genre           0\n",
       "rating     148046\n",
       "votes      148046\n",
       "dtype: int64"
      ]
     },
     "execution_count": 22,
     "metadata": {},
     "output_type": "execute_result"
    }
   ],
   "source": [
    "maindf1.isnull().sum()"
   ]
  },
  {
   "cell_type": "code",
   "execution_count": 23,
   "id": "94bab722",
   "metadata": {},
   "outputs": [
    {
     "data": {
      "application/vnd.microsoft.datawrangler.viewer.v0+json": {
       "columns": [
        {
         "name": "index",
         "rawType": "int64",
         "type": "integer"
        },
        {
         "name": "movieID",
         "rawType": "object",
         "type": "string"
        },
        {
         "name": "title",
         "rawType": "object",
         "type": "string"
        },
        {
         "name": "year",
         "rawType": "Int64",
         "type": "integer"
        },
        {
         "name": "runtime",
         "rawType": "Int64",
         "type": "integer"
        },
        {
         "name": "genre",
         "rawType": "object",
         "type": "string"
        },
        {
         "name": "rating",
         "rawType": "float64",
         "type": "float"
        },
        {
         "name": "votes",
         "rawType": "float64",
         "type": "float"
        }
       ],
       "ref": "b118b374-b072-45c8-a09a-db02e69aa2ae",
       "rows": [
        [
         "0",
         "tt0000009",
         "Miss Jerry",
         "1894",
         "45",
         "Romance",
         "5.3",
         "228.0"
        ],
        [
         "1",
         "tt0000147",
         "The Corbett-Fitzsimmons Fight",
         "1897",
         "100",
         "Documentary,News,Sport",
         "5.2",
         "564.0"
        ],
        [
         "2",
         "tt0000502",
         "Bohemios",
         "1905",
         "100",
         "\\N",
         "3.6",
         "22.0"
        ],
        [
         "3",
         "tt0000574",
         "The Story of the Kelly Gang",
         "1906",
         "70",
         "Action,Adventure,Biography",
         "6.0",
         "1009.0"
        ],
        [
         "4",
         "tt0000591",
         "The Prodigal Son",
         "1907",
         "90",
         "Drama",
         "5.3",
         "34.0"
        ],
        [
         "5",
         "tt0000679",
         "The Fairylogue and Radio-Plays",
         "1908",
         "120",
         "Adventure,Fantasy",
         "5.0",
         "80.0"
        ],
        [
         "6",
         "tt0000941",
         "Locura de amor",
         "1909",
         "45",
         "Drama",
         "4.3",
         "33.0"
        ],
        [
         "7",
         "tt0001184",
         "Don Juan de Serrallonga",
         "1910",
         "58",
         "Adventure,Drama",
         "3.1",
         "24.0"
        ],
        [
         "8",
         "tt0001285",
         "The Life of Moses",
         "1909",
         "50",
         "Biography,Drama,Family",
         "5.2",
         "67.0"
        ],
        [
         "9",
         "tt0001498",
         "The Battle of Trafalgar",
         "1911",
         "51",
         "War",
         "8.1",
         "18.0"
        ],
        [
         "10",
         "tt0001592",
         "In the Prime of Life",
         "1911",
         "52",
         "Drama",
         "5.8",
         "32.0"
        ],
        [
         "11",
         "tt0001614",
         "The Four Devils",
         "1911",
         "35",
         "Drama",
         "6.5",
         "44.0"
        ],
        [
         "12",
         "tt0001630",
         "Der fremde Vogel",
         "1911",
         "45",
         "\\N",
         "6.1",
         "55.0"
        ],
        [
         "14",
         "tt0001790",
         "Les Misérables, Part 1: Jean Valjean",
         "1913",
         "60",
         "Drama",
         "5.9",
         "61.0"
        ],
        [
         "15",
         "tt0001812",
         "Oedipus Rex",
         "1911",
         "56",
         "Drama",
         "5.5",
         "16.0"
        ],
        [
         "16",
         "tt0001892",
         "Den sorte drøm",
         "1911",
         "53",
         "Drama",
         "5.8",
         "285.0"
        ],
        [
         "17",
         "tt0001911",
         "Nell Gwynne",
         "1911",
         "50",
         "Biography,Drama,History",
         "3.6",
         "26.0"
        ],
        [
         "18",
         "tt0001964",
         "The Traitress",
         "1911",
         "48",
         "Drama",
         "5.8",
         "116.0"
        ],
        [
         "19",
         "tt0001998",
         "The Adventures of Lieutenant Petrosino",
         "1912",
         "47",
         "Drama",
         "4.5",
         "45.0"
        ],
        [
         "20",
         "tt0002022",
         "Anfisa",
         "1912",
         "45",
         "Drama",
         "6.0",
         "14.0"
        ],
        [
         "21",
         "tt0002026",
         "Anny - Story of a Prostitute",
         "1912",
         "68",
         "Drama,Romance",
         "4.5",
         "17.0"
        ],
        [
         "23",
         "tt0002101",
         "Cleopatra",
         "1912",
         "100",
         "Drama,History",
         "5.1",
         "650.0"
        ],
        [
         "24",
         "tt0002130",
         "Dante's Inferno",
         "1911",
         "71",
         "Adventure,Drama,Fantasy",
         "7.0",
         "3875.0"
        ],
        [
         "25",
         "tt0002153",
         "The Great Circus Catastrophe",
         "1912",
         "45",
         "Drama",
         "5.9",
         "87.0"
        ],
        [
         "26",
         "tt0002186",
         "The Flying Circus",
         "1912",
         "46",
         "Drama",
         "6.4",
         "157.0"
        ],
        [
         "27",
         "tt0002199",
         "From the Manger to the Cross",
         "1912",
         "71",
         "Biography,Drama",
         "5.8",
         "686.0"
        ],
        [
         "29",
         "tt0002423",
         "Passion",
         "1919",
         "113",
         "Biography,Drama,Romance",
         "6.6",
         "1087.0"
        ],
        [
         "32",
         "tt0002445",
         "Quo Vadis?",
         "1913",
         "120",
         "Drama,History",
         "6.1",
         "502.0"
        ],
        [
         "33",
         "tt0002452",
         "The Independence of Romania",
         "1912",
         "120",
         "History,War",
         "6.4",
         "281.0"
        ],
        [
         "34",
         "tt0002461",
         "The Life and Death of King Richard III",
         "1912",
         "55",
         "Drama",
         "5.7",
         "343.0"
        ],
        [
         "35",
         "tt0002500",
         "The Black Chancellor",
         "1912",
         "48",
         "Drama",
         "5.9",
         "31.0"
        ],
        [
         "36",
         "tt0002514",
         "Saved in Mid-Air",
         "1912",
         "60",
         "Drama",
         "4.9",
         "19.0"
        ],
        [
         "37",
         "tt0002574",
         "What Happened to Mary",
         "1912",
         "150",
         "Action,Drama,Thriller",
         "5.9",
         "38.0"
        ],
        [
         "38",
         "tt0002588",
         "Zigomar contre Nick Carter",
         "1912",
         "48",
         "Crime,Thriller",
         "5.9",
         "58.0"
        ],
        [
         "39",
         "tt0002605",
         "The Adventures of Kathlyn",
         "1913",
         "300",
         "Adventure",
         "5.5",
         "49.0"
        ],
        [
         "41",
         "tt0002628",
         "Der Andere",
         "1913",
         "48",
         "Drama,Thriller",
         "5.4",
         "128.0"
        ],
        [
         "42",
         "tt0002637",
         "Arizona",
         "1913",
         "45",
         "Drama,Western",
         "7.5",
         "21.0"
        ],
        [
         "43",
         "tt0002642",
         "The Heir to Skjoldborg",
         "1914",
         "50",
         "Drama",
         "5.2",
         "11.0"
        ],
        [
         "44",
         "tt0002646",
         "Atlantis",
         "1913",
         "121",
         "Drama",
         "6.5",
         "516.0"
        ],
        [
         "45",
         "tt0002669",
         "The Battle of Gettysburg",
         "1913",
         "48",
         "Drama,War",
         "6.6",
         "42.0"
        ],
        [
         "48",
         "tt0002767",
         "The Count of Monte Cristo",
         "1913",
         "69",
         "Drama,History",
         "5.6",
         "74.0"
        ],
        [
         "49",
         "tt0002801",
         "The Black Diamond",
         "1913",
         "50",
         "\\N",
         "5.4",
         "32.0"
        ],
        [
         "50",
         "tt0002820",
         "East Lynne",
         "1913",
         "69",
         "Drama",
         "7.3",
         "13.0"
        ],
        [
         "51",
         "tt0002822",
         "What 80 Million Women Want",
         "1913",
         "56",
         "Crime,Drama,Romance",
         "4.1",
         "57.0"
        ],
        [
         "52",
         "tt0002832",
         "Evangeline",
         "1914",
         "50",
         "Drama",
         "6.8",
         "27.0"
        ],
        [
         "53",
         "tt0002844",
         "Fantômas: In the Shadow of the Guillotine",
         "1913",
         "54",
         "Crime,Drama",
         "6.9",
         "2655.0"
        ],
        [
         "54",
         "tt0002885",
         "From Dusk to Dawn",
         "1913",
         "90",
         "Drama",
         "5.9",
         "114.0"
        ],
        [
         "55",
         "tt0002898",
         "Germinal; or, The Toll of Labor",
         "1913",
         "150",
         "Drama",
         "6.9",
         "191.0"
        ],
        [
         "56",
         "tt0002917",
         "Brother Against Brother",
         "1913",
         "51",
         "Drama",
         "5.6",
         "49.0"
        ],
        [
         "57",
         "tt0002922",
         "Hamlet",
         "1913",
         "64",
         "Drama",
         "4.9",
         "85.0"
        ]
       ],
       "shape": {
        "columns": 7,
        "rows": 300011
       }
      },
      "text/html": [
       "<div>\n",
       "<style scoped>\n",
       "    .dataframe tbody tr th:only-of-type {\n",
       "        vertical-align: middle;\n",
       "    }\n",
       "\n",
       "    .dataframe tbody tr th {\n",
       "        vertical-align: top;\n",
       "    }\n",
       "\n",
       "    .dataframe thead th {\n",
       "        text-align: right;\n",
       "    }\n",
       "</style>\n",
       "<table border=\"1\" class=\"dataframe\">\n",
       "  <thead>\n",
       "    <tr style=\"text-align: right;\">\n",
       "      <th></th>\n",
       "      <th>movieID</th>\n",
       "      <th>title</th>\n",
       "      <th>year</th>\n",
       "      <th>runtime</th>\n",
       "      <th>genre</th>\n",
       "      <th>rating</th>\n",
       "      <th>votes</th>\n",
       "    </tr>\n",
       "  </thead>\n",
       "  <tbody>\n",
       "    <tr>\n",
       "      <th>0</th>\n",
       "      <td>tt0000009</td>\n",
       "      <td>Miss Jerry</td>\n",
       "      <td>1894</td>\n",
       "      <td>45</td>\n",
       "      <td>Romance</td>\n",
       "      <td>5.3</td>\n",
       "      <td>228.0</td>\n",
       "    </tr>\n",
       "    <tr>\n",
       "      <th>1</th>\n",
       "      <td>tt0000147</td>\n",
       "      <td>The Corbett-Fitzsimmons Fight</td>\n",
       "      <td>1897</td>\n",
       "      <td>100</td>\n",
       "      <td>Documentary,News,Sport</td>\n",
       "      <td>5.2</td>\n",
       "      <td>564.0</td>\n",
       "    </tr>\n",
       "    <tr>\n",
       "      <th>2</th>\n",
       "      <td>tt0000502</td>\n",
       "      <td>Bohemios</td>\n",
       "      <td>1905</td>\n",
       "      <td>100</td>\n",
       "      <td>\\N</td>\n",
       "      <td>3.6</td>\n",
       "      <td>22.0</td>\n",
       "    </tr>\n",
       "    <tr>\n",
       "      <th>3</th>\n",
       "      <td>tt0000574</td>\n",
       "      <td>The Story of the Kelly Gang</td>\n",
       "      <td>1906</td>\n",
       "      <td>70</td>\n",
       "      <td>Action,Adventure,Biography</td>\n",
       "      <td>6.0</td>\n",
       "      <td>1009.0</td>\n",
       "    </tr>\n",
       "    <tr>\n",
       "      <th>4</th>\n",
       "      <td>tt0000591</td>\n",
       "      <td>The Prodigal Son</td>\n",
       "      <td>1907</td>\n",
       "      <td>90</td>\n",
       "      <td>Drama</td>\n",
       "      <td>5.3</td>\n",
       "      <td>34.0</td>\n",
       "    </tr>\n",
       "    <tr>\n",
       "      <th>...</th>\n",
       "      <td>...</td>\n",
       "      <td>...</td>\n",
       "      <td>...</td>\n",
       "      <td>...</td>\n",
       "      <td>...</td>\n",
       "      <td>...</td>\n",
       "      <td>...</td>\n",
       "    </tr>\n",
       "    <tr>\n",
       "      <th>448049</th>\n",
       "      <td>tt9916190</td>\n",
       "      <td>Safeguard</td>\n",
       "      <td>2020</td>\n",
       "      <td>95</td>\n",
       "      <td>Action,Adventure,Thriller</td>\n",
       "      <td>3.6</td>\n",
       "      <td>264.0</td>\n",
       "    </tr>\n",
       "    <tr>\n",
       "      <th>448050</th>\n",
       "      <td>tt9916270</td>\n",
       "      <td>Il talento del calabrone</td>\n",
       "      <td>2020</td>\n",
       "      <td>84</td>\n",
       "      <td>Thriller</td>\n",
       "      <td>5.8</td>\n",
       "      <td>1512.0</td>\n",
       "    </tr>\n",
       "    <tr>\n",
       "      <th>448051</th>\n",
       "      <td>tt9916362</td>\n",
       "      <td>Coven</td>\n",
       "      <td>2020</td>\n",
       "      <td>92</td>\n",
       "      <td>Drama,History</td>\n",
       "      <td>6.4</td>\n",
       "      <td>6098.0</td>\n",
       "    </tr>\n",
       "    <tr>\n",
       "      <th>448052</th>\n",
       "      <td>tt9916538</td>\n",
       "      <td>Kuambil Lagi Hatiku</td>\n",
       "      <td>2019</td>\n",
       "      <td>123</td>\n",
       "      <td>Drama</td>\n",
       "      <td>7.6</td>\n",
       "      <td>12.0</td>\n",
       "    </tr>\n",
       "    <tr>\n",
       "      <th>448055</th>\n",
       "      <td>tt9916730</td>\n",
       "      <td>6 Gunn</td>\n",
       "      <td>2017</td>\n",
       "      <td>116</td>\n",
       "      <td>Drama</td>\n",
       "      <td>7.0</td>\n",
       "      <td>13.0</td>\n",
       "    </tr>\n",
       "  </tbody>\n",
       "</table>\n",
       "<p>300011 rows × 7 columns</p>\n",
       "</div>"
      ],
      "text/plain": [
       "          movieID                          title  year  runtime  \\\n",
       "0       tt0000009                     Miss Jerry  1894       45   \n",
       "1       tt0000147  The Corbett-Fitzsimmons Fight  1897      100   \n",
       "2       tt0000502                       Bohemios  1905      100   \n",
       "3       tt0000574    The Story of the Kelly Gang  1906       70   \n",
       "4       tt0000591               The Prodigal Son  1907       90   \n",
       "...           ...                            ...   ...      ...   \n",
       "448049  tt9916190                      Safeguard  2020       95   \n",
       "448050  tt9916270       Il talento del calabrone  2020       84   \n",
       "448051  tt9916362                          Coven  2020       92   \n",
       "448052  tt9916538            Kuambil Lagi Hatiku  2019      123   \n",
       "448055  tt9916730                         6 Gunn  2017      116   \n",
       "\n",
       "                             genre  rating   votes  \n",
       "0                          Romance     5.3   228.0  \n",
       "1           Documentary,News,Sport     5.2   564.0  \n",
       "2                               \\N     3.6    22.0  \n",
       "3       Action,Adventure,Biography     6.0  1009.0  \n",
       "4                            Drama     5.3    34.0  \n",
       "...                            ...     ...     ...  \n",
       "448049   Action,Adventure,Thriller     3.6   264.0  \n",
       "448050                    Thriller     5.8  1512.0  \n",
       "448051               Drama,History     6.4  6098.0  \n",
       "448052                       Drama     7.6    12.0  \n",
       "448055                       Drama     7.0    13.0  \n",
       "\n",
       "[300011 rows x 7 columns]"
      ]
     },
     "execution_count": 23,
     "metadata": {},
     "output_type": "execute_result"
    }
   ],
   "source": [
    "maindf1.dropna(subset=['rating','votes'], inplace=True)\n",
    "maindf1"
   ]
  },
  {
   "cell_type": "code",
   "execution_count": 24,
   "id": "6f690fea",
   "metadata": {},
   "outputs": [
    {
     "data": {
      "text/plain": [
       "np.int64(6408)"
      ]
     },
     "execution_count": 24,
     "metadata": {},
     "output_type": "execute_result"
    }
   ],
   "source": [
    "maindf1['genre'] = maindf1['genre'].replace('\\\\N', np.nan)\n",
    "maindf1['genre'].isnull().sum()"
   ]
  },
  {
   "cell_type": "code",
   "execution_count": 25,
   "id": "5a9c22f9",
   "metadata": {},
   "outputs": [],
   "source": [
    "maindf1.dropna(subset=['genre'], inplace=True)"
   ]
  },
  {
   "cell_type": "code",
   "execution_count": 26,
   "id": "a787a432",
   "metadata": {},
   "outputs": [
    {
     "data": {
      "text/plain": [
       "array(['Romance', 'Documentary', 'News', 'Sport', 'Action', 'Adventure',\n",
       "       'Biography', 'Drama', 'Fantasy', 'Family', 'War', 'History',\n",
       "       'Thriller', 'Crime', 'Western', 'Comedy', 'Mystery', 'Horror',\n",
       "       'Music', 'Sci-Fi', 'Musical', 'Animation', 'Film-Noir', 'Adult',\n",
       "       'Reality-TV', 'Talk-Show', 'Game-Show'], dtype=object)"
      ]
     },
     "execution_count": 26,
     "metadata": {},
     "output_type": "execute_result"
    }
   ],
   "source": [
    "etc=maindf1.copy()\n",
    "etc['genre'] =etc['genre'].str.split(',')\n",
    "etc= etc.explode('genre')\n",
    "etc['genre'].unique()"
   ]
  },
  {
   "cell_type": "code",
   "execution_count": 27,
   "id": "8cdc9b56",
   "metadata": {},
   "outputs": [
    {
     "data": {
      "application/vnd.microsoft.datawrangler.viewer.v0+json": {
       "columns": [
        {
         "name": "genre",
         "rawType": "object",
         "type": "string"
        },
        {
         "name": "count",
         "rawType": "int64",
         "type": "integer"
        }
       ],
       "ref": "afccdc28-2c20-44d0-afe6-3239ade0a5cd",
       "rows": [
        [
         "Drama",
         "140256"
        ],
        [
         "Comedy",
         "74565"
        ],
        [
         "Documentary",
         "49619"
        ],
        [
         "Romance",
         "33567"
        ],
        [
         "Action",
         "30499"
        ],
        [
         "Crime",
         "27253"
        ],
        [
         "Thriller",
         "25923"
        ],
        [
         "Horror",
         "23512"
        ],
        [
         "Adventure",
         "18690"
        ],
        [
         "Mystery",
         "12549"
        ],
        [
         "Family",
         "11725"
        ],
        [
         "Biography",
         "10003"
        ],
        [
         "Fantasy",
         "9415"
        ],
        [
         "History",
         "8879"
        ],
        [
         "Music",
         "7958"
        ],
        [
         "Sci-Fi",
         "7384"
        ],
        [
         "Musical",
         "6344"
        ],
        [
         "War",
         "6317"
        ],
        [
         "Animation",
         "5560"
        ],
        [
         "Western",
         "4994"
        ],
        [
         "Sport",
         "3934"
        ],
        [
         "Adult",
         "3861"
        ],
        [
         "Film-Noir",
         "881"
        ],
        [
         "News",
         "669"
        ],
        [
         "Reality-TV",
         "61"
        ],
        [
         "Talk-Show",
         "20"
        ],
        [
         "Game-Show",
         "5"
        ]
       ],
       "shape": {
        "columns": 1,
        "rows": 27
       }
      },
      "text/plain": [
       "genre\n",
       "Drama          140256\n",
       "Comedy          74565\n",
       "Documentary     49619\n",
       "Romance         33567\n",
       "Action          30499\n",
       "Crime           27253\n",
       "Thriller        25923\n",
       "Horror          23512\n",
       "Adventure       18690\n",
       "Mystery         12549\n",
       "Family          11725\n",
       "Biography       10003\n",
       "Fantasy          9415\n",
       "History          8879\n",
       "Music            7958\n",
       "Sci-Fi           7384\n",
       "Musical          6344\n",
       "War              6317\n",
       "Animation        5560\n",
       "Western          4994\n",
       "Sport            3934\n",
       "Adult            3861\n",
       "Film-Noir         881\n",
       "News              669\n",
       "Reality-TV         61\n",
       "Talk-Show          20\n",
       "Game-Show           5\n",
       "Name: count, dtype: int64"
      ]
     },
     "execution_count": 27,
     "metadata": {},
     "output_type": "execute_result"
    }
   ],
   "source": [
    "etc['genre'].value_counts()"
   ]
  },
  {
   "cell_type": "code",
   "execution_count": 28,
   "id": "a83aff1a",
   "metadata": {},
   "outputs": [
    {
     "data": {
      "application/vnd.microsoft.datawrangler.viewer.v0+json": {
       "columns": [
        {
         "name": "rating",
         "rawType": "float64",
         "type": "float"
        },
        {
         "name": "count",
         "rawType": "int64",
         "type": "integer"
        }
       ],
       "ref": "20daa710-75e9-4c39-b702-15aace0d30d9",
       "rows": [
        [
         "1.0",
         "33"
        ],
        [
         "1.1",
         "30"
        ],
        [
         "1.2",
         "35"
        ],
        [
         "1.3",
         "59"
        ],
        [
         "1.4",
         "61"
        ],
        [
         "1.5",
         "85"
        ],
        [
         "1.6",
         "86"
        ],
        [
         "1.7",
         "91"
        ],
        [
         "1.8",
         "142"
        ],
        [
         "1.9",
         "157"
        ],
        [
         "2.0",
         "203"
        ],
        [
         "2.1",
         "196"
        ],
        [
         "2.2",
         "289"
        ],
        [
         "2.3",
         "368"
        ],
        [
         "2.4",
         "413"
        ],
        [
         "2.5",
         "442"
        ],
        [
         "2.6",
         "532"
        ],
        [
         "2.7",
         "599"
        ],
        [
         "2.8",
         "709"
        ],
        [
         "2.9",
         "642"
        ],
        [
         "3.0",
         "843"
        ],
        [
         "3.1",
         "889"
        ],
        [
         "3.2",
         "1157"
        ],
        [
         "3.3",
         "1190"
        ],
        [
         "3.4",
         "1366"
        ],
        [
         "3.5",
         "1421"
        ],
        [
         "3.6",
         "1725"
        ],
        [
         "3.7",
         "1725"
        ],
        [
         "3.8",
         "1966"
        ],
        [
         "3.9",
         "1836"
        ],
        [
         "4.0",
         "2208"
        ],
        [
         "4.1",
         "2327"
        ],
        [
         "4.2",
         "2806"
        ],
        [
         "4.3",
         "2941"
        ],
        [
         "4.4",
         "3293"
        ],
        [
         "4.5",
         "3329"
        ],
        [
         "4.6",
         "3869"
        ],
        [
         "4.7",
         "3946"
        ],
        [
         "4.8",
         "4536"
        ],
        [
         "4.9",
         "4271"
        ],
        [
         "5.0",
         "4762"
        ],
        [
         "5.1",
         "5087"
        ],
        [
         "5.2",
         "6217"
        ],
        [
         "5.3",
         "6143"
        ],
        [
         "5.4",
         "6880"
        ],
        [
         "5.5",
         "7034"
        ],
        [
         "5.6",
         "7452"
        ],
        [
         "5.7",
         "7566"
        ],
        [
         "5.8",
         "8516"
        ],
        [
         "5.9",
         "7800"
        ]
       ],
       "shape": {
        "columns": 1,
        "rows": 91
       }
      },
      "text/plain": [
       "rating\n",
       "1.0      33\n",
       "1.1      30\n",
       "1.2      35\n",
       "1.3      59\n",
       "1.4      61\n",
       "       ... \n",
       "9.6     225\n",
       "9.7     132\n",
       "9.8      86\n",
       "9.9       6\n",
       "10.0     16\n",
       "Name: count, Length: 91, dtype: int64"
      ]
     },
     "execution_count": 28,
     "metadata": {},
     "output_type": "execute_result"
    }
   ],
   "source": [
    "maindf1['rating'].value_counts().sort_index()\n"
   ]
  },
  {
   "cell_type": "markdown",
   "id": "b71d8b47",
   "metadata": {},
   "source": [
    "Graphs and insights"
   ]
  },
  {
   "cell_type": "code",
   "execution_count": 27,
   "id": "cb065f91",
   "metadata": {},
   "outputs": [],
   "source": [
    "sns.set(rc={'figure.figsize':(12,8)})"
   ]
  },
  {
   "cell_type": "markdown",
   "id": "43b9a3c5",
   "metadata": {},
   "source": [
    "Count of movies per year increased exponentially with some major hike in movies per year"
   ]
  },
  {
   "cell_type": "code",
   "execution_count": 28,
   "id": "4e342c88",
   "metadata": {},
   "outputs": [
    {
     "data": {
      "text/plain": [
       "<Axes: xlabel='year', ylabel='Count'>"
      ]
     },
     "execution_count": 28,
     "metadata": {},
     "output_type": "execute_result"
    },
    {
     "data": {
      "image/png": "[encoded data removed]",
      "text/plain": [
       "<Figure size 1200x800 with 1 Axes>"
      ]
     },
     "metadata": {},
     "output_type": "display_data"
    }
   ],
   "source": [
    "sns.histplot(x='year',data=maindf1)\n"
   ]
  },
  {
   "cell_type": "code",
   "execution_count": 29,
   "id": "83f8cc6f",
   "metadata": {},
   "outputs": [
    {
     "data": {
      "text/plain": [
       "<Axes: xlabel='rating', ylabel='count'>"
      ]
     },
     "execution_count": 29,
     "metadata": {},
     "output_type": "execute_result"
    },
    {
     "data": {
      "image/png": "[encoded data removed]",
      "text/plain": [
       "<Figure size 1200x800 with 1 Axes>"
      ]
     },
     "metadata": {},
     "output_type": "display_data"
    }
   ],
   "source": [
    "sns.countplot(x='rating',data=maindf1)\n"
   ]
  },
  {
   "cell_type": "code",
   "execution_count": 30,
   "id": "e4d33a2b",
   "metadata": {},
   "outputs": [
    {
     "data": {
      "text/plain": [
       "<Axes: xlabel='genre'>"
      ]
     },
     "execution_count": 30,
     "metadata": {},
     "output_type": "execute_result"
    },
    {
     "data": {
      "image/png": "[encoded data removed]",
      "text/plain": [
       "<Figure size 1200x800 with 1 Axes>"
      ]
     },
     "metadata": {},
     "output_type": "display_data"
    }
   ],
   "source": [
    "etc['genre'].value_counts().plot(kind='bar')"
   ]
  },
  {
   "cell_type": "markdown",
   "id": "7d6d8fff",
   "metadata": {},
   "source": [
    "Top 20 Genres by rating"
   ]
  },
  {
   "cell_type": "code",
   "execution_count": 31,
   "id": "55c9a111",
   "metadata": {},
   "outputs": [
    {
     "data": {
      "text/plain": [
       "<Axes: title={'center': 'Top 20 Directors by Average Rating'}, xlabel='genre'>"
      ]
     },
     "execution_count": 31,
     "metadata": {},
     "output_type": "execute_result"
    },
    {
     "data": {
      "image/png": "[encoded data removed]",
      "text/plain": [
       "<Figure size 1200x600 with 1 Axes>"
      ]
     },
     "metadata": {},
     "output_type": "display_data"
    }
   ],
   "source": [
    "avg_rating_per_genre = etc.groupby('genre')['rating'].mean()\n",
    "top_genre = avg_rating_per_genre.sort_values(ascending=False).head(20)\n",
    "top_genre.plot(kind='bar', figsize=(12, 6), title='Top 20 Directors by Average Rating')"
   ]
  },
  {
   "cell_type": "code",
   "execution_count": 32,
   "id": "59871144",
   "metadata": {},
   "outputs": [
    {
     "data": {
      "text/plain": [
       "<Axes: xlabel='genre', ylabel='rating'>"
      ]
     },
     "execution_count": 32,
     "metadata": {},
     "output_type": "execute_result"
    },
    {
     "data": {
      "image/png": "[encoded data removed]",
      "text/plain": [
       "<Figure size 1200x800 with 1 Axes>"
      ]
     },
     "metadata": {},
     "output_type": "display_data"
    }
   ],
   "source": [
    "sns.boxplot(data=etc, x='genre', y='rating')"
   ]
  },
  {
   "cell_type": "code",
   "execution_count": 33,
   "id": "e12ebdc1",
   "metadata": {},
   "outputs": [
    {
     "data": {
      "text/plain": [
       "<Axes: xlabel='runtime', ylabel='rating'>"
      ]
     },
     "execution_count": 33,
     "metadata": {},
     "output_type": "execute_result"
    },
    {
     "data": {
      "image/png": "[encoded data removed]",
      "text/plain": [
       "<Figure size 1200x800 with 1 Axes>"
      ]
     },
     "metadata": {},
     "output_type": "display_data"
    }
   ],
   "source": [
    "sns.scatterplot(x='runtime', y='rating',data=maindf1)"
   ]
  },
  {
   "cell_type": "code",
   "execution_count": 34,
   "id": "c01f8598",
   "metadata": {},
   "outputs": [
    {
     "data": {
      "text/plain": [
       "<Axes: xlabel='year'>"
      ]
     },
     "execution_count": 34,
     "metadata": {},
     "output_type": "execute_result"
    },
    {
     "data": {
      "image/png": "[encoded data removed]",
      "text/plain": [
       "<Figure size 1200x800 with 1 Axes>"
      ]
     },
     "metadata": {},
     "output_type": "display_data"
    }
   ],
   "source": [
    "yearly = maindf1.groupby('year')['rating'].mean()\n",
    "yearly.plot()"
   ]
  },
  {
   "cell_type": "code",
   "execution_count": 35,
   "id": "41340969",
   "metadata": {},
   "outputs": [
    {
     "data": {
      "text/plain": [
       "<Axes: xlabel='votes', ylabel='rating'>"
      ]
     },
     "execution_count": 35,
     "metadata": {},
     "output_type": "execute_result"
    },
    {
     "data": {
      "image/png": "[encoded data removed]",
      "text/plain": [
       "<Figure size 1200x800 with 1 Axes>"
      ]
     },
     "metadata": {},
     "output_type": "display_data"
    }
   ],
   "source": [
    "sns.scatterplot(x='votes', y='rating', data=maindf1)"
   ]
  },
  {
   "cell_type": "markdown",
   "id": "09061aa9",
   "metadata": {},
   "source": [
    "Observation: The \"Funnel of Quality\"\n",
    "\n",
    "The scatter plot reveals a distinct funnel shape, which tells a powerful story:\n",
    "\n",
    "1.  **Low Vote Chaos**: On the far left (low votes), ratings are all over the place. You can find movies with ratings from 1 to 10. This is the \"noise\" we want to filter out, as these ratings aren't based on a broad consensus.\n",
    "2.  **High Vote Consensus**: As you move to the right (more votes), the ratings become much less volatile. The funnel narrows significantly, and it's extremely rare to see a highly-voted movie with a rating below 5.0.\n",
    "\n",
    "**Conclusion**: This plot visually confirms our strategy. To perform a meaningful analysis, we **must** filter out the low-vote movies on the left and focus on the films within the \"funnel of quality\" where ratings are more stable and representative."
   ]
  },
  {
   "cell_type": "markdown",
   "id": "cad0ef96",
   "metadata": {},
   "source": [
    "✅ Outcome of Part 1\n",
    "We have successfully created `maindf1`, a clean and robust DataFrame containing essential information for over films. This dataset has:\n",
    "\n",
    "A clean movie-level DataFrame containing title, year, runtime, genre, rating, and votes.\n",
    "\n",
    "-   One row per movie.\n",
    "-   Correct data types for numerical analysis.\n",
    "-   Been filtered to include only relevant, sufficiently popular movies.\n",
    "-   This DataFrame is now the solid foundation for all subsequent analysis.\n",
    "\n",
    "Saved dataset for the next stage → merging with crew and name-level information."
   ]
  }
 ],
 "metadata": {
  "kernelspec": {
   "display_name": "Python 3",
   "language": "python",
   "name": "python3"
  },
  "language_info": {
   "codemirror_mode": {
    "name": "ipython",
    "version": 3
   },
   "file_extension": ".py",
   "mimetype": "text/x-python",
   "name": "python",
   "nbconvert_exporter": "python",
   "pygments_lexer": "ipython3",
   "version": "3.13.2"
  }
 },
 "nbformat": 4,
 "nbformat_minor": 5
}
