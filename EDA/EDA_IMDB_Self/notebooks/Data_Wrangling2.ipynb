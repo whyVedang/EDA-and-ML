{
 "cells": [
  {
   "cell_type": "markdown",
   "id": "d9b5d319",
   "metadata": {},
   "source": [
    "# 📝 Data Wrangling – Part 2\n",
    "🎯 Objective\n",
    "\n",
    "In this notebook, we extend our movie-level dataset by incorporating crew information: directors, writers, and other names associated with a title.\n",
    "This step ensures we can later explore relationships like:\n",
    "\n",
    "Director/Writer influence on ratings.\n",
    "\n",
    "Star power and collaborations."
   ]
  },
  {
   "cell_type": "code",
   "execution_count": null,
   "id": "476a7ff0",
   "metadata": {},
   "outputs": [],
   "source": [
    "import pandas as pd\n",
    "import numpy as np\n",
    "import seaborn as sns\n",
    "import matplotlib.pyplot as plt"
   ]
  },
  {
   "cell_type": "markdown",
   "id": "e336d359",
   "metadata": {},
   "source": [
    "📂 Step 1: Load Crew and Names Data\n",
    "\n",
    "title.crew → contains tconst, directors, and writers.\n",
    "\n",
    "name.basics → contains nconst, primaryName, birthYear, deathYear, and primaryProfession."
   ]
  },
  {
   "cell_type": "markdown",
   "id": "b7f44c1b",
   "metadata": {},
   "source": [
    "Title.crew"
   ]
  },
  {
   "cell_type": "code",
   "execution_count": 3,
   "id": "f6f10b0e",
   "metadata": {},
   "outputs": [
    {
     "data": {
      "application/vnd.microsoft.datawrangler.viewer.v0+json": {
       "columns": [
        {
         "name": "index",
         "rawType": "int64",
         "type": "integer"
        },
        {
         "name": "tconst",
         "rawType": "object",
         "type": "string"
        },
        {
         "name": "directors",
         "rawType": "object",
         "type": "string"
        },
        {
         "name": "writers",
         "rawType": "object",
         "type": "string"
        }
       ],
       "ref": "6d67c1ef-6133-4d21-add3-9d310c209362",
       "rows": [
        [
         "0",
         "tt0000001",
         "nm0005690",
         "\\N"
        ],
        [
         "1",
         "tt0000002",
         "nm0721526",
         "\\N"
        ],
        [
         "2",
         "tt0000003",
         "nm0721526",
         "nm0721526"
        ],
        [
         "3",
         "tt0000004",
         "nm0721526",
         "\\N"
        ],
        [
         "4",
         "tt0000005",
         "nm0005690",
         "\\N"
        ],
        [
         "5",
         "tt0000006",
         "nm0005690",
         "\\N"
        ],
        [
         "6",
         "tt0000007",
         "nm0005690,nm0374658",
         "\\N"
        ],
        [
         "7",
         "tt0000008",
         "nm0005690",
         "\\N"
        ],
        [
         "8",
         "tt0000009",
         "nm0085156",
         "nm0085156"
        ],
        [
         "9",
         "tt0000010",
         "nm0525910",
         "\\N"
        ],
        [
         "10",
         "tt0000011",
         "nm0804434",
         "\\N"
        ],
        [
         "11",
         "tt0000012",
         "nm0525908,nm0525910",
         "\\N"
        ],
        [
         "12",
         "tt0000013",
         "nm0525910",
         "\\N"
        ],
        [
         "13",
         "tt0000014",
         "nm0525910",
         "\\N"
        ],
        [
         "14",
         "tt0000015",
         "nm0721526",
         "nm0721526"
        ],
        [
         "15",
         "tt0000016",
         "nm0525910",
         "\\N"
        ],
        [
         "16",
         "tt0000017",
         "nm1587194,nm0804434",
         "\\N"
        ],
        [
         "17",
         "tt0000018",
         "nm0804434",
         "\\N"
        ],
        [
         "18",
         "tt0000019",
         "nm0932055",
         "\\N"
        ],
        [
         "19",
         "tt0000020",
         "nm0010291",
         "\\N"
        ],
        [
         "20",
         "tt0000022",
         "nm0525910",
         "\\N"
        ],
        [
         "21",
         "tt0000023",
         "nm0525910",
         "\\N"
        ],
        [
         "22",
         "tt0000024",
         "nm0010291",
         "\\N"
        ],
        [
         "23",
         "tt0000025",
         "nm0010291",
         "\\N"
        ],
        [
         "24",
         "tt0000026",
         "nm0525910",
         "\\N"
        ],
        [
         "25",
         "tt0000027",
         "nm0525910",
         "\\N"
        ],
        [
         "26",
         "tt0000028",
         "nm0525910",
         "\\N"
        ],
        [
         "27",
         "tt0000029",
         "nm0525910",
         "\\N"
        ],
        [
         "28",
         "tt0000030",
         "nm0010291,nm0666972",
         "\\N"
        ],
        [
         "29",
         "tt0000031",
         "nm0525910",
         "\\N"
        ],
        [
         "30",
         "tt0000032",
         "nm0804434",
         "\\N"
        ],
        [
         "31",
         "tt0000033",
         "nm0525910",
         "\\N"
        ],
        [
         "32",
         "tt0000034",
         "nm0617588",
         "\\N"
        ],
        [
         "33",
         "tt0000035",
         "nm0617588",
         "\\N"
        ],
        [
         "34",
         "tt0000036",
         "nm0005690",
         "nm0410331"
        ],
        [
         "35",
         "tt0000037",
         "nm0617588",
         "\\N"
        ],
        [
         "36",
         "tt0000038",
         "nm0374658",
         "\\N"
        ],
        [
         "37",
         "tt0000039",
         "\\N",
         "\\N"
        ],
        [
         "38",
         "tt0000040",
         "nm0617588",
         "\\N"
        ],
        [
         "39",
         "tt0000041",
         "nm0525910",
         "\\N"
        ],
        [
         "40",
         "tt0000042",
         "nm0617588",
         "\\N"
        ],
        [
         "41",
         "tt0000043",
         "nm0617588",
         "\\N"
        ],
        [
         "42",
         "tt0000044",
         "nm0617588",
         "\\N"
        ],
        [
         "43",
         "tt0000045",
         "nm0617588",
         "\\N"
        ],
        [
         "44",
         "tt0000046",
         "nm0617588",
         "\\N"
        ],
        [
         "45",
         "tt0000047",
         "nm0617588",
         "\\N"
        ],
        [
         "46",
         "tt0000048",
         "nm0010291",
         "\\N"
        ],
        [
         "47",
         "tt0000049",
         "nm0010291",
         "\\N"
        ],
        [
         "48",
         "tt0000050",
         "nm0617588",
         "\\N"
        ],
        [
         "49",
         "tt0000051",
         "nm0617588",
         "\\N"
        ]
       ],
       "shape": {
        "columns": 3,
        "rows": 11819909
       }
      },
      "text/html": [
       "<div>\n",
       "<style scoped>\n",
       "    .dataframe tbody tr th:only-of-type {\n",
       "        vertical-align: middle;\n",
       "    }\n",
       "\n",
       "    .dataframe tbody tr th {\n",
       "        vertical-align: top;\n",
       "    }\n",
       "\n",
       "    .dataframe thead th {\n",
       "        text-align: right;\n",
       "    }\n",
       "</style>\n",
       "<table border=\"1\" class=\"dataframe\">\n",
       "  <thead>\n",
       "    <tr style=\"text-align: right;\">\n",
       "      <th></th>\n",
       "      <th>tconst</th>\n",
       "      <th>directors</th>\n",
       "      <th>writers</th>\n",
       "    </tr>\n",
       "  </thead>\n",
       "  <tbody>\n",
       "    <tr>\n",
       "      <th>0</th>\n",
       "      <td>tt0000001</td>\n",
       "      <td>nm0005690</td>\n",
       "      <td>\\N</td>\n",
       "    </tr>\n",
       "    <tr>\n",
       "      <th>1</th>\n",
       "      <td>tt0000002</td>\n",
       "      <td>nm0721526</td>\n",
       "      <td>\\N</td>\n",
       "    </tr>\n",
       "    <tr>\n",
       "      <th>2</th>\n",
       "      <td>tt0000003</td>\n",
       "      <td>nm0721526</td>\n",
       "      <td>nm0721526</td>\n",
       "    </tr>\n",
       "    <tr>\n",
       "      <th>3</th>\n",
       "      <td>tt0000004</td>\n",
       "      <td>nm0721526</td>\n",
       "      <td>\\N</td>\n",
       "    </tr>\n",
       "    <tr>\n",
       "      <th>4</th>\n",
       "      <td>tt0000005</td>\n",
       "      <td>nm0005690</td>\n",
       "      <td>\\N</td>\n",
       "    </tr>\n",
       "    <tr>\n",
       "      <th>...</th>\n",
       "      <td>...</td>\n",
       "      <td>...</td>\n",
       "      <td>...</td>\n",
       "    </tr>\n",
       "    <tr>\n",
       "      <th>11819904</th>\n",
       "      <td>tt9916848</td>\n",
       "      <td>nm1485677</td>\n",
       "      <td>nm9187127,nm1485677,nm9826385,nm9299459,nm1628284</td>\n",
       "    </tr>\n",
       "    <tr>\n",
       "      <th>11819905</th>\n",
       "      <td>tt9916850</td>\n",
       "      <td>nm1485677</td>\n",
       "      <td>nm9187127,nm1485677,nm9826385,nm1628284</td>\n",
       "    </tr>\n",
       "    <tr>\n",
       "      <th>11819906</th>\n",
       "      <td>tt9916852</td>\n",
       "      <td>nm1485677</td>\n",
       "      <td>nm9187127,nm1485677,nm9826385,nm9299459,nm1628284</td>\n",
       "    </tr>\n",
       "    <tr>\n",
       "      <th>11819907</th>\n",
       "      <td>tt9916856</td>\n",
       "      <td>nm10538645</td>\n",
       "      <td>nm6951431</td>\n",
       "    </tr>\n",
       "    <tr>\n",
       "      <th>11819908</th>\n",
       "      <td>tt9916880</td>\n",
       "      <td>nm0996406</td>\n",
       "      <td>nm1482639,nm2586970</td>\n",
       "    </tr>\n",
       "  </tbody>\n",
       "</table>\n",
       "<p>11819909 rows × 3 columns</p>\n",
       "</div>"
      ],
      "text/plain": [
       "             tconst   directors  \\\n",
       "0         tt0000001   nm0005690   \n",
       "1         tt0000002   nm0721526   \n",
       "2         tt0000003   nm0721526   \n",
       "3         tt0000004   nm0721526   \n",
       "4         tt0000005   nm0005690   \n",
       "...             ...         ...   \n",
       "11819904  tt9916848   nm1485677   \n",
       "11819905  tt9916850   nm1485677   \n",
       "11819906  tt9916852   nm1485677   \n",
       "11819907  tt9916856  nm10538645   \n",
       "11819908  tt9916880   nm0996406   \n",
       "\n",
       "                                                    writers  \n",
       "0                                                        \\N  \n",
       "1                                                        \\N  \n",
       "2                                                 nm0721526  \n",
       "3                                                        \\N  \n",
       "4                                                        \\N  \n",
       "...                                                     ...  \n",
       "11819904  nm9187127,nm1485677,nm9826385,nm9299459,nm1628284  \n",
       "11819905            nm9187127,nm1485677,nm9826385,nm1628284  \n",
       "11819906  nm9187127,nm1485677,nm9826385,nm9299459,nm1628284  \n",
       "11819907                                          nm6951431  \n",
       "11819908                                nm1482639,nm2586970  \n",
       "\n",
       "[11819909 rows x 3 columns]"
      ]
     },
     "execution_count": 3,
     "metadata": {},
     "output_type": "execute_result"
    }
   ],
   "source": [
    "crew=pd.read_csv('../data/title.crew.tsv',sep='\\t',low_memory=False,encoding='utf-8')\n",
    "crew"
   ]
  },
  {
   "cell_type": "code",
   "execution_count": null,
   "id": "ce9a80b1",
   "metadata": {},
   "outputs": [],
   "source": [
    "df3=crew"
   ]
  },
  {
   "cell_type": "markdown",
   "id": "aba42a65",
   "metadata": {},
   "source": [
    "🧹 Step 2: Clean Crew Data\n",
    "\n",
    "Split multiple directors/writers (comma-separated) into lists.\n",
    "\n",
    "Handle missing or \"\\\\N\" values.\n",
    "\n",
    "Ensure all references map properly to valid nconst IDs."
   ]
  },
  {
   "cell_type": "code",
   "execution_count": null,
   "id": "a8f7ce5c",
   "metadata": {},
   "outputs": [
    {
     "name": "stdout",
     "output_type": "stream",
     "text": [
      "<class 'pandas.core.frame.DataFrame'>\n",
      "RangeIndex: 11819909 entries, 0 to 11819908\n",
      "Data columns (total 3 columns):\n",
      " #   Column     Dtype \n",
      "---  ------     ----- \n",
      " 0   movieID    object\n",
      " 1   directors  object\n",
      " 2   writers    object\n",
      "dtypes: object(3)\n",
      "memory usage: 270.5+ MB\n"
     ]
    }
   ],
   "source": [
    "df3.rename(columns={'tconst':\"movieID\"}, inplace=True)\n",
    "df3.info()"
   ]
  },
  {
   "cell_type": "code",
   "execution_count": null,
   "id": "b3861e15",
   "metadata": {},
   "outputs": [
    {
     "data": {
      "application/vnd.microsoft.datawrangler.viewer.v0+json": {
       "columns": [
        {
         "name": "index",
         "rawType": "object",
         "type": "string"
        },
        {
         "name": "0",
         "rawType": "int64",
         "type": "integer"
        }
       ],
       "ref": "b7d4e518-6857-4c2a-b42e-d5aab724237b",
       "rows": [
        [
         "movieID",
         "0"
        ],
        [
         "directors",
         "0"
        ],
        [
         "writers",
         "0"
        ]
       ],
       "shape": {
        "columns": 1,
        "rows": 3
       }
      },
      "text/plain": [
       "movieID      0\n",
       "directors    0\n",
       "writers      0\n",
       "dtype: int64"
      ]
     },
     "metadata": {},
     "output_type": "display_data"
    }
   ],
   "source": [
    "df3.isnull().sum()"
   ]
  },
  {
   "cell_type": "code",
   "execution_count": null,
   "id": "54e3cffe",
   "metadata": {},
   "outputs": [
    {
     "data": {
      "text/plain": [
       "array(['\\\\N', 'nm0721526', 'nm0085156', ..., 'nm10538639',\n",
       "       'nm6687687,nm10538642,nm9641593,nm10538643', 'nm6951431'],\n",
       "      shape=(1440990,), dtype=object)"
      ]
     },
     "metadata": {},
     "output_type": "display_data"
    }
   ],
   "source": [
    "df3['writers'].unique()"
   ]
  },
  {
   "cell_type": "code",
   "execution_count": null,
   "id": "be8c58c6",
   "metadata": {},
   "outputs": [],
   "source": [
    "df3['writers'] = df3['writers'].replace('\\\\N', np.nan)\n",
    "df3['directors'] = df3['directors'].replace('\\\\N', np.nan)"
   ]
  },
  {
   "cell_type": "code",
   "execution_count": null,
   "id": "affdd396",
   "metadata": {},
   "outputs": [
    {
     "data": {
      "application/vnd.microsoft.datawrangler.viewer.v0+json": {
       "columns": [
        {
         "name": "index",
         "rawType": "object",
         "type": "string"
        },
        {
         "name": "0",
         "rawType": "int64",
         "type": "integer"
        }
       ],
       "ref": "37139b86-572b-4cd4-86bc-a1992805a13d",
       "rows": [
        [
         "movieID",
         "0"
        ],
        [
         "directors",
         "5144671"
        ],
        [
         "writers",
         "5817101"
        ]
       ],
       "shape": {
        "columns": 1,
        "rows": 3
       }
      },
      "text/plain": [
       "movieID            0\n",
       "directors    5144671\n",
       "writers      5817101\n",
       "dtype: int64"
      ]
     },
     "metadata": {},
     "output_type": "display_data"
    }
   ],
   "source": [
    "df3.isnull().sum()"
   ]
  },
  {
   "cell_type": "code",
   "execution_count": null,
   "id": "3e944439",
   "metadata": {},
   "outputs": [
    {
     "data": {
      "application/vnd.microsoft.datawrangler.viewer.v0+json": {
       "columns": [
        {
         "name": "index",
         "rawType": "object",
         "type": "string"
        },
        {
         "name": "0",
         "rawType": "int64",
         "type": "integer"
        }
       ],
       "ref": "e431ea3c-f913-4ebf-88a0-64f13a3f9b70",
       "rows": [
        [
         "movieID",
         "0"
        ],
        [
         "directors",
         "0"
        ],
        [
         "writers",
         "0"
        ]
       ],
       "shape": {
        "columns": 1,
        "rows": 3
       }
      },
      "text/plain": [
       "movieID      0\n",
       "directors    0\n",
       "writers      0\n",
       "dtype: int64"
      ]
     },
     "metadata": {},
     "output_type": "display_data"
    }
   ],
   "source": [
    "df3.dropna(subset=['directors','writers'], inplace=True)\n",
    "df3.isnull().sum()"
   ]
  },
  {
   "cell_type": "code",
   "execution_count": null,
   "id": "9ec982b1",
   "metadata": {},
   "outputs": [],
   "source": [
    "df3.to_csv('../temp/crew.csv', index=False)"
   ]
  },
  {
   "cell_type": "code",
   "execution_count": null,
   "id": "b3edca33",
   "metadata": {},
   "outputs": [],
   "source": [
    "maindf1=pd.read_csv('../temp/maindfs/maindf1.csv')"
   ]
  },
  {
   "cell_type": "code",
   "execution_count": null,
   "id": "b222168b",
   "metadata": {},
   "outputs": [
    {
     "data": {
      "application/vnd.microsoft.datawrangler.viewer.v0+json": {
       "columns": [
        {
         "name": "index",
         "rawType": "int64",
         "type": "integer"
        },
        {
         "name": "movieID",
         "rawType": "object",
         "type": "string"
        },
        {
         "name": "title",
         "rawType": "object",
         "type": "string"
        },
        {
         "name": "year",
         "rawType": "Int64",
         "type": "integer"
        },
        {
         "name": "runtime",
         "rawType": "Int64",
         "type": "integer"
        },
        {
         "name": "genre",
         "rawType": "object",
         "type": "string"
        },
        {
         "name": "rating",
         "rawType": "float64",
         "type": "float"
        },
        {
         "name": "votes",
         "rawType": "float64",
         "type": "float"
        },
        {
         "name": "directors",
         "rawType": "object",
         "type": "unknown"
        },
        {
         "name": "writers",
         "rawType": "object",
         "type": "unknown"
        }
       ],
       "ref": "095ddd36-d913-4e7f-8780-dcdccdea90e1",
       "rows": [
        [
         "0",
         "tt0000009",
         "Miss Jerry",
         "1894",
         "45",
         "Romance",
         "5.3",
         "228.0",
         "nm0085156",
         "nm0085156"
        ],
        [
         "1",
         "tt0000147",
         "The Corbett-Fitzsimmons Fight",
         "1897",
         "100",
         "Documentary,News,Sport",
         "5.2",
         "564.0",
         null,
         null
        ],
        [
         "2",
         "tt0000574",
         "The Story of the Kelly Gang",
         "1906",
         "70",
         "Action,Adventure,Biography",
         "6.0",
         "1009.0",
         "nm0846879",
         "nm0846879"
        ],
        [
         "3",
         "tt0000591",
         "The Prodigal Son",
         "1907",
         "90",
         "Drama",
         "5.3",
         "34.0",
         "nm0141150",
         "nm0141150"
        ],
        [
         "4",
         "tt0000679",
         "The Fairylogue and Radio-Plays",
         "1908",
         "120",
         "Adventure,Fantasy",
         "5.0",
         "80.0",
         "nm0091767,nm0877783",
         "nm0000875,nm0877783"
        ],
        [
         "5",
         "tt0000941",
         "Locura de amor",
         "1909",
         "45",
         "Drama",
         "4.3",
         "33.0",
         "nm0063413,nm0550220",
         "nm0063413,nm0550220,nm0848502"
        ],
        [
         "6",
         "tt0001184",
         "Don Juan de Serrallonga",
         "1910",
         "58",
         "Adventure,Drama",
         "3.1",
         "24.0",
         "nm0063413,nm0550220",
         "nm0049370"
        ],
        [
         "7",
         "tt0001285",
         "The Life of Moses",
         "1909",
         "50",
         "Biography,Drama,Family",
         "5.2",
         "67.0",
         "nm0085865",
         "nm0676645,nm0836316"
        ],
        [
         "8",
         "tt0001498",
         "The Battle of Trafalgar",
         "1911",
         "51",
         "War",
         "8.1",
         "18.0",
         null,
         null
        ],
        [
         "9",
         "tt0001592",
         "In the Prime of Life",
         "1911",
         "52",
         "Drama",
         "5.8",
         "32.0",
         "nm0088881",
         "nm0491503"
        ],
        [
         "10",
         "tt0001614",
         "The Four Devils",
         "1911",
         "35",
         "Drama",
         "6.5",
         "44.0",
         "nm1003261,nm0227602,nm0511155,nm0742120",
         "nm0051911,nm0742120"
        ],
        [
         "11",
         "tt0001790",
         "Les Misérables, Part 1: Jean Valjean",
         "1913",
         "60",
         "Drama",
         "5.9",
         "61.0",
         "nm0135052",
         "nm0135053,nm0401076"
        ],
        [
         "12",
         "tt0001812",
         "Oedipus Rex",
         "1911",
         "56",
         "Drama",
         "5.5",
         "16.0",
         "nm0294276",
         "nm0814668"
        ],
        [
         "13",
         "tt0001892",
         "Den sorte drøm",
         "1911",
         "53",
         "Drama",
         "5.8",
         "285.0",
         "nm0300487",
         "nm0300487,nm2131092"
        ],
        [
         "14",
         "tt0001911",
         "Nell Gwynne",
         "1911",
         "50",
         "Biography,Drama,History",
         "3.6",
         "26.0",
         "nm0519315",
         "nm0233512,nm0450440,nm0519315"
        ],
        [
         "15",
         "tt0001964",
         "The Traitress",
         "1911",
         "48",
         "Drama",
         "5.8",
         "116.0",
         "nm0300487",
         "nm0954390"
        ],
        [
         "16",
         "tt0001998",
         "The Adventures of Lieutenant Petrosino",
         "1912",
         "47",
         "Drama",
         "4.5",
         "45.0",
         null,
         null
        ],
        [
         "17",
         "tt0002022",
         "Anfisa",
         "1912",
         "45",
         "Drama",
         "6.0",
         "14.0",
         "nm0698839",
         "nm0028916"
        ],
        [
         "18",
         "tt0002026",
         "Anny - Story of a Prostitute",
         "1912",
         "68",
         "Drama,Romance",
         "4.5",
         "17.0",
         "nm0259235",
         "nm0259235"
        ],
        [
         "19",
         "tt0002101",
         "Cleopatra",
         "1912",
         "100",
         "Drama,History",
         "5.1",
         "650.0",
         "nm0309130",
         "nm0765026,nm0309130"
        ],
        [
         "20",
         "tt0002130",
         "Dante's Inferno",
         "1911",
         "71",
         "Adventure,Drama,Fantasy",
         "7.0",
         "3875.0",
         "nm0078205,nm0655824,nm0209738",
         "nm0019604"
        ],
        [
         "21",
         "tt0002153",
         "The Great Circus Catastrophe",
         "1912",
         "45",
         "Drama",
         "5.9",
         "87.0",
         "nm0773654",
         "nm0458071"
        ],
        [
         "22",
         "tt0002186",
         "The Flying Circus",
         "1912",
         "46",
         "Drama",
         "6.4",
         "157.0",
         "nm0511155",
         "nm1921007,nm0511155"
        ],
        [
         "23",
         "tt0002199",
         "From the Manger to the Cross",
         "1912",
         "71",
         "Biography,Drama",
         "5.8",
         "686.0",
         "nm0646058",
         "nm0310155"
        ],
        [
         "24",
         "tt0002423",
         "Passion",
         "1919",
         "113",
         "Biography,Drama,Romance",
         "6.6",
         "1087.0",
         "nm0523932",
         "nm0266183,nm0473134"
        ],
        [
         "25",
         "tt0002445",
         "Quo Vadis?",
         "1913",
         "120",
         "Drama,History",
         "6.1",
         "502.0",
         "nm0345500",
         "nm0797197,nm0345500"
        ],
        [
         "26",
         "tt0002452",
         "The Independence of Romania",
         "1912",
         "120",
         "History,War",
         "6.4",
         "281.0",
         "nm0218404,nm0108345",
         "nm0108345,nm0218404,nm2384492,nm0636620"
        ],
        [
         "27",
         "tt0002461",
         "The Life and Death of King Richard III",
         "1912",
         "55",
         "Drama",
         "5.7",
         "343.0",
         "nm0130633,nm0443857",
         "nm0443857,nm0000636"
        ],
        [
         "28",
         "tt0002500",
         "The Black Chancellor",
         "1912",
         "48",
         "Drama",
         "5.9",
         "31.0",
         "nm0088881",
         "nm0775725"
        ],
        [
         "29",
         "tt0002514",
         "Saved in Mid-Air",
         "1912",
         "60",
         "Drama",
         "4.9",
         "19.0",
         "nm0830249",
         "nm0129300,nm0536368,nm0830249"
        ],
        [
         "30",
         "tt0002574",
         "What Happened to Mary",
         "1912",
         "150",
         "Action,Drama,Thriller",
         "5.9",
         "38.0",
         "nm0102643",
         "nm0687742"
        ],
        [
         "31",
         "tt0002588",
         "Zigomar contre Nick Carter",
         "1912",
         "48",
         "Crime,Thriller",
         "5.9",
         "58.0",
         "nm0419327",
         "nm11502077,nm0419327,nm0768577"
        ],
        [
         "32",
         "tt0002605",
         "The Adventures of Kathlyn",
         "1913",
         "300",
         "Adventure",
         "5.5",
         "49.0",
         "nm0334918",
         "nm0569805,nm0929808"
        ],
        [
         "33",
         "tt0002628",
         "Der Andere",
         "1913",
         "48",
         "Drama,Thriller",
         "5.4",
         "128.0",
         "nm0533048",
         "nm0511317,nm0533048,nm1857018"
        ],
        [
         "34",
         "tt0002637",
         "Arizona",
         "1913",
         "45",
         "Drama,Western",
         "7.5",
         "21.0",
         "nm0858501",
         "nm0858501"
        ],
        [
         "35",
         "tt0002642",
         "The Heir to Skjoldborg",
         "1914",
         "50",
         "Drama",
         "5.2",
         "11.0",
         "nm0169878",
         "nm4798267,nm1437660"
        ],
        [
         "36",
         "tt0002646",
         "Atlantis",
         "1913",
         "121",
         "Drama",
         "6.5",
         "516.0",
         "nm0088881",
         "nm1834296,nm0369458,nm2421815"
        ],
        [
         "37",
         "tt0002669",
         "The Battle of Gettysburg",
         "1913",
         "48",
         "Drama,War",
         "6.6",
         "42.0",
         "nm0316794,nm0408436",
         "nm0113224,nm0408436,nm0818080,nm0837989"
        ],
        [
         "38",
         "tt0002767",
         "The Count of Monte Cristo",
         "1913",
         "69",
         "Drama,History",
         "5.6",
         "74.0",
         "nm0325448,nm0692105",
         "nm0241416,nm0270007"
        ],
        [
         "39",
         "tt0002820",
         "East Lynne",
         "1913",
         "69",
         "Drama",
         "7.3",
         "13.0",
         "nm0354790",
         "nm0257385,nm0939904"
        ],
        [
         "40",
         "tt0002822",
         "What 80 Million Women Want",
         "1913",
         "56",
         "Crime,Drama,Romance",
         "4.1",
         "57.0",
         "nm6955979",
         "nm0775976,nm0177597,nm0940689"
        ],
        [
         "41",
         "tt0002832",
         "Evangeline",
         "1914",
         "50",
         "Drama",
         "6.8",
         "27.0",
         "nm0146957,nm0838052",
         "nm0519303,nm1149906"
        ],
        [
         "42",
         "tt0002844",
         "Fantômas: In the Shadow of the Guillotine",
         "1913",
         "54",
         "Crime,Drama",
         "6.9",
         "2655.0",
         "nm0275421",
         "nm0019855,nm0275421,nm0816232"
        ],
        [
         "43",
         "tt0002885",
         "From Dusk to Dawn",
         "1913",
         "90",
         "Drama",
         "5.9",
         "114.0",
         "nm0938041",
         "nm0938041"
        ],
        [
         "44",
         "tt0002898",
         "Germinal; or, The Toll of Labor",
         "1913",
         "150",
         "Drama",
         "6.9",
         "191.0",
         "nm0135052",
         "nm0135052,nm0957652"
        ],
        [
         "45",
         "tt0002917",
         "Brother Against Brother",
         "1913",
         "51",
         "Drama",
         "5.6",
         "49.0",
         "nm0830249",
         "nm0528064,nm0957652"
        ],
        [
         "46",
         "tt0002922",
         "Hamlet",
         "1913",
         "64",
         "Drama",
         "4.9",
         "85.0",
         "nm0687575",
         "nm0000636"
        ],
        [
         "47",
         "tt0002973",
         "Dr. Mawson in the Antarctic",
         "1913",
         "68",
         "Documentary",
         "5.7",
         "29.0",
         null,
         null
        ],
        [
         "48",
         "tt0003002",
         "The Firefly",
         "1913",
         "47",
         "Drama",
         "5.5",
         "28.0",
         null,
         null
        ],
        [
         "49",
         "tt0003006",
         "In the Bishop's Carriage",
         "1913",
         "50",
         "Crime,Drama",
         "5.6",
         "28.0",
         "nm0205986,nm0692105",
         "nm0585128,nm0775976"
        ]
       ],
       "shape": {
        "columns": 9,
        "rows": 293603
       }
      },
      "text/html": [
       "<div>\n",
       "<style scoped>\n",
       "    .dataframe tbody tr th:only-of-type {\n",
       "        vertical-align: middle;\n",
       "    }\n",
       "\n",
       "    .dataframe tbody tr th {\n",
       "        vertical-align: top;\n",
       "    }\n",
       "\n",
       "    .dataframe thead th {\n",
       "        text-align: right;\n",
       "    }\n",
       "</style>\n",
       "<table border=\"1\" class=\"dataframe\">\n",
       "  <thead>\n",
       "    <tr style=\"text-align: right;\">\n",
       "      <th></th>\n",
       "      <th>movieID</th>\n",
       "      <th>title</th>\n",
       "      <th>year</th>\n",
       "      <th>runtime</th>\n",
       "      <th>genre</th>\n",
       "      <th>rating</th>\n",
       "      <th>votes</th>\n",
       "      <th>directors</th>\n",
       "      <th>writers</th>\n",
       "    </tr>\n",
       "  </thead>\n",
       "  <tbody>\n",
       "    <tr>\n",
       "      <th>0</th>\n",
       "      <td>tt0000009</td>\n",
       "      <td>Miss Jerry</td>\n",
       "      <td>1894</td>\n",
       "      <td>45</td>\n",
       "      <td>Romance</td>\n",
       "      <td>5.3</td>\n",
       "      <td>228.0</td>\n",
       "      <td>nm0085156</td>\n",
       "      <td>nm0085156</td>\n",
       "    </tr>\n",
       "    <tr>\n",
       "      <th>1</th>\n",
       "      <td>tt0000147</td>\n",
       "      <td>The Corbett-Fitzsimmons Fight</td>\n",
       "      <td>1897</td>\n",
       "      <td>100</td>\n",
       "      <td>Documentary,News,Sport</td>\n",
       "      <td>5.2</td>\n",
       "      <td>564.0</td>\n",
       "      <td>NaN</td>\n",
       "      <td>NaN</td>\n",
       "    </tr>\n",
       "    <tr>\n",
       "      <th>2</th>\n",
       "      <td>tt0000574</td>\n",
       "      <td>The Story of the Kelly Gang</td>\n",
       "      <td>1906</td>\n",
       "      <td>70</td>\n",
       "      <td>Action,Adventure,Biography</td>\n",
       "      <td>6.0</td>\n",
       "      <td>1009.0</td>\n",
       "      <td>nm0846879</td>\n",
       "      <td>nm0846879</td>\n",
       "    </tr>\n",
       "    <tr>\n",
       "      <th>3</th>\n",
       "      <td>tt0000591</td>\n",
       "      <td>The Prodigal Son</td>\n",
       "      <td>1907</td>\n",
       "      <td>90</td>\n",
       "      <td>Drama</td>\n",
       "      <td>5.3</td>\n",
       "      <td>34.0</td>\n",
       "      <td>nm0141150</td>\n",
       "      <td>nm0141150</td>\n",
       "    </tr>\n",
       "    <tr>\n",
       "      <th>4</th>\n",
       "      <td>tt0000679</td>\n",
       "      <td>The Fairylogue and Radio-Plays</td>\n",
       "      <td>1908</td>\n",
       "      <td>120</td>\n",
       "      <td>Adventure,Fantasy</td>\n",
       "      <td>5.0</td>\n",
       "      <td>80.0</td>\n",
       "      <td>nm0091767,nm0877783</td>\n",
       "      <td>nm0000875,nm0877783</td>\n",
       "    </tr>\n",
       "    <tr>\n",
       "      <th>...</th>\n",
       "      <td>...</td>\n",
       "      <td>...</td>\n",
       "      <td>...</td>\n",
       "      <td>...</td>\n",
       "      <td>...</td>\n",
       "      <td>...</td>\n",
       "      <td>...</td>\n",
       "      <td>...</td>\n",
       "      <td>...</td>\n",
       "    </tr>\n",
       "    <tr>\n",
       "      <th>293598</th>\n",
       "      <td>tt9916190</td>\n",
       "      <td>Safeguard</td>\n",
       "      <td>2020</td>\n",
       "      <td>95</td>\n",
       "      <td>Action,Adventure,Thriller</td>\n",
       "      <td>3.6</td>\n",
       "      <td>264.0</td>\n",
       "      <td>nm7308376</td>\n",
       "      <td>nm7308376</td>\n",
       "    </tr>\n",
       "    <tr>\n",
       "      <th>293599</th>\n",
       "      <td>tt9916270</td>\n",
       "      <td>Il talento del calabrone</td>\n",
       "      <td>2020</td>\n",
       "      <td>84</td>\n",
       "      <td>Thriller</td>\n",
       "      <td>5.8</td>\n",
       "      <td>1512.0</td>\n",
       "      <td>nm1480867</td>\n",
       "      <td>nm1480867,nm10538402,nm5584269</td>\n",
       "    </tr>\n",
       "    <tr>\n",
       "      <th>293600</th>\n",
       "      <td>tt9916362</td>\n",
       "      <td>Coven</td>\n",
       "      <td>2020</td>\n",
       "      <td>92</td>\n",
       "      <td>Drama,History</td>\n",
       "      <td>6.4</td>\n",
       "      <td>6098.0</td>\n",
       "      <td>nm1893148</td>\n",
       "      <td>nm1893148,nm3471432</td>\n",
       "    </tr>\n",
       "    <tr>\n",
       "      <th>293601</th>\n",
       "      <td>tt9916538</td>\n",
       "      <td>Kuambil Lagi Hatiku</td>\n",
       "      <td>2019</td>\n",
       "      <td>123</td>\n",
       "      <td>Drama</td>\n",
       "      <td>7.6</td>\n",
       "      <td>12.0</td>\n",
       "      <td>nm4457074</td>\n",
       "      <td>nm4843252,nm4900525,nm2679404</td>\n",
       "    </tr>\n",
       "    <tr>\n",
       "      <th>293602</th>\n",
       "      <td>tt9916730</td>\n",
       "      <td>6 Gunn</td>\n",
       "      <td>2017</td>\n",
       "      <td>116</td>\n",
       "      <td>Drama</td>\n",
       "      <td>7.0</td>\n",
       "      <td>13.0</td>\n",
       "      <td>nm10538612</td>\n",
       "      <td>nm10538612</td>\n",
       "    </tr>\n",
       "  </tbody>\n",
       "</table>\n",
       "<p>293603 rows × 9 columns</p>\n",
       "</div>"
      ],
      "text/plain": [
       "          movieID                           title  year  runtime  \\\n",
       "0       tt0000009                      Miss Jerry  1894       45   \n",
       "1       tt0000147   The Corbett-Fitzsimmons Fight  1897      100   \n",
       "2       tt0000574     The Story of the Kelly Gang  1906       70   \n",
       "3       tt0000591                The Prodigal Son  1907       90   \n",
       "4       tt0000679  The Fairylogue and Radio-Plays  1908      120   \n",
       "...           ...                             ...   ...      ...   \n",
       "293598  tt9916190                       Safeguard  2020       95   \n",
       "293599  tt9916270        Il talento del calabrone  2020       84   \n",
       "293600  tt9916362                           Coven  2020       92   \n",
       "293601  tt9916538             Kuambil Lagi Hatiku  2019      123   \n",
       "293602  tt9916730                          6 Gunn  2017      116   \n",
       "\n",
       "                             genre  rating   votes            directors  \\\n",
       "0                          Romance     5.3   228.0            nm0085156   \n",
       "1           Documentary,News,Sport     5.2   564.0                  NaN   \n",
       "2       Action,Adventure,Biography     6.0  1009.0            nm0846879   \n",
       "3                            Drama     5.3    34.0            nm0141150   \n",
       "4                Adventure,Fantasy     5.0    80.0  nm0091767,nm0877783   \n",
       "...                            ...     ...     ...                  ...   \n",
       "293598   Action,Adventure,Thriller     3.6   264.0            nm7308376   \n",
       "293599                    Thriller     5.8  1512.0            nm1480867   \n",
       "293600               Drama,History     6.4  6098.0            nm1893148   \n",
       "293601                       Drama     7.6    12.0            nm4457074   \n",
       "293602                       Drama     7.0    13.0           nm10538612   \n",
       "\n",
       "                               writers  \n",
       "0                            nm0085156  \n",
       "1                                  NaN  \n",
       "2                            nm0846879  \n",
       "3                            nm0141150  \n",
       "4                  nm0000875,nm0877783  \n",
       "...                                ...  \n",
       "293598                       nm7308376  \n",
       "293599  nm1480867,nm10538402,nm5584269  \n",
       "293600             nm1893148,nm3471432  \n",
       "293601   nm4843252,nm4900525,nm2679404  \n",
       "293602                      nm10538612  \n",
       "\n",
       "[293603 rows x 9 columns]"
      ]
     },
     "metadata": {},
     "output_type": "display_data"
    }
   ],
   "source": [
    "maindf2=maindf1.merge(df3, on='movieID', how='left')\n",
    "maindf2"
   ]
  },
  {
   "cell_type": "code",
   "execution_count": null,
   "id": "e8612caa",
   "metadata": {},
   "outputs": [
    {
     "data": {
      "application/vnd.microsoft.datawrangler.viewer.v0+json": {
       "columns": [
        {
         "name": "index",
         "rawType": "int64",
         "type": "integer"
        },
        {
         "name": "movieID",
         "rawType": "object",
         "type": "string"
        },
        {
         "name": "title",
         "rawType": "object",
         "type": "string"
        },
        {
         "name": "year",
         "rawType": "Int64",
         "type": "integer"
        },
        {
         "name": "runtime",
         "rawType": "Int64",
         "type": "integer"
        },
        {
         "name": "genre",
         "rawType": "object",
         "type": "string"
        },
        {
         "name": "rating",
         "rawType": "float64",
         "type": "float"
        },
        {
         "name": "votes",
         "rawType": "float64",
         "type": "float"
        },
        {
         "name": "directors",
         "rawType": "object",
         "type": "string"
        },
        {
         "name": "writers",
         "rawType": "object",
         "type": "string"
        }
       ],
       "ref": "f058c447-9cc2-4c5f-8226-359d5bb2fe2f",
       "rows": [
        [
         "0",
         "tt0000009",
         "Miss Jerry",
         "1894",
         "45",
         "Romance",
         "5.3",
         "228.0",
         "nm0085156",
         "nm0085156"
        ],
        [
         "2",
         "tt0000574",
         "The Story of the Kelly Gang",
         "1906",
         "70",
         "Action,Adventure,Biography",
         "6.0",
         "1009.0",
         "nm0846879",
         "nm0846879"
        ],
        [
         "3",
         "tt0000591",
         "The Prodigal Son",
         "1907",
         "90",
         "Drama",
         "5.3",
         "34.0",
         "nm0141150",
         "nm0141150"
        ],
        [
         "4",
         "tt0000679",
         "The Fairylogue and Radio-Plays",
         "1908",
         "120",
         "Adventure,Fantasy",
         "5.0",
         "80.0",
         "nm0091767,nm0877783",
         "nm0000875,nm0877783"
        ],
        [
         "5",
         "tt0000941",
         "Locura de amor",
         "1909",
         "45",
         "Drama",
         "4.3",
         "33.0",
         "nm0063413,nm0550220",
         "nm0063413,nm0550220,nm0848502"
        ],
        [
         "6",
         "tt0001184",
         "Don Juan de Serrallonga",
         "1910",
         "58",
         "Adventure,Drama",
         "3.1",
         "24.0",
         "nm0063413,nm0550220",
         "nm0049370"
        ],
        [
         "7",
         "tt0001285",
         "The Life of Moses",
         "1909",
         "50",
         "Biography,Drama,Family",
         "5.2",
         "67.0",
         "nm0085865",
         "nm0676645,nm0836316"
        ],
        [
         "9",
         "tt0001592",
         "In the Prime of Life",
         "1911",
         "52",
         "Drama",
         "5.8",
         "32.0",
         "nm0088881",
         "nm0491503"
        ],
        [
         "10",
         "tt0001614",
         "The Four Devils",
         "1911",
         "35",
         "Drama",
         "6.5",
         "44.0",
         "nm1003261,nm0227602,nm0511155,nm0742120",
         "nm0051911,nm0742120"
        ],
        [
         "11",
         "tt0001790",
         "Les Misérables, Part 1: Jean Valjean",
         "1913",
         "60",
         "Drama",
         "5.9",
         "61.0",
         "nm0135052",
         "nm0135053,nm0401076"
        ],
        [
         "12",
         "tt0001812",
         "Oedipus Rex",
         "1911",
         "56",
         "Drama",
         "5.5",
         "16.0",
         "nm0294276",
         "nm0814668"
        ],
        [
         "13",
         "tt0001892",
         "Den sorte drøm",
         "1911",
         "53",
         "Drama",
         "5.8",
         "285.0",
         "nm0300487",
         "nm0300487,nm2131092"
        ],
        [
         "14",
         "tt0001911",
         "Nell Gwynne",
         "1911",
         "50",
         "Biography,Drama,History",
         "3.6",
         "26.0",
         "nm0519315",
         "nm0233512,nm0450440,nm0519315"
        ],
        [
         "15",
         "tt0001964",
         "The Traitress",
         "1911",
         "48",
         "Drama",
         "5.8",
         "116.0",
         "nm0300487",
         "nm0954390"
        ],
        [
         "17",
         "tt0002022",
         "Anfisa",
         "1912",
         "45",
         "Drama",
         "6.0",
         "14.0",
         "nm0698839",
         "nm0028916"
        ],
        [
         "18",
         "tt0002026",
         "Anny - Story of a Prostitute",
         "1912",
         "68",
         "Drama,Romance",
         "4.5",
         "17.0",
         "nm0259235",
         "nm0259235"
        ],
        [
         "19",
         "tt0002101",
         "Cleopatra",
         "1912",
         "100",
         "Drama,History",
         "5.1",
         "650.0",
         "nm0309130",
         "nm0765026,nm0309130"
        ],
        [
         "20",
         "tt0002130",
         "Dante's Inferno",
         "1911",
         "71",
         "Adventure,Drama,Fantasy",
         "7.0",
         "3875.0",
         "nm0078205,nm0655824,nm0209738",
         "nm0019604"
        ],
        [
         "21",
         "tt0002153",
         "The Great Circus Catastrophe",
         "1912",
         "45",
         "Drama",
         "5.9",
         "87.0",
         "nm0773654",
         "nm0458071"
        ],
        [
         "22",
         "tt0002186",
         "The Flying Circus",
         "1912",
         "46",
         "Drama",
         "6.4",
         "157.0",
         "nm0511155",
         "nm1921007,nm0511155"
        ],
        [
         "23",
         "tt0002199",
         "From the Manger to the Cross",
         "1912",
         "71",
         "Biography,Drama",
         "5.8",
         "686.0",
         "nm0646058",
         "nm0310155"
        ],
        [
         "24",
         "tt0002423",
         "Passion",
         "1919",
         "113",
         "Biography,Drama,Romance",
         "6.6",
         "1087.0",
         "nm0523932",
         "nm0266183,nm0473134"
        ],
        [
         "25",
         "tt0002445",
         "Quo Vadis?",
         "1913",
         "120",
         "Drama,History",
         "6.1",
         "502.0",
         "nm0345500",
         "nm0797197,nm0345500"
        ],
        [
         "26",
         "tt0002452",
         "The Independence of Romania",
         "1912",
         "120",
         "History,War",
         "6.4",
         "281.0",
         "nm0218404,nm0108345",
         "nm0108345,nm0218404,nm2384492,nm0636620"
        ],
        [
         "27",
         "tt0002461",
         "The Life and Death of King Richard III",
         "1912",
         "55",
         "Drama",
         "5.7",
         "343.0",
         "nm0130633,nm0443857",
         "nm0443857,nm0000636"
        ],
        [
         "28",
         "tt0002500",
         "The Black Chancellor",
         "1912",
         "48",
         "Drama",
         "5.9",
         "31.0",
         "nm0088881",
         "nm0775725"
        ],
        [
         "29",
         "tt0002514",
         "Saved in Mid-Air",
         "1912",
         "60",
         "Drama",
         "4.9",
         "19.0",
         "nm0830249",
         "nm0129300,nm0536368,nm0830249"
        ],
        [
         "30",
         "tt0002574",
         "What Happened to Mary",
         "1912",
         "150",
         "Action,Drama,Thriller",
         "5.9",
         "38.0",
         "nm0102643",
         "nm0687742"
        ],
        [
         "31",
         "tt0002588",
         "Zigomar contre Nick Carter",
         "1912",
         "48",
         "Crime,Thriller",
         "5.9",
         "58.0",
         "nm0419327",
         "nm11502077,nm0419327,nm0768577"
        ],
        [
         "32",
         "tt0002605",
         "The Adventures of Kathlyn",
         "1913",
         "300",
         "Adventure",
         "5.5",
         "49.0",
         "nm0334918",
         "nm0569805,nm0929808"
        ],
        [
         "33",
         "tt0002628",
         "Der Andere",
         "1913",
         "48",
         "Drama,Thriller",
         "5.4",
         "128.0",
         "nm0533048",
         "nm0511317,nm0533048,nm1857018"
        ],
        [
         "34",
         "tt0002637",
         "Arizona",
         "1913",
         "45",
         "Drama,Western",
         "7.5",
         "21.0",
         "nm0858501",
         "nm0858501"
        ],
        [
         "35",
         "tt0002642",
         "The Heir to Skjoldborg",
         "1914",
         "50",
         "Drama",
         "5.2",
         "11.0",
         "nm0169878",
         "nm4798267,nm1437660"
        ],
        [
         "36",
         "tt0002646",
         "Atlantis",
         "1913",
         "121",
         "Drama",
         "6.5",
         "516.0",
         "nm0088881",
         "nm1834296,nm0369458,nm2421815"
        ],
        [
         "37",
         "tt0002669",
         "The Battle of Gettysburg",
         "1913",
         "48",
         "Drama,War",
         "6.6",
         "42.0",
         "nm0316794,nm0408436",
         "nm0113224,nm0408436,nm0818080,nm0837989"
        ],
        [
         "38",
         "tt0002767",
         "The Count of Monte Cristo",
         "1913",
         "69",
         "Drama,History",
         "5.6",
         "74.0",
         "nm0325448,nm0692105",
         "nm0241416,nm0270007"
        ],
        [
         "39",
         "tt0002820",
         "East Lynne",
         "1913",
         "69",
         "Drama",
         "7.3",
         "13.0",
         "nm0354790",
         "nm0257385,nm0939904"
        ],
        [
         "40",
         "tt0002822",
         "What 80 Million Women Want",
         "1913",
         "56",
         "Crime,Drama,Romance",
         "4.1",
         "57.0",
         "nm6955979",
         "nm0775976,nm0177597,nm0940689"
        ],
        [
         "41",
         "tt0002832",
         "Evangeline",
         "1914",
         "50",
         "Drama",
         "6.8",
         "27.0",
         "nm0146957,nm0838052",
         "nm0519303,nm1149906"
        ],
        [
         "42",
         "tt0002844",
         "Fantômas: In the Shadow of the Guillotine",
         "1913",
         "54",
         "Crime,Drama",
         "6.9",
         "2655.0",
         "nm0275421",
         "nm0019855,nm0275421,nm0816232"
        ],
        [
         "43",
         "tt0002885",
         "From Dusk to Dawn",
         "1913",
         "90",
         "Drama",
         "5.9",
         "114.0",
         "nm0938041",
         "nm0938041"
        ],
        [
         "44",
         "tt0002898",
         "Germinal; or, The Toll of Labor",
         "1913",
         "150",
         "Drama",
         "6.9",
         "191.0",
         "nm0135052",
         "nm0135052,nm0957652"
        ],
        [
         "45",
         "tt0002917",
         "Brother Against Brother",
         "1913",
         "51",
         "Drama",
         "5.6",
         "49.0",
         "nm0830249",
         "nm0528064,nm0957652"
        ],
        [
         "46",
         "tt0002922",
         "Hamlet",
         "1913",
         "64",
         "Drama",
         "4.9",
         "85.0",
         "nm0687575",
         "nm0000636"
        ],
        [
         "49",
         "tt0003006",
         "In the Bishop's Carriage",
         "1913",
         "50",
         "Crime,Drama",
         "5.6",
         "28.0",
         "nm0205986,nm0692105",
         "nm0585128,nm0775976"
        ],
        [
         "50",
         "tt0003014",
         "Ingeborg Holm",
         "1913",
         "96",
         "Drama",
         "7.0",
         "1546.0",
         "nm0803705",
         "nm0472236,nm0803705"
        ],
        [
         "51",
         "tt0003015",
         "Die Insel der Seligen",
         "1913",
         "49",
         "Comedy,Fantasy",
         "4.6",
         "80.0",
         "nm0718121",
         "nm0434688"
        ],
        [
         "52",
         "tt0003022",
         "Ivanhoe",
         "1913",
         "53",
         "Adventure,Drama,Romance",
         "5.5",
         "116.0",
         "nm0107543",
         "nm0107543,nm1015268,nm1206019,nm0779797"
        ],
        [
         "53",
         "tt0003037",
         "Fantomas: The Man in Black",
         "1913",
         "61",
         "Crime,Drama",
         "6.9",
         "1803.0",
         "nm0275421",
         "nm0019855,nm0275421,nm0816232"
        ],
        [
         "54",
         "tt0003102",
         "Love Everlasting",
         "1914",
         "90",
         "Drama",
         "6.1",
         "169.0",
         "nm0143333",
         "nm0094343,nm0598293"
        ]
       ],
       "shape": {
        "columns": 9,
        "rows": 262240
       }
      },
      "text/html": [
       "<div>\n",
       "<style scoped>\n",
       "    .dataframe tbody tr th:only-of-type {\n",
       "        vertical-align: middle;\n",
       "    }\n",
       "\n",
       "    .dataframe tbody tr th {\n",
       "        vertical-align: top;\n",
       "    }\n",
       "\n",
       "    .dataframe thead th {\n",
       "        text-align: right;\n",
       "    }\n",
       "</style>\n",
       "<table border=\"1\" class=\"dataframe\">\n",
       "  <thead>\n",
       "    <tr style=\"text-align: right;\">\n",
       "      <th></th>\n",
       "      <th>movieID</th>\n",
       "      <th>title</th>\n",
       "      <th>year</th>\n",
       "      <th>runtime</th>\n",
       "      <th>genre</th>\n",
       "      <th>rating</th>\n",
       "      <th>votes</th>\n",
       "      <th>directors</th>\n",
       "      <th>writers</th>\n",
       "    </tr>\n",
       "  </thead>\n",
       "  <tbody>\n",
       "    <tr>\n",
       "      <th>0</th>\n",
       "      <td>tt0000009</td>\n",
       "      <td>Miss Jerry</td>\n",
       "      <td>1894</td>\n",
       "      <td>45</td>\n",
       "      <td>Romance</td>\n",
       "      <td>5.3</td>\n",
       "      <td>228.0</td>\n",
       "      <td>nm0085156</td>\n",
       "      <td>nm0085156</td>\n",
       "    </tr>\n",
       "    <tr>\n",
       "      <th>2</th>\n",
       "      <td>tt0000574</td>\n",
       "      <td>The Story of the Kelly Gang</td>\n",
       "      <td>1906</td>\n",
       "      <td>70</td>\n",
       "      <td>Action,Adventure,Biography</td>\n",
       "      <td>6.0</td>\n",
       "      <td>1009.0</td>\n",
       "      <td>nm0846879</td>\n",
       "      <td>nm0846879</td>\n",
       "    </tr>\n",
       "    <tr>\n",
       "      <th>3</th>\n",
       "      <td>tt0000591</td>\n",
       "      <td>The Prodigal Son</td>\n",
       "      <td>1907</td>\n",
       "      <td>90</td>\n",
       "      <td>Drama</td>\n",
       "      <td>5.3</td>\n",
       "      <td>34.0</td>\n",
       "      <td>nm0141150</td>\n",
       "      <td>nm0141150</td>\n",
       "    </tr>\n",
       "    <tr>\n",
       "      <th>4</th>\n",
       "      <td>tt0000679</td>\n",
       "      <td>The Fairylogue and Radio-Plays</td>\n",
       "      <td>1908</td>\n",
       "      <td>120</td>\n",
       "      <td>Adventure,Fantasy</td>\n",
       "      <td>5.0</td>\n",
       "      <td>80.0</td>\n",
       "      <td>nm0091767,nm0877783</td>\n",
       "      <td>nm0000875,nm0877783</td>\n",
       "    </tr>\n",
       "    <tr>\n",
       "      <th>5</th>\n",
       "      <td>tt0000941</td>\n",
       "      <td>Locura de amor</td>\n",
       "      <td>1909</td>\n",
       "      <td>45</td>\n",
       "      <td>Drama</td>\n",
       "      <td>4.3</td>\n",
       "      <td>33.0</td>\n",
       "      <td>nm0063413,nm0550220</td>\n",
       "      <td>nm0063413,nm0550220,nm0848502</td>\n",
       "    </tr>\n",
       "    <tr>\n",
       "      <th>...</th>\n",
       "      <td>...</td>\n",
       "      <td>...</td>\n",
       "      <td>...</td>\n",
       "      <td>...</td>\n",
       "      <td>...</td>\n",
       "      <td>...</td>\n",
       "      <td>...</td>\n",
       "      <td>...</td>\n",
       "      <td>...</td>\n",
       "    </tr>\n",
       "    <tr>\n",
       "      <th>293598</th>\n",
       "      <td>tt9916190</td>\n",
       "      <td>Safeguard</td>\n",
       "      <td>2020</td>\n",
       "      <td>95</td>\n",
       "      <td>Action,Adventure,Thriller</td>\n",
       "      <td>3.6</td>\n",
       "      <td>264.0</td>\n",
       "      <td>nm7308376</td>\n",
       "      <td>nm7308376</td>\n",
       "    </tr>\n",
       "    <tr>\n",
       "      <th>293599</th>\n",
       "      <td>tt9916270</td>\n",
       "      <td>Il talento del calabrone</td>\n",
       "      <td>2020</td>\n",
       "      <td>84</td>\n",
       "      <td>Thriller</td>\n",
       "      <td>5.8</td>\n",
       "      <td>1512.0</td>\n",
       "      <td>nm1480867</td>\n",
       "      <td>nm1480867,nm10538402,nm5584269</td>\n",
       "    </tr>\n",
       "    <tr>\n",
       "      <th>293600</th>\n",
       "      <td>tt9916362</td>\n",
       "      <td>Coven</td>\n",
       "      <td>2020</td>\n",
       "      <td>92</td>\n",
       "      <td>Drama,History</td>\n",
       "      <td>6.4</td>\n",
       "      <td>6098.0</td>\n",
       "      <td>nm1893148</td>\n",
       "      <td>nm1893148,nm3471432</td>\n",
       "    </tr>\n",
       "    <tr>\n",
       "      <th>293601</th>\n",
       "      <td>tt9916538</td>\n",
       "      <td>Kuambil Lagi Hatiku</td>\n",
       "      <td>2019</td>\n",
       "      <td>123</td>\n",
       "      <td>Drama</td>\n",
       "      <td>7.6</td>\n",
       "      <td>12.0</td>\n",
       "      <td>nm4457074</td>\n",
       "      <td>nm4843252,nm4900525,nm2679404</td>\n",
       "    </tr>\n",
       "    <tr>\n",
       "      <th>293602</th>\n",
       "      <td>tt9916730</td>\n",
       "      <td>6 Gunn</td>\n",
       "      <td>2017</td>\n",
       "      <td>116</td>\n",
       "      <td>Drama</td>\n",
       "      <td>7.0</td>\n",
       "      <td>13.0</td>\n",
       "      <td>nm10538612</td>\n",
       "      <td>nm10538612</td>\n",
       "    </tr>\n",
       "  </tbody>\n",
       "</table>\n",
       "<p>262240 rows × 9 columns</p>\n",
       "</div>"
      ],
      "text/plain": [
       "          movieID                           title  year  runtime  \\\n",
       "0       tt0000009                      Miss Jerry  1894       45   \n",
       "2       tt0000574     The Story of the Kelly Gang  1906       70   \n",
       "3       tt0000591                The Prodigal Son  1907       90   \n",
       "4       tt0000679  The Fairylogue and Radio-Plays  1908      120   \n",
       "5       tt0000941                  Locura de amor  1909       45   \n",
       "...           ...                             ...   ...      ...   \n",
       "293598  tt9916190                       Safeguard  2020       95   \n",
       "293599  tt9916270        Il talento del calabrone  2020       84   \n",
       "293600  tt9916362                           Coven  2020       92   \n",
       "293601  tt9916538             Kuambil Lagi Hatiku  2019      123   \n",
       "293602  tt9916730                          6 Gunn  2017      116   \n",
       "\n",
       "                             genre  rating   votes            directors  \\\n",
       "0                          Romance     5.3   228.0            nm0085156   \n",
       "2       Action,Adventure,Biography     6.0  1009.0            nm0846879   \n",
       "3                            Drama     5.3    34.0            nm0141150   \n",
       "4                Adventure,Fantasy     5.0    80.0  nm0091767,nm0877783   \n",
       "5                            Drama     4.3    33.0  nm0063413,nm0550220   \n",
       "...                            ...     ...     ...                  ...   \n",
       "293598   Action,Adventure,Thriller     3.6   264.0            nm7308376   \n",
       "293599                    Thriller     5.8  1512.0            nm1480867   \n",
       "293600               Drama,History     6.4  6098.0            nm1893148   \n",
       "293601                       Drama     7.6    12.0            nm4457074   \n",
       "293602                       Drama     7.0    13.0           nm10538612   \n",
       "\n",
       "                               writers  \n",
       "0                            nm0085156  \n",
       "2                            nm0846879  \n",
       "3                            nm0141150  \n",
       "4                  nm0000875,nm0877783  \n",
       "5        nm0063413,nm0550220,nm0848502  \n",
       "...                                ...  \n",
       "293598                       nm7308376  \n",
       "293599  nm1480867,nm10538402,nm5584269  \n",
       "293600             nm1893148,nm3471432  \n",
       "293601   nm4843252,nm4900525,nm2679404  \n",
       "293602                      nm10538612  \n",
       "\n",
       "[262240 rows x 9 columns]"
      ]
     },
     "metadata": {},
     "output_type": "display_data"
    }
   ],
   "source": [
    "maindf2.dropna(subset=['writers','directors'], inplace=True)\n",
    "maindf2"
   ]
  },
  {
   "cell_type": "code",
   "execution_count": null,
   "id": "dac44532",
   "metadata": {},
   "outputs": [
    {
     "name": "stdout",
     "output_type": "stream",
     "text": [
      "<class 'pandas.core.frame.DataFrame'>\n",
      "Index: 262240 entries, 0 to 293602\n",
      "Data columns (total 9 columns):\n",
      " #   Column     Non-Null Count   Dtype  \n",
      "---  ------     --------------   -----  \n",
      " 0   movieID    262240 non-null  object \n",
      " 1   title      262240 non-null  object \n",
      " 2   year       262240 non-null  Int64  \n",
      " 3   runtime    262240 non-null  Int64  \n",
      " 4   genre      262240 non-null  object \n",
      " 5   rating     262240 non-null  float64\n",
      " 6   votes      262240 non-null  float64\n",
      " 7   directors  262240 non-null  object \n",
      " 8   writers    262240 non-null  object \n",
      "dtypes: Int64(2), float64(2), object(5)\n",
      "memory usage: 20.5+ MB\n"
     ]
    }
   ],
   "source": [
    "maindf2.info()"
   ]
  },
  {
   "cell_type": "code",
   "execution_count": null,
   "id": "ad44b42c",
   "metadata": {},
   "outputs": [
    {
     "data": {
      "application/vnd.microsoft.datawrangler.viewer.v0+json": {
       "columns": [
        {
         "name": "index",
         "rawType": "object",
         "type": "string"
        },
        {
         "name": "year",
         "rawType": "Float64",
         "type": "float"
        },
        {
         "name": "runtime",
         "rawType": "Float64",
         "type": "float"
        },
        {
         "name": "rating",
         "rawType": "float64",
         "type": "float"
        },
        {
         "name": "votes",
         "rawType": "float64",
         "type": "float"
        }
       ],
       "ref": "4df7c122-8644-4513-89b8-ed84653fc123",
       "rows": [
        [
         "count",
         "262240.0",
         "262240.0",
         "262240.0",
         "262240.0"
        ],
        [
         "mean",
         "1995.8143113178767",
         "94.94100442342892",
         "6.076017007321538",
         "4598.507313910921"
        ],
        [
         "std",
         "26.6289135903996",
         "157.69813114969233",
         "1.32873677220076",
         "41692.35316757861"
        ],
        [
         "min",
         "1894.0",
         "1.0",
         "1.0",
         "5.0"
        ],
        [
         "25%",
         "1979.0",
         "82.0",
         "5.3",
         "27.0"
        ],
        [
         "50%",
         "2007.0",
         "91.0",
         "6.2",
         "97.0"
        ],
        [
         "75%",
         "2017.0",
         "104.0",
         "7.0",
         "481.0"
        ],
        [
         "max",
         "2025.0",
         "59460.0",
         "10.0",
         "3079063.0"
        ]
       ],
       "shape": {
        "columns": 4,
        "rows": 8
       }
      },
      "text/html": [
       "<div>\n",
       "<style scoped>\n",
       "    .dataframe tbody tr th:only-of-type {\n",
       "        vertical-align: middle;\n",
       "    }\n",
       "\n",
       "    .dataframe tbody tr th {\n",
       "        vertical-align: top;\n",
       "    }\n",
       "\n",
       "    .dataframe thead th {\n",
       "        text-align: right;\n",
       "    }\n",
       "</style>\n",
       "<table border=\"1\" class=\"dataframe\">\n",
       "  <thead>\n",
       "    <tr style=\"text-align: right;\">\n",
       "      <th></th>\n",
       "      <th>year</th>\n",
       "      <th>runtime</th>\n",
       "      <th>rating</th>\n",
       "      <th>votes</th>\n",
       "    </tr>\n",
       "  </thead>\n",
       "  <tbody>\n",
       "    <tr>\n",
       "      <th>count</th>\n",
       "      <td>262240.0</td>\n",
       "      <td>262240.0</td>\n",
       "      <td>262240.000000</td>\n",
       "      <td>2.622400e+05</td>\n",
       "    </tr>\n",
       "    <tr>\n",
       "      <th>mean</th>\n",
       "      <td>1995.814311</td>\n",
       "      <td>94.941004</td>\n",
       "      <td>6.076017</td>\n",
       "      <td>4.598507e+03</td>\n",
       "    </tr>\n",
       "    <tr>\n",
       "      <th>std</th>\n",
       "      <td>26.628914</td>\n",
       "      <td>157.698131</td>\n",
       "      <td>1.328737</td>\n",
       "      <td>4.169235e+04</td>\n",
       "    </tr>\n",
       "    <tr>\n",
       "      <th>min</th>\n",
       "      <td>1894.0</td>\n",
       "      <td>1.0</td>\n",
       "      <td>1.000000</td>\n",
       "      <td>5.000000e+00</td>\n",
       "    </tr>\n",
       "    <tr>\n",
       "      <th>25%</th>\n",
       "      <td>1979.0</td>\n",
       "      <td>82.0</td>\n",
       "      <td>5.300000</td>\n",
       "      <td>2.700000e+01</td>\n",
       "    </tr>\n",
       "    <tr>\n",
       "      <th>50%</th>\n",
       "      <td>2007.0</td>\n",
       "      <td>91.0</td>\n",
       "      <td>6.200000</td>\n",
       "      <td>9.700000e+01</td>\n",
       "    </tr>\n",
       "    <tr>\n",
       "      <th>75%</th>\n",
       "      <td>2017.0</td>\n",
       "      <td>104.0</td>\n",
       "      <td>7.000000</td>\n",
       "      <td>4.810000e+02</td>\n",
       "    </tr>\n",
       "    <tr>\n",
       "      <th>max</th>\n",
       "      <td>2025.0</td>\n",
       "      <td>59460.0</td>\n",
       "      <td>10.000000</td>\n",
       "      <td>3.079063e+06</td>\n",
       "    </tr>\n",
       "  </tbody>\n",
       "</table>\n",
       "</div>"
      ],
      "text/plain": [
       "              year     runtime         rating         votes\n",
       "count     262240.0    262240.0  262240.000000  2.622400e+05\n",
       "mean   1995.814311   94.941004       6.076017  4.598507e+03\n",
       "std      26.628914  157.698131       1.328737  4.169235e+04\n",
       "min         1894.0         1.0       1.000000  5.000000e+00\n",
       "25%         1979.0        82.0       5.300000  2.700000e+01\n",
       "50%         2007.0        91.0       6.200000  9.700000e+01\n",
       "75%         2017.0       104.0       7.000000  4.810000e+02\n",
       "max         2025.0     59460.0      10.000000  3.079063e+06"
      ]
     },
     "metadata": {},
     "output_type": "display_data"
    }
   ],
   "source": [
    "maindf2.describe()"
   ]
  },
  {
   "cell_type": "code",
   "execution_count": null,
   "id": "ebda0d6e",
   "metadata": {},
   "outputs": [
    {
     "data": {
      "application/vnd.microsoft.datawrangler.viewer.v0+json": {
       "columns": [
        {
         "name": "writers",
         "rawType": "object",
         "type": "string"
        },
        {
         "name": "count",
         "rawType": "int64",
         "type": "integer"
        }
       ],
       "ref": "cc5f973c-8cec-4911-9a01-586a6f973c42",
       "rows": [
        [
         "nm0000636",
         "376"
        ],
        [
         "nm0960106",
         "263"
        ],
        [
         "nm0876561",
         "244"
        ],
        [
         "nm0649320",
         "222"
        ],
        [
         "nm0393250",
         "207"
        ],
        [
         "nm0939147",
         "201"
        ],
        [
         "nm0302055",
         "168"
        ],
        [
         "nm0001238",
         "163"
        ],
        [
         "nm0176420",
         "149"
        ],
        [
         "nm0769249",
         "142"
        ],
        [
         "nm0908624",
         "142"
        ],
        [
         "nm0024589",
         "141"
        ],
        [
         "nm0208086",
         "137"
        ],
        [
         "nm0073053",
         "136"
        ],
        [
         "nm0687741",
         "135"
        ],
        [
         "nm0781261",
         "134"
        ],
        [
         "nm0372942",
         "132"
        ],
        [
         "nm0547966",
         "129"
        ],
        [
         "nm0179278",
         "126"
        ],
        [
         "nm0408488",
         "125"
        ],
        [
         "nm0793881",
         "121"
        ],
        [
         "nm0207401",
         "121"
        ],
        [
         "nm0531431",
         "120"
        ],
        [
         "nm0664085",
         "119"
        ],
        [
         "nm0664084",
         "119"
        ],
        [
         "nm0316363",
         "119"
        ],
        [
         "nm0236980",
         "116"
        ],
        [
         "nm0002192",
         "114"
        ],
        [
         "nm0002759",
         "113"
        ],
        [
         "nm0241416",
         "112"
        ],
        [
         "nm0498080",
         "112"
        ],
        [
         "nm0140643",
         "109"
        ],
        [
         "nm0784149",
         "108"
        ],
        [
         "nm0945282",
         "108"
        ],
        [
         "nm0273348",
         "108"
        ],
        [
         "nm0716701",
         "107"
        ],
        [
         "nm0147599",
         "105"
        ],
        [
         "nm0554924",
         "104"
        ],
        [
         "nm0826642",
         "104"
        ],
        [
         "nm0622435",
         "104"
        ],
        [
         "nm0643582",
         "102"
        ],
        [
         "nm0654839",
         "101"
        ],
        [
         "nm0342303",
         "101"
        ],
        [
         "nm0595063",
         "100"
        ],
        [
         "nm0000590",
         "100"
        ],
        [
         "nm0883570",
         "100"
        ],
        [
         "nm0342278",
         "100"
        ],
        [
         "nm0061792",
         "100"
        ],
        [
         "nm0889403",
         "99"
        ],
        [
         "nm0044156",
         "99"
        ]
       ],
       "shape": {
        "columns": 1,
        "rows": 212834
       }
      },
      "text/plain": [
       "writers\n",
       "nm0000636     376\n",
       "nm0960106     263\n",
       "nm0876561     244\n",
       "nm0649320     222\n",
       "nm0393250     207\n",
       "             ... \n",
       "nm1376332       1\n",
       "nm10534967      1\n",
       "nm7011994       1\n",
       "nm10534135      1\n",
       "nm0676645       1\n",
       "Name: count, Length: 212834, dtype: int64"
      ]
     },
     "metadata": {},
     "output_type": "display_data"
    }
   ],
   "source": [
    "etc1=maindf2.copy()\n",
    "etc1['writers']= maindf2['writers'].str.split(',')\n",
    "etc1= etc1.explode('writers')\n",
    "etc1['writers'].value_counts()"
   ]
  },
  {
   "cell_type": "code",
   "execution_count": null,
   "id": "b2dc712e",
   "metadata": {},
   "outputs": [
    {
     "data": {
      "text/plain": [
       "array(['nm0085156', 'nm0846879', 'nm0141150', ..., 'nm10538402',\n",
       "       'nm3471432', 'nm10538612'], shape=(212834,), dtype=object)"
      ]
     },
     "metadata": {},
     "output_type": "display_data"
    }
   ],
   "source": [
    "etc1['writers'].unique()"
   ]
  },
  {
   "cell_type": "code",
   "execution_count": null,
   "id": "c9a87f44",
   "metadata": {},
   "outputs": [
    {
     "data": {
      "application/vnd.microsoft.datawrangler.viewer.v0+json": {
       "columns": [
        {
         "name": "directors",
         "rawType": "object",
         "type": "string"
        },
        {
         "name": "count",
         "rawType": "int64",
         "type": "integer"
        }
       ],
       "ref": "61e2f2ad-b533-4d58-a626-8d8281038475",
       "rows": [
        [
         "nm0627864",
         "205"
        ],
        [
         "nm0001238",
         "172"
        ],
        [
         "nm0064415",
         "151"
        ],
        [
         "nm0484645",
         "134"
        ],
        [
         "nm0782947",
         "134"
        ],
        [
         "nm0554924",
         "131"
        ],
        [
         "nm0861703",
         "131"
        ],
        [
         "nm0853028",
         "126"
        ],
        [
         "nm0385171",
         "124"
        ],
        [
         "nm0002031",
         "121"
        ],
        [
         "nm0781261",
         "120"
        ],
        [
         "nm0000406",
         "120"
        ],
        [
         "nm0437356",
         "119"
        ],
        [
         "nm0909825",
         "119"
        ],
        [
         "nm0061792",
         "116"
        ],
        [
         "nm0792450",
         "111"
        ],
        [
         "nm0939147",
         "111"
        ],
        [
         "nm0217035",
         "109"
        ],
        [
         "nm0187671",
         "109"
        ],
        [
         "nm0136579",
         "106"
        ],
        [
         "nm0071560",
         "104"
        ],
        [
         "nm0005847",
         "103"
        ],
        [
         "nm0245385",
         "102"
        ],
        [
         "nm0947998",
         "101"
        ],
        [
         "nm0136025",
         "101"
        ],
        [
         "nm0567757",
         "100"
        ],
        [
         "nm0936823",
         "99"
        ],
        [
         "nm0045800",
         "96"
        ],
        [
         "nm0172485",
         "95"
        ],
        [
         "nm0151653",
         "94"
        ],
        [
         "nm0001090",
         "94"
        ],
        [
         "nm0782682",
         "89"
        ],
        [
         "nm0337586",
         "88"
        ],
        [
         "nm0945282",
         "86"
        ],
        [
         "nm0002815",
         "86"
        ],
        [
         "nm0768422",
         "86"
        ],
        [
         "nm0107854",
         "85"
        ],
        [
         "nm0006943",
         "84"
        ],
        [
         "nm0654839",
         "83"
        ],
        [
         "nm0015570",
         "83"
        ],
        [
         "nm0631438",
         "83"
        ],
        [
         "nm0002179",
         "82"
        ],
        [
         "nm0482774",
         "82"
        ],
        [
         "nm0127511",
         "82"
        ],
        [
         "nm0886754",
         "81"
        ],
        [
         "nm0258581",
         "80"
        ],
        [
         "nm0255386",
         "80"
        ],
        [
         "nm0050048",
         "80"
        ],
        [
         "nm0920074",
         "80"
        ],
        [
         "nm0946875",
         "79"
        ]
       ],
       "shape": {
        "columns": 1,
        "rows": 118798
       }
      },
      "text/plain": [
       "directors\n",
       "nm0627864     205\n",
       "nm0001238     172\n",
       "nm0064415     151\n",
       "nm0484645     134\n",
       "nm0782947     134\n",
       "             ... \n",
       "nm4942142       1\n",
       "nm10570118      1\n",
       "nm7492822       1\n",
       "nm16870722      1\n",
       "nm7011994       1\n",
       "Name: count, Length: 118798, dtype: int64"
      ]
     },
     "metadata": {},
     "output_type": "display_data"
    }
   ],
   "source": [
    "etc2=maindf2.copy()\n",
    "etc2['directors']= maindf2['directors'].str.split(',')\n",
    "etc2= etc2.explode('directors')\n",
    "etc2['directors'].value_counts()\n"
   ]
  },
  {
   "cell_type": "code",
   "execution_count": null,
   "id": "70be6cec",
   "metadata": {},
   "outputs": [
    {
     "data": {
      "text/plain": [
       "array(['nm0085156', 'nm0846879', 'nm0141150', ..., 'nm5412267',\n",
       "       'nm7308376', 'nm10538612'], shape=(118798,), dtype=object)"
      ]
     },
     "metadata": {},
     "output_type": "display_data"
    }
   ],
   "source": [
    "etc2['directors'].unique()"
   ]
  },
  {
   "cell_type": "markdown",
   "id": "492d6ea0",
   "metadata": {},
   "source": [
    "Top 20 directors (just by rating)"
   ]
  },
  {
   "cell_type": "code",
   "execution_count": null,
   "id": "f49ae663",
   "metadata": {},
   "outputs": [
    {
     "data": {
      "text/plain": [
       "<Axes: title={'center': 'Top 20 Directors by Average Rating'}, xlabel='directors'>"
      ]
     },
     "metadata": {},
     "output_type": "display_data"
    },
    {
     "data": {
      "image/png": "[encoded data removed]",
      "text/plain": [
       "<Figure size 1200x600 with 1 Axes>"
      ]
     },
     "metadata": {},
     "output_type": "display_data"
    }
   ],
   "source": [
    "avg_rating_per_director = etc2.groupby('directors')['rating'].mean()\n",
    "top_directors = avg_rating_per_director.sort_values(ascending=False).head(20)\n",
    "top_directors.plot(kind='bar', figsize=(12, 6), title='Top 20 Directors by Average Rating')"
   ]
  },
  {
   "cell_type": "code",
   "execution_count": null,
   "id": "9bd089a5",
   "metadata": {},
   "outputs": [
    {
     "data": {
      "text/plain": [
       "<Axes: title={'center': 'Top 20 Writers by Average Rating'}, xlabel='writers'>"
      ]
     },
     "metadata": {},
     "output_type": "display_data"
    },
    {
     "data": {
      "image/png": "[encoded data removed]",
      "text/plain": [
       "<Figure size 1200x600 with 1 Axes>"
      ]
     },
     "metadata": {},
     "output_type": "display_data"
    }
   ],
   "source": [
    "avg_rating_per_writer = etc1.groupby('writers')['rating'].mean()\n",
    "top_writer = avg_rating_per_writer.sort_values(ascending=False).head(20)\n",
    "top_writer.plot(kind='bar', figsize=(12, 6), title='Top 20 Writers by Average Rating')"
   ]
  },
  {
   "cell_type": "code",
   "execution_count": null,
   "id": "8113dcef",
   "metadata": {},
   "outputs": [],
   "source": [
    "maindf2.to_csv('../temp/maindf2.csv', index=False)"
   ]
  },
  {
   "cell_type": "markdown",
   "id": "d5f44521",
   "metadata": {},
   "source": [
    "Name.basics data"
   ]
  },
  {
   "cell_type": "code",
   "execution_count": null,
   "id": "094e570f",
   "metadata": {},
   "outputs": [
    {
     "data": {
      "application/vnd.microsoft.datawrangler.viewer.v0+json": {
       "columns": [
        {
         "name": "index",
         "rawType": "int64",
         "type": "integer"
        },
        {
         "name": "nconst",
         "rawType": "object",
         "type": "string"
        },
        {
         "name": "primaryName",
         "rawType": "object",
         "type": "unknown"
        },
        {
         "name": "birthYear",
         "rawType": "object",
         "type": "string"
        },
        {
         "name": "deathYear",
         "rawType": "object",
         "type": "string"
        },
        {
         "name": "primaryProfession",
         "rawType": "object",
         "type": "string"
        },
        {
         "name": "knownForTitles",
         "rawType": "object",
         "type": "string"
        }
       ],
       "ref": "167c487b-278f-4a51-962f-f08e9fccd7ea",
       "rows": [
        [
         "0",
         "nm0000001",
         "Fred Astaire",
         "1899",
         "1987",
         "actor,miscellaneous,producer",
         "tt0072308,tt0050419,tt0027125,tt0025164"
        ],
        [
         "1",
         "nm0000002",
         "Lauren Bacall",
         "1924",
         "2014",
         "actress,soundtrack,archive_footage",
         "tt0037382,tt0075213,tt0117057,tt0038355"
        ],
        [
         "2",
         "nm0000003",
         "Brigitte Bardot",
         "1934",
         "\\N",
         "actress,music_department,producer",
         "tt0057345,tt0049189,tt0056404,tt0054452"
        ],
        [
         "3",
         "nm0000004",
         "John Belushi",
         "1949",
         "1982",
         "actor,writer,music_department",
         "tt0072562,tt0077975,tt0080455,tt0078723"
        ],
        [
         "4",
         "nm0000005",
         "Ingmar Bergman",
         "1918",
         "2007",
         "writer,director,actor",
         "tt0050986,tt0069467,tt0050976,tt0083922"
        ],
        [
         "5",
         "nm0000006",
         "Ingrid Bergman",
         "1915",
         "1982",
         "actress,producer,soundtrack",
         "tt0034583,tt0038109,tt0036855,tt0038787"
        ],
        [
         "6",
         "nm0000007",
         "Humphrey Bogart",
         "1899",
         "1957",
         "actor,producer,miscellaneous",
         "tt0034583,tt0043265,tt0033870,tt0037382"
        ],
        [
         "7",
         "nm0000008",
         "Marlon Brando",
         "1924",
         "2004",
         "actor,director,writer",
         "tt0078788,tt0068646,tt0047296,tt0070849"
        ],
        [
         "8",
         "nm0000009",
         "Richard Burton",
         "1925",
         "1984",
         "actor,producer,director",
         "tt0061184,tt0087803,tt0059749,tt0057877"
        ],
        [
         "9",
         "nm0000010",
         "James Cagney",
         "1899",
         "1986",
         "actor,director,producer",
         "tt0029870,tt0031867,tt0042041,tt0034236"
        ],
        [
         "10",
         "nm0000011",
         "Gary Cooper",
         "1901",
         "1961",
         "actor,stunts,producer",
         "tt0044706,tt0034167,tt0027996,tt0033373"
        ],
        [
         "11",
         "nm0000012",
         "Bette Davis",
         "1908",
         "1989",
         "actress,make_up_department,producer",
         "tt0042192,tt0056687,tt0031210,tt0035140"
        ],
        [
         "12",
         "nm0000013",
         "Doris Day",
         "1922",
         "2019",
         "actress,producer,miscellaneous",
         "tt0048317,tt0045591,tt0053172,tt0040745"
        ],
        [
         "13",
         "nm0000014",
         "Olivia de Havilland",
         "1916",
         "2020",
         "actress,soundtrack,archive_footage",
         "tt0031381,tt0041452,tt0040806,tt0029843"
        ],
        [
         "14",
         "nm0000015",
         "James Dean",
         "1931",
         "1955",
         "actor,miscellaneous,archive_footage",
         "tt0048028,tt0048545,tt0049261,tt0039123"
        ],
        [
         "15",
         "nm0000016",
         "Georges Delerue",
         "1925",
         "1992",
         "composer,music_department,actor",
         "tt0091763,tt0096320,tt0069946,tt0080610"
        ],
        [
         "16",
         "nm0000017",
         "Marlene Dietrich",
         "1901",
         "1992",
         "actress,music_department,soundtrack",
         "tt0051201,tt0021156,tt0055031,tt0052311"
        ],
        [
         "17",
         "nm0000018",
         "Kirk Douglas",
         "1916",
         "2020",
         "actor,producer,director",
         "tt0043338,tt0080736,tt0054331,tt0049456"
        ],
        [
         "18",
         "nm0000019",
         "Federico Fellini",
         "1920",
         "1993",
         "writer,director,actor",
         "tt0056801,tt0053779,tt0071129,tt0050783"
        ],
        [
         "19",
         "nm0000020",
         "Henry Fonda",
         "1905",
         "1982",
         "actor,producer,miscellaneous",
         "tt0050083,tt0082846,tt0032551,tt0036244"
        ],
        [
         "20",
         "nm0000021",
         "Joan Fontaine",
         "1917",
         "2013",
         "actress,producer,soundtrack",
         "tt0032976,tt0034248,tt0036969,tt0039504"
        ],
        [
         "21",
         "nm0000022",
         "Clark Gable",
         "1901",
         "1960",
         "actor,producer,soundtrack",
         "tt0025316,tt0031381,tt0026752,tt0023382"
        ],
        [
         "22",
         "nm0000023",
         "Judy Garland",
         "1922",
         "1969",
         "actress,soundtrack,archive_footage",
         "tt0032138,tt0037059,tt0047522,tt0055031"
        ],
        [
         "23",
         "nm0000024",
         "John Gielgud",
         "1904",
         "2000",
         "actor,director,writer",
         "tt0082031,tt0071877,tt0045943,tt0028231"
        ],
        [
         "24",
         "nm0000025",
         "Jerry Goldsmith",
         "1929",
         "2004",
         "music_department,composer,miscellaneous",
         "tt0119488,tt0077269,tt0117731,tt0103772"
        ],
        [
         "25",
         "nm0000026",
         "Cary Grant",
         "1904",
         "1986",
         "actor,producer,soundtrack",
         "tt0036613,tt0032904,tt0032599,tt0056923"
        ],
        [
         "26",
         "nm0000027",
         "Alec Guinness",
         "1914",
         "2000",
         "actor,writer,soundtrack",
         "tt0076759,tt0050212,tt0041546,tt0051739"
        ],
        [
         "27",
         "nm0000028",
         "Rita Hayworth",
         "1918",
         "1987",
         "actress,producer,soundtrack",
         "tt0038559,tt0040525,tt0040552,tt0035103"
        ],
        [
         "28",
         "nm0000029",
         "Margaux Hemingway",
         "1954",
         "1996",
         "actress,miscellaneous,archive_footage",
         "tt0102122,tt0077800,tt0110138,tt0074802"
        ],
        [
         "29",
         "nm0000030",
         "Audrey Hepburn",
         "1929",
         "1993",
         "actress,soundtrack,archive_footage",
         "tt0054698,tt0046250,tt0056923,tt0058385"
        ],
        [
         "30",
         "nm0000031",
         "Katharine Hepburn",
         "1907",
         "2003",
         "actress,writer,soundtrack",
         "tt0032904,tt0043265,tt0063227,tt0082846"
        ],
        [
         "31",
         "nm0000032",
         "Charlton Heston",
         "1923",
         "2008",
         "actor,director,writer",
         "tt0052618,tt0049833,tt0067525,tt0070723"
        ],
        [
         "32",
         "nm0000033",
         "Alfred Hitchcock",
         "1899",
         "1980",
         "director,producer,writer",
         "tt0054215,tt0052357,tt0053125,tt0034248"
        ],
        [
         "33",
         "nm0000034",
         "William Holden",
         "1918",
         "1981",
         "actor,miscellaneous,soundtrack",
         "tt0046359,tt0047437,tt0043014,tt0074958"
        ],
        [
         "34",
         "nm0000035",
         "James Horner",
         "1953",
         "2015",
         "music_department,composer,actor",
         "tt0120338,tt0499549,tt0120746,tt0177971"
        ],
        [
         "35",
         "nm0000036",
         "Buster Keaton",
         "1895",
         "1966",
         "actor,writer,director",
         "tt0017925,tt0015163,tt0015324,tt0016332"
        ],
        [
         "36",
         "nm0000037",
         "Gene Kelly",
         "1912",
         "1996",
         "actor,miscellaneous,director",
         "tt0045152,tt0043278,tt0041716,tt0053946"
        ],
        [
         "37",
         "nm0000038",
         "Grace Kelly",
         "1929",
         "1982",
         "actress,producer,soundtrack",
         "tt0046912,tt0047396,tt0048728,tt0046874"
        ],
        [
         "38",
         "nm0000039",
         "Deborah Kerr",
         "1921",
         "2007",
         "actress,soundtrack,archive_footage",
         "tt0049408,tt0045793,tt0039192,tt0050105"
        ],
        [
         "39",
         "nm0000040",
         "Stanley Kubrick",
         "1928",
         "1999",
         "writer,director,producer",
         "tt0062622,tt0066921,tt0072684,tt0093058"
        ],
        [
         "40",
         "nm0000041",
         "Akira Kurosawa",
         "1910",
         "1998",
         "writer,director,assistant_director",
         "tt0089881,tt0051808,tt0080979,tt0057565"
        ],
        [
         "41",
         "nm0000042",
         "Alan Ladd",
         "1913",
         "1964",
         "actor,producer,camera_department",
         "tt0046303,tt0035432,tt0034798,tt0038047"
        ],
        [
         "42",
         "nm0000043",
         "Veronica Lake",
         "1922",
         "1973",
         "actress,producer,soundtrack",
         "tt0034240,tt0038369,tt0035432,tt0034881"
        ],
        [
         "43",
         "nm0000044",
         "Burt Lancaster",
         "1913",
         "1994",
         "actor,producer,miscellaneous",
         "tt0045793,tt0085859,tt0040823,tt0051036"
        ],
        [
         "44",
         "nm0000045",
         "Bruce Lee",
         "1940",
         "1973",
         "actor,writer,miscellaneous",
         "tt0068767,tt0068935,tt0070034,tt0067824"
        ],
        [
         "45",
         "nm0000046",
         "Vivien Leigh",
         "1913",
         "1967",
         "actress,writer,soundtrack",
         "tt0044081,tt0031381,tt0033238,tt0034272"
        ],
        [
         "46",
         "nm0000047",
         "Sophia Loren",
         "1934",
         "\\N",
         "actress,soundtrack,archive_footage",
         "tt0060121,tt0054749,tt0058335,tt0076085"
        ],
        [
         "47",
         "nm0000048",
         "Peter Lorre",
         "1904",
         "1964",
         "actor,writer,director",
         "tt0036613,tt0022100,tt0033870,tt0034583"
        ],
        [
         "48",
         "nm0000049",
         "Henry Mancini",
         "1924",
         "1994",
         "music_department,composer,actor",
         "tt0054698,tt0085101,tt0057413,tt0383216"
        ],
        [
         "49",
         "nm0000050",
         "Groucho Marx",
         "1890",
         "1977",
         "actor,writer,director",
         "tt0026778,tt0031060,tt0023027,tt0023969"
        ]
       ],
       "shape": {
        "columns": 6,
        "rows": 14611841
       }
      },
      "text/html": [
       "<div>\n",
       "<style scoped>\n",
       "    .dataframe tbody tr th:only-of-type {\n",
       "        vertical-align: middle;\n",
       "    }\n",
       "\n",
       "    .dataframe tbody tr th {\n",
       "        vertical-align: top;\n",
       "    }\n",
       "\n",
       "    .dataframe thead th {\n",
       "        text-align: right;\n",
       "    }\n",
       "</style>\n",
       "<table border=\"1\" class=\"dataframe\">\n",
       "  <thead>\n",
       "    <tr style=\"text-align: right;\">\n",
       "      <th></th>\n",
       "      <th>nconst</th>\n",
       "      <th>primaryName</th>\n",
       "      <th>birthYear</th>\n",
       "      <th>deathYear</th>\n",
       "      <th>primaryProfession</th>\n",
       "      <th>knownForTitles</th>\n",
       "    </tr>\n",
       "  </thead>\n",
       "  <tbody>\n",
       "    <tr>\n",
       "      <th>0</th>\n",
       "      <td>nm0000001</td>\n",
       "      <td>Fred Astaire</td>\n",
       "      <td>1899</td>\n",
       "      <td>1987</td>\n",
       "      <td>actor,miscellaneous,producer</td>\n",
       "      <td>tt0072308,tt0050419,tt0027125,tt0025164</td>\n",
       "    </tr>\n",
       "    <tr>\n",
       "      <th>1</th>\n",
       "      <td>nm0000002</td>\n",
       "      <td>Lauren Bacall</td>\n",
       "      <td>1924</td>\n",
       "      <td>2014</td>\n",
       "      <td>actress,soundtrack,archive_footage</td>\n",
       "      <td>tt0037382,tt0075213,tt0117057,tt0038355</td>\n",
       "    </tr>\n",
       "    <tr>\n",
       "      <th>2</th>\n",
       "      <td>nm0000003</td>\n",
       "      <td>Brigitte Bardot</td>\n",
       "      <td>1934</td>\n",
       "      <td>\\N</td>\n",
       "      <td>actress,music_department,producer</td>\n",
       "      <td>tt0057345,tt0049189,tt0056404,tt0054452</td>\n",
       "    </tr>\n",
       "    <tr>\n",
       "      <th>3</th>\n",
       "      <td>nm0000004</td>\n",
       "      <td>John Belushi</td>\n",
       "      <td>1949</td>\n",
       "      <td>1982</td>\n",
       "      <td>actor,writer,music_department</td>\n",
       "      <td>tt0072562,tt0077975,tt0080455,tt0078723</td>\n",
       "    </tr>\n",
       "    <tr>\n",
       "      <th>4</th>\n",
       "      <td>nm0000005</td>\n",
       "      <td>Ingmar Bergman</td>\n",
       "      <td>1918</td>\n",
       "      <td>2007</td>\n",
       "      <td>writer,director,actor</td>\n",
       "      <td>tt0050986,tt0069467,tt0050976,tt0083922</td>\n",
       "    </tr>\n",
       "    <tr>\n",
       "      <th>...</th>\n",
       "      <td>...</td>\n",
       "      <td>...</td>\n",
       "      <td>...</td>\n",
       "      <td>...</td>\n",
       "      <td>...</td>\n",
       "      <td>...</td>\n",
       "    </tr>\n",
       "    <tr>\n",
       "      <th>14611836</th>\n",
       "      <td>nm9993714</td>\n",
       "      <td>Romeo del Rosario</td>\n",
       "      <td>\\N</td>\n",
       "      <td>\\N</td>\n",
       "      <td>animation_department,art_department</td>\n",
       "      <td>tt11657662,tt14069590,tt2455546</td>\n",
       "    </tr>\n",
       "    <tr>\n",
       "      <th>14611837</th>\n",
       "      <td>nm9993716</td>\n",
       "      <td>Essias Loberg</td>\n",
       "      <td>\\N</td>\n",
       "      <td>\\N</td>\n",
       "      <td>\\N</td>\n",
       "      <td>\\N</td>\n",
       "    </tr>\n",
       "    <tr>\n",
       "      <th>14611838</th>\n",
       "      <td>nm9993717</td>\n",
       "      <td>Harikrishnan Rajan</td>\n",
       "      <td>\\N</td>\n",
       "      <td>\\N</td>\n",
       "      <td>cinematographer</td>\n",
       "      <td>tt8736744</td>\n",
       "    </tr>\n",
       "    <tr>\n",
       "      <th>14611839</th>\n",
       "      <td>nm9993718</td>\n",
       "      <td>Aayush Nair</td>\n",
       "      <td>\\N</td>\n",
       "      <td>\\N</td>\n",
       "      <td>cinematographer</td>\n",
       "      <td>tt8736744</td>\n",
       "    </tr>\n",
       "    <tr>\n",
       "      <th>14611840</th>\n",
       "      <td>nm9993719</td>\n",
       "      <td>Andre Hill</td>\n",
       "      <td>\\N</td>\n",
       "      <td>\\N</td>\n",
       "      <td>\\N</td>\n",
       "      <td>\\N</td>\n",
       "    </tr>\n",
       "  </tbody>\n",
       "</table>\n",
       "<p>14611841 rows × 6 columns</p>\n",
       "</div>"
      ],
      "text/plain": [
       "             nconst         primaryName birthYear deathYear  \\\n",
       "0         nm0000001        Fred Astaire      1899      1987   \n",
       "1         nm0000002       Lauren Bacall      1924      2014   \n",
       "2         nm0000003     Brigitte Bardot      1934        \\N   \n",
       "3         nm0000004        John Belushi      1949      1982   \n",
       "4         nm0000005      Ingmar Bergman      1918      2007   \n",
       "...             ...                 ...       ...       ...   \n",
       "14611836  nm9993714   Romeo del Rosario        \\N        \\N   \n",
       "14611837  nm9993716       Essias Loberg        \\N        \\N   \n",
       "14611838  nm9993717  Harikrishnan Rajan        \\N        \\N   \n",
       "14611839  nm9993718         Aayush Nair        \\N        \\N   \n",
       "14611840  nm9993719          Andre Hill        \\N        \\N   \n",
       "\n",
       "                            primaryProfession  \\\n",
       "0                actor,miscellaneous,producer   \n",
       "1          actress,soundtrack,archive_footage   \n",
       "2           actress,music_department,producer   \n",
       "3               actor,writer,music_department   \n",
       "4                       writer,director,actor   \n",
       "...                                       ...   \n",
       "14611836  animation_department,art_department   \n",
       "14611837                                   \\N   \n",
       "14611838                      cinematographer   \n",
       "14611839                      cinematographer   \n",
       "14611840                                   \\N   \n",
       "\n",
       "                                   knownForTitles  \n",
       "0         tt0072308,tt0050419,tt0027125,tt0025164  \n",
       "1         tt0037382,tt0075213,tt0117057,tt0038355  \n",
       "2         tt0057345,tt0049189,tt0056404,tt0054452  \n",
       "3         tt0072562,tt0077975,tt0080455,tt0078723  \n",
       "4         tt0050986,tt0069467,tt0050976,tt0083922  \n",
       "...                                           ...  \n",
       "14611836          tt11657662,tt14069590,tt2455546  \n",
       "14611837                                       \\N  \n",
       "14611838                                tt8736744  \n",
       "14611839                                tt8736744  \n",
       "14611840                                       \\N  \n",
       "\n",
       "[14611841 rows x 6 columns]"
      ]
     },
     "metadata": {},
     "output_type": "display_data"
    }
   ],
   "source": [
    "name=pd.read_csv('../data/name.basics.tsv',sep='\\t',low_memory=False,encoding='utf-8')\n",
    "name"
   ]
  },
  {
   "cell_type": "code",
   "execution_count": null,
   "id": "7e1b1212",
   "metadata": {},
   "outputs": [
    {
     "data": {
      "application/vnd.microsoft.datawrangler.viewer.v0+json": {
       "columns": [
        {
         "name": "index",
         "rawType": "int64",
         "type": "integer"
        },
        {
         "name": "nconst",
         "rawType": "object",
         "type": "string"
        },
        {
         "name": "primaryName",
         "rawType": "object",
         "type": "unknown"
        },
        {
         "name": "birthYear",
         "rawType": "object",
         "type": "string"
        },
        {
         "name": "deathYear",
         "rawType": "object",
         "type": "string"
        },
        {
         "name": "primaryProfession",
         "rawType": "object",
         "type": "string"
        },
        {
         "name": "knownForTitles",
         "rawType": "object",
         "type": "string"
        }
       ],
       "ref": "967765ca-865a-4b58-9ba1-d28ddf41d9ce",
       "rows": [
        [
         "0",
         "nm0000001",
         "Fred Astaire",
         "1899",
         "1987",
         "actor,miscellaneous,producer",
         "tt0072308,tt0050419,tt0027125,tt0025164"
        ],
        [
         "1",
         "nm0000002",
         "Lauren Bacall",
         "1924",
         "2014",
         "actress,soundtrack,archive_footage",
         "tt0037382,tt0075213,tt0117057,tt0038355"
        ],
        [
         "2",
         "nm0000003",
         "Brigitte Bardot",
         "1934",
         "\\N",
         "actress,music_department,producer",
         "tt0057345,tt0049189,tt0056404,tt0054452"
        ],
        [
         "3",
         "nm0000004",
         "John Belushi",
         "1949",
         "1982",
         "actor,writer,music_department",
         "tt0072562,tt0077975,tt0080455,tt0078723"
        ],
        [
         "4",
         "nm0000005",
         "Ingmar Bergman",
         "1918",
         "2007",
         "writer,director,actor",
         "tt0050986,tt0069467,tt0050976,tt0083922"
        ],
        [
         "5",
         "nm0000006",
         "Ingrid Bergman",
         "1915",
         "1982",
         "actress,producer,soundtrack",
         "tt0034583,tt0038109,tt0036855,tt0038787"
        ],
        [
         "6",
         "nm0000007",
         "Humphrey Bogart",
         "1899",
         "1957",
         "actor,producer,miscellaneous",
         "tt0034583,tt0043265,tt0033870,tt0037382"
        ],
        [
         "7",
         "nm0000008",
         "Marlon Brando",
         "1924",
         "2004",
         "actor,director,writer",
         "tt0078788,tt0068646,tt0047296,tt0070849"
        ],
        [
         "8",
         "nm0000009",
         "Richard Burton",
         "1925",
         "1984",
         "actor,producer,director",
         "tt0061184,tt0087803,tt0059749,tt0057877"
        ],
        [
         "9",
         "nm0000010",
         "James Cagney",
         "1899",
         "1986",
         "actor,director,producer",
         "tt0029870,tt0031867,tt0042041,tt0034236"
        ],
        [
         "10",
         "nm0000011",
         "Gary Cooper",
         "1901",
         "1961",
         "actor,stunts,producer",
         "tt0044706,tt0034167,tt0027996,tt0033373"
        ],
        [
         "11",
         "nm0000012",
         "Bette Davis",
         "1908",
         "1989",
         "actress,make_up_department,producer",
         "tt0042192,tt0056687,tt0031210,tt0035140"
        ],
        [
         "12",
         "nm0000013",
         "Doris Day",
         "1922",
         "2019",
         "actress,producer,miscellaneous",
         "tt0048317,tt0045591,tt0053172,tt0040745"
        ],
        [
         "13",
         "nm0000014",
         "Olivia de Havilland",
         "1916",
         "2020",
         "actress,soundtrack,archive_footage",
         "tt0031381,tt0041452,tt0040806,tt0029843"
        ],
        [
         "14",
         "nm0000015",
         "James Dean",
         "1931",
         "1955",
         "actor,miscellaneous,archive_footage",
         "tt0048028,tt0048545,tt0049261,tt0039123"
        ],
        [
         "15",
         "nm0000016",
         "Georges Delerue",
         "1925",
         "1992",
         "composer,music_department,actor",
         "tt0091763,tt0096320,tt0069946,tt0080610"
        ],
        [
         "16",
         "nm0000017",
         "Marlene Dietrich",
         "1901",
         "1992",
         "actress,music_department,soundtrack",
         "tt0051201,tt0021156,tt0055031,tt0052311"
        ],
        [
         "17",
         "nm0000018",
         "Kirk Douglas",
         "1916",
         "2020",
         "actor,producer,director",
         "tt0043338,tt0080736,tt0054331,tt0049456"
        ],
        [
         "18",
         "nm0000019",
         "Federico Fellini",
         "1920",
         "1993",
         "writer,director,actor",
         "tt0056801,tt0053779,tt0071129,tt0050783"
        ],
        [
         "19",
         "nm0000020",
         "Henry Fonda",
         "1905",
         "1982",
         "actor,producer,miscellaneous",
         "tt0050083,tt0082846,tt0032551,tt0036244"
        ],
        [
         "20",
         "nm0000021",
         "Joan Fontaine",
         "1917",
         "2013",
         "actress,producer,soundtrack",
         "tt0032976,tt0034248,tt0036969,tt0039504"
        ],
        [
         "21",
         "nm0000022",
         "Clark Gable",
         "1901",
         "1960",
         "actor,producer,soundtrack",
         "tt0025316,tt0031381,tt0026752,tt0023382"
        ],
        [
         "22",
         "nm0000023",
         "Judy Garland",
         "1922",
         "1969",
         "actress,soundtrack,archive_footage",
         "tt0032138,tt0037059,tt0047522,tt0055031"
        ],
        [
         "23",
         "nm0000024",
         "John Gielgud",
         "1904",
         "2000",
         "actor,director,writer",
         "tt0082031,tt0071877,tt0045943,tt0028231"
        ],
        [
         "24",
         "nm0000025",
         "Jerry Goldsmith",
         "1929",
         "2004",
         "music_department,composer,miscellaneous",
         "tt0119488,tt0077269,tt0117731,tt0103772"
        ],
        [
         "25",
         "nm0000026",
         "Cary Grant",
         "1904",
         "1986",
         "actor,producer,soundtrack",
         "tt0036613,tt0032904,tt0032599,tt0056923"
        ],
        [
         "26",
         "nm0000027",
         "Alec Guinness",
         "1914",
         "2000",
         "actor,writer,soundtrack",
         "tt0076759,tt0050212,tt0041546,tt0051739"
        ],
        [
         "27",
         "nm0000028",
         "Rita Hayworth",
         "1918",
         "1987",
         "actress,producer,soundtrack",
         "tt0038559,tt0040525,tt0040552,tt0035103"
        ],
        [
         "28",
         "nm0000029",
         "Margaux Hemingway",
         "1954",
         "1996",
         "actress,miscellaneous,archive_footage",
         "tt0102122,tt0077800,tt0110138,tt0074802"
        ],
        [
         "29",
         "nm0000030",
         "Audrey Hepburn",
         "1929",
         "1993",
         "actress,soundtrack,archive_footage",
         "tt0054698,tt0046250,tt0056923,tt0058385"
        ],
        [
         "30",
         "nm0000031",
         "Katharine Hepburn",
         "1907",
         "2003",
         "actress,writer,soundtrack",
         "tt0032904,tt0043265,tt0063227,tt0082846"
        ],
        [
         "31",
         "nm0000032",
         "Charlton Heston",
         "1923",
         "2008",
         "actor,director,writer",
         "tt0052618,tt0049833,tt0067525,tt0070723"
        ],
        [
         "32",
         "nm0000033",
         "Alfred Hitchcock",
         "1899",
         "1980",
         "director,producer,writer",
         "tt0054215,tt0052357,tt0053125,tt0034248"
        ],
        [
         "33",
         "nm0000034",
         "William Holden",
         "1918",
         "1981",
         "actor,miscellaneous,soundtrack",
         "tt0046359,tt0047437,tt0043014,tt0074958"
        ],
        [
         "34",
         "nm0000035",
         "James Horner",
         "1953",
         "2015",
         "music_department,composer,actor",
         "tt0120338,tt0499549,tt0120746,tt0177971"
        ],
        [
         "35",
         "nm0000036",
         "Buster Keaton",
         "1895",
         "1966",
         "actor,writer,director",
         "tt0017925,tt0015163,tt0015324,tt0016332"
        ],
        [
         "36",
         "nm0000037",
         "Gene Kelly",
         "1912",
         "1996",
         "actor,miscellaneous,director",
         "tt0045152,tt0043278,tt0041716,tt0053946"
        ],
        [
         "37",
         "nm0000038",
         "Grace Kelly",
         "1929",
         "1982",
         "actress,producer,soundtrack",
         "tt0046912,tt0047396,tt0048728,tt0046874"
        ],
        [
         "38",
         "nm0000039",
         "Deborah Kerr",
         "1921",
         "2007",
         "actress,soundtrack,archive_footage",
         "tt0049408,tt0045793,tt0039192,tt0050105"
        ],
        [
         "39",
         "nm0000040",
         "Stanley Kubrick",
         "1928",
         "1999",
         "writer,director,producer",
         "tt0062622,tt0066921,tt0072684,tt0093058"
        ],
        [
         "40",
         "nm0000041",
         "Akira Kurosawa",
         "1910",
         "1998",
         "writer,director,assistant_director",
         "tt0089881,tt0051808,tt0080979,tt0057565"
        ],
        [
         "41",
         "nm0000042",
         "Alan Ladd",
         "1913",
         "1964",
         "actor,producer,camera_department",
         "tt0046303,tt0035432,tt0034798,tt0038047"
        ],
        [
         "42",
         "nm0000043",
         "Veronica Lake",
         "1922",
         "1973",
         "actress,producer,soundtrack",
         "tt0034240,tt0038369,tt0035432,tt0034881"
        ],
        [
         "43",
         "nm0000044",
         "Burt Lancaster",
         "1913",
         "1994",
         "actor,producer,miscellaneous",
         "tt0045793,tt0085859,tt0040823,tt0051036"
        ],
        [
         "44",
         "nm0000045",
         "Bruce Lee",
         "1940",
         "1973",
         "actor,writer,miscellaneous",
         "tt0068767,tt0068935,tt0070034,tt0067824"
        ],
        [
         "45",
         "nm0000046",
         "Vivien Leigh",
         "1913",
         "1967",
         "actress,writer,soundtrack",
         "tt0044081,tt0031381,tt0033238,tt0034272"
        ],
        [
         "46",
         "nm0000047",
         "Sophia Loren",
         "1934",
         "\\N",
         "actress,soundtrack,archive_footage",
         "tt0060121,tt0054749,tt0058335,tt0076085"
        ],
        [
         "47",
         "nm0000048",
         "Peter Lorre",
         "1904",
         "1964",
         "actor,writer,director",
         "tt0036613,tt0022100,tt0033870,tt0034583"
        ],
        [
         "48",
         "nm0000049",
         "Henry Mancini",
         "1924",
         "1994",
         "music_department,composer,actor",
         "tt0054698,tt0085101,tt0057413,tt0383216"
        ],
        [
         "49",
         "nm0000050",
         "Groucho Marx",
         "1890",
         "1977",
         "actor,writer,director",
         "tt0026778,tt0031060,tt0023027,tt0023969"
        ]
       ],
       "shape": {
        "columns": 6,
        "rows": 14611841
       }
      },
      "text/html": [
       "<div>\n",
       "<style scoped>\n",
       "    .dataframe tbody tr th:only-of-type {\n",
       "        vertical-align: middle;\n",
       "    }\n",
       "\n",
       "    .dataframe tbody tr th {\n",
       "        vertical-align: top;\n",
       "    }\n",
       "\n",
       "    .dataframe thead th {\n",
       "        text-align: right;\n",
       "    }\n",
       "</style>\n",
       "<table border=\"1\" class=\"dataframe\">\n",
       "  <thead>\n",
       "    <tr style=\"text-align: right;\">\n",
       "      <th></th>\n",
       "      <th>nconst</th>\n",
       "      <th>primaryName</th>\n",
       "      <th>birthYear</th>\n",
       "      <th>deathYear</th>\n",
       "      <th>primaryProfession</th>\n",
       "      <th>knownForTitles</th>\n",
       "    </tr>\n",
       "  </thead>\n",
       "  <tbody>\n",
       "    <tr>\n",
       "      <th>0</th>\n",
       "      <td>nm0000001</td>\n",
       "      <td>Fred Astaire</td>\n",
       "      <td>1899</td>\n",
       "      <td>1987</td>\n",
       "      <td>actor,miscellaneous,producer</td>\n",
       "      <td>tt0072308,tt0050419,tt0027125,tt0025164</td>\n",
       "    </tr>\n",
       "    <tr>\n",
       "      <th>1</th>\n",
       "      <td>nm0000002</td>\n",
       "      <td>Lauren Bacall</td>\n",
       "      <td>1924</td>\n",
       "      <td>2014</td>\n",
       "      <td>actress,soundtrack,archive_footage</td>\n",
       "      <td>tt0037382,tt0075213,tt0117057,tt0038355</td>\n",
       "    </tr>\n",
       "    <tr>\n",
       "      <th>2</th>\n",
       "      <td>nm0000003</td>\n",
       "      <td>Brigitte Bardot</td>\n",
       "      <td>1934</td>\n",
       "      <td>\\N</td>\n",
       "      <td>actress,music_department,producer</td>\n",
       "      <td>tt0057345,tt0049189,tt0056404,tt0054452</td>\n",
       "    </tr>\n",
       "    <tr>\n",
       "      <th>3</th>\n",
       "      <td>nm0000004</td>\n",
       "      <td>John Belushi</td>\n",
       "      <td>1949</td>\n",
       "      <td>1982</td>\n",
       "      <td>actor,writer,music_department</td>\n",
       "      <td>tt0072562,tt0077975,tt0080455,tt0078723</td>\n",
       "    </tr>\n",
       "    <tr>\n",
       "      <th>4</th>\n",
       "      <td>nm0000005</td>\n",
       "      <td>Ingmar Bergman</td>\n",
       "      <td>1918</td>\n",
       "      <td>2007</td>\n",
       "      <td>writer,director,actor</td>\n",
       "      <td>tt0050986,tt0069467,tt0050976,tt0083922</td>\n",
       "    </tr>\n",
       "    <tr>\n",
       "      <th>...</th>\n",
       "      <td>...</td>\n",
       "      <td>...</td>\n",
       "      <td>...</td>\n",
       "      <td>...</td>\n",
       "      <td>...</td>\n",
       "      <td>...</td>\n",
       "    </tr>\n",
       "    <tr>\n",
       "      <th>14611836</th>\n",
       "      <td>nm9993714</td>\n",
       "      <td>Romeo del Rosario</td>\n",
       "      <td>\\N</td>\n",
       "      <td>\\N</td>\n",
       "      <td>animation_department,art_department</td>\n",
       "      <td>tt11657662,tt14069590,tt2455546</td>\n",
       "    </tr>\n",
       "    <tr>\n",
       "      <th>14611837</th>\n",
       "      <td>nm9993716</td>\n",
       "      <td>Essias Loberg</td>\n",
       "      <td>\\N</td>\n",
       "      <td>\\N</td>\n",
       "      <td>\\N</td>\n",
       "      <td>\\N</td>\n",
       "    </tr>\n",
       "    <tr>\n",
       "      <th>14611838</th>\n",
       "      <td>nm9993717</td>\n",
       "      <td>Harikrishnan Rajan</td>\n",
       "      <td>\\N</td>\n",
       "      <td>\\N</td>\n",
       "      <td>cinematographer</td>\n",
       "      <td>tt8736744</td>\n",
       "    </tr>\n",
       "    <tr>\n",
       "      <th>14611839</th>\n",
       "      <td>nm9993718</td>\n",
       "      <td>Aayush Nair</td>\n",
       "      <td>\\N</td>\n",
       "      <td>\\N</td>\n",
       "      <td>cinematographer</td>\n",
       "      <td>tt8736744</td>\n",
       "    </tr>\n",
       "    <tr>\n",
       "      <th>14611840</th>\n",
       "      <td>nm9993719</td>\n",
       "      <td>Andre Hill</td>\n",
       "      <td>\\N</td>\n",
       "      <td>\\N</td>\n",
       "      <td>\\N</td>\n",
       "      <td>\\N</td>\n",
       "    </tr>\n",
       "  </tbody>\n",
       "</table>\n",
       "<p>14611841 rows × 6 columns</p>\n",
       "</div>"
      ],
      "text/plain": [
       "             nconst         primaryName birthYear deathYear  \\\n",
       "0         nm0000001        Fred Astaire      1899      1987   \n",
       "1         nm0000002       Lauren Bacall      1924      2014   \n",
       "2         nm0000003     Brigitte Bardot      1934        \\N   \n",
       "3         nm0000004        John Belushi      1949      1982   \n",
       "4         nm0000005      Ingmar Bergman      1918      2007   \n",
       "...             ...                 ...       ...       ...   \n",
       "14611836  nm9993714   Romeo del Rosario        \\N        \\N   \n",
       "14611837  nm9993716       Essias Loberg        \\N        \\N   \n",
       "14611838  nm9993717  Harikrishnan Rajan        \\N        \\N   \n",
       "14611839  nm9993718         Aayush Nair        \\N        \\N   \n",
       "14611840  nm9993719          Andre Hill        \\N        \\N   \n",
       "\n",
       "                            primaryProfession  \\\n",
       "0                actor,miscellaneous,producer   \n",
       "1          actress,soundtrack,archive_footage   \n",
       "2           actress,music_department,producer   \n",
       "3               actor,writer,music_department   \n",
       "4                       writer,director,actor   \n",
       "...                                       ...   \n",
       "14611836  animation_department,art_department   \n",
       "14611837                                   \\N   \n",
       "14611838                      cinematographer   \n",
       "14611839                      cinematographer   \n",
       "14611840                                   \\N   \n",
       "\n",
       "                                   knownForTitles  \n",
       "0         tt0072308,tt0050419,tt0027125,tt0025164  \n",
       "1         tt0037382,tt0075213,tt0117057,tt0038355  \n",
       "2         tt0057345,tt0049189,tt0056404,tt0054452  \n",
       "3         tt0072562,tt0077975,tt0080455,tt0078723  \n",
       "4         tt0050986,tt0069467,tt0050976,tt0083922  \n",
       "...                                           ...  \n",
       "14611836          tt11657662,tt14069590,tt2455546  \n",
       "14611837                                       \\N  \n",
       "14611838                                tt8736744  \n",
       "14611839                                tt8736744  \n",
       "14611840                                       \\N  \n",
       "\n",
       "[14611841 rows x 6 columns]"
      ]
     },
     "metadata": {},
     "output_type": "display_data"
    }
   ],
   "source": [
    "df4=name\n",
    "df4"
   ]
  },
  {
   "cell_type": "markdown",
   "id": "7a95659b",
   "metadata": {},
   "source": [
    "- Removing irrelavant columns"
   ]
  },
  {
   "cell_type": "code",
   "execution_count": null,
   "id": "5e224237",
   "metadata": {},
   "outputs": [],
   "source": [
    "df4.drop(columns=['birthYear', 'deathYear', 'primaryProfession', 'knownForTitles'], inplace=True)"
   ]
  },
  {
   "cell_type": "code",
   "execution_count": null,
   "id": "e8da0ffb",
   "metadata": {},
   "outputs": [],
   "source": [
    "df4.rename(columns={'primaryName':\"name\"}, inplace=True)"
   ]
  },
  {
   "cell_type": "code",
   "execution_count": null,
   "id": "eb267e5d",
   "metadata": {},
   "outputs": [
    {
     "name": "stdout",
     "output_type": "stream",
     "text": [
      "<class 'pandas.core.frame.DataFrame'>\n",
      "RangeIndex: 14611841 entries, 0 to 14611840\n",
      "Data columns (total 2 columns):\n",
      " #   Column  Dtype \n",
      "---  ------  ----- \n",
      " 0   nconst  object\n",
      " 1   name    object\n",
      "dtypes: object(2)\n",
      "memory usage: 223.0+ MB\n"
     ]
    }
   ],
   "source": [
    "df4.info()"
   ]
  },
  {
   "cell_type": "code",
   "execution_count": null,
   "id": "d436f761",
   "metadata": {},
   "outputs": [
    {
     "data": {
      "application/vnd.microsoft.datawrangler.viewer.v0+json": {
       "columns": [
        {
         "name": "index",
         "rawType": "object",
         "type": "string"
        },
        {
         "name": "0",
         "rawType": "int64",
         "type": "integer"
        }
       ],
       "ref": "5a263632-c068-4281-8096-9f26766d70c4",
       "rows": [
        [
         "nconst",
         "0"
        ],
        [
         "name",
         "9"
        ]
       ],
       "shape": {
        "columns": 1,
        "rows": 2
       }
      },
      "text/plain": [
       "nconst    0\n",
       "name      9\n",
       "dtype: int64"
      ]
     },
     "metadata": {},
     "output_type": "display_data"
    }
   ],
   "source": [
    "df4.isnull().sum()"
   ]
  },
  {
   "cell_type": "code",
   "execution_count": null,
   "id": "f4c322b2",
   "metadata": {},
   "outputs": [
    {
     "name": "stderr",
     "output_type": "stream",
     "text": [
      "C:\\Users\\vedan\\AppData\\Local\\Temp\\ipykernel_16716\\4216412935.py:1: FutureWarning: A value is trying to be set on a copy of a DataFrame or Series through chained assignment using an inplace method.\n",
      "The behavior will change in pandas 3.0. This inplace method will never work because the intermediate object on which we are setting values always behaves as a copy.\n",
      "\n",
      "For example, when doing 'df[col].method(value, inplace=True)', try using 'df.method({col: value}, inplace=True)' or df[col] = df[col].method(value) instead, to perform the operation inplace on the original object.\n",
      "\n",
      "\n",
      "  df4['name'].replace('\\\\N', np.nan, inplace=True)\n"
     ]
    },
    {
     "data": {
      "text/plain": [
       "np.int64(68)"
      ]
     },
     "metadata": {},
     "output_type": "display_data"
    }
   ],
   "source": [
    "df4['name'].replace('\\\\N', np.nan, inplace=True)\n",
    "df4['name'].isnull().sum()"
   ]
  },
  {
   "cell_type": "code",
   "execution_count": null,
   "id": "fcb478ec",
   "metadata": {},
   "outputs": [],
   "source": [
    "df4.dropna(subset=['name'], inplace=True)"
   ]
  },
  {
   "cell_type": "code",
   "execution_count": null,
   "id": "f952b05c",
   "metadata": {},
   "outputs": [
    {
     "data": {
      "application/vnd.microsoft.datawrangler.viewer.v0+json": {
       "columns": [
        {
         "name": "index",
         "rawType": "int64",
         "type": "integer"
        },
        {
         "name": "name",
         "rawType": "object",
         "type": "string"
        }
       ],
       "ref": "36dffe9e-d0fa-418b-b7b4-dba9d89baee0",
       "rows": [
        [
         "0",
         "Fred Astaire"
        ],
        [
         "1",
         "Lauren Bacall"
        ],
        [
         "2",
         "Brigitte Bardot"
        ],
        [
         "3",
         "John Belushi"
        ],
        [
         "4",
         "Ingmar Bergman"
        ],
        [
         "5",
         "Ingrid Bergman"
        ],
        [
         "6",
         "Humphrey Bogart"
        ],
        [
         "7",
         "Marlon Brando"
        ],
        [
         "8",
         "Richard Burton"
        ],
        [
         "9",
         "James Cagney"
        ],
        [
         "10",
         "Gary Cooper"
        ],
        [
         "11",
         "Bette Davis"
        ],
        [
         "12",
         "Doris Day"
        ],
        [
         "13",
         "Olivia de Havilland"
        ],
        [
         "14",
         "James Dean"
        ],
        [
         "15",
         "Georges Delerue"
        ],
        [
         "16",
         "Marlene Dietrich"
        ],
        [
         "17",
         "Kirk Douglas"
        ],
        [
         "18",
         "Federico Fellini"
        ],
        [
         "19",
         "Henry Fonda"
        ],
        [
         "20",
         "Joan Fontaine"
        ],
        [
         "21",
         "Clark Gable"
        ],
        [
         "22",
         "Judy Garland"
        ],
        [
         "23",
         "John Gielgud"
        ],
        [
         "24",
         "Jerry Goldsmith"
        ],
        [
         "25",
         "Cary Grant"
        ],
        [
         "26",
         "Alec Guinness"
        ],
        [
         "27",
         "Rita Hayworth"
        ],
        [
         "28",
         "Margaux Hemingway"
        ],
        [
         "29",
         "Audrey Hepburn"
        ],
        [
         "30",
         "Katharine Hepburn"
        ],
        [
         "31",
         "Charlton Heston"
        ],
        [
         "32",
         "Alfred Hitchcock"
        ],
        [
         "33",
         "William Holden"
        ],
        [
         "34",
         "James Horner"
        ],
        [
         "35",
         "Buster Keaton"
        ],
        [
         "36",
         "Gene Kelly"
        ],
        [
         "37",
         "Grace Kelly"
        ],
        [
         "38",
         "Deborah Kerr"
        ],
        [
         "39",
         "Stanley Kubrick"
        ],
        [
         "40",
         "Akira Kurosawa"
        ],
        [
         "41",
         "Alan Ladd"
        ],
        [
         "42",
         "Veronica Lake"
        ],
        [
         "43",
         "Burt Lancaster"
        ],
        [
         "44",
         "Bruce Lee"
        ],
        [
         "45",
         "Vivien Leigh"
        ],
        [
         "46",
         "Sophia Loren"
        ],
        [
         "47",
         "Peter Lorre"
        ],
        [
         "48",
         "Henry Mancini"
        ],
        [
         "49",
         "Groucho Marx"
        ]
       ],
       "shape": {
        "columns": 1,
        "rows": 14611773
       }
      },
      "text/plain": [
       "0                 Fred Astaire\n",
       "1                Lauren Bacall\n",
       "2              Brigitte Bardot\n",
       "3                 John Belushi\n",
       "4               Ingmar Bergman\n",
       "                   ...        \n",
       "14611836     Romeo del Rosario\n",
       "14611837         Essias Loberg\n",
       "14611838    Harikrishnan Rajan\n",
       "14611839           Aayush Nair\n",
       "14611840            Andre Hill\n",
       "Name: name, Length: 14611773, dtype: object"
      ]
     },
     "metadata": {},
     "output_type": "display_data"
    }
   ],
   "source": [
    "df4['name']"
   ]
  },
  {
   "cell_type": "code",
   "execution_count": null,
   "id": "b87065dd",
   "metadata": {},
   "outputs": [],
   "source": [
    "df4.to_csv('../temp/name.csv', index=False) "
   ]
  },
  {
   "cell_type": "code",
   "execution_count": null,
   "id": "e2737ac0",
   "metadata": {},
   "outputs": [],
   "source": [
    "df3=pd.read_csv('../temp/dfs/crew.csv')"
   ]
  },
  {
   "cell_type": "markdown",
   "id": "9b2cc009",
   "metadata": {},
   "source": [
    "The Exploited df Strategy\n",
    "\n",
    "The `directors` and `writers` columns contain multiple IDs in a single string (e.g., 'nm00001,nm00002'). A direct merge is impossible. Our strategy is to **reshape** the data into a \"long\" format.\n",
    "\n",
    "1.  **Split**: Convert the comma-separated strings into lists of IDs.\n",
    "2.  **Explode**: Use the `.explode()` function to create a new row for each ID in the list.\n",
    "3.  **Assign Role**: Create a new `role` column to keep track of whether the person is a 'director' or a 'writer'.\n",
    "4.  **Concatenate**: Stack the processed director and writer data together.\n",
    "\n",
    "This creates a clean, tidy DataFrame where each row represents one person's contribution to one movie, which is perfect for merging."
   ]
  },
  {
   "cell_type": "code",
   "execution_count": null,
   "id": "a950189f",
   "metadata": {},
   "outputs": [
    {
     "data": {
      "application/vnd.microsoft.datawrangler.viewer.v0+json": {
       "columns": [
        {
         "name": "index",
         "rawType": "int64",
         "type": "integer"
        },
        {
         "name": "movieID",
         "rawType": "object",
         "type": "string"
        },
        {
         "name": "directors",
         "rawType": "object",
         "type": "string"
        },
        {
         "name": "writers",
         "rawType": "object",
         "type": "string"
        }
       ],
       "ref": "1d7ce022-e508-4bee-ae89-85b7bee82913",
       "rows": [
        [
         "0",
         "tt0000003",
         "nm0721526",
         "nm0721526"
        ],
        [
         "1",
         "tt0000009",
         "nm0085156",
         "nm0085156"
        ],
        [
         "2",
         "tt0000015",
         "nm0721526",
         "nm0721526"
        ],
        [
         "3",
         "tt0000036",
         "nm0005690",
         "nm0410331"
        ],
        [
         "4",
         "tt0000076",
         "nm0005690",
         "nm0410331"
        ],
        [
         "5",
         "tt0000091",
         "nm0617588",
         "nm0617588"
        ],
        [
         "6",
         "tt0000108",
         "nm0005690",
         "nm0410331"
        ],
        [
         "7",
         "tt0000109",
         "nm0005690",
         "nm0410331"
        ],
        [
         "8",
         "tt0000110",
         "nm0005690",
         "nm0410331"
        ],
        [
         "9",
         "tt0000111",
         "nm0005690",
         "nm0410331"
        ],
        [
         "10",
         "tt0000112",
         "nm0005690",
         "nm0410331"
        ],
        [
         "11",
         "tt0000113",
         "nm0005690",
         "nm0410331"
        ],
        [
         "12",
         "tt0000132",
         "nm0617588",
         "nm0617588"
        ],
        [
         "13",
         "tt0000138",
         "nm0617588",
         "nm0617588"
        ],
        [
         "14",
         "tt0000165",
         "nm0005717",
         "nm0005717"
        ],
        [
         "15",
         "tt0000174",
         "nm0471818",
         "nm0841389"
        ],
        [
         "16",
         "tt0000181",
         "nm0808310",
         "nm0674518"
        ],
        [
         "17",
         "tt0000183",
         "nm0808310",
         "nm0241416"
        ],
        [
         "18",
         "tt0000189",
         "nm0005717",
         "nm0005717"
        ],
        [
         "19",
         "tt0000190",
         "nm0471818",
         "nm0841389"
        ],
        [
         "20",
         "tt0000192",
         "nm0924920",
         "nm0238900"
        ],
        [
         "21",
         "tt0000196",
         "nm0808310",
         "nm0324473"
        ],
        [
         "22",
         "tt0000211",
         "nm0617588",
         "nm0617588"
        ],
        [
         "23",
         "tt0000215",
         "nm0471818",
         "nm0841389"
        ],
        [
         "24",
         "tt0000218",
         "nm0617588",
         "nm0617588"
        ],
        [
         "25",
         "tt0000229",
         "nm0924920",
         "nm0857203"
        ],
        [
         "26",
         "tt0000230",
         "nm0617588",
         "nm0674518"
        ],
        [
         "27",
         "tt0000233",
         "nm0005717",
         "nm0005717"
        ],
        [
         "28",
         "tt0000235",
         "nm0617588",
         "nm0353584"
        ],
        [
         "29",
         "tt0000242",
         "nm0617588",
         "nm0617588"
        ],
        [
         "30",
         "tt0000247",
         "nm2156608,nm0005690,nm0002504",
         "nm0000636,nm0002504"
        ],
        [
         "31",
         "tt0000273",
         "nm0932055",
         "nm0932055"
        ],
        [
         "32",
         "tt0000301",
         "nm0692105",
         "nm0324473"
        ],
        [
         "33",
         "tt0000306",
         "nm0561109",
         "nm0000636"
        ],
        [
         "34",
         "tt0000307",
         "nm0085865",
         "nm1112850"
        ],
        [
         "35",
         "tt0000318",
         "nm0804434",
         "nm0804433"
        ],
        [
         "36",
         "tt0000358",
         "nm0954087",
         "nm0954087"
        ],
        [
         "37",
         "tt0000363",
         "nm0095816",
         "nm0095816"
        ],
        [
         "38",
         "tt0000368",
         "nm0617588",
         "nm0674518"
        ],
        [
         "39",
         "tt0000370",
         "nm0095816",
         "nm1304340,nm0002042"
        ],
        [
         "40",
         "tt0000376",
         "nm0958169",
         "nm0670740"
        ],
        [
         "41",
         "tt0000380",
         "nm0634629,nm0954087",
         "nm0674518"
        ],
        [
         "42",
         "tt0000413",
         "nm0617588",
         "nm0617588"
        ],
        [
         "43",
         "tt0000416",
         "nm0954087",
         "nm0954087,nm0957652"
        ],
        [
         "44",
         "tt0000417",
         "nm0617588",
         "nm0894523,nm0920229,nm0617588"
        ],
        [
         "45",
         "tt0000420",
         "nm0378408,nm0832948",
         "nm0140902,nm0378408"
        ],
        [
         "46",
         "tt0000439",
         "nm0692105",
         "nm1145809,nm0692105"
        ],
        [
         "47",
         "tt0000441",
         "nm0159015",
         "nm0842605,nm0159015"
        ],
        [
         "48",
         "tt0000442",
         "nm0253298",
         "nm1856940,nm1857036"
        ],
        [
         "49",
         "tt0000443",
         "nm0742777",
         "nm3887135,nm0519303"
        ]
       ],
       "shape": {
        "columns": 3,
        "rows": 5125680
       }
      },
      "text/html": [
       "<div>\n",
       "<style scoped>\n",
       "    .dataframe tbody tr th:only-of-type {\n",
       "        vertical-align: middle;\n",
       "    }\n",
       "\n",
       "    .dataframe tbody tr th {\n",
       "        vertical-align: top;\n",
       "    }\n",
       "\n",
       "    .dataframe thead th {\n",
       "        text-align: right;\n",
       "    }\n",
       "</style>\n",
       "<table border=\"1\" class=\"dataframe\">\n",
       "  <thead>\n",
       "    <tr style=\"text-align: right;\">\n",
       "      <th></th>\n",
       "      <th>movieID</th>\n",
       "      <th>directors</th>\n",
       "      <th>writers</th>\n",
       "    </tr>\n",
       "  </thead>\n",
       "  <tbody>\n",
       "    <tr>\n",
       "      <th>0</th>\n",
       "      <td>tt0000003</td>\n",
       "      <td>nm0721526</td>\n",
       "      <td>nm0721526</td>\n",
       "    </tr>\n",
       "    <tr>\n",
       "      <th>1</th>\n",
       "      <td>tt0000009</td>\n",
       "      <td>nm0085156</td>\n",
       "      <td>nm0085156</td>\n",
       "    </tr>\n",
       "    <tr>\n",
       "      <th>2</th>\n",
       "      <td>tt0000015</td>\n",
       "      <td>nm0721526</td>\n",
       "      <td>nm0721526</td>\n",
       "    </tr>\n",
       "    <tr>\n",
       "      <th>3</th>\n",
       "      <td>tt0000036</td>\n",
       "      <td>nm0005690</td>\n",
       "      <td>nm0410331</td>\n",
       "    </tr>\n",
       "    <tr>\n",
       "      <th>4</th>\n",
       "      <td>tt0000076</td>\n",
       "      <td>nm0005690</td>\n",
       "      <td>nm0410331</td>\n",
       "    </tr>\n",
       "    <tr>\n",
       "      <th>...</th>\n",
       "      <td>...</td>\n",
       "      <td>...</td>\n",
       "      <td>...</td>\n",
       "    </tr>\n",
       "    <tr>\n",
       "      <th>5125675</th>\n",
       "      <td>tt9916848</td>\n",
       "      <td>nm1485677</td>\n",
       "      <td>nm9187127,nm1485677,nm9826385,nm9299459,nm1628284</td>\n",
       "    </tr>\n",
       "    <tr>\n",
       "      <th>5125676</th>\n",
       "      <td>tt9916850</td>\n",
       "      <td>nm1485677</td>\n",
       "      <td>nm9187127,nm1485677,nm9826385,nm1628284</td>\n",
       "    </tr>\n",
       "    <tr>\n",
       "      <th>5125677</th>\n",
       "      <td>tt9916852</td>\n",
       "      <td>nm1485677</td>\n",
       "      <td>nm9187127,nm1485677,nm9826385,nm9299459,nm1628284</td>\n",
       "    </tr>\n",
       "    <tr>\n",
       "      <th>5125678</th>\n",
       "      <td>tt9916856</td>\n",
       "      <td>nm10538645</td>\n",
       "      <td>nm6951431</td>\n",
       "    </tr>\n",
       "    <tr>\n",
       "      <th>5125679</th>\n",
       "      <td>tt9916880</td>\n",
       "      <td>nm0996406</td>\n",
       "      <td>nm1482639,nm2586970</td>\n",
       "    </tr>\n",
       "  </tbody>\n",
       "</table>\n",
       "<p>5125680 rows × 3 columns</p>\n",
       "</div>"
      ],
      "text/plain": [
       "           movieID   directors  \\\n",
       "0        tt0000003   nm0721526   \n",
       "1        tt0000009   nm0085156   \n",
       "2        tt0000015   nm0721526   \n",
       "3        tt0000036   nm0005690   \n",
       "4        tt0000076   nm0005690   \n",
       "...            ...         ...   \n",
       "5125675  tt9916848   nm1485677   \n",
       "5125676  tt9916850   nm1485677   \n",
       "5125677  tt9916852   nm1485677   \n",
       "5125678  tt9916856  nm10538645   \n",
       "5125679  tt9916880   nm0996406   \n",
       "\n",
       "                                                   writers  \n",
       "0                                                nm0721526  \n",
       "1                                                nm0085156  \n",
       "2                                                nm0721526  \n",
       "3                                                nm0410331  \n",
       "4                                                nm0410331  \n",
       "...                                                    ...  \n",
       "5125675  nm9187127,nm1485677,nm9826385,nm9299459,nm1628284  \n",
       "5125676            nm9187127,nm1485677,nm9826385,nm1628284  \n",
       "5125677  nm9187127,nm1485677,nm9826385,nm9299459,nm1628284  \n",
       "5125678                                          nm6951431  \n",
       "5125679                                nm1482639,nm2586970  \n",
       "\n",
       "[5125680 rows x 3 columns]"
      ]
     },
     "metadata": {},
     "output_type": "display_data"
    }
   ],
   "source": [
    "df3"
   ]
  },
  {
   "cell_type": "code",
   "execution_count": null,
   "id": "0233064d",
   "metadata": {},
   "outputs": [
    {
     "name": "stderr",
     "output_type": "stream",
     "text": [
      "C:\\Users\\vedan\\AppData\\Local\\Temp\\ipykernel_26824\\2033051010.py:2: SettingWithCopyWarning: \n",
      "A value is trying to be set on a copy of a slice from a DataFrame.\n",
      "Try using .loc[row_indexer,col_indexer] = value instead\n",
      "\n",
      "See the caveats in the documentation: https://pandas.pydata.org/pandas-docs/stable/user_guide/indexing.html#returning-a-view-versus-a-copy\n",
      "  etc3['directors'] = etc3['directors'].str.split(',')\n"
     ]
    },
    {
     "data": {
      "application/vnd.microsoft.datawrangler.viewer.v0+json": {
       "columns": [
        {
         "name": "index",
         "rawType": "int64",
         "type": "integer"
        },
        {
         "name": "movieID",
         "rawType": "object",
         "type": "string"
        },
        {
         "name": "personID",
         "rawType": "object",
         "type": "string"
        },
        {
         "name": "role",
         "rawType": "object",
         "type": "string"
        }
       ],
       "ref": "33861fde-fb1b-4a23-ae4e-e29b305707d7",
       "rows": [
        [
         "0",
         "tt0000003",
         "nm0721526",
         "director"
        ],
        [
         "1",
         "tt0000009",
         "nm0085156",
         "director"
        ],
        [
         "2",
         "tt0000015",
         "nm0721526",
         "director"
        ],
        [
         "3",
         "tt0000036",
         "nm0005690",
         "director"
        ],
        [
         "4",
         "tt0000076",
         "nm0005690",
         "director"
        ],
        [
         "5",
         "tt0000091",
         "nm0617588",
         "director"
        ],
        [
         "6",
         "tt0000108",
         "nm0005690",
         "director"
        ],
        [
         "7",
         "tt0000109",
         "nm0005690",
         "director"
        ],
        [
         "8",
         "tt0000110",
         "nm0005690",
         "director"
        ],
        [
         "9",
         "tt0000111",
         "nm0005690",
         "director"
        ],
        [
         "10",
         "tt0000112",
         "nm0005690",
         "director"
        ],
        [
         "11",
         "tt0000113",
         "nm0005690",
         "director"
        ],
        [
         "12",
         "tt0000132",
         "nm0617588",
         "director"
        ],
        [
         "13",
         "tt0000138",
         "nm0617588",
         "director"
        ],
        [
         "14",
         "tt0000165",
         "nm0005717",
         "director"
        ],
        [
         "15",
         "tt0000174",
         "nm0471818",
         "director"
        ],
        [
         "16",
         "tt0000181",
         "nm0808310",
         "director"
        ],
        [
         "17",
         "tt0000183",
         "nm0808310",
         "director"
        ],
        [
         "18",
         "tt0000189",
         "nm0005717",
         "director"
        ],
        [
         "19",
         "tt0000190",
         "nm0471818",
         "director"
        ],
        [
         "20",
         "tt0000192",
         "nm0924920",
         "director"
        ],
        [
         "21",
         "tt0000196",
         "nm0808310",
         "director"
        ],
        [
         "22",
         "tt0000211",
         "nm0617588",
         "director"
        ],
        [
         "23",
         "tt0000215",
         "nm0471818",
         "director"
        ],
        [
         "24",
         "tt0000218",
         "nm0617588",
         "director"
        ],
        [
         "25",
         "tt0000229",
         "nm0924920",
         "director"
        ],
        [
         "26",
         "tt0000230",
         "nm0617588",
         "director"
        ],
        [
         "27",
         "tt0000233",
         "nm0005717",
         "director"
        ],
        [
         "28",
         "tt0000235",
         "nm0617588",
         "director"
        ],
        [
         "29",
         "tt0000242",
         "nm0617588",
         "director"
        ],
        [
         "30",
         "tt0000247",
         "nm2156608",
         "director"
        ],
        [
         "30",
         "tt0000247",
         "nm0005690",
         "director"
        ],
        [
         "30",
         "tt0000247",
         "nm0002504",
         "director"
        ],
        [
         "31",
         "tt0000273",
         "nm0932055",
         "director"
        ],
        [
         "32",
         "tt0000301",
         "nm0692105",
         "director"
        ],
        [
         "33",
         "tt0000306",
         "nm0561109",
         "director"
        ],
        [
         "34",
         "tt0000307",
         "nm0085865",
         "director"
        ],
        [
         "35",
         "tt0000318",
         "nm0804434",
         "director"
        ],
        [
         "36",
         "tt0000358",
         "nm0954087",
         "director"
        ],
        [
         "37",
         "tt0000363",
         "nm0095816",
         "director"
        ],
        [
         "38",
         "tt0000368",
         "nm0617588",
         "director"
        ],
        [
         "39",
         "tt0000370",
         "nm0095816",
         "director"
        ],
        [
         "40",
         "tt0000376",
         "nm0958169",
         "director"
        ],
        [
         "41",
         "tt0000380",
         "nm0634629",
         "director"
        ],
        [
         "41",
         "tt0000380",
         "nm0954087",
         "director"
        ],
        [
         "42",
         "tt0000413",
         "nm0617588",
         "director"
        ],
        [
         "43",
         "tt0000416",
         "nm0954087",
         "director"
        ],
        [
         "44",
         "tt0000417",
         "nm0617588",
         "director"
        ],
        [
         "45",
         "tt0000420",
         "nm0378408",
         "director"
        ],
        [
         "45",
         "tt0000420",
         "nm0832948",
         "director"
        ]
       ],
       "shape": {
        "columns": 3,
        "rows": 7072879
       }
      },
      "text/html": [
       "<div>\n",
       "<style scoped>\n",
       "    .dataframe tbody tr th:only-of-type {\n",
       "        vertical-align: middle;\n",
       "    }\n",
       "\n",
       "    .dataframe tbody tr th {\n",
       "        vertical-align: top;\n",
       "    }\n",
       "\n",
       "    .dataframe thead th {\n",
       "        text-align: right;\n",
       "    }\n",
       "</style>\n",
       "<table border=\"1\" class=\"dataframe\">\n",
       "  <thead>\n",
       "    <tr style=\"text-align: right;\">\n",
       "      <th></th>\n",
       "      <th>movieID</th>\n",
       "      <th>personID</th>\n",
       "      <th>role</th>\n",
       "    </tr>\n",
       "  </thead>\n",
       "  <tbody>\n",
       "    <tr>\n",
       "      <th>0</th>\n",
       "      <td>tt0000003</td>\n",
       "      <td>nm0721526</td>\n",
       "      <td>director</td>\n",
       "    </tr>\n",
       "    <tr>\n",
       "      <th>1</th>\n",
       "      <td>tt0000009</td>\n",
       "      <td>nm0085156</td>\n",
       "      <td>director</td>\n",
       "    </tr>\n",
       "    <tr>\n",
       "      <th>2</th>\n",
       "      <td>tt0000015</td>\n",
       "      <td>nm0721526</td>\n",
       "      <td>director</td>\n",
       "    </tr>\n",
       "    <tr>\n",
       "      <th>3</th>\n",
       "      <td>tt0000036</td>\n",
       "      <td>nm0005690</td>\n",
       "      <td>director</td>\n",
       "    </tr>\n",
       "    <tr>\n",
       "      <th>4</th>\n",
       "      <td>tt0000076</td>\n",
       "      <td>nm0005690</td>\n",
       "      <td>director</td>\n",
       "    </tr>\n",
       "    <tr>\n",
       "      <th>...</th>\n",
       "      <td>...</td>\n",
       "      <td>...</td>\n",
       "      <td>...</td>\n",
       "    </tr>\n",
       "    <tr>\n",
       "      <th>5125675</th>\n",
       "      <td>tt9916848</td>\n",
       "      <td>nm1485677</td>\n",
       "      <td>director</td>\n",
       "    </tr>\n",
       "    <tr>\n",
       "      <th>5125676</th>\n",
       "      <td>tt9916850</td>\n",
       "      <td>nm1485677</td>\n",
       "      <td>director</td>\n",
       "    </tr>\n",
       "    <tr>\n",
       "      <th>5125677</th>\n",
       "      <td>tt9916852</td>\n",
       "      <td>nm1485677</td>\n",
       "      <td>director</td>\n",
       "    </tr>\n",
       "    <tr>\n",
       "      <th>5125678</th>\n",
       "      <td>tt9916856</td>\n",
       "      <td>nm10538645</td>\n",
       "      <td>director</td>\n",
       "    </tr>\n",
       "    <tr>\n",
       "      <th>5125679</th>\n",
       "      <td>tt9916880</td>\n",
       "      <td>nm0996406</td>\n",
       "      <td>director</td>\n",
       "    </tr>\n",
       "  </tbody>\n",
       "</table>\n",
       "<p>7072879 rows × 3 columns</p>\n",
       "</div>"
      ],
      "text/plain": [
       "           movieID    personID      role\n",
       "0        tt0000003   nm0721526  director\n",
       "1        tt0000009   nm0085156  director\n",
       "2        tt0000015   nm0721526  director\n",
       "3        tt0000036   nm0005690  director\n",
       "4        tt0000076   nm0005690  director\n",
       "...            ...         ...       ...\n",
       "5125675  tt9916848   nm1485677  director\n",
       "5125676  tt9916850   nm1485677  director\n",
       "5125677  tt9916852   nm1485677  director\n",
       "5125678  tt9916856  nm10538645  director\n",
       "5125679  tt9916880   nm0996406  director\n",
       "\n",
       "[7072879 rows x 3 columns]"
      ]
     },
     "metadata": {},
     "output_type": "display_data"
    }
   ],
   "source": [
    "etc3=df3[['movieID','directors']]\n",
    "etc3['directors'] = etc3['directors'].str.split(',')\n",
    "etc3=etc3.explode('directors')\n",
    "etc3.rename(columns={'directors': 'personID'}, inplace=True)\n",
    "etc3['role']='director'\n",
    "etc3"
   ]
  },
  {
   "cell_type": "code",
   "execution_count": null,
   "id": "2476e0e5",
   "metadata": {},
   "outputs": [
    {
     "data": {
      "application/vnd.microsoft.datawrangler.viewer.v0+json": {
       "columns": [
        {
         "name": "personID",
         "rawType": "object",
         "type": "string"
        },
        {
         "name": "count",
         "rawType": "int64",
         "type": "integer"
        }
       ],
       "ref": "c2a9d4f0-17af-4ada-bc84-4e1893fcd4f3",
       "rows": [
        [
         "nm1203430",
         "13007"
        ],
        [
         "nm8467983",
         "11779"
        ],
        [
         "nm1966600",
         "11722"
        ],
        [
         "nm1409127",
         "10362"
        ],
        [
         "nm1083609",
         "8372"
        ],
        [
         "nm5262331",
         "7986"
        ],
        [
         "nm7867124",
         "7821"
        ],
        [
         "nm5236281",
         "7437"
        ],
        [
         "nm5239804",
         "7434"
        ],
        [
         "nm5460792",
         "7202"
        ],
        [
         "nm0554045",
         "7113"
        ],
        [
         "nm0051678",
         "6909"
        ],
        [
         "nm0042771",
         "6417"
        ],
        [
         "nm2544856",
         "6409"
        ],
        [
         "nm5727175",
         "6329"
        ],
        [
         "nm0960965",
         "5935"
        ],
        [
         "nm0273084",
         "5765"
        ],
        [
         "nm6908650",
         "5571"
        ],
        [
         "nm0737880",
         "5557"
        ],
        [
         "nm0723330",
         "5550"
        ],
        [
         "nm1667633",
         "5376"
        ],
        [
         "nm7478784",
         "5365"
        ],
        [
         "nm0600353",
         "5346"
        ],
        [
         "nm0276899",
         "5335"
        ],
        [
         "nm3288727",
         "5318"
        ],
        [
         "nm10604490",
         "5093"
        ],
        [
         "nm0100189",
         "5092"
        ],
        [
         "nm0474848",
         "5088"
        ],
        [
         "nm0089368",
         "5087"
        ],
        [
         "nm9506110",
         "5064"
        ],
        [
         "nm15377238",
         "5057"
        ],
        [
         "nm0887561",
         "5001"
        ],
        [
         "nm0136649",
         "4839"
        ],
        [
         "nm1132680",
         "4822"
        ],
        [
         "nm8408311",
         "4814"
        ],
        [
         "nm3213427",
         "4771"
        ],
        [
         "nm4371943",
         "4662"
        ],
        [
         "nm0096539",
         "4651"
        ],
        [
         "nm11057879",
         "4545"
        ],
        [
         "nm7207144",
         "4514"
        ],
        [
         "nm8744023",
         "4503"
        ],
        [
         "nm0195270",
         "4503"
        ],
        [
         "nm10631069",
         "4501"
        ],
        [
         "nm0617036",
         "4459"
        ],
        [
         "nm5563885",
         "4445"
        ],
        [
         "nm0024063",
         "4435"
        ],
        [
         "nm8932411",
         "4425"
        ],
        [
         "nm0848222",
         "4347"
        ],
        [
         "nm0190421",
         "4339"
        ],
        [
         "nm0235465",
         "4330"
        ]
       ],
       "shape": {
        "columns": 1,
        "rows": 695781
       }
      },
      "text/plain": [
       "personID\n",
       "nm1203430     13007\n",
       "nm8467983     11779\n",
       "nm1966600     11722\n",
       "nm1409127     10362\n",
       "nm1083609      8372\n",
       "              ...  \n",
       "nm10531554        1\n",
       "nm10538193        1\n",
       "nm10538028        1\n",
       "nm10529686        1\n",
       "nm1943534         1\n",
       "Name: count, Length: 695781, dtype: int64"
      ]
     },
     "metadata": {},
     "output_type": "display_data"
    }
   ],
   "source": [
    "etc3['personID'].value_counts()"
   ]
  },
  {
   "cell_type": "code",
   "execution_count": null,
   "id": "38ce48c8",
   "metadata": {},
   "outputs": [
    {
     "name": "stderr",
     "output_type": "stream",
     "text": [
      "C:\\Users\\vedan\\AppData\\Local\\Temp\\ipykernel_26824\\1676941008.py:2: SettingWithCopyWarning: \n",
      "A value is trying to be set on a copy of a slice from a DataFrame.\n",
      "Try using .loc[row_indexer,col_indexer] = value instead\n",
      "\n",
      "See the caveats in the documentation: https://pandas.pydata.org/pandas-docs/stable/user_guide/indexing.html#returning-a-view-versus-a-copy\n",
      "  etc4['writers'] = etc4['writers'].str.split(',')\n"
     ]
    },
    {
     "data": {
      "application/vnd.microsoft.datawrangler.viewer.v0+json": {
       "columns": [
        {
         "name": "index",
         "rawType": "int64",
         "type": "integer"
        },
        {
         "name": "movieID",
         "rawType": "object",
         "type": "string"
        },
        {
         "name": "personID",
         "rawType": "object",
         "type": "string"
        },
        {
         "name": "role",
         "rawType": "object",
         "type": "string"
        }
       ],
       "ref": "11c777b0-e924-4fb3-9fbc-012be393c3b1",
       "rows": [
        [
         "0",
         "tt0000003",
         "nm0721526",
         "writer"
        ],
        [
         "1",
         "tt0000009",
         "nm0085156",
         "writer"
        ],
        [
         "2",
         "tt0000015",
         "nm0721526",
         "writer"
        ],
        [
         "3",
         "tt0000036",
         "nm0410331",
         "writer"
        ],
        [
         "4",
         "tt0000076",
         "nm0410331",
         "writer"
        ],
        [
         "5",
         "tt0000091",
         "nm0617588",
         "writer"
        ],
        [
         "6",
         "tt0000108",
         "nm0410331",
         "writer"
        ],
        [
         "7",
         "tt0000109",
         "nm0410331",
         "writer"
        ],
        [
         "8",
         "tt0000110",
         "nm0410331",
         "writer"
        ],
        [
         "9",
         "tt0000111",
         "nm0410331",
         "writer"
        ],
        [
         "10",
         "tt0000112",
         "nm0410331",
         "writer"
        ],
        [
         "11",
         "tt0000113",
         "nm0410331",
         "writer"
        ],
        [
         "12",
         "tt0000132",
         "nm0617588",
         "writer"
        ],
        [
         "13",
         "tt0000138",
         "nm0617588",
         "writer"
        ],
        [
         "14",
         "tt0000165",
         "nm0005717",
         "writer"
        ],
        [
         "15",
         "tt0000174",
         "nm0841389",
         "writer"
        ],
        [
         "16",
         "tt0000181",
         "nm0674518",
         "writer"
        ],
        [
         "17",
         "tt0000183",
         "nm0241416",
         "writer"
        ],
        [
         "18",
         "tt0000189",
         "nm0005717",
         "writer"
        ],
        [
         "19",
         "tt0000190",
         "nm0841389",
         "writer"
        ],
        [
         "20",
         "tt0000192",
         "nm0238900",
         "writer"
        ],
        [
         "21",
         "tt0000196",
         "nm0324473",
         "writer"
        ],
        [
         "22",
         "tt0000211",
         "nm0617588",
         "writer"
        ],
        [
         "23",
         "tt0000215",
         "nm0841389",
         "writer"
        ],
        [
         "24",
         "tt0000218",
         "nm0617588",
         "writer"
        ],
        [
         "25",
         "tt0000229",
         "nm0857203",
         "writer"
        ],
        [
         "26",
         "tt0000230",
         "nm0674518",
         "writer"
        ],
        [
         "27",
         "tt0000233",
         "nm0005717",
         "writer"
        ],
        [
         "28",
         "tt0000235",
         "nm0353584",
         "writer"
        ],
        [
         "29",
         "tt0000242",
         "nm0617588",
         "writer"
        ],
        [
         "30",
         "tt0000247",
         "nm0000636",
         "writer"
        ],
        [
         "30",
         "tt0000247",
         "nm0002504",
         "writer"
        ],
        [
         "31",
         "tt0000273",
         "nm0932055",
         "writer"
        ],
        [
         "32",
         "tt0000301",
         "nm0324473",
         "writer"
        ],
        [
         "33",
         "tt0000306",
         "nm0000636",
         "writer"
        ],
        [
         "34",
         "tt0000307",
         "nm1112850",
         "writer"
        ],
        [
         "35",
         "tt0000318",
         "nm0804433",
         "writer"
        ],
        [
         "36",
         "tt0000358",
         "nm0954087",
         "writer"
        ],
        [
         "37",
         "tt0000363",
         "nm0095816",
         "writer"
        ],
        [
         "38",
         "tt0000368",
         "nm0674518",
         "writer"
        ],
        [
         "39",
         "tt0000370",
         "nm1304340",
         "writer"
        ],
        [
         "39",
         "tt0000370",
         "nm0002042",
         "writer"
        ],
        [
         "40",
         "tt0000376",
         "nm0670740",
         "writer"
        ],
        [
         "41",
         "tt0000380",
         "nm0674518",
         "writer"
        ],
        [
         "42",
         "tt0000413",
         "nm0617588",
         "writer"
        ],
        [
         "43",
         "tt0000416",
         "nm0954087",
         "writer"
        ],
        [
         "43",
         "tt0000416",
         "nm0957652",
         "writer"
        ],
        [
         "44",
         "tt0000417",
         "nm0894523",
         "writer"
        ],
        [
         "44",
         "tt0000417",
         "nm0920229",
         "writer"
        ],
        [
         "44",
         "tt0000417",
         "nm0617588",
         "writer"
        ]
       ],
       "shape": {
        "columns": 3,
        "rows": 12320306
       }
      },
      "text/html": [
       "<div>\n",
       "<style scoped>\n",
       "    .dataframe tbody tr th:only-of-type {\n",
       "        vertical-align: middle;\n",
       "    }\n",
       "\n",
       "    .dataframe tbody tr th {\n",
       "        vertical-align: top;\n",
       "    }\n",
       "\n",
       "    .dataframe thead th {\n",
       "        text-align: right;\n",
       "    }\n",
       "</style>\n",
       "<table border=\"1\" class=\"dataframe\">\n",
       "  <thead>\n",
       "    <tr style=\"text-align: right;\">\n",
       "      <th></th>\n",
       "      <th>movieID</th>\n",
       "      <th>personID</th>\n",
       "      <th>role</th>\n",
       "    </tr>\n",
       "  </thead>\n",
       "  <tbody>\n",
       "    <tr>\n",
       "      <th>0</th>\n",
       "      <td>tt0000003</td>\n",
       "      <td>nm0721526</td>\n",
       "      <td>writer</td>\n",
       "    </tr>\n",
       "    <tr>\n",
       "      <th>1</th>\n",
       "      <td>tt0000009</td>\n",
       "      <td>nm0085156</td>\n",
       "      <td>writer</td>\n",
       "    </tr>\n",
       "    <tr>\n",
       "      <th>2</th>\n",
       "      <td>tt0000015</td>\n",
       "      <td>nm0721526</td>\n",
       "      <td>writer</td>\n",
       "    </tr>\n",
       "    <tr>\n",
       "      <th>3</th>\n",
       "      <td>tt0000036</td>\n",
       "      <td>nm0410331</td>\n",
       "      <td>writer</td>\n",
       "    </tr>\n",
       "    <tr>\n",
       "      <th>4</th>\n",
       "      <td>tt0000076</td>\n",
       "      <td>nm0410331</td>\n",
       "      <td>writer</td>\n",
       "    </tr>\n",
       "    <tr>\n",
       "      <th>...</th>\n",
       "      <td>...</td>\n",
       "      <td>...</td>\n",
       "      <td>...</td>\n",
       "    </tr>\n",
       "    <tr>\n",
       "      <th>5125677</th>\n",
       "      <td>tt9916852</td>\n",
       "      <td>nm9299459</td>\n",
       "      <td>writer</td>\n",
       "    </tr>\n",
       "    <tr>\n",
       "      <th>5125677</th>\n",
       "      <td>tt9916852</td>\n",
       "      <td>nm1628284</td>\n",
       "      <td>writer</td>\n",
       "    </tr>\n",
       "    <tr>\n",
       "      <th>5125678</th>\n",
       "      <td>tt9916856</td>\n",
       "      <td>nm6951431</td>\n",
       "      <td>writer</td>\n",
       "    </tr>\n",
       "    <tr>\n",
       "      <th>5125679</th>\n",
       "      <td>tt9916880</td>\n",
       "      <td>nm1482639</td>\n",
       "      <td>writer</td>\n",
       "    </tr>\n",
       "    <tr>\n",
       "      <th>5125679</th>\n",
       "      <td>tt9916880</td>\n",
       "      <td>nm2586970</td>\n",
       "      <td>writer</td>\n",
       "    </tr>\n",
       "  </tbody>\n",
       "</table>\n",
       "<p>12320306 rows × 3 columns</p>\n",
       "</div>"
      ],
      "text/plain": [
       "           movieID   personID    role\n",
       "0        tt0000003  nm0721526  writer\n",
       "1        tt0000009  nm0085156  writer\n",
       "2        tt0000015  nm0721526  writer\n",
       "3        tt0000036  nm0410331  writer\n",
       "4        tt0000076  nm0410331  writer\n",
       "...            ...        ...     ...\n",
       "5125677  tt9916852  nm9299459  writer\n",
       "5125677  tt9916852  nm1628284  writer\n",
       "5125678  tt9916856  nm6951431  writer\n",
       "5125679  tt9916880  nm1482639  writer\n",
       "5125679  tt9916880  nm2586970  writer\n",
       "\n",
       "[12320306 rows x 3 columns]"
      ]
     },
     "metadata": {},
     "output_type": "display_data"
    }
   ],
   "source": [
    "etc4=df3[['movieID','writers']]\n",
    "etc4['writers'] = etc4['writers'].str.split(',')\n",
    "etc4=etc4.explode('writers')\n",
    "etc4.rename(columns={'writers': 'personID'}, inplace=True)\n",
    "etc4['role']='writer'\n",
    "etc4"
   ]
  },
  {
   "cell_type": "code",
   "execution_count": null,
   "id": "cc6d43c6",
   "metadata": {},
   "outputs": [
    {
     "data": {
      "application/vnd.microsoft.datawrangler.viewer.v0+json": {
       "columns": [
        {
         "name": "personID",
         "rawType": "object",
         "type": "string"
        },
        {
         "name": "count",
         "rawType": "int64",
         "type": "integer"
        }
       ],
       "ref": "60c4e0dc-c2a4-4e89-82a6-779d8191955d",
       "rows": [
        [
         "nm6352729",
         "25015"
        ],
        [
         "nm0438471",
         "19405"
        ],
        [
         "nm0914844",
         "14608"
        ],
        [
         "nm5203198",
         "13407"
        ],
        [
         "nm0068589",
         "13299"
        ],
        [
         "nm0068347",
         "12272"
        ],
        [
         "nm0596393",
         "11555"
        ],
        [
         "nm7370686",
         "11517"
        ],
        [
         "nm3813965",
         "11057"
        ],
        [
         "nm0734570",
         "11054"
        ],
        [
         "nm0912726",
         "10635"
        ],
        [
         "nm9957701",
         "10562"
        ],
        [
         "nm0934807",
         "10547"
        ],
        [
         "nm5443466",
         "10033"
        ],
        [
         "nm1335533",
         "9802"
        ],
        [
         "nm1271987",
         "9797"
        ],
        [
         "nm1956179",
         "9794"
        ],
        [
         "nm1667629",
         "9794"
        ],
        [
         "nm4390665",
         "9788"
        ],
        [
         "nm3089072",
         "9788"
        ],
        [
         "nm1203430",
         "9643"
        ],
        [
         "nm1394917",
         "9464"
        ],
        [
         "nm0275585",
         "9464"
        ],
        [
         "nm1941818",
         "8930"
        ],
        [
         "nm8457565",
         "8774"
        ],
        [
         "nm1939626",
         "8532"
        ],
        [
         "nm11482205",
         "8109"
        ],
        [
         "nm2941131",
         "7908"
        ],
        [
         "nm0480782",
         "7814"
        ],
        [
         "nm0068074",
         "7784"
        ],
        [
         "nm2276735",
         "7637"
        ],
        [
         "nm11118786",
         "7548"
        ],
        [
         "nm3204856",
         "7535"
        ],
        [
         "nm5239844",
         "7437"
        ],
        [
         "nm0763126",
         "7395"
        ],
        [
         "nm0715087",
         "7378"
        ],
        [
         "nm9115584",
         "7337"
        ],
        [
         "nm5054027",
         "7170"
        ],
        [
         "nm0236512",
         "7073"
        ],
        [
         "nm0739351",
         "7019"
        ],
        [
         "nm7006227",
         "6922"
        ],
        [
         "nm1123500",
         "6902"
        ],
        [
         "nm10283735",
         "6734"
        ],
        [
         "nm0060783",
         "6716"
        ],
        [
         "nm10622866",
         "6696"
        ],
        [
         "nm4701016",
         "6589"
        ],
        [
         "nm4379163",
         "6544"
        ],
        [
         "nm1628335",
         "6504"
        ],
        [
         "nm0828433",
         "6487"
        ],
        [
         "nm5858172",
         "6401"
        ]
       ],
       "shape": {
        "columns": 1,
        "rows": 1050023
       }
      },
      "text/plain": [
       "personID\n",
       "nm6352729     25015\n",
       "nm0438471     19405\n",
       "nm0914844     14608\n",
       "nm5203198     13407\n",
       "nm0068589     13299\n",
       "              ...  \n",
       "nm1856940         1\n",
       "nm1304340         1\n",
       "nm10531554        1\n",
       "nm10538193        1\n",
       "nm10538108        1\n",
       "Name: count, Length: 1050023, dtype: int64"
      ]
     },
     "metadata": {},
     "output_type": "display_data"
    }
   ],
   "source": [
    "etc4['personID'].value_counts()"
   ]
  },
  {
   "cell_type": "code",
   "execution_count": null,
   "id": "26365142",
   "metadata": {},
   "outputs": [],
   "source": [
    "df5=pd.concat([etc3, etc4], ignore_index=True)"
   ]
  },
  {
   "cell_type": "code",
   "execution_count": null,
   "id": "1fb4f459",
   "metadata": {},
   "outputs": [],
   "source": [
    "df5['personID'] = df5['personID'].str.strip()"
   ]
  },
  {
   "cell_type": "code",
   "execution_count": null,
   "id": "e3cb5d5f",
   "metadata": {},
   "outputs": [
    {
     "data": {
      "application/vnd.microsoft.datawrangler.viewer.v0+json": {
       "columns": [
        {
         "name": "index",
         "rawType": "int64",
         "type": "integer"
        },
        {
         "name": "movieID",
         "rawType": "object",
         "type": "string"
        },
        {
         "name": "personID",
         "rawType": "object",
         "type": "string"
        },
        {
         "name": "role",
         "rawType": "object",
         "type": "string"
        }
       ],
       "ref": "c8de341e-ae51-46ce-97f0-08f412158396",
       "rows": [
        [
         "0",
         "tt0000003",
         "nm0721526",
         "director"
        ],
        [
         "1",
         "tt0000009",
         "nm0085156",
         "director"
        ],
        [
         "2",
         "tt0000015",
         "nm0721526",
         "director"
        ],
        [
         "3",
         "tt0000036",
         "nm0005690",
         "director"
        ],
        [
         "4",
         "tt0000076",
         "nm0005690",
         "director"
        ],
        [
         "5",
         "tt0000091",
         "nm0617588",
         "director"
        ],
        [
         "6",
         "tt0000108",
         "nm0005690",
         "director"
        ],
        [
         "7",
         "tt0000109",
         "nm0005690",
         "director"
        ],
        [
         "8",
         "tt0000110",
         "nm0005690",
         "director"
        ],
        [
         "9",
         "tt0000111",
         "nm0005690",
         "director"
        ],
        [
         "10",
         "tt0000112",
         "nm0005690",
         "director"
        ],
        [
         "11",
         "tt0000113",
         "nm0005690",
         "director"
        ],
        [
         "12",
         "tt0000132",
         "nm0617588",
         "director"
        ],
        [
         "13",
         "tt0000138",
         "nm0617588",
         "director"
        ],
        [
         "14",
         "tt0000165",
         "nm0005717",
         "director"
        ],
        [
         "15",
         "tt0000174",
         "nm0471818",
         "director"
        ],
        [
         "16",
         "tt0000181",
         "nm0808310",
         "director"
        ],
        [
         "17",
         "tt0000183",
         "nm0808310",
         "director"
        ],
        [
         "18",
         "tt0000189",
         "nm0005717",
         "director"
        ],
        [
         "19",
         "tt0000190",
         "nm0471818",
         "director"
        ],
        [
         "20",
         "tt0000192",
         "nm0924920",
         "director"
        ],
        [
         "21",
         "tt0000196",
         "nm0808310",
         "director"
        ],
        [
         "22",
         "tt0000211",
         "nm0617588",
         "director"
        ],
        [
         "23",
         "tt0000215",
         "nm0471818",
         "director"
        ],
        [
         "24",
         "tt0000218",
         "nm0617588",
         "director"
        ],
        [
         "25",
         "tt0000229",
         "nm0924920",
         "director"
        ],
        [
         "26",
         "tt0000230",
         "nm0617588",
         "director"
        ],
        [
         "27",
         "tt0000233",
         "nm0005717",
         "director"
        ],
        [
         "28",
         "tt0000235",
         "nm0617588",
         "director"
        ],
        [
         "29",
         "tt0000242",
         "nm0617588",
         "director"
        ],
        [
         "30",
         "tt0000247",
         "nm2156608",
         "director"
        ],
        [
         "31",
         "tt0000247",
         "nm0005690",
         "director"
        ],
        [
         "32",
         "tt0000247",
         "nm0002504",
         "director"
        ],
        [
         "33",
         "tt0000273",
         "nm0932055",
         "director"
        ],
        [
         "34",
         "tt0000301",
         "nm0692105",
         "director"
        ],
        [
         "35",
         "tt0000306",
         "nm0561109",
         "director"
        ],
        [
         "36",
         "tt0000307",
         "nm0085865",
         "director"
        ],
        [
         "37",
         "tt0000318",
         "nm0804434",
         "director"
        ],
        [
         "38",
         "tt0000358",
         "nm0954087",
         "director"
        ],
        [
         "39",
         "tt0000363",
         "nm0095816",
         "director"
        ],
        [
         "40",
         "tt0000368",
         "nm0617588",
         "director"
        ],
        [
         "41",
         "tt0000370",
         "nm0095816",
         "director"
        ],
        [
         "42",
         "tt0000376",
         "nm0958169",
         "director"
        ],
        [
         "43",
         "tt0000380",
         "nm0634629",
         "director"
        ],
        [
         "44",
         "tt0000380",
         "nm0954087",
         "director"
        ],
        [
         "45",
         "tt0000413",
         "nm0617588",
         "director"
        ],
        [
         "46",
         "tt0000416",
         "nm0954087",
         "director"
        ],
        [
         "47",
         "tt0000417",
         "nm0617588",
         "director"
        ],
        [
         "48",
         "tt0000420",
         "nm0378408",
         "director"
        ],
        [
         "49",
         "tt0000420",
         "nm0832948",
         "director"
        ]
       ],
       "shape": {
        "columns": 3,
        "rows": 19393185
       }
      },
      "text/html": [
       "<div>\n",
       "<style scoped>\n",
       "    .dataframe tbody tr th:only-of-type {\n",
       "        vertical-align: middle;\n",
       "    }\n",
       "\n",
       "    .dataframe tbody tr th {\n",
       "        vertical-align: top;\n",
       "    }\n",
       "\n",
       "    .dataframe thead th {\n",
       "        text-align: right;\n",
       "    }\n",
       "</style>\n",
       "<table border=\"1\" class=\"dataframe\">\n",
       "  <thead>\n",
       "    <tr style=\"text-align: right;\">\n",
       "      <th></th>\n",
       "      <th>movieID</th>\n",
       "      <th>personID</th>\n",
       "      <th>role</th>\n",
       "    </tr>\n",
       "  </thead>\n",
       "  <tbody>\n",
       "    <tr>\n",
       "      <th>0</th>\n",
       "      <td>tt0000003</td>\n",
       "      <td>nm0721526</td>\n",
       "      <td>director</td>\n",
       "    </tr>\n",
       "    <tr>\n",
       "      <th>1</th>\n",
       "      <td>tt0000009</td>\n",
       "      <td>nm0085156</td>\n",
       "      <td>director</td>\n",
       "    </tr>\n",
       "    <tr>\n",
       "      <th>2</th>\n",
       "      <td>tt0000015</td>\n",
       "      <td>nm0721526</td>\n",
       "      <td>director</td>\n",
       "    </tr>\n",
       "    <tr>\n",
       "      <th>3</th>\n",
       "      <td>tt0000036</td>\n",
       "      <td>nm0005690</td>\n",
       "      <td>director</td>\n",
       "    </tr>\n",
       "    <tr>\n",
       "      <th>4</th>\n",
       "      <td>tt0000076</td>\n",
       "      <td>nm0005690</td>\n",
       "      <td>director</td>\n",
       "    </tr>\n",
       "    <tr>\n",
       "      <th>...</th>\n",
       "      <td>...</td>\n",
       "      <td>...</td>\n",
       "      <td>...</td>\n",
       "    </tr>\n",
       "    <tr>\n",
       "      <th>19393180</th>\n",
       "      <td>tt9916852</td>\n",
       "      <td>nm9299459</td>\n",
       "      <td>writer</td>\n",
       "    </tr>\n",
       "    <tr>\n",
       "      <th>19393181</th>\n",
       "      <td>tt9916852</td>\n",
       "      <td>nm1628284</td>\n",
       "      <td>writer</td>\n",
       "    </tr>\n",
       "    <tr>\n",
       "      <th>19393182</th>\n",
       "      <td>tt9916856</td>\n",
       "      <td>nm6951431</td>\n",
       "      <td>writer</td>\n",
       "    </tr>\n",
       "    <tr>\n",
       "      <th>19393183</th>\n",
       "      <td>tt9916880</td>\n",
       "      <td>nm1482639</td>\n",
       "      <td>writer</td>\n",
       "    </tr>\n",
       "    <tr>\n",
       "      <th>19393184</th>\n",
       "      <td>tt9916880</td>\n",
       "      <td>nm2586970</td>\n",
       "      <td>writer</td>\n",
       "    </tr>\n",
       "  </tbody>\n",
       "</table>\n",
       "<p>19393185 rows × 3 columns</p>\n",
       "</div>"
      ],
      "text/plain": [
       "            movieID   personID      role\n",
       "0         tt0000003  nm0721526  director\n",
       "1         tt0000009  nm0085156  director\n",
       "2         tt0000015  nm0721526  director\n",
       "3         tt0000036  nm0005690  director\n",
       "4         tt0000076  nm0005690  director\n",
       "...             ...        ...       ...\n",
       "19393180  tt9916852  nm9299459    writer\n",
       "19393181  tt9916852  nm1628284    writer\n",
       "19393182  tt9916856  nm6951431    writer\n",
       "19393183  tt9916880  nm1482639    writer\n",
       "19393184  tt9916880  nm2586970    writer\n",
       "\n",
       "[19393185 rows x 3 columns]"
      ]
     },
     "metadata": {},
     "output_type": "display_data"
    }
   ],
   "source": [
    "df5"
   ]
  },
  {
   "cell_type": "code",
   "execution_count": null,
   "id": "25f14200",
   "metadata": {},
   "outputs": [],
   "source": [
    "df5 = df5.loc[:, ~df5.columns.duplicated()]"
   ]
  },
  {
   "cell_type": "code",
   "execution_count": null,
   "id": "b86a47a1",
   "metadata": {},
   "outputs": [
    {
     "data": {
      "application/vnd.microsoft.datawrangler.viewer.v0+json": {
       "columns": [
        {
         "name": "index",
         "rawType": "int64",
         "type": "integer"
        },
        {
         "name": "movieID",
         "rawType": "object",
         "type": "string"
        },
        {
         "name": "personID",
         "rawType": "object",
         "type": "string"
        },
        {
         "name": "role",
         "rawType": "object",
         "type": "string"
        }
       ],
       "ref": "3e3b8127-6e0e-4ace-8ee5-5b2dff184874",
       "rows": [
        [
         "7072876",
         "tt9916852",
         "nm1485677",
         "director"
        ],
        [
         "19393177",
         "tt9916852",
         "nm9187127",
         "writer"
        ],
        [
         "19393178",
         "tt9916852",
         "nm1485677",
         "writer"
        ],
        [
         "19393179",
         "tt9916852",
         "nm9826385",
         "writer"
        ],
        [
         "19393180",
         "tt9916852",
         "nm9299459",
         "writer"
        ],
        [
         "19393181",
         "tt9916852",
         "nm1628284",
         "writer"
        ]
       ],
       "shape": {
        "columns": 3,
        "rows": 6
       }
      },
      "text/html": [
       "<div>\n",
       "<style scoped>\n",
       "    .dataframe tbody tr th:only-of-type {\n",
       "        vertical-align: middle;\n",
       "    }\n",
       "\n",
       "    .dataframe tbody tr th {\n",
       "        vertical-align: top;\n",
       "    }\n",
       "\n",
       "    .dataframe thead th {\n",
       "        text-align: right;\n",
       "    }\n",
       "</style>\n",
       "<table border=\"1\" class=\"dataframe\">\n",
       "  <thead>\n",
       "    <tr style=\"text-align: right;\">\n",
       "      <th></th>\n",
       "      <th>movieID</th>\n",
       "      <th>personID</th>\n",
       "      <th>role</th>\n",
       "    </tr>\n",
       "  </thead>\n",
       "  <tbody>\n",
       "    <tr>\n",
       "      <th>7072876</th>\n",
       "      <td>tt9916852</td>\n",
       "      <td>nm1485677</td>\n",
       "      <td>director</td>\n",
       "    </tr>\n",
       "    <tr>\n",
       "      <th>19393177</th>\n",
       "      <td>tt9916852</td>\n",
       "      <td>nm9187127</td>\n",
       "      <td>writer</td>\n",
       "    </tr>\n",
       "    <tr>\n",
       "      <th>19393178</th>\n",
       "      <td>tt9916852</td>\n",
       "      <td>nm1485677</td>\n",
       "      <td>writer</td>\n",
       "    </tr>\n",
       "    <tr>\n",
       "      <th>19393179</th>\n",
       "      <td>tt9916852</td>\n",
       "      <td>nm9826385</td>\n",
       "      <td>writer</td>\n",
       "    </tr>\n",
       "    <tr>\n",
       "      <th>19393180</th>\n",
       "      <td>tt9916852</td>\n",
       "      <td>nm9299459</td>\n",
       "      <td>writer</td>\n",
       "    </tr>\n",
       "    <tr>\n",
       "      <th>19393181</th>\n",
       "      <td>tt9916852</td>\n",
       "      <td>nm1628284</td>\n",
       "      <td>writer</td>\n",
       "    </tr>\n",
       "  </tbody>\n",
       "</table>\n",
       "</div>"
      ],
      "text/plain": [
       "            movieID   personID      role\n",
       "7072876   tt9916852  nm1485677  director\n",
       "19393177  tt9916852  nm9187127    writer\n",
       "19393178  tt9916852  nm1485677    writer\n",
       "19393179  tt9916852  nm9826385    writer\n",
       "19393180  tt9916852  nm9299459    writer\n",
       "19393181  tt9916852  nm1628284    writer"
      ]
     },
     "metadata": {},
     "output_type": "display_data"
    }
   ],
   "source": [
    "df5[df5['movieID']=='tt9916852']"
   ]
  },
  {
   "cell_type": "code",
   "execution_count": null,
   "id": "377920a9",
   "metadata": {},
   "outputs": [
    {
     "data": {
      "application/vnd.microsoft.datawrangler.viewer.v0+json": {
       "columns": [
        {
         "name": "index",
         "rawType": "int64",
         "type": "integer"
        },
        {
         "name": "movieID",
         "rawType": "object",
         "type": "string"
        },
        {
         "name": "personID",
         "rawType": "object",
         "type": "string"
        },
        {
         "name": "role",
         "rawType": "object",
         "type": "string"
        }
       ],
       "ref": "5c2cdda2-3b77-41bc-931f-75f4dee7b9de",
       "rows": [
        [
         "0",
         "tt0000003",
         "nm0721526",
         "director"
        ],
        [
         "1",
         "tt0000009",
         "nm0085156",
         "director"
        ],
        [
         "2",
         "tt0000015",
         "nm0721526",
         "director"
        ],
        [
         "3",
         "tt0000036",
         "nm0005690",
         "director"
        ],
        [
         "4",
         "tt0000076",
         "nm0005690",
         "director"
        ],
        [
         "5",
         "tt0000091",
         "nm0617588",
         "director"
        ],
        [
         "6",
         "tt0000108",
         "nm0005690",
         "director"
        ],
        [
         "7",
         "tt0000109",
         "nm0005690",
         "director"
        ],
        [
         "8",
         "tt0000110",
         "nm0005690",
         "director"
        ],
        [
         "9",
         "tt0000111",
         "nm0005690",
         "director"
        ],
        [
         "10",
         "tt0000112",
         "nm0005690",
         "director"
        ],
        [
         "11",
         "tt0000113",
         "nm0005690",
         "director"
        ],
        [
         "12",
         "tt0000132",
         "nm0617588",
         "director"
        ],
        [
         "13",
         "tt0000138",
         "nm0617588",
         "director"
        ],
        [
         "14",
         "tt0000165",
         "nm0005717",
         "director"
        ],
        [
         "15",
         "tt0000174",
         "nm0471818",
         "director"
        ],
        [
         "16",
         "tt0000181",
         "nm0808310",
         "director"
        ],
        [
         "17",
         "tt0000183",
         "nm0808310",
         "director"
        ],
        [
         "18",
         "tt0000189",
         "nm0005717",
         "director"
        ],
        [
         "19",
         "tt0000190",
         "nm0471818",
         "director"
        ],
        [
         "20",
         "tt0000192",
         "nm0924920",
         "director"
        ],
        [
         "21",
         "tt0000196",
         "nm0808310",
         "director"
        ],
        [
         "22",
         "tt0000211",
         "nm0617588",
         "director"
        ],
        [
         "23",
         "tt0000215",
         "nm0471818",
         "director"
        ],
        [
         "24",
         "tt0000218",
         "nm0617588",
         "director"
        ],
        [
         "25",
         "tt0000229",
         "nm0924920",
         "director"
        ],
        [
         "26",
         "tt0000230",
         "nm0617588",
         "director"
        ],
        [
         "27",
         "tt0000233",
         "nm0005717",
         "director"
        ],
        [
         "28",
         "tt0000235",
         "nm0617588",
         "director"
        ],
        [
         "29",
         "tt0000242",
         "nm0617588",
         "director"
        ],
        [
         "30",
         "tt0000247",
         "nm2156608",
         "director"
        ],
        [
         "31",
         "tt0000247",
         "nm0005690",
         "director"
        ],
        [
         "32",
         "tt0000247",
         "nm0002504",
         "director"
        ],
        [
         "33",
         "tt0000273",
         "nm0932055",
         "director"
        ],
        [
         "34",
         "tt0000301",
         "nm0692105",
         "director"
        ],
        [
         "35",
         "tt0000306",
         "nm0561109",
         "director"
        ],
        [
         "36",
         "tt0000307",
         "nm0085865",
         "director"
        ],
        [
         "37",
         "tt0000318",
         "nm0804434",
         "director"
        ],
        [
         "38",
         "tt0000358",
         "nm0954087",
         "director"
        ],
        [
         "39",
         "tt0000363",
         "nm0095816",
         "director"
        ],
        [
         "40",
         "tt0000368",
         "nm0617588",
         "director"
        ],
        [
         "41",
         "tt0000370",
         "nm0095816",
         "director"
        ],
        [
         "42",
         "tt0000376",
         "nm0958169",
         "director"
        ],
        [
         "43",
         "tt0000380",
         "nm0634629",
         "director"
        ],
        [
         "44",
         "tt0000380",
         "nm0954087",
         "director"
        ],
        [
         "45",
         "tt0000413",
         "nm0617588",
         "director"
        ],
        [
         "46",
         "tt0000416",
         "nm0954087",
         "director"
        ],
        [
         "47",
         "tt0000417",
         "nm0617588",
         "director"
        ],
        [
         "48",
         "tt0000420",
         "nm0378408",
         "director"
        ],
        [
         "49",
         "tt0000420",
         "nm0832948",
         "director"
        ]
       ],
       "shape": {
        "columns": 3,
        "rows": 19393185
       }
      },
      "text/html": [
       "<div>\n",
       "<style scoped>\n",
       "    .dataframe tbody tr th:only-of-type {\n",
       "        vertical-align: middle;\n",
       "    }\n",
       "\n",
       "    .dataframe tbody tr th {\n",
       "        vertical-align: top;\n",
       "    }\n",
       "\n",
       "    .dataframe thead th {\n",
       "        text-align: right;\n",
       "    }\n",
       "</style>\n",
       "<table border=\"1\" class=\"dataframe\">\n",
       "  <thead>\n",
       "    <tr style=\"text-align: right;\">\n",
       "      <th></th>\n",
       "      <th>movieID</th>\n",
       "      <th>personID</th>\n",
       "      <th>role</th>\n",
       "    </tr>\n",
       "  </thead>\n",
       "  <tbody>\n",
       "    <tr>\n",
       "      <th>0</th>\n",
       "      <td>tt0000003</td>\n",
       "      <td>nm0721526</td>\n",
       "      <td>director</td>\n",
       "    </tr>\n",
       "    <tr>\n",
       "      <th>1</th>\n",
       "      <td>tt0000009</td>\n",
       "      <td>nm0085156</td>\n",
       "      <td>director</td>\n",
       "    </tr>\n",
       "    <tr>\n",
       "      <th>2</th>\n",
       "      <td>tt0000015</td>\n",
       "      <td>nm0721526</td>\n",
       "      <td>director</td>\n",
       "    </tr>\n",
       "    <tr>\n",
       "      <th>3</th>\n",
       "      <td>tt0000036</td>\n",
       "      <td>nm0005690</td>\n",
       "      <td>director</td>\n",
       "    </tr>\n",
       "    <tr>\n",
       "      <th>4</th>\n",
       "      <td>tt0000076</td>\n",
       "      <td>nm0005690</td>\n",
       "      <td>director</td>\n",
       "    </tr>\n",
       "    <tr>\n",
       "      <th>...</th>\n",
       "      <td>...</td>\n",
       "      <td>...</td>\n",
       "      <td>...</td>\n",
       "    </tr>\n",
       "    <tr>\n",
       "      <th>19393180</th>\n",
       "      <td>tt9916852</td>\n",
       "      <td>nm9299459</td>\n",
       "      <td>writer</td>\n",
       "    </tr>\n",
       "    <tr>\n",
       "      <th>19393181</th>\n",
       "      <td>tt9916852</td>\n",
       "      <td>nm1628284</td>\n",
       "      <td>writer</td>\n",
       "    </tr>\n",
       "    <tr>\n",
       "      <th>19393182</th>\n",
       "      <td>tt9916856</td>\n",
       "      <td>nm6951431</td>\n",
       "      <td>writer</td>\n",
       "    </tr>\n",
       "    <tr>\n",
       "      <th>19393183</th>\n",
       "      <td>tt9916880</td>\n",
       "      <td>nm1482639</td>\n",
       "      <td>writer</td>\n",
       "    </tr>\n",
       "    <tr>\n",
       "      <th>19393184</th>\n",
       "      <td>tt9916880</td>\n",
       "      <td>nm2586970</td>\n",
       "      <td>writer</td>\n",
       "    </tr>\n",
       "  </tbody>\n",
       "</table>\n",
       "<p>19393185 rows × 3 columns</p>\n",
       "</div>"
      ],
      "text/plain": [
       "            movieID   personID      role\n",
       "0         tt0000003  nm0721526  director\n",
       "1         tt0000009  nm0085156  director\n",
       "2         tt0000015  nm0721526  director\n",
       "3         tt0000036  nm0005690  director\n",
       "4         tt0000076  nm0005690  director\n",
       "...             ...        ...       ...\n",
       "19393180  tt9916852  nm9299459    writer\n",
       "19393181  tt9916852  nm1628284    writer\n",
       "19393182  tt9916856  nm6951431    writer\n",
       "19393183  tt9916880  nm1482639    writer\n",
       "19393184  tt9916880  nm2586970    writer\n",
       "\n",
       "[19393185 rows x 3 columns]"
      ]
     },
     "metadata": {},
     "output_type": "display_data"
    }
   ],
   "source": [
    "df5"
   ]
  },
  {
   "cell_type": "code",
   "execution_count": null,
   "id": "724ee94c",
   "metadata": {},
   "outputs": [
    {
     "data": {
      "application/vnd.microsoft.datawrangler.viewer.v0+json": {
       "columns": [
        {
         "name": "index",
         "rawType": "object",
         "type": "string"
        },
        {
         "name": "0",
         "rawType": "int64",
         "type": "integer"
        }
       ],
       "ref": "97d204cf-bdff-4aa3-924c-8d712fcd4651",
       "rows": [
        [
         "movieID",
         "0"
        ],
        [
         "personID",
         "0"
        ],
        [
         "role",
         "0"
        ]
       ],
       "shape": {
        "columns": 1,
        "rows": 3
       }
      },
      "text/plain": [
       "movieID     0\n",
       "personID    0\n",
       "role        0\n",
       "dtype: int64"
      ]
     },
     "metadata": {},
     "output_type": "display_data"
    }
   ],
   "source": [
    "df5.isnull().sum()"
   ]
  },
  {
   "cell_type": "code",
   "execution_count": null,
   "id": "84fa1967",
   "metadata": {},
   "outputs": [
    {
     "name": "stdout",
     "output_type": "stream",
     "text": [
      "role\n",
      "writer      12320306\n",
      "director     7072879\n",
      "Name: count, dtype: int64\n"
     ]
    }
   ],
   "source": [
    "print(df5['role'].value_counts())"
   ]
  },
  {
   "cell_type": "code",
   "execution_count": null,
   "id": "2cc6399c",
   "metadata": {},
   "outputs": [],
   "source": [
    "df4=pd.read_csv('../temp/dfs/name.csv')"
   ]
  },
  {
   "cell_type": "code",
   "execution_count": null,
   "id": "e1a3ba81",
   "metadata": {},
   "outputs": [
    {
     "data": {
      "application/vnd.microsoft.datawrangler.viewer.v0+json": {
       "columns": [
        {
         "name": "index",
         "rawType": "int64",
         "type": "integer"
        },
        {
         "name": "nconst",
         "rawType": "object",
         "type": "string"
        },
        {
         "name": "name",
         "rawType": "object",
         "type": "string"
        }
       ],
       "ref": "8b4a8965-5c37-492d-8cec-ee7447c1a571",
       "rows": [
        [
         "0",
         "nm0000001",
         "Fred Astaire"
        ],
        [
         "1",
         "nm0000002",
         "Lauren Bacall"
        ],
        [
         "2",
         "nm0000003",
         "Brigitte Bardot"
        ],
        [
         "3",
         "nm0000004",
         "John Belushi"
        ],
        [
         "4",
         "nm0000005",
         "Ingmar Bergman"
        ],
        [
         "5",
         "nm0000006",
         "Ingrid Bergman"
        ],
        [
         "6",
         "nm0000007",
         "Humphrey Bogart"
        ],
        [
         "7",
         "nm0000008",
         "Marlon Brando"
        ],
        [
         "8",
         "nm0000009",
         "Richard Burton"
        ],
        [
         "9",
         "nm0000010",
         "James Cagney"
        ],
        [
         "10",
         "nm0000011",
         "Gary Cooper"
        ],
        [
         "11",
         "nm0000012",
         "Bette Davis"
        ],
        [
         "12",
         "nm0000013",
         "Doris Day"
        ],
        [
         "13",
         "nm0000014",
         "Olivia de Havilland"
        ],
        [
         "14",
         "nm0000015",
         "James Dean"
        ],
        [
         "15",
         "nm0000016",
         "Georges Delerue"
        ],
        [
         "16",
         "nm0000017",
         "Marlene Dietrich"
        ],
        [
         "17",
         "nm0000018",
         "Kirk Douglas"
        ],
        [
         "18",
         "nm0000019",
         "Federico Fellini"
        ],
        [
         "19",
         "nm0000020",
         "Henry Fonda"
        ],
        [
         "20",
         "nm0000021",
         "Joan Fontaine"
        ],
        [
         "21",
         "nm0000022",
         "Clark Gable"
        ],
        [
         "22",
         "nm0000023",
         "Judy Garland"
        ],
        [
         "23",
         "nm0000024",
         "John Gielgud"
        ],
        [
         "24",
         "nm0000025",
         "Jerry Goldsmith"
        ],
        [
         "25",
         "nm0000026",
         "Cary Grant"
        ],
        [
         "26",
         "nm0000027",
         "Alec Guinness"
        ],
        [
         "27",
         "nm0000028",
         "Rita Hayworth"
        ],
        [
         "28",
         "nm0000029",
         "Margaux Hemingway"
        ],
        [
         "29",
         "nm0000030",
         "Audrey Hepburn"
        ],
        [
         "30",
         "nm0000031",
         "Katharine Hepburn"
        ],
        [
         "31",
         "nm0000032",
         "Charlton Heston"
        ],
        [
         "32",
         "nm0000033",
         "Alfred Hitchcock"
        ],
        [
         "33",
         "nm0000034",
         "William Holden"
        ],
        [
         "34",
         "nm0000035",
         "James Horner"
        ],
        [
         "35",
         "nm0000036",
         "Buster Keaton"
        ],
        [
         "36",
         "nm0000037",
         "Gene Kelly"
        ],
        [
         "37",
         "nm0000038",
         "Grace Kelly"
        ],
        [
         "38",
         "nm0000039",
         "Deborah Kerr"
        ],
        [
         "39",
         "nm0000040",
         "Stanley Kubrick"
        ],
        [
         "40",
         "nm0000041",
         "Akira Kurosawa"
        ],
        [
         "41",
         "nm0000042",
         "Alan Ladd"
        ],
        [
         "42",
         "nm0000043",
         "Veronica Lake"
        ],
        [
         "43",
         "nm0000044",
         "Burt Lancaster"
        ],
        [
         "44",
         "nm0000045",
         "Bruce Lee"
        ],
        [
         "45",
         "nm0000046",
         "Vivien Leigh"
        ],
        [
         "46",
         "nm0000047",
         "Sophia Loren"
        ],
        [
         "47",
         "nm0000048",
         "Peter Lorre"
        ],
        [
         "48",
         "nm0000049",
         "Henry Mancini"
        ],
        [
         "49",
         "nm0000050",
         "Groucho Marx"
        ]
       ],
       "shape": {
        "columns": 2,
        "rows": 14611773
       }
      },
      "text/html": [
       "<div>\n",
       "<style scoped>\n",
       "    .dataframe tbody tr th:only-of-type {\n",
       "        vertical-align: middle;\n",
       "    }\n",
       "\n",
       "    .dataframe tbody tr th {\n",
       "        vertical-align: top;\n",
       "    }\n",
       "\n",
       "    .dataframe thead th {\n",
       "        text-align: right;\n",
       "    }\n",
       "</style>\n",
       "<table border=\"1\" class=\"dataframe\">\n",
       "  <thead>\n",
       "    <tr style=\"text-align: right;\">\n",
       "      <th></th>\n",
       "      <th>nconst</th>\n",
       "      <th>name</th>\n",
       "    </tr>\n",
       "  </thead>\n",
       "  <tbody>\n",
       "    <tr>\n",
       "      <th>0</th>\n",
       "      <td>nm0000001</td>\n",
       "      <td>Fred Astaire</td>\n",
       "    </tr>\n",
       "    <tr>\n",
       "      <th>1</th>\n",
       "      <td>nm0000002</td>\n",
       "      <td>Lauren Bacall</td>\n",
       "    </tr>\n",
       "    <tr>\n",
       "      <th>2</th>\n",
       "      <td>nm0000003</td>\n",
       "      <td>Brigitte Bardot</td>\n",
       "    </tr>\n",
       "    <tr>\n",
       "      <th>3</th>\n",
       "      <td>nm0000004</td>\n",
       "      <td>John Belushi</td>\n",
       "    </tr>\n",
       "    <tr>\n",
       "      <th>4</th>\n",
       "      <td>nm0000005</td>\n",
       "      <td>Ingmar Bergman</td>\n",
       "    </tr>\n",
       "    <tr>\n",
       "      <th>...</th>\n",
       "      <td>...</td>\n",
       "      <td>...</td>\n",
       "    </tr>\n",
       "    <tr>\n",
       "      <th>14611768</th>\n",
       "      <td>nm9993714</td>\n",
       "      <td>Romeo del Rosario</td>\n",
       "    </tr>\n",
       "    <tr>\n",
       "      <th>14611769</th>\n",
       "      <td>nm9993716</td>\n",
       "      <td>Essias Loberg</td>\n",
       "    </tr>\n",
       "    <tr>\n",
       "      <th>14611770</th>\n",
       "      <td>nm9993717</td>\n",
       "      <td>Harikrishnan Rajan</td>\n",
       "    </tr>\n",
       "    <tr>\n",
       "      <th>14611771</th>\n",
       "      <td>nm9993718</td>\n",
       "      <td>Aayush Nair</td>\n",
       "    </tr>\n",
       "    <tr>\n",
       "      <th>14611772</th>\n",
       "      <td>nm9993719</td>\n",
       "      <td>Andre Hill</td>\n",
       "    </tr>\n",
       "  </tbody>\n",
       "</table>\n",
       "<p>14611773 rows × 2 columns</p>\n",
       "</div>"
      ],
      "text/plain": [
       "             nconst                name\n",
       "0         nm0000001        Fred Astaire\n",
       "1         nm0000002       Lauren Bacall\n",
       "2         nm0000003     Brigitte Bardot\n",
       "3         nm0000004        John Belushi\n",
       "4         nm0000005      Ingmar Bergman\n",
       "...             ...                 ...\n",
       "14611768  nm9993714   Romeo del Rosario\n",
       "14611769  nm9993716       Essias Loberg\n",
       "14611770  nm9993717  Harikrishnan Rajan\n",
       "14611771  nm9993718         Aayush Nair\n",
       "14611772  nm9993719          Andre Hill\n",
       "\n",
       "[14611773 rows x 2 columns]"
      ]
     },
     "metadata": {},
     "output_type": "display_data"
    }
   ],
   "source": [
    "df4"
   ]
  },
  {
   "cell_type": "code",
   "execution_count": null,
   "id": "5e05d3dd",
   "metadata": {},
   "outputs": [
    {
     "data": {
      "application/vnd.microsoft.datawrangler.viewer.v0+json": {
       "columns": [
        {
         "name": "index",
         "rawType": "int64",
         "type": "integer"
        },
        {
         "name": "personID",
         "rawType": "object",
         "type": "string"
        },
        {
         "name": "name",
         "rawType": "object",
         "type": "string"
        }
       ],
       "ref": "b83d37f1-3536-4055-8d35-693d130de979",
       "rows": [
        [
         "0",
         "nm0000001",
         "Fred Astaire"
        ],
        [
         "1",
         "nm0000002",
         "Lauren Bacall"
        ],
        [
         "2",
         "nm0000003",
         "Brigitte Bardot"
        ],
        [
         "3",
         "nm0000004",
         "John Belushi"
        ],
        [
         "4",
         "nm0000005",
         "Ingmar Bergman"
        ],
        [
         "5",
         "nm0000006",
         "Ingrid Bergman"
        ],
        [
         "6",
         "nm0000007",
         "Humphrey Bogart"
        ],
        [
         "7",
         "nm0000008",
         "Marlon Brando"
        ],
        [
         "8",
         "nm0000009",
         "Richard Burton"
        ],
        [
         "9",
         "nm0000010",
         "James Cagney"
        ],
        [
         "10",
         "nm0000011",
         "Gary Cooper"
        ],
        [
         "11",
         "nm0000012",
         "Bette Davis"
        ],
        [
         "12",
         "nm0000013",
         "Doris Day"
        ],
        [
         "13",
         "nm0000014",
         "Olivia de Havilland"
        ],
        [
         "14",
         "nm0000015",
         "James Dean"
        ],
        [
         "15",
         "nm0000016",
         "Georges Delerue"
        ],
        [
         "16",
         "nm0000017",
         "Marlene Dietrich"
        ],
        [
         "17",
         "nm0000018",
         "Kirk Douglas"
        ],
        [
         "18",
         "nm0000019",
         "Federico Fellini"
        ],
        [
         "19",
         "nm0000020",
         "Henry Fonda"
        ],
        [
         "20",
         "nm0000021",
         "Joan Fontaine"
        ],
        [
         "21",
         "nm0000022",
         "Clark Gable"
        ],
        [
         "22",
         "nm0000023",
         "Judy Garland"
        ],
        [
         "23",
         "nm0000024",
         "John Gielgud"
        ],
        [
         "24",
         "nm0000025",
         "Jerry Goldsmith"
        ],
        [
         "25",
         "nm0000026",
         "Cary Grant"
        ],
        [
         "26",
         "nm0000027",
         "Alec Guinness"
        ],
        [
         "27",
         "nm0000028",
         "Rita Hayworth"
        ],
        [
         "28",
         "nm0000029",
         "Margaux Hemingway"
        ],
        [
         "29",
         "nm0000030",
         "Audrey Hepburn"
        ],
        [
         "30",
         "nm0000031",
         "Katharine Hepburn"
        ],
        [
         "31",
         "nm0000032",
         "Charlton Heston"
        ],
        [
         "32",
         "nm0000033",
         "Alfred Hitchcock"
        ],
        [
         "33",
         "nm0000034",
         "William Holden"
        ],
        [
         "34",
         "nm0000035",
         "James Horner"
        ],
        [
         "35",
         "nm0000036",
         "Buster Keaton"
        ],
        [
         "36",
         "nm0000037",
         "Gene Kelly"
        ],
        [
         "37",
         "nm0000038",
         "Grace Kelly"
        ],
        [
         "38",
         "nm0000039",
         "Deborah Kerr"
        ],
        [
         "39",
         "nm0000040",
         "Stanley Kubrick"
        ],
        [
         "40",
         "nm0000041",
         "Akira Kurosawa"
        ],
        [
         "41",
         "nm0000042",
         "Alan Ladd"
        ],
        [
         "42",
         "nm0000043",
         "Veronica Lake"
        ],
        [
         "43",
         "nm0000044",
         "Burt Lancaster"
        ],
        [
         "44",
         "nm0000045",
         "Bruce Lee"
        ],
        [
         "45",
         "nm0000046",
         "Vivien Leigh"
        ],
        [
         "46",
         "nm0000047",
         "Sophia Loren"
        ],
        [
         "47",
         "nm0000048",
         "Peter Lorre"
        ],
        [
         "48",
         "nm0000049",
         "Henry Mancini"
        ],
        [
         "49",
         "nm0000050",
         "Groucho Marx"
        ]
       ],
       "shape": {
        "columns": 2,
        "rows": 14611773
       }
      },
      "text/html": [
       "<div>\n",
       "<style scoped>\n",
       "    .dataframe tbody tr th:only-of-type {\n",
       "        vertical-align: middle;\n",
       "    }\n",
       "\n",
       "    .dataframe tbody tr th {\n",
       "        vertical-align: top;\n",
       "    }\n",
       "\n",
       "    .dataframe thead th {\n",
       "        text-align: right;\n",
       "    }\n",
       "</style>\n",
       "<table border=\"1\" class=\"dataframe\">\n",
       "  <thead>\n",
       "    <tr style=\"text-align: right;\">\n",
       "      <th></th>\n",
       "      <th>personID</th>\n",
       "      <th>name</th>\n",
       "    </tr>\n",
       "  </thead>\n",
       "  <tbody>\n",
       "    <tr>\n",
       "      <th>0</th>\n",
       "      <td>nm0000001</td>\n",
       "      <td>Fred Astaire</td>\n",
       "    </tr>\n",
       "    <tr>\n",
       "      <th>1</th>\n",
       "      <td>nm0000002</td>\n",
       "      <td>Lauren Bacall</td>\n",
       "    </tr>\n",
       "    <tr>\n",
       "      <th>2</th>\n",
       "      <td>nm0000003</td>\n",
       "      <td>Brigitte Bardot</td>\n",
       "    </tr>\n",
       "    <tr>\n",
       "      <th>3</th>\n",
       "      <td>nm0000004</td>\n",
       "      <td>John Belushi</td>\n",
       "    </tr>\n",
       "    <tr>\n",
       "      <th>4</th>\n",
       "      <td>nm0000005</td>\n",
       "      <td>Ingmar Bergman</td>\n",
       "    </tr>\n",
       "    <tr>\n",
       "      <th>...</th>\n",
       "      <td>...</td>\n",
       "      <td>...</td>\n",
       "    </tr>\n",
       "    <tr>\n",
       "      <th>14611768</th>\n",
       "      <td>nm9993714</td>\n",
       "      <td>Romeo del Rosario</td>\n",
       "    </tr>\n",
       "    <tr>\n",
       "      <th>14611769</th>\n",
       "      <td>nm9993716</td>\n",
       "      <td>Essias Loberg</td>\n",
       "    </tr>\n",
       "    <tr>\n",
       "      <th>14611770</th>\n",
       "      <td>nm9993717</td>\n",
       "      <td>Harikrishnan Rajan</td>\n",
       "    </tr>\n",
       "    <tr>\n",
       "      <th>14611771</th>\n",
       "      <td>nm9993718</td>\n",
       "      <td>Aayush Nair</td>\n",
       "    </tr>\n",
       "    <tr>\n",
       "      <th>14611772</th>\n",
       "      <td>nm9993719</td>\n",
       "      <td>Andre Hill</td>\n",
       "    </tr>\n",
       "  </tbody>\n",
       "</table>\n",
       "<p>14611773 rows × 2 columns</p>\n",
       "</div>"
      ],
      "text/plain": [
       "           personID                name\n",
       "0         nm0000001        Fred Astaire\n",
       "1         nm0000002       Lauren Bacall\n",
       "2         nm0000003     Brigitte Bardot\n",
       "3         nm0000004        John Belushi\n",
       "4         nm0000005      Ingmar Bergman\n",
       "...             ...                 ...\n",
       "14611768  nm9993714   Romeo del Rosario\n",
       "14611769  nm9993716       Essias Loberg\n",
       "14611770  nm9993717  Harikrishnan Rajan\n",
       "14611771  nm9993718         Aayush Nair\n",
       "14611772  nm9993719          Andre Hill\n",
       "\n",
       "[14611773 rows x 2 columns]"
      ]
     },
     "metadata": {},
     "output_type": "display_data"
    }
   ],
   "source": [
    "df4.rename(columns={'nconst':\"personID\"}, inplace=True)\n",
    "df4"
   ]
  },
  {
   "cell_type": "code",
   "execution_count": null,
   "id": "5b9e6bff",
   "metadata": {},
   "outputs": [
    {
     "data": {
      "application/vnd.microsoft.datawrangler.viewer.v0+json": {
       "columns": [
        {
         "name": "index",
         "rawType": "int64",
         "type": "integer"
        },
        {
         "name": "movieID",
         "rawType": "object",
         "type": "string"
        },
        {
         "name": "personID",
         "rawType": "object",
         "type": "string"
        },
        {
         "name": "role",
         "rawType": "object",
         "type": "string"
        },
        {
         "name": "name",
         "rawType": "object",
         "type": "unknown"
        }
       ],
       "ref": "4127bbc4-ff8e-41a6-9040-b80bc1e11a87",
       "rows": [
        [
         "0",
         "tt0000003",
         "nm0721526",
         "director",
         "Émile Reynaud"
        ],
        [
         "1",
         "tt0000009",
         "nm0085156",
         "director",
         "Alexander Black"
        ],
        [
         "2",
         "tt0000015",
         "nm0721526",
         "director",
         "Émile Reynaud"
        ],
        [
         "3",
         "tt0000036",
         "nm0005690",
         "director",
         "William K.L. Dickson"
        ],
        [
         "4",
         "tt0000076",
         "nm0005690",
         "director",
         "William K.L. Dickson"
        ],
        [
         "5",
         "tt0000091",
         "nm0617588",
         "director",
         "Georges Méliès"
        ],
        [
         "6",
         "tt0000108",
         "nm0005690",
         "director",
         "William K.L. Dickson"
        ],
        [
         "7",
         "tt0000109",
         "nm0005690",
         "director",
         "William K.L. Dickson"
        ],
        [
         "8",
         "tt0000110",
         "nm0005690",
         "director",
         "William K.L. Dickson"
        ],
        [
         "9",
         "tt0000111",
         "nm0005690",
         "director",
         "William K.L. Dickson"
        ],
        [
         "10",
         "tt0000112",
         "nm0005690",
         "director",
         "William K.L. Dickson"
        ],
        [
         "11",
         "tt0000113",
         "nm0005690",
         "director",
         "William K.L. Dickson"
        ],
        [
         "12",
         "tt0000132",
         "nm0617588",
         "director",
         "Georges Méliès"
        ],
        [
         "13",
         "tt0000138",
         "nm0617588",
         "director",
         "Georges Méliès"
        ],
        [
         "14",
         "tt0000165",
         "nm0005717",
         "director",
         "Fructuós Gelabert"
        ],
        [
         "15",
         "tt0000174",
         "nm0471818",
         "director",
         "Jan Krízenecký"
        ],
        [
         "16",
         "tt0000181",
         "nm0808310",
         "director",
         "George Albert Smith"
        ],
        [
         "17",
         "tt0000183",
         "nm0808310",
         "director",
         "George Albert Smith"
        ],
        [
         "18",
         "tt0000189",
         "nm0005717",
         "director",
         "Fructuós Gelabert"
        ],
        [
         "19",
         "tt0000190",
         "nm0471818",
         "director",
         "Jan Krízenecký"
        ],
        [
         "20",
         "tt0000192",
         "nm0924920",
         "director",
         "James H. White"
        ],
        [
         "21",
         "tt0000196",
         "nm0808310",
         "director",
         "George Albert Smith"
        ],
        [
         "22",
         "tt0000211",
         "nm0617588",
         "director",
         "Georges Méliès"
        ],
        [
         "23",
         "tt0000215",
         "nm0471818",
         "director",
         "Jan Krízenecký"
        ],
        [
         "24",
         "tt0000218",
         "nm0617588",
         "director",
         "Georges Méliès"
        ],
        [
         "25",
         "tt0000229",
         "nm0924920",
         "director",
         "James H. White"
        ],
        [
         "26",
         "tt0000230",
         "nm0617588",
         "director",
         "Georges Méliès"
        ],
        [
         "27",
         "tt0000233",
         "nm0005717",
         "director",
         "Fructuós Gelabert"
        ],
        [
         "28",
         "tt0000235",
         "nm0617588",
         "director",
         "Georges Méliès"
        ],
        [
         "29",
         "tt0000242",
         "nm0617588",
         "director",
         "Georges Méliès"
        ],
        [
         "30",
         "tt0000247",
         "nm2156608",
         "director",
         "Walter Pfeffer Dando"
        ],
        [
         "31",
         "tt0000247",
         "nm0005690",
         "director",
         "William K.L. Dickson"
        ],
        [
         "32",
         "tt0000247",
         "nm0002504",
         "director",
         "Herbert Beerbohm Tree"
        ],
        [
         "33",
         "tt0000273",
         "nm0932055",
         "director",
         "James Williamson"
        ],
        [
         "34",
         "tt0000301",
         "nm0692105",
         "director",
         "Edwin S. Porter"
        ],
        [
         "35",
         "tt0000306",
         "nm0561109",
         "director",
         "Clément Maurice"
        ],
        [
         "36",
         "tt0000307",
         "nm0085865",
         "director",
         "J. Stuart Blackton"
        ],
        [
         "37",
         "tt0000318",
         "nm0804434",
         "director",
         "Max Skladanowsky"
        ],
        [
         "38",
         "tt0000358",
         "nm0954087",
         "director",
         "Ferdinand Zecca"
        ],
        [
         "39",
         "tt0000363",
         "nm0095816",
         "director",
         "Walter R. Booth"
        ],
        [
         "40",
         "tt0000368",
         "nm0617588",
         "director",
         "Georges Méliès"
        ],
        [
         "41",
         "tt0000370",
         "nm0095816",
         "director",
         "Walter R. Booth"
        ],
        [
         "42",
         "tt0000376",
         "nm0958169",
         "director",
         "Béla Zsitkovszky"
        ],
        [
         "43",
         "tt0000380",
         "nm0634629",
         "director",
         "Lucien Nonguet"
        ],
        [
         "44",
         "tt0000380",
         "nm0954087",
         "director",
         "Ferdinand Zecca"
        ],
        [
         "45",
         "tt0000413",
         "nm0617588",
         "director",
         "Georges Méliès"
        ],
        [
         "46",
         "tt0000416",
         "nm0954087",
         "director",
         "Ferdinand Zecca"
        ],
        [
         "47",
         "tt0000417",
         "nm0617588",
         "director",
         "Georges Méliès"
        ],
        [
         "48",
         "tt0000420",
         "nm0378408",
         "director",
         "Cecil M. Hepworth"
        ],
        [
         "49",
         "tt0000420",
         "nm0832948",
         "director",
         "Percy Stow"
        ]
       ],
       "shape": {
        "columns": 4,
        "rows": 19393185
       }
      },
      "text/html": [
       "<div>\n",
       "<style scoped>\n",
       "    .dataframe tbody tr th:only-of-type {\n",
       "        vertical-align: middle;\n",
       "    }\n",
       "\n",
       "    .dataframe tbody tr th {\n",
       "        vertical-align: top;\n",
       "    }\n",
       "\n",
       "    .dataframe thead th {\n",
       "        text-align: right;\n",
       "    }\n",
       "</style>\n",
       "<table border=\"1\" class=\"dataframe\">\n",
       "  <thead>\n",
       "    <tr style=\"text-align: right;\">\n",
       "      <th></th>\n",
       "      <th>movieID</th>\n",
       "      <th>personID</th>\n",
       "      <th>role</th>\n",
       "      <th>name</th>\n",
       "    </tr>\n",
       "  </thead>\n",
       "  <tbody>\n",
       "    <tr>\n",
       "      <th>0</th>\n",
       "      <td>tt0000003</td>\n",
       "      <td>nm0721526</td>\n",
       "      <td>director</td>\n",
       "      <td>Émile Reynaud</td>\n",
       "    </tr>\n",
       "    <tr>\n",
       "      <th>1</th>\n",
       "      <td>tt0000009</td>\n",
       "      <td>nm0085156</td>\n",
       "      <td>director</td>\n",
       "      <td>Alexander Black</td>\n",
       "    </tr>\n",
       "    <tr>\n",
       "      <th>2</th>\n",
       "      <td>tt0000015</td>\n",
       "      <td>nm0721526</td>\n",
       "      <td>director</td>\n",
       "      <td>Émile Reynaud</td>\n",
       "    </tr>\n",
       "    <tr>\n",
       "      <th>3</th>\n",
       "      <td>tt0000036</td>\n",
       "      <td>nm0005690</td>\n",
       "      <td>director</td>\n",
       "      <td>William K.L. Dickson</td>\n",
       "    </tr>\n",
       "    <tr>\n",
       "      <th>4</th>\n",
       "      <td>tt0000076</td>\n",
       "      <td>nm0005690</td>\n",
       "      <td>director</td>\n",
       "      <td>William K.L. Dickson</td>\n",
       "    </tr>\n",
       "    <tr>\n",
       "      <th>...</th>\n",
       "      <td>...</td>\n",
       "      <td>...</td>\n",
       "      <td>...</td>\n",
       "      <td>...</td>\n",
       "    </tr>\n",
       "    <tr>\n",
       "      <th>19393180</th>\n",
       "      <td>tt9916852</td>\n",
       "      <td>nm9299459</td>\n",
       "      <td>writer</td>\n",
       "      <td>Nur Özlem Elginöz</td>\n",
       "    </tr>\n",
       "    <tr>\n",
       "      <th>19393181</th>\n",
       "      <td>tt9916852</td>\n",
       "      <td>nm1628284</td>\n",
       "      <td>writer</td>\n",
       "      <td>Birol Güven</td>\n",
       "    </tr>\n",
       "    <tr>\n",
       "      <th>19393182</th>\n",
       "      <td>tt9916856</td>\n",
       "      <td>nm6951431</td>\n",
       "      <td>writer</td>\n",
       "      <td>Johan Planefeldt</td>\n",
       "    </tr>\n",
       "    <tr>\n",
       "      <th>19393183</th>\n",
       "      <td>tt9916880</td>\n",
       "      <td>nm1482639</td>\n",
       "      <td>writer</td>\n",
       "      <td>Lucinda Whiteley</td>\n",
       "    </tr>\n",
       "    <tr>\n",
       "      <th>19393184</th>\n",
       "      <td>tt9916880</td>\n",
       "      <td>nm2586970</td>\n",
       "      <td>writer</td>\n",
       "      <td>Francesca Simon</td>\n",
       "    </tr>\n",
       "  </tbody>\n",
       "</table>\n",
       "<p>19393185 rows × 4 columns</p>\n",
       "</div>"
      ],
      "text/plain": [
       "            movieID   personID      role                  name\n",
       "0         tt0000003  nm0721526  director         Émile Reynaud\n",
       "1         tt0000009  nm0085156  director       Alexander Black\n",
       "2         tt0000015  nm0721526  director         Émile Reynaud\n",
       "3         tt0000036  nm0005690  director  William K.L. Dickson\n",
       "4         tt0000076  nm0005690  director  William K.L. Dickson\n",
       "...             ...        ...       ...                   ...\n",
       "19393180  tt9916852  nm9299459    writer     Nur Özlem Elginöz\n",
       "19393181  tt9916852  nm1628284    writer           Birol Güven\n",
       "19393182  tt9916856  nm6951431    writer      Johan Planefeldt\n",
       "19393183  tt9916880  nm1482639    writer      Lucinda Whiteley\n",
       "19393184  tt9916880  nm2586970    writer       Francesca Simon\n",
       "\n",
       "[19393185 rows x 4 columns]"
      ]
     },
     "metadata": {},
     "output_type": "display_data"
    }
   ],
   "source": [
    "subdf1=pd.merge(df5,df4,on='personID', how='left')\n",
    "subdf1"
   ]
  },
  {
   "cell_type": "code",
   "execution_count": null,
   "id": "2d72934f",
   "metadata": {},
   "outputs": [
    {
     "data": {
      "application/vnd.microsoft.datawrangler.viewer.v0+json": {
       "columns": [
        {
         "name": "index",
         "rawType": "object",
         "type": "string"
        },
        {
         "name": "0",
         "rawType": "int64",
         "type": "integer"
        }
       ],
       "ref": "072a4596-c7b1-4343-9ce4-aa3b5c39462f",
       "rows": [
        [
         "movieID",
         "0"
        ],
        [
         "personID",
         "0"
        ],
        [
         "role",
         "0"
        ],
        [
         "name",
         "2012"
        ]
       ],
       "shape": {
        "columns": 1,
        "rows": 4
       }
      },
      "text/plain": [
       "movieID        0\n",
       "personID       0\n",
       "role           0\n",
       "name        2012\n",
       "dtype: int64"
      ]
     },
     "metadata": {},
     "output_type": "display_data"
    }
   ],
   "source": [
    "subdf1.isnull().sum()"
   ]
  },
  {
   "cell_type": "code",
   "execution_count": null,
   "id": "3d4cd8ed",
   "metadata": {},
   "outputs": [],
   "source": [
    "subdf1.dropna(subset=['name'], inplace=True)"
   ]
  },
  {
   "cell_type": "code",
   "execution_count": null,
   "id": "f435aa36",
   "metadata": {},
   "outputs": [],
   "source": [
    "maindf2=pd.read_csv('../temp/maindfs/maindf2.csv')"
   ]
  },
  {
   "cell_type": "code",
   "execution_count": null,
   "id": "c46ae638",
   "metadata": {},
   "outputs": [
    {
     "data": {
      "application/vnd.microsoft.datawrangler.viewer.v0+json": {
       "columns": [
        {
         "name": "index",
         "rawType": "int64",
         "type": "integer"
        },
        {
         "name": "movieID",
         "rawType": "object",
         "type": "string"
        },
        {
         "name": "title",
         "rawType": "object",
         "type": "string"
        },
        {
         "name": "year",
         "rawType": "int64",
         "type": "integer"
        },
        {
         "name": "runtime",
         "rawType": "int64",
         "type": "integer"
        },
        {
         "name": "genre",
         "rawType": "object",
         "type": "string"
        },
        {
         "name": "rating",
         "rawType": "float64",
         "type": "float"
        },
        {
         "name": "votes",
         "rawType": "float64",
         "type": "float"
        },
        {
         "name": "directors",
         "rawType": "object",
         "type": "string"
        },
        {
         "name": "writers",
         "rawType": "object",
         "type": "string"
        }
       ],
       "ref": "50d5fce2-1162-4deb-a757-2a2fea349733",
       "rows": [
        [
         "0",
         "tt0000009",
         "Miss Jerry",
         "1894",
         "45",
         "Romance",
         "5.3",
         "228.0",
         "nm0085156",
         "nm0085156"
        ],
        [
         "1",
         "tt0000574",
         "The Story of the Kelly Gang",
         "1906",
         "70",
         "Action,Adventure,Biography",
         "6.0",
         "1009.0",
         "nm0846879",
         "nm0846879"
        ],
        [
         "2",
         "tt0000591",
         "The Prodigal Son",
         "1907",
         "90",
         "Drama",
         "5.3",
         "34.0",
         "nm0141150",
         "nm0141150"
        ],
        [
         "3",
         "tt0000679",
         "The Fairylogue and Radio-Plays",
         "1908",
         "120",
         "Adventure,Fantasy",
         "5.0",
         "80.0",
         "nm0091767,nm0877783",
         "nm0000875,nm0877783"
        ],
        [
         "4",
         "tt0000941",
         "Locura de amor",
         "1909",
         "45",
         "Drama",
         "4.3",
         "33.0",
         "nm0063413,nm0550220",
         "nm0063413,nm0550220,nm0848502"
        ],
        [
         "5",
         "tt0001184",
         "Don Juan de Serrallonga",
         "1910",
         "58",
         "Adventure,Drama",
         "3.1",
         "24.0",
         "nm0063413,nm0550220",
         "nm0049370"
        ],
        [
         "6",
         "tt0001285",
         "The Life of Moses",
         "1909",
         "50",
         "Biography,Drama,Family",
         "5.2",
         "67.0",
         "nm0085865",
         "nm0676645,nm0836316"
        ],
        [
         "7",
         "tt0001592",
         "In the Prime of Life",
         "1911",
         "52",
         "Drama",
         "5.8",
         "32.0",
         "nm0088881",
         "nm0491503"
        ],
        [
         "8",
         "tt0001614",
         "The Four Devils",
         "1911",
         "35",
         "Drama",
         "6.5",
         "44.0",
         "nm1003261,nm0227602,nm0511155,nm0742120",
         "nm0051911,nm0742120"
        ],
        [
         "9",
         "tt0001790",
         "Les Misérables, Part 1: Jean Valjean",
         "1913",
         "60",
         "Drama",
         "5.9",
         "61.0",
         "nm0135052",
         "nm0135053,nm0401076"
        ],
        [
         "10",
         "tt0001812",
         "Oedipus Rex",
         "1911",
         "56",
         "Drama",
         "5.5",
         "16.0",
         "nm0294276",
         "nm0814668"
        ],
        [
         "11",
         "tt0001892",
         "Den sorte drøm",
         "1911",
         "53",
         "Drama",
         "5.8",
         "285.0",
         "nm0300487",
         "nm0300487,nm2131092"
        ],
        [
         "12",
         "tt0001911",
         "Nell Gwynne",
         "1911",
         "50",
         "Biography,Drama,History",
         "3.6",
         "26.0",
         "nm0519315",
         "nm0233512,nm0450440,nm0519315"
        ],
        [
         "13",
         "tt0001964",
         "The Traitress",
         "1911",
         "48",
         "Drama",
         "5.8",
         "116.0",
         "nm0300487",
         "nm0954390"
        ],
        [
         "14",
         "tt0002022",
         "Anfisa",
         "1912",
         "45",
         "Drama",
         "6.0",
         "14.0",
         "nm0698839",
         "nm0028916"
        ],
        [
         "15",
         "tt0002026",
         "Anny - Story of a Prostitute",
         "1912",
         "68",
         "Drama,Romance",
         "4.5",
         "17.0",
         "nm0259235",
         "nm0259235"
        ],
        [
         "16",
         "tt0002101",
         "Cleopatra",
         "1912",
         "100",
         "Drama,History",
         "5.1",
         "650.0",
         "nm0309130",
         "nm0765026,nm0309130"
        ],
        [
         "17",
         "tt0002130",
         "Dante's Inferno",
         "1911",
         "71",
         "Adventure,Drama,Fantasy",
         "7.0",
         "3875.0",
         "nm0078205,nm0655824,nm0209738",
         "nm0019604"
        ],
        [
         "18",
         "tt0002153",
         "The Great Circus Catastrophe",
         "1912",
         "45",
         "Drama",
         "5.9",
         "87.0",
         "nm0773654",
         "nm0458071"
        ],
        [
         "19",
         "tt0002186",
         "The Flying Circus",
         "1912",
         "46",
         "Drama",
         "6.4",
         "157.0",
         "nm0511155",
         "nm1921007,nm0511155"
        ],
        [
         "20",
         "tt0002199",
         "From the Manger to the Cross",
         "1912",
         "71",
         "Biography,Drama",
         "5.8",
         "686.0",
         "nm0646058",
         "nm0310155"
        ],
        [
         "21",
         "tt0002423",
         "Passion",
         "1919",
         "113",
         "Biography,Drama,Romance",
         "6.6",
         "1087.0",
         "nm0523932",
         "nm0266183,nm0473134"
        ],
        [
         "22",
         "tt0002445",
         "Quo Vadis?",
         "1913",
         "120",
         "Drama,History",
         "6.1",
         "502.0",
         "nm0345500",
         "nm0797197,nm0345500"
        ],
        [
         "23",
         "tt0002452",
         "The Independence of Romania",
         "1912",
         "120",
         "History,War",
         "6.4",
         "281.0",
         "nm0218404,nm0108345",
         "nm0108345,nm0218404,nm2384492,nm0636620"
        ],
        [
         "24",
         "tt0002461",
         "The Life and Death of King Richard III",
         "1912",
         "55",
         "Drama",
         "5.7",
         "343.0",
         "nm0130633,nm0443857",
         "nm0443857,nm0000636"
        ],
        [
         "25",
         "tt0002500",
         "The Black Chancellor",
         "1912",
         "48",
         "Drama",
         "5.9",
         "31.0",
         "nm0088881",
         "nm0775725"
        ],
        [
         "26",
         "tt0002514",
         "Saved in Mid-Air",
         "1912",
         "60",
         "Drama",
         "4.9",
         "19.0",
         "nm0830249",
         "nm0129300,nm0536368,nm0830249"
        ],
        [
         "27",
         "tt0002574",
         "What Happened to Mary",
         "1912",
         "150",
         "Action,Drama,Thriller",
         "5.9",
         "38.0",
         "nm0102643",
         "nm0687742"
        ],
        [
         "28",
         "tt0002588",
         "Zigomar contre Nick Carter",
         "1912",
         "48",
         "Crime,Thriller",
         "5.9",
         "58.0",
         "nm0419327",
         "nm11502077,nm0419327,nm0768577"
        ],
        [
         "29",
         "tt0002605",
         "The Adventures of Kathlyn",
         "1913",
         "300",
         "Adventure",
         "5.5",
         "49.0",
         "nm0334918",
         "nm0569805,nm0929808"
        ],
        [
         "30",
         "tt0002628",
         "Der Andere",
         "1913",
         "48",
         "Drama,Thriller",
         "5.4",
         "128.0",
         "nm0533048",
         "nm0511317,nm0533048,nm1857018"
        ],
        [
         "31",
         "tt0002637",
         "Arizona",
         "1913",
         "45",
         "Drama,Western",
         "7.5",
         "21.0",
         "nm0858501",
         "nm0858501"
        ],
        [
         "32",
         "tt0002642",
         "The Heir to Skjoldborg",
         "1914",
         "50",
         "Drama",
         "5.2",
         "11.0",
         "nm0169878",
         "nm4798267,nm1437660"
        ],
        [
         "33",
         "tt0002646",
         "Atlantis",
         "1913",
         "121",
         "Drama",
         "6.5",
         "516.0",
         "nm0088881",
         "nm1834296,nm0369458,nm2421815"
        ],
        [
         "34",
         "tt0002669",
         "The Battle of Gettysburg",
         "1913",
         "48",
         "Drama,War",
         "6.6",
         "42.0",
         "nm0316794,nm0408436",
         "nm0113224,nm0408436,nm0818080,nm0837989"
        ],
        [
         "35",
         "tt0002767",
         "The Count of Monte Cristo",
         "1913",
         "69",
         "Drama,History",
         "5.6",
         "74.0",
         "nm0325448,nm0692105",
         "nm0241416,nm0270007"
        ],
        [
         "36",
         "tt0002820",
         "East Lynne",
         "1913",
         "69",
         "Drama",
         "7.3",
         "13.0",
         "nm0354790",
         "nm0257385,nm0939904"
        ],
        [
         "37",
         "tt0002822",
         "What 80 Million Women Want",
         "1913",
         "56",
         "Crime,Drama,Romance",
         "4.1",
         "57.0",
         "nm6955979",
         "nm0775976,nm0177597,nm0940689"
        ],
        [
         "38",
         "tt0002832",
         "Evangeline",
         "1914",
         "50",
         "Drama",
         "6.8",
         "27.0",
         "nm0146957,nm0838052",
         "nm0519303,nm1149906"
        ],
        [
         "39",
         "tt0002844",
         "Fantômas: In the Shadow of the Guillotine",
         "1913",
         "54",
         "Crime,Drama",
         "6.9",
         "2655.0",
         "nm0275421",
         "nm0019855,nm0275421,nm0816232"
        ],
        [
         "40",
         "tt0002885",
         "From Dusk to Dawn",
         "1913",
         "90",
         "Drama",
         "5.9",
         "114.0",
         "nm0938041",
         "nm0938041"
        ],
        [
         "41",
         "tt0002898",
         "Germinal; or, The Toll of Labor",
         "1913",
         "150",
         "Drama",
         "6.9",
         "191.0",
         "nm0135052",
         "nm0135052,nm0957652"
        ],
        [
         "42",
         "tt0002917",
         "Brother Against Brother",
         "1913",
         "51",
         "Drama",
         "5.6",
         "49.0",
         "nm0830249",
         "nm0528064,nm0957652"
        ],
        [
         "43",
         "tt0002922",
         "Hamlet",
         "1913",
         "64",
         "Drama",
         "4.9",
         "85.0",
         "nm0687575",
         "nm0000636"
        ],
        [
         "44",
         "tt0003006",
         "In the Bishop's Carriage",
         "1913",
         "50",
         "Crime,Drama",
         "5.6",
         "28.0",
         "nm0205986,nm0692105",
         "nm0585128,nm0775976"
        ],
        [
         "45",
         "tt0003014",
         "Ingeborg Holm",
         "1913",
         "96",
         "Drama",
         "7.0",
         "1546.0",
         "nm0803705",
         "nm0472236,nm0803705"
        ],
        [
         "46",
         "tt0003015",
         "Die Insel der Seligen",
         "1913",
         "49",
         "Comedy,Fantasy",
         "4.6",
         "80.0",
         "nm0718121",
         "nm0434688"
        ],
        [
         "47",
         "tt0003022",
         "Ivanhoe",
         "1913",
         "53",
         "Adventure,Drama,Romance",
         "5.5",
         "116.0",
         "nm0107543",
         "nm0107543,nm1015268,nm1206019,nm0779797"
        ],
        [
         "48",
         "tt0003037",
         "Fantomas: The Man in Black",
         "1913",
         "61",
         "Crime,Drama",
         "6.9",
         "1803.0",
         "nm0275421",
         "nm0019855,nm0275421,nm0816232"
        ],
        [
         "49",
         "tt0003102",
         "Love Everlasting",
         "1914",
         "90",
         "Drama",
         "6.1",
         "169.0",
         "nm0143333",
         "nm0094343,nm0598293"
        ]
       ],
       "shape": {
        "columns": 9,
        "rows": 262240
       }
      },
      "text/html": [
       "<div>\n",
       "<style scoped>\n",
       "    .dataframe tbody tr th:only-of-type {\n",
       "        vertical-align: middle;\n",
       "    }\n",
       "\n",
       "    .dataframe tbody tr th {\n",
       "        vertical-align: top;\n",
       "    }\n",
       "\n",
       "    .dataframe thead th {\n",
       "        text-align: right;\n",
       "    }\n",
       "</style>\n",
       "<table border=\"1\" class=\"dataframe\">\n",
       "  <thead>\n",
       "    <tr style=\"text-align: right;\">\n",
       "      <th></th>\n",
       "      <th>movieID</th>\n",
       "      <th>title</th>\n",
       "      <th>year</th>\n",
       "      <th>runtime</th>\n",
       "      <th>genre</th>\n",
       "      <th>rating</th>\n",
       "      <th>votes</th>\n",
       "      <th>directors</th>\n",
       "      <th>writers</th>\n",
       "    </tr>\n",
       "  </thead>\n",
       "  <tbody>\n",
       "    <tr>\n",
       "      <th>0</th>\n",
       "      <td>tt0000009</td>\n",
       "      <td>Miss Jerry</td>\n",
       "      <td>1894</td>\n",
       "      <td>45</td>\n",
       "      <td>Romance</td>\n",
       "      <td>5.3</td>\n",
       "      <td>228.0</td>\n",
       "      <td>nm0085156</td>\n",
       "      <td>nm0085156</td>\n",
       "    </tr>\n",
       "    <tr>\n",
       "      <th>1</th>\n",
       "      <td>tt0000574</td>\n",
       "      <td>The Story of the Kelly Gang</td>\n",
       "      <td>1906</td>\n",
       "      <td>70</td>\n",
       "      <td>Action,Adventure,Biography</td>\n",
       "      <td>6.0</td>\n",
       "      <td>1009.0</td>\n",
       "      <td>nm0846879</td>\n",
       "      <td>nm0846879</td>\n",
       "    </tr>\n",
       "    <tr>\n",
       "      <th>2</th>\n",
       "      <td>tt0000591</td>\n",
       "      <td>The Prodigal Son</td>\n",
       "      <td>1907</td>\n",
       "      <td>90</td>\n",
       "      <td>Drama</td>\n",
       "      <td>5.3</td>\n",
       "      <td>34.0</td>\n",
       "      <td>nm0141150</td>\n",
       "      <td>nm0141150</td>\n",
       "    </tr>\n",
       "    <tr>\n",
       "      <th>3</th>\n",
       "      <td>tt0000679</td>\n",
       "      <td>The Fairylogue and Radio-Plays</td>\n",
       "      <td>1908</td>\n",
       "      <td>120</td>\n",
       "      <td>Adventure,Fantasy</td>\n",
       "      <td>5.0</td>\n",
       "      <td>80.0</td>\n",
       "      <td>nm0091767,nm0877783</td>\n",
       "      <td>nm0000875,nm0877783</td>\n",
       "    </tr>\n",
       "    <tr>\n",
       "      <th>4</th>\n",
       "      <td>tt0000941</td>\n",
       "      <td>Locura de amor</td>\n",
       "      <td>1909</td>\n",
       "      <td>45</td>\n",
       "      <td>Drama</td>\n",
       "      <td>4.3</td>\n",
       "      <td>33.0</td>\n",
       "      <td>nm0063413,nm0550220</td>\n",
       "      <td>nm0063413,nm0550220,nm0848502</td>\n",
       "    </tr>\n",
       "    <tr>\n",
       "      <th>...</th>\n",
       "      <td>...</td>\n",
       "      <td>...</td>\n",
       "      <td>...</td>\n",
       "      <td>...</td>\n",
       "      <td>...</td>\n",
       "      <td>...</td>\n",
       "      <td>...</td>\n",
       "      <td>...</td>\n",
       "      <td>...</td>\n",
       "    </tr>\n",
       "    <tr>\n",
       "      <th>262235</th>\n",
       "      <td>tt9916190</td>\n",
       "      <td>Safeguard</td>\n",
       "      <td>2020</td>\n",
       "      <td>95</td>\n",
       "      <td>Action,Adventure,Thriller</td>\n",
       "      <td>3.6</td>\n",
       "      <td>264.0</td>\n",
       "      <td>nm7308376</td>\n",
       "      <td>nm7308376</td>\n",
       "    </tr>\n",
       "    <tr>\n",
       "      <th>262236</th>\n",
       "      <td>tt9916270</td>\n",
       "      <td>Il talento del calabrone</td>\n",
       "      <td>2020</td>\n",
       "      <td>84</td>\n",
       "      <td>Thriller</td>\n",
       "      <td>5.8</td>\n",
       "      <td>1512.0</td>\n",
       "      <td>nm1480867</td>\n",
       "      <td>nm1480867,nm10538402,nm5584269</td>\n",
       "    </tr>\n",
       "    <tr>\n",
       "      <th>262237</th>\n",
       "      <td>tt9916362</td>\n",
       "      <td>Coven</td>\n",
       "      <td>2020</td>\n",
       "      <td>92</td>\n",
       "      <td>Drama,History</td>\n",
       "      <td>6.4</td>\n",
       "      <td>6098.0</td>\n",
       "      <td>nm1893148</td>\n",
       "      <td>nm1893148,nm3471432</td>\n",
       "    </tr>\n",
       "    <tr>\n",
       "      <th>262238</th>\n",
       "      <td>tt9916538</td>\n",
       "      <td>Kuambil Lagi Hatiku</td>\n",
       "      <td>2019</td>\n",
       "      <td>123</td>\n",
       "      <td>Drama</td>\n",
       "      <td>7.6</td>\n",
       "      <td>12.0</td>\n",
       "      <td>nm4457074</td>\n",
       "      <td>nm4843252,nm4900525,nm2679404</td>\n",
       "    </tr>\n",
       "    <tr>\n",
       "      <th>262239</th>\n",
       "      <td>tt9916730</td>\n",
       "      <td>6 Gunn</td>\n",
       "      <td>2017</td>\n",
       "      <td>116</td>\n",
       "      <td>Drama</td>\n",
       "      <td>7.0</td>\n",
       "      <td>13.0</td>\n",
       "      <td>nm10538612</td>\n",
       "      <td>nm10538612</td>\n",
       "    </tr>\n",
       "  </tbody>\n",
       "</table>\n",
       "<p>262240 rows × 9 columns</p>\n",
       "</div>"
      ],
      "text/plain": [
       "          movieID                           title  year  runtime  \\\n",
       "0       tt0000009                      Miss Jerry  1894       45   \n",
       "1       tt0000574     The Story of the Kelly Gang  1906       70   \n",
       "2       tt0000591                The Prodigal Son  1907       90   \n",
       "3       tt0000679  The Fairylogue and Radio-Plays  1908      120   \n",
       "4       tt0000941                  Locura de amor  1909       45   \n",
       "...           ...                             ...   ...      ...   \n",
       "262235  tt9916190                       Safeguard  2020       95   \n",
       "262236  tt9916270        Il talento del calabrone  2020       84   \n",
       "262237  tt9916362                           Coven  2020       92   \n",
       "262238  tt9916538             Kuambil Lagi Hatiku  2019      123   \n",
       "262239  tt9916730                          6 Gunn  2017      116   \n",
       "\n",
       "                             genre  rating   votes            directors  \\\n",
       "0                          Romance     5.3   228.0            nm0085156   \n",
       "1       Action,Adventure,Biography     6.0  1009.0            nm0846879   \n",
       "2                            Drama     5.3    34.0            nm0141150   \n",
       "3                Adventure,Fantasy     5.0    80.0  nm0091767,nm0877783   \n",
       "4                            Drama     4.3    33.0  nm0063413,nm0550220   \n",
       "...                            ...     ...     ...                  ...   \n",
       "262235   Action,Adventure,Thriller     3.6   264.0            nm7308376   \n",
       "262236                    Thriller     5.8  1512.0            nm1480867   \n",
       "262237               Drama,History     6.4  6098.0            nm1893148   \n",
       "262238                       Drama     7.6    12.0            nm4457074   \n",
       "262239                       Drama     7.0    13.0           nm10538612   \n",
       "\n",
       "                               writers  \n",
       "0                            nm0085156  \n",
       "1                            nm0846879  \n",
       "2                            nm0141150  \n",
       "3                  nm0000875,nm0877783  \n",
       "4        nm0063413,nm0550220,nm0848502  \n",
       "...                                ...  \n",
       "262235                       nm7308376  \n",
       "262236  nm1480867,nm10538402,nm5584269  \n",
       "262237             nm1893148,nm3471432  \n",
       "262238   nm4843252,nm4900525,nm2679404  \n",
       "262239                      nm10538612  \n",
       "\n",
       "[262240 rows x 9 columns]"
      ]
     },
     "metadata": {},
     "output_type": "display_data"
    }
   ],
   "source": [
    "maindf2"
   ]
  },
  {
   "cell_type": "markdown",
   "id": "46ef5e86",
   "metadata": {},
   "source": [
    "# 🔗 Merge Crew with Names\n",
    "\n",
    "Expand crew IDs so each row links a movieID to a personID with their role (director or writer).\n",
    "\n",
    "Join with name.basics to get actual names.\n",
    "\n",
    "Result → A mapping of each movie to its crew with proper names and roles."
   ]
  },
  {
   "cell_type": "code",
   "execution_count": null,
   "id": "82169320",
   "metadata": {},
   "outputs": [],
   "source": [
    "maindf3=maindf2.merge(subdf1, on='movieID', how='left')"
   ]
  },
  {
   "cell_type": "code",
   "execution_count": null,
   "id": "ed04e29e",
   "metadata": {},
   "outputs": [
    {
     "data": {
      "application/vnd.microsoft.datawrangler.viewer.v0+json": {
       "columns": [
        {
         "name": "index",
         "rawType": "int64",
         "type": "integer"
        },
        {
         "name": "movieID",
         "rawType": "object",
         "type": "string"
        },
        {
         "name": "title",
         "rawType": "object",
         "type": "string"
        },
        {
         "name": "year",
         "rawType": "int64",
         "type": "integer"
        },
        {
         "name": "runtime",
         "rawType": "int64",
         "type": "integer"
        },
        {
         "name": "genre",
         "rawType": "object",
         "type": "string"
        },
        {
         "name": "rating",
         "rawType": "float64",
         "type": "float"
        },
        {
         "name": "votes",
         "rawType": "float64",
         "type": "float"
        },
        {
         "name": "directors",
         "rawType": "object",
         "type": "string"
        },
        {
         "name": "writers",
         "rawType": "object",
         "type": "string"
        },
        {
         "name": "personID",
         "rawType": "object",
         "type": "string"
        },
        {
         "name": "role",
         "rawType": "object",
         "type": "string"
        },
        {
         "name": "name",
         "rawType": "object",
         "type": "string"
        }
       ],
       "ref": "f9393d1a-d979-4e03-a9e1-962d5c79d432",
       "rows": [
        [
         "0",
         "tt0000009",
         "Miss Jerry",
         "1894",
         "45",
         "Romance",
         "5.3",
         "228.0",
         "nm0085156",
         "nm0085156",
         "nm0085156",
         "director",
         "Alexander Black"
        ],
        [
         "1",
         "tt0000009",
         "Miss Jerry",
         "1894",
         "45",
         "Romance",
         "5.3",
         "228.0",
         "nm0085156",
         "nm0085156",
         "nm0085156",
         "writer",
         "Alexander Black"
        ],
        [
         "2",
         "tt0000574",
         "The Story of the Kelly Gang",
         "1906",
         "70",
         "Action,Adventure,Biography",
         "6.0",
         "1009.0",
         "nm0846879",
         "nm0846879",
         "nm0846879",
         "director",
         "Charles Tait"
        ],
        [
         "3",
         "tt0000574",
         "The Story of the Kelly Gang",
         "1906",
         "70",
         "Action,Adventure,Biography",
         "6.0",
         "1009.0",
         "nm0846879",
         "nm0846879",
         "nm0846879",
         "writer",
         "Charles Tait"
        ],
        [
         "4",
         "tt0000591",
         "The Prodigal Son",
         "1907",
         "90",
         "Drama",
         "5.3",
         "34.0",
         "nm0141150",
         "nm0141150",
         "nm0141150",
         "director",
         "Michel Carré"
        ],
        [
         "5",
         "tt0000591",
         "The Prodigal Son",
         "1907",
         "90",
         "Drama",
         "5.3",
         "34.0",
         "nm0141150",
         "nm0141150",
         "nm0141150",
         "writer",
         "Michel Carré"
        ],
        [
         "6",
         "tt0000679",
         "The Fairylogue and Radio-Plays",
         "1908",
         "120",
         "Adventure,Fantasy",
         "5.0",
         "80.0",
         "nm0091767,nm0877783",
         "nm0000875,nm0877783",
         "nm0091767",
         "director",
         "Francis Boggs"
        ],
        [
         "7",
         "tt0000679",
         "The Fairylogue and Radio-Plays",
         "1908",
         "120",
         "Adventure,Fantasy",
         "5.0",
         "80.0",
         "nm0091767,nm0877783",
         "nm0000875,nm0877783",
         "nm0877783",
         "director",
         "Otis Turner"
        ],
        [
         "8",
         "tt0000679",
         "The Fairylogue and Radio-Plays",
         "1908",
         "120",
         "Adventure,Fantasy",
         "5.0",
         "80.0",
         "nm0091767,nm0877783",
         "nm0000875,nm0877783",
         "nm0000875",
         "writer",
         "L. Frank Baum"
        ],
        [
         "9",
         "tt0000679",
         "The Fairylogue and Radio-Plays",
         "1908",
         "120",
         "Adventure,Fantasy",
         "5.0",
         "80.0",
         "nm0091767,nm0877783",
         "nm0000875,nm0877783",
         "nm0877783",
         "writer",
         "Otis Turner"
        ],
        [
         "10",
         "tt0000941",
         "Locura de amor",
         "1909",
         "45",
         "Drama",
         "4.3",
         "33.0",
         "nm0063413,nm0550220",
         "nm0063413,nm0550220,nm0848502",
         "nm0063413",
         "director",
         "Ricardo de Baños"
        ],
        [
         "11",
         "tt0000941",
         "Locura de amor",
         "1909",
         "45",
         "Drama",
         "4.3",
         "33.0",
         "nm0063413,nm0550220",
         "nm0063413,nm0550220,nm0848502",
         "nm0550220",
         "director",
         "Alberto Marro"
        ],
        [
         "12",
         "tt0000941",
         "Locura de amor",
         "1909",
         "45",
         "Drama",
         "4.3",
         "33.0",
         "nm0063413,nm0550220",
         "nm0063413,nm0550220,nm0848502",
         "nm0063413",
         "writer",
         "Ricardo de Baños"
        ],
        [
         "13",
         "tt0000941",
         "Locura de amor",
         "1909",
         "45",
         "Drama",
         "4.3",
         "33.0",
         "nm0063413,nm0550220",
         "nm0063413,nm0550220,nm0848502",
         "nm0550220",
         "writer",
         "Alberto Marro"
        ],
        [
         "14",
         "tt0000941",
         "Locura de amor",
         "1909",
         "45",
         "Drama",
         "4.3",
         "33.0",
         "nm0063413,nm0550220",
         "nm0063413,nm0550220,nm0848502",
         "nm0848502",
         "writer",
         "Manuel Tamayo y Baus"
        ],
        [
         "15",
         "tt0001184",
         "Don Juan de Serrallonga",
         "1910",
         "58",
         "Adventure,Drama",
         "3.1",
         "24.0",
         "nm0063413,nm0550220",
         "nm0049370",
         "nm0063413",
         "director",
         "Ricardo de Baños"
        ],
        [
         "16",
         "tt0001184",
         "Don Juan de Serrallonga",
         "1910",
         "58",
         "Adventure,Drama",
         "3.1",
         "24.0",
         "nm0063413,nm0550220",
         "nm0049370",
         "nm0550220",
         "director",
         "Alberto Marro"
        ],
        [
         "17",
         "tt0001184",
         "Don Juan de Serrallonga",
         "1910",
         "58",
         "Adventure,Drama",
         "3.1",
         "24.0",
         "nm0063413,nm0550220",
         "nm0049370",
         "nm0049370",
         "writer",
         "Víctor Balaguer"
        ],
        [
         "18",
         "tt0001285",
         "The Life of Moses",
         "1909",
         "50",
         "Biography,Drama,Family",
         "5.2",
         "67.0",
         "nm0085865",
         "nm0676645,nm0836316",
         "nm0085865",
         "director",
         "J. Stuart Blackton"
        ],
        [
         "19",
         "tt0001285",
         "The Life of Moses",
         "1909",
         "50",
         "Biography,Drama,Family",
         "5.2",
         "67.0",
         "nm0085865",
         "nm0676645,nm0836316",
         "nm0676645",
         "writer",
         "Madison C. Peters"
        ],
        [
         "20",
         "tt0001285",
         "The Life of Moses",
         "1909",
         "50",
         "Biography,Drama,Family",
         "5.2",
         "67.0",
         "nm0085865",
         "nm0676645,nm0836316",
         "nm0836316",
         "writer",
         "Rollin S. Sturgeon"
        ],
        [
         "21",
         "tt0001592",
         "In the Prime of Life",
         "1911",
         "52",
         "Drama",
         "5.8",
         "32.0",
         "nm0088881",
         "nm0491503",
         "nm0088881",
         "director",
         "August Blom"
        ],
        [
         "22",
         "tt0001592",
         "In the Prime of Life",
         "1911",
         "52",
         "Drama",
         "5.8",
         "32.0",
         "nm0088881",
         "nm0491503",
         "nm0491503",
         "writer",
         "Lau Lauritzen"
        ],
        [
         "23",
         "tt0001614",
         "The Four Devils",
         "1911",
         "35",
         "Drama",
         "6.5",
         "44.0",
         "nm1003261,nm0227602,nm0511155,nm0742120",
         "nm0051911,nm0742120",
         "nm1003261",
         "director",
         "Alexander Christian"
        ],
        [
         "24",
         "tt0001614",
         "The Four Devils",
         "1911",
         "35",
         "Drama",
         "6.5",
         "44.0",
         "nm1003261,nm0227602,nm0511155,nm0742120",
         "nm0051911,nm0742120",
         "nm0227602",
         "director",
         "Robert Dinesen"
        ],
        [
         "25",
         "tt0001614",
         "The Four Devils",
         "1911",
         "35",
         "Drama",
         "6.5",
         "44.0",
         "nm1003261,nm0227602,nm0511155,nm0742120",
         "nm0051911,nm0742120",
         "nm0511155",
         "director",
         "Alfred Lind"
        ],
        [
         "26",
         "tt0001614",
         "The Four Devils",
         "1911",
         "35",
         "Drama",
         "6.5",
         "44.0",
         "nm1003261,nm0227602,nm0511155,nm0742120",
         "nm0051911,nm0742120",
         "nm0742120",
         "director",
         "Carl Rosenbaum"
        ],
        [
         "27",
         "tt0001614",
         "The Four Devils",
         "1911",
         "35",
         "Drama",
         "6.5",
         "44.0",
         "nm1003261,nm0227602,nm0511155,nm0742120",
         "nm0051911,nm0742120",
         "nm0051911",
         "writer",
         "Herman Bang"
        ],
        [
         "28",
         "tt0001614",
         "The Four Devils",
         "1911",
         "35",
         "Drama",
         "6.5",
         "44.0",
         "nm1003261,nm0227602,nm0511155,nm0742120",
         "nm0051911,nm0742120",
         "nm0742120",
         "writer",
         "Carl Rosenbaum"
        ],
        [
         "29",
         "tt0001790",
         "Les Misérables, Part 1: Jean Valjean",
         "1913",
         "60",
         "Drama",
         "5.9",
         "61.0",
         "nm0135052",
         "nm0135053,nm0401076",
         "nm0135052",
         "director",
         "Albert Capellani"
        ],
        [
         "30",
         "tt0001790",
         "Les Misérables, Part 1: Jean Valjean",
         "1913",
         "60",
         "Drama",
         "5.9",
         "61.0",
         "nm0135052",
         "nm0135053,nm0401076",
         "nm0135053",
         "writer",
         "Paul Capellani"
        ],
        [
         "31",
         "tt0001790",
         "Les Misérables, Part 1: Jean Valjean",
         "1913",
         "60",
         "Drama",
         "5.9",
         "61.0",
         "nm0135052",
         "nm0135053,nm0401076",
         "nm0401076",
         "writer",
         "Victor Hugo"
        ],
        [
         "32",
         "tt0001812",
         "Oedipus Rex",
         "1911",
         "56",
         "Drama",
         "5.5",
         "16.0",
         "nm0294276",
         "nm0814668",
         "nm0294276",
         "director",
         "Theo Frenkel"
        ],
        [
         "33",
         "tt0001812",
         "Oedipus Rex",
         "1911",
         "56",
         "Drama",
         "5.5",
         "16.0",
         "nm0294276",
         "nm0814668",
         "nm0814668",
         "writer",
         "Sophocles"
        ],
        [
         "34",
         "tt0001892",
         "Den sorte drøm",
         "1911",
         "53",
         "Drama",
         "5.8",
         "285.0",
         "nm0300487",
         "nm0300487,nm2131092",
         "nm0300487",
         "director",
         "Urban Gad"
        ],
        [
         "35",
         "tt0001892",
         "Den sorte drøm",
         "1911",
         "53",
         "Drama",
         "5.8",
         "285.0",
         "nm0300487",
         "nm0300487,nm2131092",
         "nm0300487",
         "writer",
         "Urban Gad"
        ],
        [
         "36",
         "tt0001892",
         "Den sorte drøm",
         "1911",
         "53",
         "Drama",
         "5.8",
         "285.0",
         "nm0300487",
         "nm0300487,nm2131092",
         "nm2131092",
         "writer",
         "Gebhard Schätzler-Perasini"
        ],
        [
         "37",
         "tt0001911",
         "Nell Gwynne",
         "1911",
         "50",
         "Biography,Drama,History",
         "3.6",
         "26.0",
         "nm0519315",
         "nm0233512,nm0450440,nm0519315",
         "nm0519315",
         "director",
         "Raymond Longford"
        ],
        [
         "38",
         "tt0001911",
         "Nell Gwynne",
         "1911",
         "50",
         "Biography,Drama,History",
         "3.6",
         "26.0",
         "nm0519315",
         "nm0233512,nm0450440,nm0519315",
         "nm0233512",
         "writer",
         "Mrs. Charles A. Doremus"
        ],
        [
         "39",
         "tt0001911",
         "Nell Gwynne",
         "1911",
         "50",
         "Biography,Drama,History",
         "3.6",
         "26.0",
         "nm0519315",
         "nm0233512,nm0450440,nm0519315",
         "nm0450440",
         "writer",
         "Paul Kester"
        ],
        [
         "40",
         "tt0001911",
         "Nell Gwynne",
         "1911",
         "50",
         "Biography,Drama,History",
         "3.6",
         "26.0",
         "nm0519315",
         "nm0233512,nm0450440,nm0519315",
         "nm0519315",
         "writer",
         "Raymond Longford"
        ],
        [
         "41",
         "tt0001964",
         "The Traitress",
         "1911",
         "48",
         "Drama",
         "5.8",
         "116.0",
         "nm0300487",
         "nm0954390",
         "nm0300487",
         "director",
         "Urban Gad"
        ],
        [
         "42",
         "tt0001964",
         "The Traitress",
         "1911",
         "48",
         "Drama",
         "5.8",
         "116.0",
         "nm0300487",
         "nm0954390",
         "nm0954390",
         "writer",
         "Erich Zeiske"
        ],
        [
         "43",
         "tt0002022",
         "Anfisa",
         "1912",
         "45",
         "Drama",
         "6.0",
         "14.0",
         "nm0698839",
         "nm0028916",
         "nm0698839",
         "director",
         "Yakov Protazanov"
        ],
        [
         "44",
         "tt0002022",
         "Anfisa",
         "1912",
         "45",
         "Drama",
         "6.0",
         "14.0",
         "nm0698839",
         "nm0028916",
         "nm0028916",
         "writer",
         "Leonid Andreyev"
        ],
        [
         "45",
         "tt0002026",
         "Anny - Story of a Prostitute",
         "1912",
         "68",
         "Drama,Romance",
         "4.5",
         "17.0",
         "nm0259235",
         "nm0259235",
         "nm0259235",
         "director",
         "Adam Eriksen"
        ],
        [
         "46",
         "tt0002026",
         "Anny - Story of a Prostitute",
         "1912",
         "68",
         "Drama,Romance",
         "4.5",
         "17.0",
         "nm0259235",
         "nm0259235",
         "nm0259235",
         "writer",
         "Adam Eriksen"
        ],
        [
         "47",
         "tt0002101",
         "Cleopatra",
         "1912",
         "100",
         "Drama,History",
         "5.1",
         "650.0",
         "nm0309130",
         "nm0765026,nm0309130",
         "nm0309130",
         "director",
         "Charles L. Gaskill"
        ],
        [
         "48",
         "tt0002101",
         "Cleopatra",
         "1912",
         "100",
         "Drama,History",
         "5.1",
         "650.0",
         "nm0309130",
         "nm0765026,nm0309130",
         "nm0765026",
         "writer",
         "Victorien Sardou"
        ],
        [
         "49",
         "tt0002101",
         "Cleopatra",
         "1912",
         "100",
         "Drama,History",
         "5.1",
         "650.0",
         "nm0309130",
         "nm0765026,nm0309130",
         "nm0309130",
         "writer",
         "Charles L. Gaskill"
        ]
       ],
       "shape": {
        "columns": 12,
        "rows": 805489
       }
      },
      "text/html": [
       "<div>\n",
       "<style scoped>\n",
       "    .dataframe tbody tr th:only-of-type {\n",
       "        vertical-align: middle;\n",
       "    }\n",
       "\n",
       "    .dataframe tbody tr th {\n",
       "        vertical-align: top;\n",
       "    }\n",
       "\n",
       "    .dataframe thead th {\n",
       "        text-align: right;\n",
       "    }\n",
       "</style>\n",
       "<table border=\"1\" class=\"dataframe\">\n",
       "  <thead>\n",
       "    <tr style=\"text-align: right;\">\n",
       "      <th></th>\n",
       "      <th>movieID</th>\n",
       "      <th>title</th>\n",
       "      <th>year</th>\n",
       "      <th>runtime</th>\n",
       "      <th>genre</th>\n",
       "      <th>rating</th>\n",
       "      <th>votes</th>\n",
       "      <th>directors</th>\n",
       "      <th>writers</th>\n",
       "      <th>personID</th>\n",
       "      <th>role</th>\n",
       "      <th>name</th>\n",
       "    </tr>\n",
       "  </thead>\n",
       "  <tbody>\n",
       "    <tr>\n",
       "      <th>0</th>\n",
       "      <td>tt0000009</td>\n",
       "      <td>Miss Jerry</td>\n",
       "      <td>1894</td>\n",
       "      <td>45</td>\n",
       "      <td>Romance</td>\n",
       "      <td>5.3</td>\n",
       "      <td>228.0</td>\n",
       "      <td>nm0085156</td>\n",
       "      <td>nm0085156</td>\n",
       "      <td>nm0085156</td>\n",
       "      <td>director</td>\n",
       "      <td>Alexander Black</td>\n",
       "    </tr>\n",
       "    <tr>\n",
       "      <th>1</th>\n",
       "      <td>tt0000009</td>\n",
       "      <td>Miss Jerry</td>\n",
       "      <td>1894</td>\n",
       "      <td>45</td>\n",
       "      <td>Romance</td>\n",
       "      <td>5.3</td>\n",
       "      <td>228.0</td>\n",
       "      <td>nm0085156</td>\n",
       "      <td>nm0085156</td>\n",
       "      <td>nm0085156</td>\n",
       "      <td>writer</td>\n",
       "      <td>Alexander Black</td>\n",
       "    </tr>\n",
       "    <tr>\n",
       "      <th>2</th>\n",
       "      <td>tt0000574</td>\n",
       "      <td>The Story of the Kelly Gang</td>\n",
       "      <td>1906</td>\n",
       "      <td>70</td>\n",
       "      <td>Action,Adventure,Biography</td>\n",
       "      <td>6.0</td>\n",
       "      <td>1009.0</td>\n",
       "      <td>nm0846879</td>\n",
       "      <td>nm0846879</td>\n",
       "      <td>nm0846879</td>\n",
       "      <td>director</td>\n",
       "      <td>Charles Tait</td>\n",
       "    </tr>\n",
       "    <tr>\n",
       "      <th>3</th>\n",
       "      <td>tt0000574</td>\n",
       "      <td>The Story of the Kelly Gang</td>\n",
       "      <td>1906</td>\n",
       "      <td>70</td>\n",
       "      <td>Action,Adventure,Biography</td>\n",
       "      <td>6.0</td>\n",
       "      <td>1009.0</td>\n",
       "      <td>nm0846879</td>\n",
       "      <td>nm0846879</td>\n",
       "      <td>nm0846879</td>\n",
       "      <td>writer</td>\n",
       "      <td>Charles Tait</td>\n",
       "    </tr>\n",
       "    <tr>\n",
       "      <th>4</th>\n",
       "      <td>tt0000591</td>\n",
       "      <td>The Prodigal Son</td>\n",
       "      <td>1907</td>\n",
       "      <td>90</td>\n",
       "      <td>Drama</td>\n",
       "      <td>5.3</td>\n",
       "      <td>34.0</td>\n",
       "      <td>nm0141150</td>\n",
       "      <td>nm0141150</td>\n",
       "      <td>nm0141150</td>\n",
       "      <td>director</td>\n",
       "      <td>Michel Carré</td>\n",
       "    </tr>\n",
       "    <tr>\n",
       "      <th>...</th>\n",
       "      <td>...</td>\n",
       "      <td>...</td>\n",
       "      <td>...</td>\n",
       "      <td>...</td>\n",
       "      <td>...</td>\n",
       "      <td>...</td>\n",
       "      <td>...</td>\n",
       "      <td>...</td>\n",
       "      <td>...</td>\n",
       "      <td>...</td>\n",
       "      <td>...</td>\n",
       "      <td>...</td>\n",
       "    </tr>\n",
       "    <tr>\n",
       "      <th>805484</th>\n",
       "      <td>tt9916538</td>\n",
       "      <td>Kuambil Lagi Hatiku</td>\n",
       "      <td>2019</td>\n",
       "      <td>123</td>\n",
       "      <td>Drama</td>\n",
       "      <td>7.6</td>\n",
       "      <td>12.0</td>\n",
       "      <td>nm4457074</td>\n",
       "      <td>nm4843252,nm4900525,nm2679404</td>\n",
       "      <td>nm4843252</td>\n",
       "      <td>writer</td>\n",
       "      <td>Arief Ash Shiddiq</td>\n",
       "    </tr>\n",
       "    <tr>\n",
       "      <th>805485</th>\n",
       "      <td>tt9916538</td>\n",
       "      <td>Kuambil Lagi Hatiku</td>\n",
       "      <td>2019</td>\n",
       "      <td>123</td>\n",
       "      <td>Drama</td>\n",
       "      <td>7.6</td>\n",
       "      <td>12.0</td>\n",
       "      <td>nm4457074</td>\n",
       "      <td>nm4843252,nm4900525,nm2679404</td>\n",
       "      <td>nm4900525</td>\n",
       "      <td>writer</td>\n",
       "      <td>Rino Sarjono</td>\n",
       "    </tr>\n",
       "    <tr>\n",
       "      <th>805486</th>\n",
       "      <td>tt9916538</td>\n",
       "      <td>Kuambil Lagi Hatiku</td>\n",
       "      <td>2019</td>\n",
       "      <td>123</td>\n",
       "      <td>Drama</td>\n",
       "      <td>7.6</td>\n",
       "      <td>12.0</td>\n",
       "      <td>nm4457074</td>\n",
       "      <td>nm4843252,nm4900525,nm2679404</td>\n",
       "      <td>nm2679404</td>\n",
       "      <td>writer</td>\n",
       "      <td>Salman Aristo</td>\n",
       "    </tr>\n",
       "    <tr>\n",
       "      <th>805487</th>\n",
       "      <td>tt9916730</td>\n",
       "      <td>6 Gunn</td>\n",
       "      <td>2017</td>\n",
       "      <td>116</td>\n",
       "      <td>Drama</td>\n",
       "      <td>7.0</td>\n",
       "      <td>13.0</td>\n",
       "      <td>nm10538612</td>\n",
       "      <td>nm10538612</td>\n",
       "      <td>nm10538612</td>\n",
       "      <td>director</td>\n",
       "      <td>Kiran Gawade</td>\n",
       "    </tr>\n",
       "    <tr>\n",
       "      <th>805488</th>\n",
       "      <td>tt9916730</td>\n",
       "      <td>6 Gunn</td>\n",
       "      <td>2017</td>\n",
       "      <td>116</td>\n",
       "      <td>Drama</td>\n",
       "      <td>7.0</td>\n",
       "      <td>13.0</td>\n",
       "      <td>nm10538612</td>\n",
       "      <td>nm10538612</td>\n",
       "      <td>nm10538612</td>\n",
       "      <td>writer</td>\n",
       "      <td>Kiran Gawade</td>\n",
       "    </tr>\n",
       "  </tbody>\n",
       "</table>\n",
       "<p>805489 rows × 12 columns</p>\n",
       "</div>"
      ],
      "text/plain": [
       "          movieID                        title  year  runtime  \\\n",
       "0       tt0000009                   Miss Jerry  1894       45   \n",
       "1       tt0000009                   Miss Jerry  1894       45   \n",
       "2       tt0000574  The Story of the Kelly Gang  1906       70   \n",
       "3       tt0000574  The Story of the Kelly Gang  1906       70   \n",
       "4       tt0000591             The Prodigal Son  1907       90   \n",
       "...           ...                          ...   ...      ...   \n",
       "805484  tt9916538          Kuambil Lagi Hatiku  2019      123   \n",
       "805485  tt9916538          Kuambil Lagi Hatiku  2019      123   \n",
       "805486  tt9916538          Kuambil Lagi Hatiku  2019      123   \n",
       "805487  tt9916730                       6 Gunn  2017      116   \n",
       "805488  tt9916730                       6 Gunn  2017      116   \n",
       "\n",
       "                             genre  rating   votes   directors  \\\n",
       "0                          Romance     5.3   228.0   nm0085156   \n",
       "1                          Romance     5.3   228.0   nm0085156   \n",
       "2       Action,Adventure,Biography     6.0  1009.0   nm0846879   \n",
       "3       Action,Adventure,Biography     6.0  1009.0   nm0846879   \n",
       "4                            Drama     5.3    34.0   nm0141150   \n",
       "...                            ...     ...     ...         ...   \n",
       "805484                       Drama     7.6    12.0   nm4457074   \n",
       "805485                       Drama     7.6    12.0   nm4457074   \n",
       "805486                       Drama     7.6    12.0   nm4457074   \n",
       "805487                       Drama     7.0    13.0  nm10538612   \n",
       "805488                       Drama     7.0    13.0  nm10538612   \n",
       "\n",
       "                              writers    personID      role               name  \n",
       "0                           nm0085156   nm0085156  director    Alexander Black  \n",
       "1                           nm0085156   nm0085156    writer    Alexander Black  \n",
       "2                           nm0846879   nm0846879  director       Charles Tait  \n",
       "3                           nm0846879   nm0846879    writer       Charles Tait  \n",
       "4                           nm0141150   nm0141150  director       Michel Carré  \n",
       "...                               ...         ...       ...                ...  \n",
       "805484  nm4843252,nm4900525,nm2679404   nm4843252    writer  Arief Ash Shiddiq  \n",
       "805485  nm4843252,nm4900525,nm2679404   nm4900525    writer       Rino Sarjono  \n",
       "805486  nm4843252,nm4900525,nm2679404   nm2679404    writer      Salman Aristo  \n",
       "805487                     nm10538612  nm10538612  director       Kiran Gawade  \n",
       "805488                     nm10538612  nm10538612    writer       Kiran Gawade  \n",
       "\n",
       "[805489 rows x 12 columns]"
      ]
     },
     "metadata": {},
     "output_type": "display_data"
    }
   ],
   "source": [
    "maindf3"
   ]
  },
  {
   "cell_type": "code",
   "execution_count": null,
   "id": "53e15b44",
   "metadata": {},
   "outputs": [
    {
     "data": {
      "application/vnd.microsoft.datawrangler.viewer.v0+json": {
       "columns": [
        {
         "name": "index",
         "rawType": "int64",
         "type": "integer"
        },
        {
         "name": "movieID",
         "rawType": "object",
         "type": "string"
        },
        {
         "name": "title",
         "rawType": "object",
         "type": "string"
        },
        {
         "name": "year",
         "rawType": "int64",
         "type": "integer"
        },
        {
         "name": "runtime",
         "rawType": "int64",
         "type": "integer"
        },
        {
         "name": "genre",
         "rawType": "object",
         "type": "string"
        },
        {
         "name": "rating",
         "rawType": "float64",
         "type": "float"
        },
        {
         "name": "votes",
         "rawType": "float64",
         "type": "float"
        },
        {
         "name": "directors",
         "rawType": "object",
         "type": "string"
        },
        {
         "name": "writers",
         "rawType": "object",
         "type": "string"
        },
        {
         "name": "personID",
         "rawType": "object",
         "type": "string"
        },
        {
         "name": "role",
         "rawType": "object",
         "type": "string"
        },
        {
         "name": "name",
         "rawType": "object",
         "type": "string"
        }
       ],
       "ref": "497cb33f-00ea-424c-af02-63df2cce9884",
       "rows": [
        [
         "2",
         "tt0000574",
         "The Story of the Kelly Gang",
         "1906",
         "70",
         "Action,Adventure,Biography",
         "6.0",
         "1009.0",
         "nm0846879",
         "nm0846879",
         "nm0846879",
         "director",
         "Charles Tait"
        ],
        [
         "3",
         "tt0000574",
         "The Story of the Kelly Gang",
         "1906",
         "70",
         "Action,Adventure,Biography",
         "6.0",
         "1009.0",
         "nm0846879",
         "nm0846879",
         "nm0846879",
         "writer",
         "Charles Tait"
        ],
        [
         "47",
         "tt0002101",
         "Cleopatra",
         "1912",
         "100",
         "Drama,History",
         "5.1",
         "650.0",
         "nm0309130",
         "nm0765026,nm0309130",
         "nm0309130",
         "director",
         "Charles L. Gaskill"
        ],
        [
         "48",
         "tt0002101",
         "Cleopatra",
         "1912",
         "100",
         "Drama,History",
         "5.1",
         "650.0",
         "nm0309130",
         "nm0765026,nm0309130",
         "nm0765026",
         "writer",
         "Victorien Sardou"
        ],
        [
         "49",
         "tt0002101",
         "Cleopatra",
         "1912",
         "100",
         "Drama,History",
         "5.1",
         "650.0",
         "nm0309130",
         "nm0765026,nm0309130",
         "nm0309130",
         "writer",
         "Charles L. Gaskill"
        ],
        [
         "50",
         "tt0002130",
         "Dante's Inferno",
         "1911",
         "71",
         "Adventure,Drama,Fantasy",
         "7.0",
         "3875.0",
         "nm0078205,nm0655824,nm0209738",
         "nm0019604",
         "nm0078205",
         "director",
         "Francesco Bertolini"
        ],
        [
         "51",
         "tt0002130",
         "Dante's Inferno",
         "1911",
         "71",
         "Adventure,Drama,Fantasy",
         "7.0",
         "3875.0",
         "nm0078205,nm0655824,nm0209738",
         "nm0019604",
         "nm0655824",
         "director",
         "Adolfo Padovan"
        ],
        [
         "52",
         "tt0002130",
         "Dante's Inferno",
         "1911",
         "71",
         "Adventure,Drama,Fantasy",
         "7.0",
         "3875.0",
         "nm0078205,nm0655824,nm0209738",
         "nm0019604",
         "nm0209738",
         "director",
         "Giuseppe de Liguoro"
        ],
        [
         "53",
         "tt0002130",
         "Dante's Inferno",
         "1911",
         "71",
         "Adventure,Drama,Fantasy",
         "7.0",
         "3875.0",
         "nm0078205,nm0655824,nm0209738",
         "nm0019604",
         "nm0019604",
         "writer",
         "Dante Alighieri"
        ],
        [
         "59",
         "tt0002199",
         "From the Manger to the Cross",
         "1912",
         "71",
         "Biography,Drama",
         "5.8",
         "686.0",
         "nm0646058",
         "nm0310155",
         "nm0646058",
         "director",
         "Sidney Olcott"
        ],
        [
         "60",
         "tt0002199",
         "From the Manger to the Cross",
         "1912",
         "71",
         "Biography,Drama",
         "5.8",
         "686.0",
         "nm0646058",
         "nm0310155",
         "nm0310155",
         "writer",
         "Gene Gauntier"
        ],
        [
         "61",
         "tt0002423",
         "Passion",
         "1919",
         "113",
         "Biography,Drama,Romance",
         "6.6",
         "1087.0",
         "nm0523932",
         "nm0266183,nm0473134",
         "nm0523932",
         "director",
         "Ernst Lubitsch"
        ],
        [
         "62",
         "tt0002423",
         "Passion",
         "1919",
         "113",
         "Biography,Drama,Romance",
         "6.6",
         "1087.0",
         "nm0523932",
         "nm0266183,nm0473134",
         "nm0266183",
         "writer",
         "Norbert Falk"
        ],
        [
         "63",
         "tt0002423",
         "Passion",
         "1919",
         "113",
         "Biography,Drama,Romance",
         "6.6",
         "1087.0",
         "nm0523932",
         "nm0266183,nm0473134",
         "nm0473134",
         "writer",
         "Hanns Kräly"
        ],
        [
         "64",
         "tt0002445",
         "Quo Vadis?",
         "1913",
         "120",
         "Drama,History",
         "6.1",
         "502.0",
         "nm0345500",
         "nm0797197,nm0345500",
         "nm0345500",
         "director",
         "Enrico Guazzoni"
        ],
        [
         "65",
         "tt0002445",
         "Quo Vadis?",
         "1913",
         "120",
         "Drama,History",
         "6.1",
         "502.0",
         "nm0345500",
         "nm0797197,nm0345500",
         "nm0797197",
         "writer",
         "Henryk Sienkiewicz"
        ],
        [
         "66",
         "tt0002445",
         "Quo Vadis?",
         "1913",
         "120",
         "Drama,History",
         "6.1",
         "502.0",
         "nm0345500",
         "nm0797197,nm0345500",
         "nm0345500",
         "writer",
         "Enrico Guazzoni"
        ],
        [
         "101",
         "tt0002646",
         "Atlantis",
         "1913",
         "121",
         "Drama",
         "6.5",
         "516.0",
         "nm0088881",
         "nm1834296,nm0369458,nm2421815",
         "nm0088881",
         "director",
         "August Blom"
        ],
        [
         "102",
         "tt0002646",
         "Atlantis",
         "1913",
         "121",
         "Drama",
         "6.5",
         "516.0",
         "nm0088881",
         "nm1834296,nm0369458,nm2421815",
         "nm1834296",
         "writer",
         "Axel Garde"
        ],
        [
         "103",
         "tt0002646",
         "Atlantis",
         "1913",
         "121",
         "Drama",
         "6.5",
         "516.0",
         "nm0088881",
         "nm1834296,nm0369458,nm2421815",
         "nm0369458",
         "writer",
         "Gerhart Hauptmann"
        ],
        [
         "104",
         "tt0002646",
         "Atlantis",
         "1913",
         "121",
         "Drama",
         "6.5",
         "516.0",
         "nm0088881",
         "nm1834296,nm0369458,nm2421815",
         "nm2421815",
         "writer",
         "Karl-Ludwig Schröder"
        ],
        [
         "126",
         "tt0002844",
         "Fantômas: In the Shadow of the Guillotine",
         "1913",
         "54",
         "Crime,Drama",
         "6.9",
         "2655.0",
         "nm0275421",
         "nm0019855,nm0275421,nm0816232",
         "nm0275421",
         "director",
         "Louis Feuillade"
        ],
        [
         "127",
         "tt0002844",
         "Fantômas: In the Shadow of the Guillotine",
         "1913",
         "54",
         "Crime,Drama",
         "6.9",
         "2655.0",
         "nm0275421",
         "nm0019855,nm0275421,nm0816232",
         "nm0019855",
         "writer",
         "Marcel Allain"
        ],
        [
         "128",
         "tt0002844",
         "Fantômas: In the Shadow of the Guillotine",
         "1913",
         "54",
         "Crime,Drama",
         "6.9",
         "2655.0",
         "nm0275421",
         "nm0019855,nm0275421,nm0816232",
         "nm0275421",
         "writer",
         "Louis Feuillade"
        ],
        [
         "129",
         "tt0002844",
         "Fantômas: In the Shadow of the Guillotine",
         "1913",
         "54",
         "Crime,Drama",
         "6.9",
         "2655.0",
         "nm0275421",
         "nm0019855,nm0275421,nm0816232",
         "nm0816232",
         "writer",
         "Pierre Souvestre"
        ],
        [
         "144",
         "tt0003014",
         "Ingeborg Holm",
         "1913",
         "96",
         "Drama",
         "7.0",
         "1546.0",
         "nm0803705",
         "nm0472236,nm0803705",
         "nm0803705",
         "director",
         "Victor Sjöström"
        ],
        [
         "145",
         "tt0003014",
         "Ingeborg Holm",
         "1913",
         "96",
         "Drama",
         "7.0",
         "1546.0",
         "nm0803705",
         "nm0472236,nm0803705",
         "nm0472236",
         "writer",
         "Nils Krok"
        ],
        [
         "146",
         "tt0003014",
         "Ingeborg Holm",
         "1913",
         "96",
         "Drama",
         "7.0",
         "1546.0",
         "nm0803705",
         "nm0472236,nm0803705",
         "nm0803705",
         "writer",
         "Victor Sjöström"
        ],
        [
         "154",
         "tt0003037",
         "Fantomas: The Man in Black",
         "1913",
         "61",
         "Crime,Drama",
         "6.9",
         "1803.0",
         "nm0275421",
         "nm0019855,nm0275421,nm0816232",
         "nm0275421",
         "director",
         "Louis Feuillade"
        ],
        [
         "155",
         "tt0003037",
         "Fantomas: The Man in Black",
         "1913",
         "61",
         "Crime,Drama",
         "6.9",
         "1803.0",
         "nm0275421",
         "nm0019855,nm0275421,nm0816232",
         "nm0019855",
         "writer",
         "Marcel Allain"
        ],
        [
         "156",
         "tt0003037",
         "Fantomas: The Man in Black",
         "1913",
         "61",
         "Crime,Drama",
         "6.9",
         "1803.0",
         "nm0275421",
         "nm0019855,nm0275421,nm0816232",
         "nm0275421",
         "writer",
         "Louis Feuillade"
        ],
        [
         "157",
         "tt0003037",
         "Fantomas: The Man in Black",
         "1913",
         "61",
         "Crime,Drama",
         "6.9",
         "1803.0",
         "nm0275421",
         "nm0019855,nm0275421,nm0816232",
         "nm0816232",
         "writer",
         "Pierre Souvestre"
        ],
        [
         "172",
         "tt0003165",
         "Fantômas: The Dead Man Who Killed",
         "1913",
         "90",
         "Crime,Drama,Mystery",
         "6.9",
         "1435.0",
         "nm0275421",
         "nm0019855,nm0275421,nm0816232",
         "nm0275421",
         "director",
         "Louis Feuillade"
        ],
        [
         "173",
         "tt0003165",
         "Fantômas: The Dead Man Who Killed",
         "1913",
         "90",
         "Crime,Drama,Mystery",
         "6.9",
         "1435.0",
         "nm0275421",
         "nm0019855,nm0275421,nm0816232",
         "nm0019855",
         "writer",
         "Marcel Allain"
        ],
        [
         "174",
         "tt0003165",
         "Fantômas: The Dead Man Who Killed",
         "1913",
         "90",
         "Crime,Drama,Mystery",
         "6.9",
         "1435.0",
         "nm0275421",
         "nm0019855,nm0275421,nm0816232",
         "nm0275421",
         "writer",
         "Louis Feuillade"
        ],
        [
         "175",
         "tt0003165",
         "Fantômas: The Dead Man Who Killed",
         "1913",
         "90",
         "Crime,Drama,Mystery",
         "6.9",
         "1435.0",
         "nm0275421",
         "nm0019855,nm0275421,nm0816232",
         "nm0816232",
         "writer",
         "Pierre Souvestre"
        ],
        [
         "200",
         "tt0003419",
         "The Student of Prague",
         "1913",
         "83",
         "Drama,Fantasy,Horror",
         "6.4",
         "2587.0",
         "nm0263912,nm0753233",
         "nm0263912,nm0210503",
         "nm0263912",
         "director",
         "Hanns Heinz Ewers"
        ],
        [
         "201",
         "tt0003419",
         "The Student of Prague",
         "1913",
         "83",
         "Drama,Fantasy,Horror",
         "6.4",
         "2587.0",
         "nm0263912,nm0753233",
         "nm0263912,nm0210503",
         "nm0753233",
         "director",
         "Stellan Rye"
        ],
        [
         "202",
         "tt0003419",
         "The Student of Prague",
         "1913",
         "83",
         "Drama,Fantasy,Horror",
         "6.4",
         "2587.0",
         "nm0263912,nm0753233",
         "nm0263912,nm0210503",
         "nm0263912",
         "writer",
         "Hanns Heinz Ewers"
        ],
        [
         "203",
         "tt0003419",
         "The Student of Prague",
         "1913",
         "83",
         "Drama,Fantasy,Horror",
         "6.4",
         "2587.0",
         "nm0263912,nm0753233",
         "nm0263912,nm0210503",
         "nm0210503",
         "writer",
         "Alfred de Musset"
        ],
        [
         "204",
         "tt0003471",
         "Traffic in Souls",
         "1913",
         "88",
         "Crime,Drama",
         "5.9",
         "771.0",
         "nm0875869",
         "nm0534073,nm0875869",
         "nm0875869",
         "director",
         "George Loane Tucker"
        ],
        [
         "205",
         "tt0003471",
         "Traffic in Souls",
         "1913",
         "88",
         "Crime,Drama",
         "5.9",
         "771.0",
         "nm0875869",
         "nm0534073,nm0875869",
         "nm0534073",
         "writer",
         "Walter MacNamara"
        ],
        [
         "206",
         "tt0003471",
         "Traffic in Souls",
         "1913",
         "88",
         "Crime,Drama",
         "5.9",
         "771.0",
         "nm0875869",
         "nm0534073,nm0875869",
         "nm0875869",
         "writer",
         "George Loane Tucker"
        ],
        [
         "207",
         "tt0003489",
         "The Last Days of Pompeii",
         "1913",
         "88",
         "Adventure,Drama",
         "6.1",
         "654.0",
         "nm0143333,nm0734958",
         "nm0120272,nm0143333",
         "nm0143333",
         "director",
         "Mario Caserini"
        ],
        [
         "208",
         "tt0003489",
         "The Last Days of Pompeii",
         "1913",
         "88",
         "Adventure,Drama",
         "6.1",
         "654.0",
         "nm0143333,nm0734958",
         "nm0120272,nm0143333",
         "nm0734958",
         "director",
         "Eleuterio Rodolfi"
        ],
        [
         "209",
         "tt0003489",
         "The Last Days of Pompeii",
         "1913",
         "88",
         "Adventure,Drama",
         "6.1",
         "654.0",
         "nm0143333,nm0734958",
         "nm0120272,nm0143333",
         "nm0120272",
         "writer",
         "Edward George Bulwer-Lytton"
        ],
        [
         "210",
         "tt0003489",
         "The Last Days of Pompeii",
         "1913",
         "88",
         "Adventure,Drama",
         "6.1",
         "654.0",
         "nm0143333,nm0734958",
         "nm0120272,nm0143333",
         "nm0143333",
         "writer",
         "Mario Caserini"
        ],
        [
         "225",
         "tt0003637",
         "Assunta Spina",
         "1915",
         "72",
         "Drama",
         "6.2",
         "519.0",
         "nm0078116,nm0784988",
         "nm0223865,nm0078116,nm0784988",
         "nm0078116",
         "director",
         "Francesca Bertini"
        ],
        [
         "226",
         "tt0003637",
         "Assunta Spina",
         "1915",
         "72",
         "Drama",
         "6.2",
         "519.0",
         "nm0078116,nm0784988",
         "nm0223865,nm0078116,nm0784988",
         "nm0784988",
         "director",
         "Gustavo Serena"
        ],
        [
         "227",
         "tt0003637",
         "Assunta Spina",
         "1915",
         "72",
         "Drama",
         "6.2",
         "519.0",
         "nm0078116,nm0784988",
         "nm0223865,nm0078116,nm0784988",
         "nm0223865",
         "writer",
         "Salvatore Di Giacomo"
        ]
       ],
       "shape": {
        "columns": 12,
        "rows": 216022
       }
      },
      "text/html": [
       "<div>\n",
       "<style scoped>\n",
       "    .dataframe tbody tr th:only-of-type {\n",
       "        vertical-align: middle;\n",
       "    }\n",
       "\n",
       "    .dataframe tbody tr th {\n",
       "        vertical-align: top;\n",
       "    }\n",
       "\n",
       "    .dataframe thead th {\n",
       "        text-align: right;\n",
       "    }\n",
       "</style>\n",
       "<table border=\"1\" class=\"dataframe\">\n",
       "  <thead>\n",
       "    <tr style=\"text-align: right;\">\n",
       "      <th></th>\n",
       "      <th>movieID</th>\n",
       "      <th>title</th>\n",
       "      <th>year</th>\n",
       "      <th>runtime</th>\n",
       "      <th>genre</th>\n",
       "      <th>rating</th>\n",
       "      <th>votes</th>\n",
       "      <th>directors</th>\n",
       "      <th>writers</th>\n",
       "      <th>personID</th>\n",
       "      <th>role</th>\n",
       "      <th>name</th>\n",
       "    </tr>\n",
       "  </thead>\n",
       "  <tbody>\n",
       "    <tr>\n",
       "      <th>2</th>\n",
       "      <td>tt0000574</td>\n",
       "      <td>The Story of the Kelly Gang</td>\n",
       "      <td>1906</td>\n",
       "      <td>70</td>\n",
       "      <td>Action,Adventure,Biography</td>\n",
       "      <td>6.0</td>\n",
       "      <td>1009.0</td>\n",
       "      <td>nm0846879</td>\n",
       "      <td>nm0846879</td>\n",
       "      <td>nm0846879</td>\n",
       "      <td>director</td>\n",
       "      <td>Charles Tait</td>\n",
       "    </tr>\n",
       "    <tr>\n",
       "      <th>3</th>\n",
       "      <td>tt0000574</td>\n",
       "      <td>The Story of the Kelly Gang</td>\n",
       "      <td>1906</td>\n",
       "      <td>70</td>\n",
       "      <td>Action,Adventure,Biography</td>\n",
       "      <td>6.0</td>\n",
       "      <td>1009.0</td>\n",
       "      <td>nm0846879</td>\n",
       "      <td>nm0846879</td>\n",
       "      <td>nm0846879</td>\n",
       "      <td>writer</td>\n",
       "      <td>Charles Tait</td>\n",
       "    </tr>\n",
       "    <tr>\n",
       "      <th>47</th>\n",
       "      <td>tt0002101</td>\n",
       "      <td>Cleopatra</td>\n",
       "      <td>1912</td>\n",
       "      <td>100</td>\n",
       "      <td>Drama,History</td>\n",
       "      <td>5.1</td>\n",
       "      <td>650.0</td>\n",
       "      <td>nm0309130</td>\n",
       "      <td>nm0765026,nm0309130</td>\n",
       "      <td>nm0309130</td>\n",
       "      <td>director</td>\n",
       "      <td>Charles L. Gaskill</td>\n",
       "    </tr>\n",
       "    <tr>\n",
       "      <th>48</th>\n",
       "      <td>tt0002101</td>\n",
       "      <td>Cleopatra</td>\n",
       "      <td>1912</td>\n",
       "      <td>100</td>\n",
       "      <td>Drama,History</td>\n",
       "      <td>5.1</td>\n",
       "      <td>650.0</td>\n",
       "      <td>nm0309130</td>\n",
       "      <td>nm0765026,nm0309130</td>\n",
       "      <td>nm0765026</td>\n",
       "      <td>writer</td>\n",
       "      <td>Victorien Sardou</td>\n",
       "    </tr>\n",
       "    <tr>\n",
       "      <th>49</th>\n",
       "      <td>tt0002101</td>\n",
       "      <td>Cleopatra</td>\n",
       "      <td>1912</td>\n",
       "      <td>100</td>\n",
       "      <td>Drama,History</td>\n",
       "      <td>5.1</td>\n",
       "      <td>650.0</td>\n",
       "      <td>nm0309130</td>\n",
       "      <td>nm0765026,nm0309130</td>\n",
       "      <td>nm0309130</td>\n",
       "      <td>writer</td>\n",
       "      <td>Charles L. Gaskill</td>\n",
       "    </tr>\n",
       "    <tr>\n",
       "      <th>...</th>\n",
       "      <td>...</td>\n",
       "      <td>...</td>\n",
       "      <td>...</td>\n",
       "      <td>...</td>\n",
       "      <td>...</td>\n",
       "      <td>...</td>\n",
       "      <td>...</td>\n",
       "      <td>...</td>\n",
       "      <td>...</td>\n",
       "      <td>...</td>\n",
       "      <td>...</td>\n",
       "      <td>...</td>\n",
       "    </tr>\n",
       "    <tr>\n",
       "      <th>805478</th>\n",
       "      <td>tt9916270</td>\n",
       "      <td>Il talento del calabrone</td>\n",
       "      <td>2020</td>\n",
       "      <td>84</td>\n",
       "      <td>Thriller</td>\n",
       "      <td>5.8</td>\n",
       "      <td>1512.0</td>\n",
       "      <td>nm1480867</td>\n",
       "      <td>nm1480867,nm10538402,nm5584269</td>\n",
       "      <td>nm10538402</td>\n",
       "      <td>writer</td>\n",
       "      <td>Lorenzo Collalti</td>\n",
       "    </tr>\n",
       "    <tr>\n",
       "      <th>805479</th>\n",
       "      <td>tt9916270</td>\n",
       "      <td>Il talento del calabrone</td>\n",
       "      <td>2020</td>\n",
       "      <td>84</td>\n",
       "      <td>Thriller</td>\n",
       "      <td>5.8</td>\n",
       "      <td>1512.0</td>\n",
       "      <td>nm1480867</td>\n",
       "      <td>nm1480867,nm10538402,nm5584269</td>\n",
       "      <td>nm5584269</td>\n",
       "      <td>writer</td>\n",
       "      <td>Alessandro Regaldo</td>\n",
       "    </tr>\n",
       "    <tr>\n",
       "      <th>805480</th>\n",
       "      <td>tt9916362</td>\n",
       "      <td>Coven</td>\n",
       "      <td>2020</td>\n",
       "      <td>92</td>\n",
       "      <td>Drama,History</td>\n",
       "      <td>6.4</td>\n",
       "      <td>6098.0</td>\n",
       "      <td>nm1893148</td>\n",
       "      <td>nm1893148,nm3471432</td>\n",
       "      <td>nm1893148</td>\n",
       "      <td>director</td>\n",
       "      <td>Pablo Agüero</td>\n",
       "    </tr>\n",
       "    <tr>\n",
       "      <th>805481</th>\n",
       "      <td>tt9916362</td>\n",
       "      <td>Coven</td>\n",
       "      <td>2020</td>\n",
       "      <td>92</td>\n",
       "      <td>Drama,History</td>\n",
       "      <td>6.4</td>\n",
       "      <td>6098.0</td>\n",
       "      <td>nm1893148</td>\n",
       "      <td>nm1893148,nm3471432</td>\n",
       "      <td>nm1893148</td>\n",
       "      <td>writer</td>\n",
       "      <td>Pablo Agüero</td>\n",
       "    </tr>\n",
       "    <tr>\n",
       "      <th>805482</th>\n",
       "      <td>tt9916362</td>\n",
       "      <td>Coven</td>\n",
       "      <td>2020</td>\n",
       "      <td>92</td>\n",
       "      <td>Drama,History</td>\n",
       "      <td>6.4</td>\n",
       "      <td>6098.0</td>\n",
       "      <td>nm1893148</td>\n",
       "      <td>nm1893148,nm3471432</td>\n",
       "      <td>nm3471432</td>\n",
       "      <td>writer</td>\n",
       "      <td>Katell Guillou</td>\n",
       "    </tr>\n",
       "  </tbody>\n",
       "</table>\n",
       "<p>216022 rows × 12 columns</p>\n",
       "</div>"
      ],
      "text/plain": [
       "          movieID                        title  year  runtime  \\\n",
       "2       tt0000574  The Story of the Kelly Gang  1906       70   \n",
       "3       tt0000574  The Story of the Kelly Gang  1906       70   \n",
       "47      tt0002101                    Cleopatra  1912      100   \n",
       "48      tt0002101                    Cleopatra  1912      100   \n",
       "49      tt0002101                    Cleopatra  1912      100   \n",
       "...           ...                          ...   ...      ...   \n",
       "805478  tt9916270     Il talento del calabrone  2020       84   \n",
       "805479  tt9916270     Il talento del calabrone  2020       84   \n",
       "805480  tt9916362                        Coven  2020       92   \n",
       "805481  tt9916362                        Coven  2020       92   \n",
       "805482  tt9916362                        Coven  2020       92   \n",
       "\n",
       "                             genre  rating   votes  directors  \\\n",
       "2       Action,Adventure,Biography     6.0  1009.0  nm0846879   \n",
       "3       Action,Adventure,Biography     6.0  1009.0  nm0846879   \n",
       "47                   Drama,History     5.1   650.0  nm0309130   \n",
       "48                   Drama,History     5.1   650.0  nm0309130   \n",
       "49                   Drama,History     5.1   650.0  nm0309130   \n",
       "...                            ...     ...     ...        ...   \n",
       "805478                    Thriller     5.8  1512.0  nm1480867   \n",
       "805479                    Thriller     5.8  1512.0  nm1480867   \n",
       "805480               Drama,History     6.4  6098.0  nm1893148   \n",
       "805481               Drama,History     6.4  6098.0  nm1893148   \n",
       "805482               Drama,History     6.4  6098.0  nm1893148   \n",
       "\n",
       "                               writers    personID      role  \\\n",
       "2                            nm0846879   nm0846879  director   \n",
       "3                            nm0846879   nm0846879    writer   \n",
       "47                 nm0765026,nm0309130   nm0309130  director   \n",
       "48                 nm0765026,nm0309130   nm0765026    writer   \n",
       "49                 nm0765026,nm0309130   nm0309130    writer   \n",
       "...                                ...         ...       ...   \n",
       "805478  nm1480867,nm10538402,nm5584269  nm10538402    writer   \n",
       "805479  nm1480867,nm10538402,nm5584269   nm5584269    writer   \n",
       "805480             nm1893148,nm3471432   nm1893148  director   \n",
       "805481             nm1893148,nm3471432   nm1893148    writer   \n",
       "805482             nm1893148,nm3471432   nm3471432    writer   \n",
       "\n",
       "                      name  \n",
       "2             Charles Tait  \n",
       "3             Charles Tait  \n",
       "47      Charles L. Gaskill  \n",
       "48        Victorien Sardou  \n",
       "49      Charles L. Gaskill  \n",
       "...                    ...  \n",
       "805478    Lorenzo Collalti  \n",
       "805479  Alessandro Regaldo  \n",
       "805480        Pablo Agüero  \n",
       "805481        Pablo Agüero  \n",
       "805482      Katell Guillou  \n",
       "\n",
       "[216022 rows x 12 columns]"
      ]
     },
     "metadata": {},
     "output_type": "display_data"
    }
   ],
   "source": [
    "maindf3=maindf3[maindf3['votes']>500]\n",
    "maindf3"
   ]
  },
  {
   "cell_type": "code",
   "execution_count": null,
   "id": "125c392c",
   "metadata": {},
   "outputs": [
    {
     "data": {
      "application/vnd.microsoft.datawrangler.viewer.v0+json": {
       "columns": [
        {
         "name": "index",
         "rawType": "object",
         "type": "string"
        },
        {
         "name": "0",
         "rawType": "int64",
         "type": "integer"
        }
       ],
       "ref": "c541a7d1-d1f4-45be-bd6d-f57affe6817e",
       "rows": [
        [
         "movieID",
         "0"
        ],
        [
         "title",
         "0"
        ],
        [
         "year",
         "0"
        ],
        [
         "runtime",
         "0"
        ],
        [
         "genre",
         "0"
        ],
        [
         "rating",
         "0"
        ],
        [
         "votes",
         "0"
        ],
        [
         "directors",
         "0"
        ],
        [
         "writers",
         "0"
        ],
        [
         "personID",
         "0"
        ],
        [
         "role",
         "0"
        ],
        [
         "name",
         "0"
        ]
       ],
       "shape": {
        "columns": 1,
        "rows": 12
       }
      },
      "text/plain": [
       "movieID      0\n",
       "title        0\n",
       "year         0\n",
       "runtime      0\n",
       "genre        0\n",
       "rating       0\n",
       "votes        0\n",
       "directors    0\n",
       "writers      0\n",
       "personID     0\n",
       "role         0\n",
       "name         0\n",
       "dtype: int64"
      ]
     },
     "metadata": {},
     "output_type": "display_data"
    }
   ],
   "source": [
    "maindf3.isnull().sum()"
   ]
  },
  {
   "cell_type": "code",
   "execution_count": null,
   "id": "6e07fb9a",
   "metadata": {},
   "outputs": [
    {
     "data": {
      "text/plain": [
       "<Axes: title={'center': 'Top 30 Persons by Average Rating'}, xlabel='name'>"
      ]
     },
     "metadata": {},
     "output_type": "display_data"
    },
    {
     "data": {
      "image/png": "[encoded data removed]",
      "text/plain": [
       "<Figure size 1200x600 with 1 Axes>"
      ]
     },
     "metadata": {},
     "output_type": "display_data"
    }
   ],
   "source": [
    "mainPersons = maindf3.groupby('name')['rating'].mean()\n",
    "mainPersons = mainPersons.sort_values(ascending=False).head(30)\n",
    "mainPersons.plot(kind='bar', figsize=(12, 6), title='Top 30 Persons by Average Rating')"
   ]
  },
  {
   "cell_type": "code",
   "execution_count": null,
   "id": "e7908a4e",
   "metadata": {},
   "outputs": [
    {
     "data": {
      "text/plain": [
       "<Axes: title={'center': 'Top 30 Movies by Average Rating'}, xlabel='title'>"
      ]
     },
     "metadata": {},
     "output_type": "display_data"
    },
    {
     "data": {
      "image/png": "[encoded data removed]",
      "text/plain": [
       "<Figure size 1200x600 with 1 Axes>"
      ]
     },
     "metadata": {},
     "output_type": "display_data"
    }
   ],
   "source": [
    "movieRated=maindf3.groupby('title')['rating'].mean().reset_index()\n",
    "movieRated=movieRated.sort_values(by='rating', ascending=False).head(30)\n",
    "movieRated.plot(kind='bar', x='title', y='rating', figsize=(12, 6), title='Top 30 Movies by Average Rating')\n"
   ]
  },
  {
   "cell_type": "code",
   "execution_count": null,
   "id": "8554c702",
   "metadata": {},
   "outputs": [],
   "source": [
    "maindf3.to_csv('../temp/dfs/maindf3.csv', index=False, encoding='utf-8-sig')"
   ]
  },
  {
   "cell_type": "markdown",
   "id": "8846c9c8",
   "metadata": {},
   "source": [
    "✅ Outcome of Part 2\n",
    "\n",
    "We have successfully created `maindf3`, a significantly enriched DataFrame. It now links every movie from our core dataset to its respective directors and writers, complete with their names and roles.\n",
    "\n",
    "This new dataset unlocks the ability to perform much deeper analyses, such as:\n",
    "-   Finding the highest-rated directors.\n",
    "-   Analyzing career arcs and breakout films.\n",
    "-   Investigating the impact of writers on a film's success."
   ]
  }
 ],
 "metadata": {
  "kernelspec": {
   "display_name": "Python 3",
   "language": "python",
   "name": "python3"
  },
  "language_info": {
   "codemirror_mode": {
    "name": "ipython",
    "version": 3
   },
   "file_extension": ".py",
   "mimetype": "text/x-python",
   "name": "python",
   "nbconvert_exporter": "python",
   "pygments_lexer": "ipython3",
   "version": "3.13.2"
  }
 },
 "nbformat": 4,
 "nbformat_minor": 5
}
