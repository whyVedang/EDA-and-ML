{
 "cells": [
  {
   "cell_type": "markdown",
   "id": "d05b8280",
   "metadata": {},
   "source": [
    "# KMEANS CLUSTERING"
   ]
  },
  {
   "cell_type": "code",
   "execution_count": 6,
   "id": "38271946",
   "metadata": {},
   "outputs": [],
   "source": [
    "import pandas as pd\n",
    "import numpy as np \n",
    "import matplotlib.pyplot as plt\n",
    "import random"
   ]
  },
  {
   "cell_type": "code",
   "execution_count": 47,
   "id": "de85859d",
   "metadata": {},
   "outputs": [],
   "source": [
    "class Kmeans:\n",
    "    def __init__(self,niter,nclusters):\n",
    "        self.iter=niter\n",
    "        self.clusters=nclusters\n",
    "        self.centroid=None\n",
    "\n",
    "\n",
    "    def fit(self,X):\n",
    "        self.centroid=X[random.sample(range(0,X.shape[0]),self.clusters)]\n",
    "        for i in range(self.iter):\n",
    "            cluster=self.assign_cluster(X)\n",
    "            old_cent=self.centroid\n",
    "            self.centroid=self.change_centroid(X,cluster)\n",
    "            if np.array_equal(old_cent,self.centroid):\n",
    "                return cluster\n",
    "            \n",
    "\n",
    "    def assign_cluster(self,X):\n",
    "        cluster=[]\n",
    "        distances=[]\n",
    "        for row in X:\n",
    "            for cent in self.centroid:\n",
    "                dist=self.find_dist(row,cent)\n",
    "                distances.append(dist)\n",
    "            mindist=min(distances)\n",
    "            index=distances.index(mindist)\n",
    "            cluster.append(index)\n",
    "            distances.clear()\n",
    "        return np.array(cluster)\n",
    "\n",
    "\n",
    "    def find_dist(self,X,centroid):\n",
    "        return np.dot(X-centroid,X-centroid)\n",
    "\n",
    "\n",
    "    def change_centroid(self,X,cluster):\n",
    "        new_cent=[]\n",
    "        types=np.unique(cluster)\n",
    "        for type in types:\n",
    "            new_cent.append(X[cluster==type].mean(axis=0))\n",
    "        return np.array(new_cent)"
   ]
  },
  {
   "cell_type": "code",
   "execution_count": 4,
   "id": "2fbb718f",
   "metadata": {},
   "outputs": [],
   "source": [
    "df=pd.read_csv('./data/student_clustering.csv')"
   ]
  },
  {
   "cell_type": "code",
   "execution_count": 5,
   "id": "eef49249",
   "metadata": {},
   "outputs": [
    {
     "data": {
      "application/vnd.microsoft.datawrangler.viewer.v0+json": {
       "columns": [
        {
         "name": "index",
         "rawType": "int64",
         "type": "integer"
        },
        {
         "name": "cgpa",
         "rawType": "float64",
         "type": "float"
        },
        {
         "name": "iq",
         "rawType": "int64",
         "type": "integer"
        }
       ],
       "ref": "771fcd89-a716-4253-86d6-9dfc0443909e",
       "rows": [
        [
         "0",
         "5.13",
         "88"
        ],
        [
         "1",
         "5.9",
         "113"
        ],
        [
         "2",
         "8.36",
         "93"
        ],
        [
         "3",
         "8.27",
         "97"
        ],
        [
         "4",
         "5.45",
         "110"
        ],
        [
         "5",
         "5.88",
         "109"
        ],
        [
         "6",
         "8.41",
         "98"
        ],
        [
         "7",
         "8.8",
         "115"
        ],
        [
         "8",
         "5.79",
         "110"
        ],
        [
         "9",
         "8.09",
         "94"
        ],
        [
         "10",
         "4.6",
         "86"
        ],
        [
         "11",
         "6.1",
         "110"
        ],
        [
         "12",
         "8.16",
         "97"
        ],
        [
         "13",
         "5.0",
         "88"
        ],
        [
         "14",
         "5.71",
         "108"
        ],
        [
         "15",
         "8.31",
         "95"
        ],
        [
         "16",
         "5.5",
         "111"
        ],
        [
         "17",
         "7.87",
         "91"
        ],
        [
         "18",
         "6.05",
         "111"
        ],
        [
         "19",
         "5.84",
         "113"
        ],
        [
         "20",
         "7.47",
         "98"
        ],
        [
         "21",
         "4.86",
         "86"
        ],
        [
         "22",
         "7.78",
         "92"
        ],
        [
         "23",
         "4.78",
         "87"
        ],
        [
         "24",
         "4.96",
         "88"
        ],
        [
         "25",
         "7.93",
         "98"
        ],
        [
         "26",
         "4.86",
         "87"
        ],
        [
         "27",
         "9.18",
         "119"
        ],
        [
         "28",
         "8.04",
         "94"
        ],
        [
         "29",
         "5.43",
         "106"
        ],
        [
         "30",
         "8.86",
         "117"
        ],
        [
         "31",
         "6.01",
         "112"
        ],
        [
         "32",
         "8.83",
         "118"
        ],
        [
         "33",
         "5.32",
         "106"
        ],
        [
         "34",
         "7.77",
         "96"
        ],
        [
         "35",
         "8.0",
         "96"
        ],
        [
         "36",
         "8.56",
         "118"
        ],
        [
         "37",
         "5.91",
         "108"
        ],
        [
         "38",
         "5.44",
         "84"
        ],
        [
         "39",
         "5.57",
         "113"
        ],
        [
         "40",
         "5.34",
         "85"
        ],
        [
         "41",
         "8.43",
         "96"
        ],
        [
         "42",
         "8.02",
         "93"
        ],
        [
         "43",
         "5.31",
         "86"
        ],
        [
         "44",
         "8.96",
         "116"
        ],
        [
         "45",
         "8.78",
         "116"
        ],
        [
         "46",
         "8.14",
         "94"
        ],
        [
         "47",
         "6.4",
         "108"
        ],
        [
         "48",
         "8.45",
         "119"
        ],
        [
         "49",
         "5.67",
         "109"
        ]
       ],
       "shape": {
        "columns": 2,
        "rows": 200
       }
      },
      "text/html": [
       "<div>\n",
       "<style scoped>\n",
       "    .dataframe tbody tr th:only-of-type {\n",
       "        vertical-align: middle;\n",
       "    }\n",
       "\n",
       "    .dataframe tbody tr th {\n",
       "        vertical-align: top;\n",
       "    }\n",
       "\n",
       "    .dataframe thead th {\n",
       "        text-align: right;\n",
       "    }\n",
       "</style>\n",
       "<table border=\"1\" class=\"dataframe\">\n",
       "  <thead>\n",
       "    <tr style=\"text-align: right;\">\n",
       "      <th></th>\n",
       "      <th>cgpa</th>\n",
       "      <th>iq</th>\n",
       "    </tr>\n",
       "  </thead>\n",
       "  <tbody>\n",
       "    <tr>\n",
       "      <th>0</th>\n",
       "      <td>5.13</td>\n",
       "      <td>88</td>\n",
       "    </tr>\n",
       "    <tr>\n",
       "      <th>1</th>\n",
       "      <td>5.90</td>\n",
       "      <td>113</td>\n",
       "    </tr>\n",
       "    <tr>\n",
       "      <th>2</th>\n",
       "      <td>8.36</td>\n",
       "      <td>93</td>\n",
       "    </tr>\n",
       "    <tr>\n",
       "      <th>3</th>\n",
       "      <td>8.27</td>\n",
       "      <td>97</td>\n",
       "    </tr>\n",
       "    <tr>\n",
       "      <th>4</th>\n",
       "      <td>5.45</td>\n",
       "      <td>110</td>\n",
       "    </tr>\n",
       "    <tr>\n",
       "      <th>...</th>\n",
       "      <td>...</td>\n",
       "      <td>...</td>\n",
       "    </tr>\n",
       "    <tr>\n",
       "      <th>195</th>\n",
       "      <td>4.68</td>\n",
       "      <td>89</td>\n",
       "    </tr>\n",
       "    <tr>\n",
       "      <th>196</th>\n",
       "      <td>8.57</td>\n",
       "      <td>118</td>\n",
       "    </tr>\n",
       "    <tr>\n",
       "      <th>197</th>\n",
       "      <td>5.85</td>\n",
       "      <td>112</td>\n",
       "    </tr>\n",
       "    <tr>\n",
       "      <th>198</th>\n",
       "      <td>6.23</td>\n",
       "      <td>108</td>\n",
       "    </tr>\n",
       "    <tr>\n",
       "      <th>199</th>\n",
       "      <td>8.82</td>\n",
       "      <td>117</td>\n",
       "    </tr>\n",
       "  </tbody>\n",
       "</table>\n",
       "<p>200 rows × 2 columns</p>\n",
       "</div>"
      ],
      "text/plain": [
       "     cgpa   iq\n",
       "0    5.13   88\n",
       "1    5.90  113\n",
       "2    8.36   93\n",
       "3    8.27   97\n",
       "4    5.45  110\n",
       "..    ...  ...\n",
       "195  4.68   89\n",
       "196  8.57  118\n",
       "197  5.85  112\n",
       "198  6.23  108\n",
       "199  8.82  117\n",
       "\n",
       "[200 rows x 2 columns]"
      ]
     },
     "execution_count": 5,
     "metadata": {},
     "output_type": "execute_result"
    }
   ],
   "source": [
    "df"
   ]
  },
  {
   "cell_type": "code",
   "execution_count": 28,
   "id": "dd3c8841",
   "metadata": {},
   "outputs": [
    {
     "data": {
      "text/plain": [
       "<matplotlib.collections.PathCollection at 0x1fdaaec1950>"
      ]
     },
     "execution_count": 28,
     "metadata": {},
     "output_type": "execute_result"
    },
    {
     "data": {
      "image/png": "[encoded data removed]",
      "text/plain": [
       "<Figure size 640x480 with 1 Axes>"
      ]
     },
     "metadata": {},
     "output_type": "display_data"
    }
   ],
   "source": [
    "\n",
    "plt.scatter(df['cgpa'],df['iq'])"
   ]
  },
  {
   "cell_type": "code",
   "execution_count": 48,
   "id": "a8f9df08",
   "metadata": {},
   "outputs": [],
   "source": [
    "X=df.iloc[:,:].values\n",
    "km=Kmeans(niter=100,nclusters=4)\n",
    "pred=km.fit(X)"
   ]
  },
  {
   "cell_type": "code",
   "execution_count": 49,
   "id": "26231365",
   "metadata": {},
   "outputs": [
    {
     "name": "stderr",
     "output_type": "stream",
     "text": [
      "C:\\Users\\vedan\\AppData\\Local\\Temp\\ipykernel_2148\\2256318727.py:3: UserWarning: No artists with labels found to put in legend.  Note that artists whose label start with an underscore are ignored when legend() is called with no argument.\n",
      "  plt.legend()\n"
     ]
    },
    {
     "data": {
      "text/plain": [
       "<matplotlib.legend.Legend at 0x1fdadb85d10>"
      ]
     },
     "execution_count": 49,
     "metadata": {},
     "output_type": "execute_result"
    },
    {
     "data": {
      "image/png": "[encoded data removed]",
      "text/plain": [
       "<Figure size 640x480 with 1 Axes>"
      ]
     },
     "metadata": {},
     "output_type": "display_data"
    }
   ],
   "source": [
    "centroids = km.centroid\n",
    "plt.scatter(centroids[:, 0], centroids[:, 1], c='red', marker='.')\n",
    "plt.legend()"
   ]
  },
  {
   "cell_type": "code",
   "execution_count": 50,
   "id": "05b24019",
   "metadata": {},
   "outputs": [
    {
     "data": {
      "image/png": "[encoded data removed]",
      "text/plain": [
       "<Figure size 640x480 with 1 Axes>"
      ]
     },
     "metadata": {},
     "output_type": "display_data"
    }
   ],
   "source": [
    "scatter = plt.scatter(df['cgpa'], df['iq'], c=pred, cmap='viridis')\n",
    "plt.xlabel('CGPA')\n",
    "plt.ylabel('IQ')\n",
    "plt.title('Student Clustering Results')\n",
    "plt.show()"
   ]
  }
 ],
 "metadata": {
  "kernelspec": {
   "display_name": "Python 3",
   "language": "python",
   "name": "python3"
  },
  "language_info": {
   "codemirror_mode": {
    "name": "ipython",
    "version": 3
   },
   "file_extension": ".py",
   "mimetype": "text/x-python",
   "name": "python",
   "nbconvert_exporter": "python",
   "pygments_lexer": "ipython3",
   "version": "3.13.2"
  }
 },
 "nbformat": 4,
 "nbformat_minor": 5
}
